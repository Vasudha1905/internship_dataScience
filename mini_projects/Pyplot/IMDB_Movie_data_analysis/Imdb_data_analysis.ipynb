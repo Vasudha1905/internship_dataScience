{
 "cells": [
  {
   "cell_type": "markdown",
   "id": "67d2fc8f-c4c3-4e1f-8691-5d8b723102ed",
   "metadata": {},
   "source": [
    "## IMDB Movie Data Analysis"
   ]
  },
  {
   "cell_type": "code",
   "execution_count": null,
   "id": "f42b2b81-4444-423c-a0d3-dfbd49fc1c22",
   "metadata": {},
   "outputs": [],
   "source": [
    "import numpy as np\n",
    "import matplotlib.pyplot as plt\n",
    "import seaborn as sns\n",
    "import pandas as pd\n",
    "import warnings\n",
    "warnings.filterwarnings(\"ignore\")"
   ]
  },
  {
   "cell_type": "code",
   "execution_count": null,
   "id": "df26acb6-d90d-46b4-8560-73b5b174e64f",
   "metadata": {},
   "outputs": [],
   "source": [
    "data=pd.read_csv('datasets/movies.csv')"
   ]
  },
  {
   "cell_type": "markdown",
   "id": "0fbfbea4-b26b-48fd-a93b-adc73ea86958",
   "metadata": {},
   "source": [
    "### data exploration"
   ]
  },
  {
   "cell_type": "code",
   "execution_count": null,
   "id": "e34939c6-1e68-4849-8489-08ad9d45325e",
   "metadata": {},
   "outputs": [],
   "source": [
    "data.head()"
   ]
  },
  {
   "cell_type": "code",
   "execution_count": null,
   "id": "4023cbcd-8c9a-41d0-9060-576cc4061998",
   "metadata": {},
   "outputs": [],
   "source": [
    "data.info()"
   ]
  },
  {
   "cell_type": "markdown",
   "id": "f0fb825a-aef1-4c46-b18a-6e73ce16ad35",
   "metadata": {},
   "source": [
    "#### remvoing columns we dont need"
   ]
  },
  {
   "cell_type": "code",
   "execution_count": null,
   "id": "3bc52a69-592e-4470-b099-0cadd4a0b45f",
   "metadata": {},
   "outputs": [],
   "source": [
    "data.drop(['Poster','Movie URL'],axis=1,inplace=True)"
   ]
  },
  {
   "cell_type": "markdown",
   "id": "f8c698ab-dbbb-4169-9a53-c062a28c53e5",
   "metadata": {},
   "source": [
    "#### checking for null values"
   ]
  },
  {
   "cell_type": "code",
   "execution_count": null,
   "id": "d15046fe-9688-4cb0-be13-af3996560f50",
   "metadata": {},
   "outputs": [],
   "source": [
    "data.isnull().sum()"
   ]
  },
  {
   "cell_type": "code",
   "execution_count": null,
   "id": "4198ceaf-5357-4d7a-953f-83aaf84b8b26",
   "metadata": {},
   "outputs": [],
   "source": [
    "data=data.dropna()"
   ]
  },
  {
   "cell_type": "markdown",
   "id": "0e342c20-95e4-44fe-9b2c-28133c4e818a",
   "metadata": {},
   "source": [
    "#### checking for duplicates"
   ]
  },
  {
   "cell_type": "code",
   "execution_count": null,
   "id": "ee88d5b5-ba05-4694-892a-2262687bde94",
   "metadata": {},
   "outputs": [],
   "source": [
    "dupli=data.duplicated()\n",
    "sum(dupli)"
   ]
  },
  {
   "cell_type": "markdown",
   "id": "98f6a61b-6c9c-41b8-8c61-9b1493147053",
   "metadata": {},
   "source": [
    "there are no duplicates"
   ]
  },
  {
   "cell_type": "code",
   "execution_count": null,
   "id": "20c2df47-c6cd-497c-88dc-30c80af168ac",
   "metadata": {},
   "outputs": [],
   "source": [
    "data.info()"
   ]
  },
  {
   "cell_type": "markdown",
   "id": "9e6a57c6-a078-4816-bafa-a181c273068d",
   "metadata": {},
   "source": [
    "#### removing outliers"
   ]
  },
  {
   "cell_type": "code",
   "execution_count": null,
   "id": "15077b94-7def-439e-b17e-858d13efc1a5",
   "metadata": {},
   "outputs": [],
   "source": [
    "data.describe().round()"
   ]
  },
  {
   "cell_type": "code",
   "execution_count": null,
   "id": "76f93389-b385-4b30-b5a9-cd52936edbd8",
   "metadata": {},
   "outputs": [],
   "source": [
    "sns.set(style='whitegrid',palette='deep')\n",
    "sns.boxplot(x=data['Length in Min'])"
   ]
  },
  {
   "cell_type": "markdown",
   "id": "f446f437-c2c6-44a2-a731-b3c61ab5b72e",
   "metadata": {},
   "source": [
    "considering movies with runtime less than 4 hours"
   ]
  },
  {
   "cell_type": "code",
   "execution_count": null,
   "id": "41836519-3d23-47f2-af45-1d176980a74a",
   "metadata": {},
   "outputs": [],
   "source": [
    "data = data[data['Length in Min']<240]"
   ]
  },
  {
   "cell_type": "markdown",
   "id": "ac7f2e00-d6c7-4e7b-8d7c-9fad19a3ff29",
   "metadata": {},
   "source": [
    "### Analysis"
   ]
  },
  {
   "cell_type": "code",
   "execution_count": null,
   "id": "0fffef56-4232-4aa1-b16b-49ffb5f3cb6f",
   "metadata": {},
   "outputs": [],
   "source": [
    "g=data.groupby('Release Year').agg({'IMDB Rating':'mean','Rating Count':'sum','Title':'count','Length in Min':'mean'})\n",
    "g"
   ]
  },
  {
   "cell_type": "markdown",
   "id": "b0c3d4b1-399c-4024-a587-97b1bf46e5f2",
   "metadata": {},
   "source": [
    "#### Number of movies released over the years"
   ]
  },
  {
   "cell_type": "code",
   "execution_count": null,
   "id": "7acbb737-1cd3-4989-9012-d5f2fc85e651",
   "metadata": {},
   "outputs": [],
   "source": [
    "sns.lineplot(x=g.index,y='Title',data=g)\n",
    "plt.ylabel('No. of movies released')\n",
    "plt.title('Number of movies released over the years')"
   ]
  },
  {
   "cell_type": "markdown",
   "id": "824501d6-abbc-40c9-8e40-25ed5767cb32",
   "metadata": {},
   "source": [
    "#### IMDB rating over the years"
   ]
  },
  {
   "cell_type": "code",
   "execution_count": null,
   "id": "edd88509-384f-4480-aa93-4755765d4aad",
   "metadata": {},
   "outputs": [],
   "source": [
    "sns.lineplot(x=g.index,y='IMDB Rating',data=g)\n",
    "plt.title('IMDB Rating over the years')"
   ]
  },
  {
   "cell_type": "markdown",
   "id": "011bfca7-598a-44ba-9bd3-68461b875a51",
   "metadata": {},
   "source": [
    "#### rating count over the years"
   ]
  },
  {
   "cell_type": "code",
   "execution_count": null,
   "id": "938d84fe-ea27-43ac-87bf-0e48d26c7700",
   "metadata": {},
   "outputs": [],
   "source": [
    "sns.lineplot(x=g.index,y='Rating Count',data=g)\n",
    "plt.title('number of ratings over the years')\n",
    "plt.ylim(0, g['Rating Count'].max() + 100) \n",
    "plt.ylabel('rating count in M')"
   ]
  },
  {
   "cell_type": "markdown",
   "id": "4e7968ee-536f-49bc-8f65-46638df2baa9",
   "metadata": {},
   "source": [
    "#### length of movies over the years"
   ]
  },
  {
   "cell_type": "code",
   "execution_count": null,
   "id": "55bc755c-9166-4d93-9b4f-a0e1b9708866",
   "metadata": {},
   "outputs": [],
   "source": [
    "sns.lineplot(x=g.index,y='Length in Min',data=g)"
   ]
  },
  {
   "cell_type": "markdown",
   "id": "3483dd9c-63e3-4268-8a0d-cd383f59cbb6",
   "metadata": {},
   "source": [
    "#### correlation analysis"
   ]
  },
  {
   "cell_type": "code",
   "execution_count": null,
   "id": "4570e060-97dc-4dd6-8a58-23c1b35d1143",
   "metadata": {},
   "outputs": [],
   "source": [
    "plt.figure(figsize=(3,3))\n",
    "corr=data.iloc[:,1:5].corr()\n",
    "sns.heatmap(corr,cmap='viridis')"
   ]
  },
  {
   "cell_type": "markdown",
   "id": "8e069e45-a1ee-4cc9-904e-058cbec3bbe3",
   "metadata": {},
   "source": [
    "there isnt much correlation among the variables"
   ]
  },
  {
   "cell_type": "markdown",
   "id": "8d8ae4cb-a568-431a-a3c1-7a279a54b9a8",
   "metadata": {},
   "source": [
    "#### Genres with highest number of movies"
   ]
  },
  {
   "cell_type": "code",
   "execution_count": null,
   "id": "768ce348-11ea-48d3-82e2-3460e6100431",
   "metadata": {},
   "outputs": [],
   "source": [
    "genres=data.Genres.str.split(\"|\",expand=True) \n",
    "genres.head(1)"
   ]
  },
  {
   "cell_type": "code",
   "execution_count": null,
   "id": "79afe60d-ec57-4faa-b1b4-8b3efae8f059",
   "metadata": {},
   "outputs": [],
   "source": [
    "melted_df = genres.melt(value_vars=[0, 1, 2], value_name='genre')\n",
    "melted_df = melted_df.dropna()\n",
    "melted_df\n",
    "genre_counts = melted_df['genre'].value_counts().head(10)\n",
    "genre_counts.plot(kind='bar',edgecolor='k')"
   ]
  },
  {
   "cell_type": "markdown",
   "id": "3ae97a27-1bb0-4a3b-a603-01f9d7861c4d",
   "metadata": {},
   "source": [
    "#### director with most movies"
   ]
  },
  {
   "cell_type": "code",
   "execution_count": null,
   "id": "c73543e6-81de-4db0-9a61-08a721c4108f",
   "metadata": {},
   "outputs": [],
   "source": [
    "directors=data.Directors.str.split(\"|\",expand=True) \n",
    "directors.head(3)"
   ]
  },
  {
   "cell_type": "markdown",
   "id": "805e9fa0-9803-4cf2-b0ec-eb1c907ae852",
   "metadata": {},
   "source": [
    "creating single list "
   ]
  },
  {
   "cell_type": "code",
   "execution_count": null,
   "id": "9c015f48-cbbe-438b-84ce-96c0de31284e",
   "metadata": {},
   "outputs": [],
   "source": [
    "melted_df = directors.melt(value_vars=[0, 1, 2, 3], value_name='director')\n",
    "melted_df = melted_df.dropna()\n",
    "melted_df = melted_df[melted_df['director'] != '']"
   ]
  },
  {
   "cell_type": "markdown",
   "id": "2aeb94fc-1493-491f-8cc7-4dfc2ec794ca",
   "metadata": {},
   "source": [
    "getting count of directors"
   ]
  },
  {
   "cell_type": "code",
   "execution_count": null,
   "id": "3f6791a5-6bf1-4681-925c-e415f5e629ca",
   "metadata": {},
   "outputs": [],
   "source": [
    "director_counts = melted_df['director'].value_counts().head(10)"
   ]
  },
  {
   "cell_type": "code",
   "execution_count": null,
   "id": "98b44ab6-8bd1-4137-8978-3c3c8ed094b4",
   "metadata": {},
   "outputs": [],
   "source": [
    "director_counts.plot(kind='bar',edgecolor='k')\n",
    "plt.ylim(0, 130)\n",
    "plt.title('director with highest number of movies')"
   ]
  },
  {
   "cell_type": "markdown",
   "id": "f0d31419-20ea-4cd1-b662-d756080c14c5",
   "metadata": {},
   "source": [
    "#### directors with highest mean rating count"
   ]
  },
  {
   "cell_type": "code",
   "execution_count": null,
   "id": "656214b1-ce42-4dbf-840e-e81fd055d397",
   "metadata": {},
   "outputs": [],
   "source": [
    "data['Directors'] = data['Directors'].str.split('|').apply(sorted)\n",
    "data['Directors'] = data['Directors'].apply(', '.join)"
   ]
  },
  {
   "cell_type": "code",
   "execution_count": null,
   "id": "8e30ea3a-a718-47ed-a32d-e2637fcd71a1",
   "metadata": {},
   "outputs": [],
   "source": [
    "# Filter directors with at least 10 movies and calculate mean rating count\n",
    "director_ratings = data.groupby('Directors').filter(lambda x: x['Title'].count() >= 10)\n",
    "director_ratings = director_ratings.groupby('Directors')['Rating Count'].mean()\n",
    "\n",
    "# Select top 10 directors with highest mean rating count\n",
    "top_10_directors = director_ratings.sort_values(ascending=False).head(10)\n",
    "top_10_directors.plot(kind='bar',edgecolor='k')\n",
    "plt.title('top 10 directors with highest mean rating count')"
   ]
  },
  {
   "cell_type": "markdown",
   "id": "5919fc1d-477c-42bd-b5a6-fde84afb8d37",
   "metadata": {},
   "source": [
    "#### top 10 highest rated movies"
   ]
  },
  {
   "cell_type": "code",
   "execution_count": null,
   "id": "93edfb4f-ef6c-4081-9bee-bfe23551f0e3",
   "metadata": {},
   "outputs": [],
   "source": [
    "sorted_df = data.sort_values(by='IMDB Rating', ascending=False)\n",
    "sorted_df=sorted_df.head(10)\n",
    "sorted_df[['Title','Release Year','IMDB Rating']]"
   ]
  },
  {
   "cell_type": "code",
   "execution_count": null,
   "id": "b489cf70-8208-4e00-b1aa-4c74214aeccc",
   "metadata": {},
   "outputs": [],
   "source": [
    "data\n"
   ]
  },
  {
   "cell_type": "code",
   "execution_count": null,
   "id": "514050ab-bc96-4be9-8d0a-f5eca25cb40b",
   "metadata": {},
   "outputs": [],
   "source": [
    "df = data.copy()\n",
    "all_stars = df['Stars'].str.split('|',expand=True)\n",
    "x=all_stars.iloc[:,:3]\n",
    "df_comb= pd.concat([df[['Release Year', 'Length in Min']], x], axis=1)\n",
    "df_comb.head(2)"
   ]
  },
  {
   "cell_type": "code",
   "execution_count": null,
   "id": "35a1fe66-d27d-45fb-8c70-1dbb463eaec0",
   "metadata": {},
   "outputs": [],
   "source": [
    "from sklearn.model_selection import train_test_split\n",
    "from sklearn.linear_model import LinearRegression\n",
    "from sklearn.metrics import r2_score\n",
    "from sklearn.preprocessing import LabelEncoder\n",
    "\n",
    "\n",
    "label_encoder = LabelEncoder()\n",
    "df_comb[0] = label_encoder.fit_transform(df_comb[0])\n",
    "df_comb[1] = label_encoder.fit_transform(df_comb[1])\n",
    "df_comb[2] = label_encoder.fit_transform(df_comb[2])\n",
    "df_comb"
   ]
  },
  {
   "cell_type": "code",
   "execution_count": null,
   "id": "992f0682-4ba8-436a-b761-91556658eab3",
   "metadata": {},
   "outputs": [],
   "source": [
    "y = pd.Series(df['IMDB Rating'])\n",
    "y.shape"
   ]
  },
  {
   "cell_type": "code",
   "execution_count": null,
   "id": "71908cac-9fa2-40f1-acd9-8ce41fc180f4",
   "metadata": {},
   "outputs": [],
   "source": [
    "\n",
    "X_train, X_test, y_train, y_test = train_test_split(df_comb, y, test_size=0.2, random_state=30)\n",
    "model = LinearRegression()\n",
    "model.fit(X_train, y_train)\n",
    "\n",
    "test_r2 = r2_score(y_test, model.predict(X_test))\n"
   ]
  },
  {
   "cell_type": "code",
   "execution_count": null,
   "id": "b79d742b-bc20-4139-a24f-dd6f2ec79d63",
   "metadata": {},
   "outputs": [],
   "source": []
  },
  {
   "cell_type": "code",
   "execution_count": null,
   "id": "480197ec-11bb-448f-aeb1-672fce0de440",
   "metadata": {},
   "outputs": [],
   "source": []
  }
 ],
 "metadata": {
  "kernelspec": {
   "display_name": "Python 3 (ipykernel)",
   "language": "python",
   "name": "python3"
  },
  "language_info": {
   "codemirror_mode": {
    "name": "ipython",
    "version": 3
   },
   "file_extension": ".py",
   "mimetype": "text/x-python",
   "name": "python",
   "nbconvert_exporter": "python",
   "pygments_lexer": "ipython3",
   "version": "3.9.12"
  }
 },
 "nbformat": 4,
 "nbformat_minor": 5
}
