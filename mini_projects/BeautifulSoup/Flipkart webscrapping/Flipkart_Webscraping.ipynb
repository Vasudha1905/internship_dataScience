{
 "cells": [
  {
   "cell_type": "markdown",
   "id": "4de33bae-3819-43bb-a040-e5f5e9a8e15d",
   "metadata": {},
   "source": [
    "### Flipkart Web scrapping\n",
    "#### AIM: To scrap flipkart and find list of samsung phones, their price and ratings"
   ]
  },
  {
   "cell_type": "code",
   "execution_count": 21,
   "id": "a892575e-90f3-457a-8fb0-808ec4529f05",
   "metadata": {},
   "outputs": [
    {
     "name": "stderr",
     "output_type": "stream",
     "text": [
      "ERROR: Could not find a version that satisfies the requirement urllib (from versions: none)\n",
      "ERROR: No matching distribution found for urllib\n"
     ]
    }
   ],
   "source": [
    "!pip install bs4 -q\n",
    "!pip install urllib -q"
   ]
  },
  {
   "cell_type": "code",
   "execution_count": 31,
   "id": "3764f8cb-96f8-4f47-8381-5b585b0716a3",
   "metadata": {},
   "outputs": [],
   "source": [
    "from bs4 import BeautifulSoup as soup\n",
    "from urllib.request import urlopen as uReq\n",
    "import pandas as pd"
   ]
  },
  {
   "cell_type": "code",
   "execution_count": 23,
   "id": "87723042-e495-4491-917f-466f2b766bf7",
   "metadata": {},
   "outputs": [],
   "source": [
    "from bs4 import BeautifulSoup as soup\n",
    "from urllib.request import urlopen as uReq\n",
    "\n",
    "my_url=\"https://www.flipkart.com/search?q=samsung+mobiles&amp;sid=tyy%2C4io&amp;as=on&amp;as-show=on&amp;otracker=AS_QueryStore_HistoryAutoSuggest_0_2&amp;otracker1=AS_QueryStore_HistoryAutoSuggest_0_2&amp;as-pos=0&amp;as-type=HISTORY&amp;as-searchtext=sa\"\n",
    "\n",
    "# reading url\n",
    "uClient = uReq(my_url)\n",
    "page_html = uClient.read()\n",
    "\n",
    "# closing connection\n",
    "uClient.close()\n",
    "\n",
    "page_soup = soup(page_html, \"html.parser\")"
   ]
  },
  {
   "cell_type": "markdown",
   "id": "ce0855fb-c32b-4d52-839b-979277d17aef",
   "metadata": {},
   "source": [
    "#### finding all names of mobile"
   ]
  },
  {
   "cell_type": "code",
   "execution_count": 36,
   "id": "2ea03f92-69d7-4645-930b-6f4c4bb53cfa",
   "metadata": {},
   "outputs": [
    {
     "name": "stdout",
     "output_type": "stream",
     "text": [
      "24\n"
     ]
    }
   ],
   "source": [
    "containers = page_soup.findAll(\"div\", { \"class\": \"KzDlHZ\"})\n",
    "print(len(containers))"
   ]
  },
  {
   "cell_type": "code",
   "execution_count": 37,
   "id": "a27ebcc8-ca60-49de-93aa-cb4160a18d8f",
   "metadata": {},
   "outputs": [],
   "source": [
    "# printing 1st mobile\n",
    "mobiles=[]\n",
    "for i in containers:\n",
    "    a=i.text.strip()\n",
    "    mobiles.append(a)\n"
   ]
  },
  {
   "cell_type": "markdown",
   "id": "6870d754-0e8e-44e1-bab2-3f10a978faaa",
   "metadata": {},
   "source": [
    "#### finding price"
   ]
  },
  {
   "cell_type": "code",
   "execution_count": 40,
   "id": "02a7646b-c2e5-4e7c-b56e-0c947ea439fb",
   "metadata": {},
   "outputs": [
    {
     "data": {
      "text/plain": [
       "[<div class=\"Nx9bqj _4b5DiR\">₹9,490</div>,\n",
       " <div class=\"Nx9bqj _4b5DiR\">₹9,490</div>,\n",
       " <div class=\"Nx9bqj _4b5DiR\">₹9,490</div>,\n",
       " <div class=\"Nx9bqj _4b5DiR\">₹12,999</div>,\n",
       " <div class=\"Nx9bqj _4b5DiR\">₹12,999</div>,\n",
       " <div class=\"Nx9bqj _4b5DiR\">₹8,990</div>,\n",
       " <div class=\"Nx9bqj _4b5DiR\">₹36,999</div>,\n",
       " <div class=\"Nx9bqj _4b5DiR\">₹36,999</div>,\n",
       " <div class=\"Nx9bqj _4b5DiR\">₹8,990</div>,\n",
       " <div class=\"Nx9bqj _4b5DiR\">₹8,990</div>,\n",
       " <div class=\"Nx9bqj _4b5DiR\">₹14,999</div>,\n",
       " <div class=\"Nx9bqj _4b5DiR\">₹36,999</div>,\n",
       " <div class=\"Nx9bqj _4b5DiR\">₹14,999</div>,\n",
       " <div class=\"Nx9bqj _4b5DiR\">₹1,385</div>,\n",
       " <div class=\"Nx9bqj _4b5DiR\">₹51,999</div>,\n",
       " <div class=\"Nx9bqj _4b5DiR\">₹14,999</div>,\n",
       " <div class=\"Nx9bqj _4b5DiR\">₹51,999</div>,\n",
       " <div class=\"Nx9bqj _4b5DiR\">₹1,650</div>,\n",
       " <div class=\"Nx9bqj _4b5DiR\">₹46,999</div>,\n",
       " <div class=\"Nx9bqj _4b5DiR\">₹14,499</div>,\n",
       " <div class=\"Nx9bqj _4b5DiR\">₹41,999</div>,\n",
       " <div class=\"Nx9bqj _4b5DiR\">₹51,999</div>,\n",
       " <div class=\"Nx9bqj _4b5DiR\">₹41,999</div>,\n",
       " <div class=\"Nx9bqj _4b5DiR\">₹1,020</div>]"
      ]
     },
     "execution_count": 40,
     "metadata": {},
     "output_type": "execute_result"
    }
   ],
   "source": [
    "price = page_soup.findAll(\"div\", {\"class\": \"Nx9bqj _4b5DiR\"}) \n",
    "price"
   ]
  },
  {
   "cell_type": "code",
   "execution_count": 39,
   "id": "81828539-9fe9-4557-a813-3bbc0d96f36a",
   "metadata": {},
   "outputs": [
    {
     "data": {
      "text/plain": [
       "['₹9,490',\n",
       " '₹9,490',\n",
       " '₹9,490',\n",
       " '₹12,999',\n",
       " '₹12,999',\n",
       " '₹8,990',\n",
       " '₹36,999',\n",
       " '₹36,999',\n",
       " '₹8,990',\n",
       " '₹8,990',\n",
       " '₹14,999',\n",
       " '₹36,999',\n",
       " '₹14,999',\n",
       " '₹1,385',\n",
       " '₹51,999',\n",
       " '₹14,999',\n",
       " '₹51,999',\n",
       " '₹1,650',\n",
       " '₹46,999',\n",
       " '₹14,499',\n",
       " '₹41,999',\n",
       " '₹51,999',\n",
       " '₹41,999',\n",
       " '₹1,020']"
      ]
     },
     "execution_count": 39,
     "metadata": {},
     "output_type": "execute_result"
    }
   ],
   "source": [
    "prices=[]\n",
    "for i in price:\n",
    "    a=i.text\n",
    "    prices.append(a)\n",
    "prices"
   ]
  },
  {
   "cell_type": "markdown",
   "id": "6d24b15c-5102-41bf-8883-c2027580cfe3",
   "metadata": {},
   "source": [
    "#### finding rating"
   ]
  },
  {
   "cell_type": "code",
   "execution_count": 28,
   "id": "f1e1cd31-dea0-4788-9533-2dce08531c33",
   "metadata": {},
   "outputs": [],
   "source": [
    "rating = page_soup.findAll('div',{'class': '_5OesEi'})"
   ]
  },
  {
   "cell_type": "code",
   "execution_count": 38,
   "id": "803ab8f1-9b57-4e28-b9f3-feae7219a2c3",
   "metadata": {},
   "outputs": [],
   "source": [
    "ratings=[]\n",
    "for i in rating:\n",
    "    a=i.text.strip().replace('\\xa0', '')\n",
    "    ratings.append(a)"
   ]
  },
  {
   "cell_type": "markdown",
   "id": "ef213f23-e6a2-4ca2-a7ad-8b51c7bdf8c7",
   "metadata": {},
   "source": [
    "#### storing in csv file"
   ]
  },
  {
   "cell_type": "code",
   "execution_count": 32,
   "id": "750205ab-7f3e-4979-ae8c-a60fd9f8188a",
   "metadata": {},
   "outputs": [],
   "source": [
    "# creating dataframe\n",
    "df = pd.DataFrame({'Product Name':mobiles,'Price':prices,'Rating':ratings})\n",
    "df.to_csv('products.csv', index=False, encoding='utf-8')"
   ]
  },
  {
   "cell_type": "code",
   "execution_count": 33,
   "id": "1c1a07a7-d5c1-4f18-94d5-df53b954f7ee",
   "metadata": {},
   "outputs": [
    {
     "data": {
      "text/html": [
       "<div>\n",
       "<style scoped>\n",
       "    .dataframe tbody tr th:only-of-type {\n",
       "        vertical-align: middle;\n",
       "    }\n",
       "\n",
       "    .dataframe tbody tr th {\n",
       "        vertical-align: top;\n",
       "    }\n",
       "\n",
       "    .dataframe thead th {\n",
       "        text-align: right;\n",
       "    }\n",
       "</style>\n",
       "<table border=\"1\" class=\"dataframe\">\n",
       "  <thead>\n",
       "    <tr style=\"text-align: right;\">\n",
       "      <th></th>\n",
       "      <th>Product Name</th>\n",
       "      <th>Price</th>\n",
       "      <th>Rating</th>\n",
       "    </tr>\n",
       "  </thead>\n",
       "  <tbody>\n",
       "    <tr>\n",
       "      <th>0</th>\n",
       "      <td>SAMSUNG Galaxy F14 5G (GOAT Green, 128 GB)</td>\n",
       "      <td>₹9,490</td>\n",
       "      <td>4.21,10,809 Ratings&amp;8,017 Reviews</td>\n",
       "    </tr>\n",
       "    <tr>\n",
       "      <th>1</th>\n",
       "      <td>SAMSUNG Galaxy F14 5G (B.A.E. Purple, 128 GB)</td>\n",
       "      <td>₹9,490</td>\n",
       "      <td>4.21,10,809 Ratings&amp;8,017 Reviews</td>\n",
       "    </tr>\n",
       "    <tr>\n",
       "      <th>2</th>\n",
       "      <td>SAMSUNG Galaxy F14 5G (OMG Black, 128 GB)</td>\n",
       "      <td>₹9,490</td>\n",
       "      <td>4.21,10,809 Ratings&amp;8,017 Reviews</td>\n",
       "    </tr>\n",
       "    <tr>\n",
       "      <th>3</th>\n",
       "      <td>SAMSUNG Galaxy F34 5G (Electric Black, 128 GB)</td>\n",
       "      <td>₹12,999</td>\n",
       "      <td>4.235,919 Ratings&amp;2,788 Reviews</td>\n",
       "    </tr>\n",
       "    <tr>\n",
       "      <th>4</th>\n",
       "      <td>SAMSUNG Galaxy F34 5G (Mystic Green, 128 GB)</td>\n",
       "      <td>₹12,999</td>\n",
       "      <td>4.235,919 Ratings&amp;2,788 Reviews</td>\n",
       "    </tr>\n",
       "    <tr>\n",
       "      <th>5</th>\n",
       "      <td>SAMSUNG Galaxy F14 5G (B.A.E. Purple, 128 GB)</td>\n",
       "      <td>₹8,990</td>\n",
       "      <td>4.243,208 Ratings&amp;2,875 Reviews</td>\n",
       "    </tr>\n",
       "    <tr>\n",
       "      <th>6</th>\n",
       "      <td>SAMSUNG Galaxy S23 FE (Mint, 128 GB)</td>\n",
       "      <td>₹36,999</td>\n",
       "      <td>4.36,057 Ratings&amp;383 Reviews</td>\n",
       "    </tr>\n",
       "    <tr>\n",
       "      <th>7</th>\n",
       "      <td>SAMSUNG Galaxy S23 FE (Graphite, 128 GB)</td>\n",
       "      <td>₹36,999</td>\n",
       "      <td>4.36,057 Ratings&amp;383 Reviews</td>\n",
       "    </tr>\n",
       "    <tr>\n",
       "      <th>8</th>\n",
       "      <td>SAMSUNG Galaxy F14 5G (OMG Black, 128 GB)</td>\n",
       "      <td>₹8,990</td>\n",
       "      <td>4.243,208 Ratings&amp;2,875 Reviews</td>\n",
       "    </tr>\n",
       "    <tr>\n",
       "      <th>9</th>\n",
       "      <td>SAMSUNG Galaxy F14 5G (GOAT Green, 128 GB)</td>\n",
       "      <td>₹8,990</td>\n",
       "      <td>4.243,208 Ratings&amp;2,875 Reviews</td>\n",
       "    </tr>\n",
       "    <tr>\n",
       "      <th>10</th>\n",
       "      <td>SAMSUNG Galaxy F34 5G (Orchid Violet, 128 GB)</td>\n",
       "      <td>₹14,999</td>\n",
       "      <td>4.28,328 Ratings&amp;677 Reviews</td>\n",
       "    </tr>\n",
       "    <tr>\n",
       "      <th>11</th>\n",
       "      <td>SAMSUNG Galaxy S23 FE (Purple, 128 GB)</td>\n",
       "      <td>₹36,999</td>\n",
       "      <td>4.36,057 Ratings&amp;383 Reviews</td>\n",
       "    </tr>\n",
       "    <tr>\n",
       "      <th>12</th>\n",
       "      <td>SAMSUNG Galaxy F34 5G (Electric Black, 128 GB)</td>\n",
       "      <td>₹14,999</td>\n",
       "      <td>4.28,328 Ratings&amp;677 Reviews</td>\n",
       "    </tr>\n",
       "    <tr>\n",
       "      <th>13</th>\n",
       "      <td>SAMSUNG Guru FM Plus SM-B110E/D</td>\n",
       "      <td>₹1,385</td>\n",
       "      <td>4.264,386 Ratings&amp;6,159 Reviews</td>\n",
       "    </tr>\n",
       "    <tr>\n",
       "      <th>14</th>\n",
       "      <td>SAMSUNG Galaxy S23 5G (Green, 256 GB)</td>\n",
       "      <td>₹51,999</td>\n",
       "      <td>4.58,545 Ratings&amp;843 Reviews</td>\n",
       "    </tr>\n",
       "    <tr>\n",
       "      <th>15</th>\n",
       "      <td>SAMSUNG Galaxy F34 5G (Mystic Green, 128 GB)</td>\n",
       "      <td>₹14,999</td>\n",
       "      <td>4.28,328 Ratings&amp;677 Reviews</td>\n",
       "    </tr>\n",
       "    <tr>\n",
       "      <th>16</th>\n",
       "      <td>SAMSUNG Galaxy S23 5G (Phantom Black, 256 GB)</td>\n",
       "      <td>₹51,999</td>\n",
       "      <td>4.58,545 Ratings&amp;843 Reviews</td>\n",
       "    </tr>\n",
       "    <tr>\n",
       "      <th>17</th>\n",
       "      <td>SAMSUNG Metro 313</td>\n",
       "      <td>₹1,650</td>\n",
       "      <td>3.54,219 Ratings&amp;310 Reviews</td>\n",
       "    </tr>\n",
       "    <tr>\n",
       "      <th>18</th>\n",
       "      <td>SAMSUNG Galaxy S23 5G (Phantom Black, 128 GB)</td>\n",
       "      <td>₹46,999</td>\n",
       "      <td>4.58,545 Ratings&amp;843 Reviews</td>\n",
       "    </tr>\n",
       "    <tr>\n",
       "      <th>19</th>\n",
       "      <td>SAMSUNG Galaxy F15 5G (Groovy Violet, 128 GB)</td>\n",
       "      <td>₹14,499</td>\n",
       "      <td>4.216,998 Ratings&amp;1,454 Reviews</td>\n",
       "    </tr>\n",
       "    <tr>\n",
       "      <th>20</th>\n",
       "      <td>SAMSUNG Galaxy S23 FE (Mint, 256 GB)</td>\n",
       "      <td>₹41,999</td>\n",
       "      <td>4.36,057 Ratings&amp;383 Reviews</td>\n",
       "    </tr>\n",
       "    <tr>\n",
       "      <th>21</th>\n",
       "      <td>SAMSUNG Galaxy S23 5G (Lavender, 256 GB)</td>\n",
       "      <td>₹51,999</td>\n",
       "      <td>4.58,545 Ratings&amp;843 Reviews</td>\n",
       "    </tr>\n",
       "    <tr>\n",
       "      <th>22</th>\n",
       "      <td>SAMSUNG Galaxy S23 FE (Graphite, 256 GB)</td>\n",
       "      <td>₹41,999</td>\n",
       "      <td>4.36,057 Ratings&amp;383 Reviews</td>\n",
       "    </tr>\n",
       "    <tr>\n",
       "      <th>23</th>\n",
       "      <td>SAMSUNG GT-1200</td>\n",
       "      <td>₹1,020</td>\n",
       "      <td>3.1221 Ratings&amp;1 Reviews</td>\n",
       "    </tr>\n",
       "  </tbody>\n",
       "</table>\n",
       "</div>"
      ],
      "text/plain": [
       "                                      Product Name    Price  \\\n",
       "0       SAMSUNG Galaxy F14 5G (GOAT Green, 128 GB)   ₹9,490   \n",
       "1    SAMSUNG Galaxy F14 5G (B.A.E. Purple, 128 GB)   ₹9,490   \n",
       "2        SAMSUNG Galaxy F14 5G (OMG Black, 128 GB)   ₹9,490   \n",
       "3   SAMSUNG Galaxy F34 5G (Electric Black, 128 GB)  ₹12,999   \n",
       "4     SAMSUNG Galaxy F34 5G (Mystic Green, 128 GB)  ₹12,999   \n",
       "5    SAMSUNG Galaxy F14 5G (B.A.E. Purple, 128 GB)   ₹8,990   \n",
       "6             SAMSUNG Galaxy S23 FE (Mint, 128 GB)  ₹36,999   \n",
       "7         SAMSUNG Galaxy S23 FE (Graphite, 128 GB)  ₹36,999   \n",
       "8        SAMSUNG Galaxy F14 5G (OMG Black, 128 GB)   ₹8,990   \n",
       "9       SAMSUNG Galaxy F14 5G (GOAT Green, 128 GB)   ₹8,990   \n",
       "10   SAMSUNG Galaxy F34 5G (Orchid Violet, 128 GB)  ₹14,999   \n",
       "11          SAMSUNG Galaxy S23 FE (Purple, 128 GB)  ₹36,999   \n",
       "12  SAMSUNG Galaxy F34 5G (Electric Black, 128 GB)  ₹14,999   \n",
       "13                 SAMSUNG Guru FM Plus SM-B110E/D   ₹1,385   \n",
       "14           SAMSUNG Galaxy S23 5G (Green, 256 GB)  ₹51,999   \n",
       "15    SAMSUNG Galaxy F34 5G (Mystic Green, 128 GB)  ₹14,999   \n",
       "16   SAMSUNG Galaxy S23 5G (Phantom Black, 256 GB)  ₹51,999   \n",
       "17                               SAMSUNG Metro 313   ₹1,650   \n",
       "18   SAMSUNG Galaxy S23 5G (Phantom Black, 128 GB)  ₹46,999   \n",
       "19   SAMSUNG Galaxy F15 5G (Groovy Violet, 128 GB)  ₹14,499   \n",
       "20            SAMSUNG Galaxy S23 FE (Mint, 256 GB)  ₹41,999   \n",
       "21        SAMSUNG Galaxy S23 5G (Lavender, 256 GB)  ₹51,999   \n",
       "22        SAMSUNG Galaxy S23 FE (Graphite, 256 GB)  ₹41,999   \n",
       "23                                 SAMSUNG GT-1200   ₹1,020   \n",
       "\n",
       "                               Rating  \n",
       "0   4.21,10,809 Ratings&8,017 Reviews  \n",
       "1   4.21,10,809 Ratings&8,017 Reviews  \n",
       "2   4.21,10,809 Ratings&8,017 Reviews  \n",
       "3     4.235,919 Ratings&2,788 Reviews  \n",
       "4     4.235,919 Ratings&2,788 Reviews  \n",
       "5     4.243,208 Ratings&2,875 Reviews  \n",
       "6        4.36,057 Ratings&383 Reviews  \n",
       "7        4.36,057 Ratings&383 Reviews  \n",
       "8     4.243,208 Ratings&2,875 Reviews  \n",
       "9     4.243,208 Ratings&2,875 Reviews  \n",
       "10       4.28,328 Ratings&677 Reviews  \n",
       "11       4.36,057 Ratings&383 Reviews  \n",
       "12       4.28,328 Ratings&677 Reviews  \n",
       "13    4.264,386 Ratings&6,159 Reviews  \n",
       "14       4.58,545 Ratings&843 Reviews  \n",
       "15       4.28,328 Ratings&677 Reviews  \n",
       "16       4.58,545 Ratings&843 Reviews  \n",
       "17       3.54,219 Ratings&310 Reviews  \n",
       "18       4.58,545 Ratings&843 Reviews  \n",
       "19    4.216,998 Ratings&1,454 Reviews  \n",
       "20       4.36,057 Ratings&383 Reviews  \n",
       "21       4.58,545 Ratings&843 Reviews  \n",
       "22       4.36,057 Ratings&383 Reviews  \n",
       "23           3.1221 Ratings&1 Reviews  "
      ]
     },
     "execution_count": 33,
     "metadata": {},
     "output_type": "execute_result"
    }
   ],
   "source": [
    "df"
   ]
  },
  {
   "cell_type": "code",
   "execution_count": null,
   "id": "7e63b5bb-1598-4fde-b710-2ef88dc81836",
   "metadata": {},
   "outputs": [],
   "source": []
  }
 ],
 "metadata": {
  "kernelspec": {
   "display_name": "Python 3 (ipykernel)",
   "language": "python",
   "name": "python3"
  },
  "language_info": {
   "codemirror_mode": {
    "name": "ipython",
    "version": 3
   },
   "file_extension": ".py",
   "mimetype": "text/x-python",
   "name": "python",
   "nbconvert_exporter": "python",
   "pygments_lexer": "ipython3",
   "version": "3.11.7"
  }
 },
 "nbformat": 4,
 "nbformat_minor": 5
}
