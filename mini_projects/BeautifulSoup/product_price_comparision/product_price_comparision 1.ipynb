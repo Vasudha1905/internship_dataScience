{
 "cells": [
  {
   "cell_type": "markdown",
   "id": "d05f5d44-749b-42fa-8371-8d111512837b",
   "metadata": {},
   "source": [
    "#### compaing price of iphone on flipkart and maple store"
   ]
  },
  {
   "cell_type": "code",
   "execution_count": 1,
   "id": "d6b8bebd-8168-4bcc-a936-f31932331882",
   "metadata": {},
   "outputs": [
    {
     "name": "stdin",
     "output_type": "stream",
     "text": [
      "enter product Apple iPhone 13 (128GB)\n"
     ]
    }
   ],
   "source": [
    "from bs4 import BeautifulSoup as soup\n",
    "from urllib.request import urlopen as uReq\n",
    "import pandas as pd\n",
    "#product = 'Apple iPhone 13 (128GB)'\n",
    "product=input('enter product')\n",
    "\n",
    "\n"
   ]
  },
  {
   "cell_type": "markdown",
   "id": "b1d23de4-304c-4862-aee8-4d726828fb58",
   "metadata": {},
   "source": [
    "#### finding price on flipkart"
   ]
  },
  {
   "cell_type": "code",
   "execution_count": 2,
   "id": "99bcb7af-bbb0-4296-93ac-2e1605769979",
   "metadata": {},
   "outputs": [
    {
     "name": "stdout",
     "output_type": "stream",
     "text": [
      "the price at flipkart is:  ₹52,999\n"
     ]
    }
   ],
   "source": [
    "product_flip = product.replace(' ', '%20')\n",
    "flipkart_url = f'https://www.flipkart.com/search?q={product_flip}'\n",
    "# reading url\n",
    "uClient = uReq(flipkart_url)\n",
    "page_html = uClient.read()\n",
    "# closing connection\n",
    "uClient.close()\n",
    "page_soup = soup(page_html, \"html.parser\")\n",
    "containers = page_soup.findAll(\"div\", { \"class\": \"Nx9bqj _4b5DiR\"})\n",
    "flip_price=containers[0].text.strip()\n",
    "print('the price at flipkart is: ',flip_price)"
   ]
  },
  {
   "cell_type": "markdown",
   "id": "a8092cda-6545-437b-80df-2ff8d3551fee",
   "metadata": {},
   "source": [
    "#### finding price on maple store"
   ]
  },
  {
   "cell_type": "code",
   "execution_count": 3,
   "id": "46d96b0a-c348-483e-b914-dad788d08b17",
   "metadata": {},
   "outputs": [
    {
     "name": "stdout",
     "output_type": "stream",
     "text": [
      "the price at maple store is:  ₹51,999.00\n"
     ]
    }
   ],
   "source": [
    "base_url = \"https://www.maplestore.in/search?q=\"\n",
    "maple_url = base_url + product.replace(\" \", \"+\")\n",
    "# reading url\n",
    "uClient = uReq(maple_url)\n",
    "page_html = uClient.read()\n",
    "# closing connection\n",
    "uClient.close()\n",
    "page_soup = soup(page_html, \"html.parser\")\n",
    "price_element = page_soup.findAll(\"span\",{'class':'actual_price_bold'})\n",
    "maple_price=price_element[0].text.strip()\n",
    "print('the price at maple store is: ',maple_price)"
   ]
  },
  {
   "cell_type": "markdown",
   "id": "08b7c8d7-9e08-4049-bdc9-b000483ab6d4",
   "metadata": {},
   "source": [
    "#### displaying website where it is cheaper"
   ]
  },
  {
   "cell_type": "code",
   "execution_count": 4,
   "id": "853b6a22-faec-4975-b4fe-7a01b33b5b1f",
   "metadata": {},
   "outputs": [
    {
     "name": "stdout",
     "output_type": "stream",
     "text": [
      "cheaper on maple store \n",
      "https://www.maplestore.in/search?q=Apple+iPhone+13+(128GB)\n"
     ]
    }
   ],
   "source": [
    "def price_calc(flp,mlp):\n",
    "    flp  = float(flp.replace(\"₹\", \"\").replace(\",\", \"\"))\n",
    "    mlp = float(mlp.replace(\"₹\", \"\").replace(\",\", \"\"))\n",
    "    if mlp <flp:\n",
    "        print('cheaper on maple store ')\n",
    "        print(maple_url)\n",
    "    if flp<mlp:\n",
    "        print('cheaper on flipkart ')\n",
    "        print(flipkart_url)\n",
    "\n",
    "\n",
    "price_calc(flip_price,maple_price)   "
   ]
  },
  {
   "cell_type": "code",
   "execution_count": null,
   "id": "54757880-d0ab-42fe-9fe1-dd3e55848bea",
   "metadata": {},
   "outputs": [],
   "source": []
  }
 ],
 "metadata": {
  "kernelspec": {
   "display_name": "Python 3 (ipykernel)",
   "language": "python",
   "name": "python3"
  },
  "language_info": {
   "codemirror_mode": {
    "name": "ipython",
    "version": 3
   },
   "file_extension": ".py",
   "mimetype": "text/x-python",
   "name": "python",
   "nbconvert_exporter": "python",
   "pygments_lexer": "ipython3",
   "version": "3.11.7"
  }
 },
 "nbformat": 4,
 "nbformat_minor": 5
}
