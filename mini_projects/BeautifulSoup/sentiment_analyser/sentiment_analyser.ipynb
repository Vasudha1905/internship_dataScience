{
 "cells": [
  {
   "cell_type": "markdown",
   "id": "45292f91-acda-40b0-8c01-4950eb492499",
   "metadata": {},
   "source": [
    "### Sentiment Analyser"
   ]
  },
  {
   "cell_type": "code",
   "execution_count": 1,
   "id": "d8c749fc-5a8c-4548-a696-7416346b9123",
   "metadata": {},
   "outputs": [
    {
     "name": "stderr",
     "output_type": "stream",
     "text": [
      "[nltk_data] Downloading package vader_lexicon to\n",
      "[nltk_data]     C:\\Users\\Vasudharajesh.i\\AppData\\Roaming\\nltk_data...\n",
      "[nltk_data]   Package vader_lexicon is already up-to-date!\n"
     ]
    },
    {
     "data": {
      "text/plain": [
       "True"
      ]
     },
     "execution_count": 1,
     "metadata": {},
     "output_type": "execute_result"
    }
   ],
   "source": [
    "import nltk\n",
    "nltk.download('vader_lexicon')"
   ]
  },
  {
   "cell_type": "code",
   "execution_count": 3,
   "id": "022dbbfd-a323-4d42-9ed7-37d61934df33",
   "metadata": {},
   "outputs": [],
   "source": [
    "from nltk.sentiment.vader import SentimentIntensityAnalyzer\n",
    "analyzer = SentimentIntensityAnalyzer()"
   ]
  },
  {
   "cell_type": "markdown",
   "id": "823bfbca-639a-406e-9b44-8a3fd13a1d08",
   "metadata": {},
   "source": [
    "#### defining function"
   ]
  },
  {
   "cell_type": "code",
   "execution_count": 18,
   "id": "78cb42a4-77d0-4f22-a0f9-7846b9b1c609",
   "metadata": {},
   "outputs": [
    {
     "name": "stdin",
     "output_type": "stream",
     "text": [
      "how many sentences do u want to enter:  2\n",
      "enter your sentence:  i am good\n"
     ]
    },
    {
     "name": "stdout",
     "output_type": "stream",
     "text": [
      "i am good {'neg': 0.0, 'neu': 0.256, 'pos': 0.744, 'compound': 0.4404}\n"
     ]
    },
    {
     "name": "stdin",
     "output_type": "stream",
     "text": [
      "enter your sentence:  bad\n"
     ]
    },
    {
     "name": "stdout",
     "output_type": "stream",
     "text": [
      "bad {'neg': 1.0, 'neu': 0.0, 'pos': 0.0, 'compound': -0.5423}\n"
     ]
    }
   ],
   "source": [
    "def sentiment_analyser(n):\n",
    "    for i in range(0,n):\n",
    "        text=input('enter your sentence: ')\n",
    "        sentiment = analyzer.polarity_scores(text)\n",
    "        print(text,sentiment)\n",
    "    \n",
    "n= int(input('how many sentences do u want to enter: '))\n",
    "sentiment_analyser(n) "
   ]
  },
  {
   "cell_type": "code",
   "execution_count": null,
   "id": "841c2d91-a635-41bc-bd49-c11397d09736",
   "metadata": {},
   "outputs": [],
   "source": []
  }
 ],
 "metadata": {
  "kernelspec": {
   "display_name": "Python 3 (ipykernel)",
   "language": "python",
   "name": "python3"
  },
  "language_info": {
   "codemirror_mode": {
    "name": "ipython",
    "version": 3
   },
   "file_extension": ".py",
   "mimetype": "text/x-python",
   "name": "python",
   "nbconvert_exporter": "python",
   "pygments_lexer": "ipython3",
   "version": "3.11.7"
  }
 },
 "nbformat": 4,
 "nbformat_minor": 5
}
