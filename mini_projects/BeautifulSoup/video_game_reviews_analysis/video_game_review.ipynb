{
 "cells": [
  {
   "cell_type": "markdown",
   "id": "0e4ba116-a00f-49cd-86d6-5d4b3e7cb389",
   "metadata": {},
   "source": [
    "### Scraping gta 5 reviews from ign and performing sentiment analysis"
   ]
  },
  {
   "cell_type": "code",
   "execution_count": 1,
   "id": "2e23ac75-eb90-4d5b-8f9a-f81ba2225dfb",
   "metadata": {},
   "outputs": [],
   "source": [
    "from bs4 import BeautifulSoup  \n",
    "from urllib.request import urlopen as uReq\n",
    "import pandas as pd\n",
    "import requests"
   ]
  },
  {
   "cell_type": "markdown",
   "id": "343dd6c5-3c23-4c53-bdb6-91b5b60cddd5",
   "metadata": {},
   "source": [
    "#### web scarping"
   ]
  },
  {
   "cell_type": "code",
   "execution_count": 2,
   "id": "89db3d66-a351-4215-8a89-ecc7caaf47b9",
   "metadata": {},
   "outputs": [],
   "source": [
    "my_url = 'https://www.ign.com/games/grand-theft-auto-v/user-reviews'\n",
    "\n",
    "# Headers to mimic a real browser\n",
    "headers = {\"User-Agent\": \"Mozilla/5.0 (Windows NT 10.0; Win64; x64) AppleWebKit/537.36 (KHTML, like Gecko) Chrome/87.0.4280.88 Safari/537.36\"}\n",
    "\n",
    "response = requests.get(my_url, headers=headers)\n",
    "page_html = response.text\n",
    "\n",
    "# html content\n",
    "page_soup = BeautifulSoup(page_html, \"html.parser\")"
   ]
  },
  {
   "cell_type": "markdown",
   "id": "99d91154-7248-491a-9544-a35e702406b5",
   "metadata": {},
   "source": [
    "#### creating list of reviews"
   ]
  },
  {
   "cell_type": "code",
   "execution_count": 3,
   "id": "e03356ca-c830-415f-b448-bd096b001ead",
   "metadata": {},
   "outputs": [],
   "source": [
    "review_html = page_soup.find_all('div',{'class':'interface jsx-1389921904 small'}) \n",
    "reviews=[]\n",
    "for i in review_html:\n",
    "    a=i.text.strip()\n",
    "    reviews.append(a)"
   ]
  },
  {
   "cell_type": "markdown",
   "id": "925bde03-9f5d-41d2-928c-2a779588478f",
   "metadata": {},
   "source": [
    "#### storing in csv file"
   ]
  },
  {
   "cell_type": "code",
   "execution_count": 4,
   "id": "4a31f091-446f-4a7f-a414-7592cedcae9a",
   "metadata": {},
   "outputs": [
    {
     "data": {
      "text/html": [
       "<div>\n",
       "<style scoped>\n",
       "    .dataframe tbody tr th:only-of-type {\n",
       "        vertical-align: middle;\n",
       "    }\n",
       "\n",
       "    .dataframe tbody tr th {\n",
       "        vertical-align: top;\n",
       "    }\n",
       "\n",
       "    .dataframe thead th {\n",
       "        text-align: right;\n",
       "    }\n",
       "</style>\n",
       "<table border=\"1\" class=\"dataframe\">\n",
       "  <thead>\n",
       "    <tr style=\"text-align: right;\">\n",
       "      <th></th>\n",
       "      <th>Review</th>\n",
       "    </tr>\n",
       "  </thead>\n",
       "  <tbody>\n",
       "    <tr>\n",
       "      <th>0</th>\n",
       "      <td>this game is an absolute masterpiece. it is ab...</td>\n",
       "    </tr>\n",
       "    <tr>\n",
       "      <th>1</th>\n",
       "      <td>Played this game on my 360, then on my One, no...</td>\n",
       "    </tr>\n",
       "    <tr>\n",
       "      <th>2</th>\n",
       "      <td>These games always start so fun. But then I ge...</td>\n",
       "    </tr>\n",
       "    <tr>\n",
       "      <th>3</th>\n",
       "      <td>PERFECT!</td>\n",
       "    </tr>\n",
       "    <tr>\n",
       "      <th>4</th>\n",
       "      <td>Gta SA ainda é muito superior. GtaV não tem hi...</td>\n",
       "    </tr>\n",
       "    <tr>\n",
       "      <th>5</th>\n",
       "      <td>Highly entertaining story mode with great char...</td>\n",
       "    </tr>\n",
       "    <tr>\n",
       "      <th>6</th>\n",
       "      <td>Cadê GTA 6, Rockstar???</td>\n",
       "    </tr>\n",
       "    <tr>\n",
       "      <th>7</th>\n",
       "      <td>The game is good and long, but it's cheeky tha...</td>\n",
       "    </tr>\n",
       "    <tr>\n",
       "      <th>8</th>\n",
       "      <td>Meu pai não deixou eu jogar</td>\n",
       "    </tr>\n",
       "    <tr>\n",
       "      <th>9</th>\n",
       "      <td>Le mode histoire ne m'as jamais attiré plus qu...</td>\n",
       "    </tr>\n",
       "  </tbody>\n",
       "</table>\n",
       "</div>"
      ],
      "text/plain": [
       "                                              Review\n",
       "0  this game is an absolute masterpiece. it is ab...\n",
       "1  Played this game on my 360, then on my One, no...\n",
       "2  These games always start so fun. But then I ge...\n",
       "3                                           PERFECT!\n",
       "4  Gta SA ainda é muito superior. GtaV não tem hi...\n",
       "5  Highly entertaining story mode with great char...\n",
       "6                            Cadê GTA 6, Rockstar???\n",
       "7  The game is good and long, but it's cheeky tha...\n",
       "8                        Meu pai não deixou eu jogar\n",
       "9  Le mode histoire ne m'as jamais attiré plus qu..."
      ]
     },
     "execution_count": 4,
     "metadata": {},
     "output_type": "execute_result"
    }
   ],
   "source": [
    "df = pd.DataFrame({'Review':reviews})\n",
    "df"
   ]
  },
  {
   "cell_type": "markdown",
   "id": "e869a7e6-641d-4eae-af03-a08bad880fad",
   "metadata": {},
   "source": [
    "#### translating text"
   ]
  },
  {
   "cell_type": "code",
   "execution_count": 5,
   "id": "fb0ba108-8879-4af1-9092-1d6611a2a8f3",
   "metadata": {},
   "outputs": [],
   "source": [
    "!pip install deep_translator -q"
   ]
  },
  {
   "cell_type": "code",
   "execution_count": 6,
   "id": "affd40d4-12ed-46fe-b648-0875e6c8505a",
   "metadata": {},
   "outputs": [],
   "source": [
    "from deep_translator import GoogleTranslator\n",
    "trans = GoogleTranslator(source='auto', target='english')"
   ]
  },
  {
   "cell_type": "code",
   "execution_count": 7,
   "id": "b8204c7e-0914-4748-9e55-d3a710982c49",
   "metadata": {},
   "outputs": [],
   "source": [
    "t_rev=[]\n",
    "for rev in df['Review']:\n",
    "    rev=trans.translate(rev)\n",
    "    t_rev.append(rev)\n",
    "df['Review']=t_rev "
   ]
  },
  {
   "cell_type": "markdown",
   "id": "224a1cb4-4413-4a63-81bc-d0ba9c19347c",
   "metadata": {},
   "source": [
    "### sentiment analysis"
   ]
  },
  {
   "cell_type": "markdown",
   "id": "549886f9-fe8e-4b6c-ad52-4abdd83a6823",
   "metadata": {},
   "source": [
    "#### vader\n",
    "a rule-based sentiment analysis tool that is specifically designed for analyzing social media texts. Vader is a pre-trained sentiment analysis model that provides a sentiment score for a given text."
   ]
  },
  {
   "cell_type": "code",
   "execution_count": 8,
   "id": "175ee7e3-deb4-4bc4-aae2-dc5ca745a5a9",
   "metadata": {},
   "outputs": [],
   "source": [
    "!pip install nltk -q"
   ]
  },
  {
   "cell_type": "code",
   "execution_count": 9,
   "id": "722e5a30-9959-4d08-9db6-82ab815ef43f",
   "metadata": {},
   "outputs": [
    {
     "name": "stderr",
     "output_type": "stream",
     "text": [
      "[nltk_data] Downloading package vader_lexicon to\n",
      "[nltk_data]     C:\\Users\\Vasudharajesh.i\\AppData\\Roaming\\nltk_data...\n",
      "[nltk_data]   Package vader_lexicon is already up-to-date!\n"
     ]
    },
    {
     "data": {
      "text/plain": [
       "True"
      ]
     },
     "execution_count": 9,
     "metadata": {},
     "output_type": "execute_result"
    }
   ],
   "source": [
    "import nltk\n",
    "nltk.download('vader_lexicon')"
   ]
  },
  {
   "cell_type": "code",
   "execution_count": 10,
   "id": "4bd6767f-faa0-43ef-9737-abf17d974902",
   "metadata": {},
   "outputs": [],
   "source": [
    "from nltk.sentiment.vader import SentimentIntensityAnalyzer\n",
    "analyzer = SentimentIntensityAnalyzer()"
   ]
  },
  {
   "cell_type": "markdown",
   "id": "10f4e18b-d71c-4c98-9858-c36afd6e55a2",
   "metadata": {},
   "source": [
    "#### putting score next to reviews"
   ]
  },
  {
   "cell_type": "code",
   "execution_count": 11,
   "id": "b5a61987-ebfe-4ac1-ad1a-b34d16081d7c",
   "metadata": {},
   "outputs": [],
   "source": [
    "score=[]\n",
    "for text in df['Review']:\n",
    "    scores = analyzer.polarity_scores(text)\n",
    "    comp_score=scores['compound']\n",
    "    score.append(comp_score)\n",
    "df['Score']=score"
   ]
  },
  {
   "cell_type": "code",
   "execution_count": 12,
   "id": "bf9e9336-c35d-4d6a-80da-e0c99768b840",
   "metadata": {},
   "outputs": [
    {
     "data": {
      "text/html": [
       "<div>\n",
       "<style scoped>\n",
       "    .dataframe tbody tr th:only-of-type {\n",
       "        vertical-align: middle;\n",
       "    }\n",
       "\n",
       "    .dataframe tbody tr th {\n",
       "        vertical-align: top;\n",
       "    }\n",
       "\n",
       "    .dataframe thead th {\n",
       "        text-align: right;\n",
       "    }\n",
       "</style>\n",
       "<table border=\"1\" class=\"dataframe\">\n",
       "  <thead>\n",
       "    <tr style=\"text-align: right;\">\n",
       "      <th></th>\n",
       "      <th>Review</th>\n",
       "      <th>Score</th>\n",
       "    </tr>\n",
       "  </thead>\n",
       "  <tbody>\n",
       "    <tr>\n",
       "      <th>0</th>\n",
       "      <td>this game is an absolute masterpiece. it is ab...</td>\n",
       "      <td>0.7964</td>\n",
       "    </tr>\n",
       "    <tr>\n",
       "      <th>1</th>\n",
       "      <td>Played this game on my 360, then on my One, no...</td>\n",
       "      <td>0.9686</td>\n",
       "    </tr>\n",
       "    <tr>\n",
       "      <th>2</th>\n",
       "      <td>These games always start so fun. But then I ge...</td>\n",
       "      <td>-0.1228</td>\n",
       "    </tr>\n",
       "    <tr>\n",
       "      <th>3</th>\n",
       "      <td>PERFECT!</td>\n",
       "      <td>0.6114</td>\n",
       "    </tr>\n",
       "    <tr>\n",
       "      <th>4</th>\n",
       "      <td>Gta SA is still far superior. GtaV has no stor...</td>\n",
       "      <td>-0.5589</td>\n",
       "    </tr>\n",
       "    <tr>\n",
       "      <th>5</th>\n",
       "      <td>Highly entertaining story mode with great char...</td>\n",
       "      <td>0.3345</td>\n",
       "    </tr>\n",
       "    <tr>\n",
       "      <th>6</th>\n",
       "      <td>Where's GTA 6, Rockstar???</td>\n",
       "      <td>0.0000</td>\n",
       "    </tr>\n",
       "    <tr>\n",
       "      <th>7</th>\n",
       "      <td>The game is good and long, but it's cheeky tha...</td>\n",
       "      <td>-0.8247</td>\n",
       "    </tr>\n",
       "    <tr>\n",
       "      <th>8</th>\n",
       "      <td>My dad didn't let me play</td>\n",
       "      <td>-0.2584</td>\n",
       "    </tr>\n",
       "    <tr>\n",
       "      <th>9</th>\n",
       "      <td>The story mode never appealed to me that much....</td>\n",
       "      <td>0.0000</td>\n",
       "    </tr>\n",
       "  </tbody>\n",
       "</table>\n",
       "</div>"
      ],
      "text/plain": [
       "                                              Review   Score\n",
       "0  this game is an absolute masterpiece. it is ab...  0.7964\n",
       "1  Played this game on my 360, then on my One, no...  0.9686\n",
       "2  These games always start so fun. But then I ge... -0.1228\n",
       "3                                           PERFECT!  0.6114\n",
       "4  Gta SA is still far superior. GtaV has no stor... -0.5589\n",
       "5  Highly entertaining story mode with great char...  0.3345\n",
       "6                         Where's GTA 6, Rockstar???  0.0000\n",
       "7  The game is good and long, but it's cheeky tha... -0.8247\n",
       "8                          My dad didn't let me play -0.2584\n",
       "9  The story mode never appealed to me that much....  0.0000"
      ]
     },
     "execution_count": 12,
     "metadata": {},
     "output_type": "execute_result"
    }
   ],
   "source": [
    "df.to_csv('Reviews.csv', index=False, encoding='utf-8')\n",
    "df"
   ]
  },
  {
   "cell_type": "code",
   "execution_count": 24,
   "id": "e68b2d89-281d-48da-af95-559b20a246ea",
   "metadata": {},
   "outputs": [
    {
     "data": {
      "text/plain": [
       "<Axes: xlabel='Score', ylabel='Count'>"
      ]
     },
     "execution_count": 24,
     "metadata": {},
     "output_type": "execute_result"
    },
    {
     "data": {
      "image/png": "[encoded data removed]",
      "text/plain": [
       "<Figure size 640x480 with 1 Axes>"
      ]
     },
     "metadata": {},
     "output_type": "display_data"
    }
   ],
   "source": [
    "import seaborn as sns\n",
    "sns.histplot(df['Score'],kde=True)"
   ]
  },
  {
   "cell_type": "code",
   "execution_count": null,
   "id": "89763e80-4b41-4793-8a0f-f15e398fb0f5",
   "metadata": {},
   "outputs": [],
   "source": []
  },
  {
   "cell_type": "code",
   "execution_count": null,
   "id": "9b53b89d-3b04-40d4-9013-ac9ef41aeb65",
   "metadata": {},
   "outputs": [],
   "source": []
  },
  {
   "cell_type": "code",
   "execution_count": null,
   "id": "fd2228da-bad2-4b3b-847f-40cb7b566b2a",
   "metadata": {},
   "outputs": [],
   "source": []
  },
  {
   "cell_type": "code",
   "execution_count": null,
   "id": "0960784b-a61e-4a56-8ac8-e37aa9da0735",
   "metadata": {},
   "outputs": [],
   "source": []
  }
 ],
 "metadata": {
  "kernelspec": {
   "display_name": "Python 3 (ipykernel)",
   "language": "python",
   "name": "python3"
  },
  "language_info": {
   "codemirror_mode": {
    "name": "ipython",
    "version": 3
   },
   "file_extension": ".py",
   "mimetype": "text/x-python",
   "name": "python",
   "nbconvert_exporter": "python",
   "pygments_lexer": "ipython3",
   "version": "3.11.7"
  }
 },
 "nbformat": 4,
 "nbformat_minor": 5
}
