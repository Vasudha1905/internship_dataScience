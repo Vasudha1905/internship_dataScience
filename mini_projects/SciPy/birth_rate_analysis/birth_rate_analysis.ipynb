{
 "cells": [
  {
   "cell_type": "markdown",
   "id": "74a7bf32-62ee-4458-9ded-a012c9a5c038",
   "metadata": {},
   "source": [
    "## Birthrate Analysis"
   ]
  },
  {
   "cell_type": "code",
   "execution_count": null,
   "id": "d6bf2b26-d997-41de-9b26-3cacc44433d6",
   "metadata": {},
   "outputs": [],
   "source": [
    "import pandas as pd\n",
    "import matplotlib.pyplot as plt\n",
    "import seaborn as sns\n",
    "import numpy as np\n",
    "from pylab import rcParams"
   ]
  },
  {
   "cell_type": "code",
   "execution_count": null,
   "id": "b146dc63-f6c2-4edc-a2af-c18aa06fb1fe",
   "metadata": {},
   "outputs": [],
   "source": [
    "births=pd.read_csv('births.csv')"
   ]
  },
  {
   "cell_type": "code",
   "execution_count": null,
   "id": "0696c8d1-6782-4716-ade9-3f385b1be5d3",
   "metadata": {},
   "outputs": [],
   "source": [
    "births.head()"
   ]
  },
  {
   "cell_type": "code",
   "execution_count": null,
   "id": "5d8751ee-2fde-4e21-ab87-c0b5fed34d4c",
   "metadata": {},
   "outputs": [],
   "source": [
    "births.tail()"
   ]
  },
  {
   "cell_type": "markdown",
   "id": "a5412f60-8a32-4e57-b031-0903be9a7a1d",
   "metadata": {},
   "source": [
    "#### replacing na values with 0"
   ]
  },
  {
   "cell_type": "code",
   "execution_count": null,
   "id": "2816255e-87cc-4d68-ac41-849384f8d469",
   "metadata": {},
   "outputs": [],
   "source": [
    "births.isna().sum()"
   ]
  },
  {
   "cell_type": "code",
   "execution_count": null,
   "id": "1e97b703-604d-46f3-a54c-a26dfdae77b6",
   "metadata": {},
   "outputs": [],
   "source": [
    "births['day'].fillna(0, inplace=True)"
   ]
  },
  {
   "cell_type": "markdown",
   "id": "b117483f-aa6a-4f7f-9b1b-8dc7268b58e7",
   "metadata": {},
   "source": [
    "#### changing data type"
   ]
  },
  {
   "cell_type": "code",
   "execution_count": null,
   "id": "8670b542-12b0-4edb-9424-a6319c9e8bc0",
   "metadata": {},
   "outputs": [],
   "source": [
    "births['day'] = births['day'].astype(int)\n",
    "births.info()"
   ]
  },
  {
   "cell_type": "markdown",
   "id": "232759f5-ac2e-4804-bbb4-12b1785178bc",
   "metadata": {},
   "source": [
    "#### calculating decade for each year"
   ]
  },
  {
   "cell_type": "code",
   "execution_count": null,
   "id": "9197f554-dffa-49d8-ae49-1cc947335e5e",
   "metadata": {},
   "outputs": [],
   "source": [
    "births['decade']=10*(births['year']//10)"
   ]
  },
  {
   "cell_type": "markdown",
   "id": "ee72364d-ac60-4148-9345-f2b43a2cafb2",
   "metadata": {},
   "source": [
    "#### gender by decade"
   ]
  },
  {
   "cell_type": "markdown",
   "id": "0e923214-7212-4b6f-8bf3-9a9c2735fc65",
   "metadata": {},
   "source": [
    "creating pivot table"
   ]
  },
  {
   "cell_type": "code",
   "execution_count": null,
   "id": "0115f990-ea55-42c7-9b6b-da5d0e0b2889",
   "metadata": {},
   "outputs": [],
   "source": [
    "birth_gender=births.pivot_table('births', index='decade', columns='gender', aggfunc='sum')\n",
    "birth_gender"
   ]
  },
  {
   "cell_type": "markdown",
   "id": "e06f3a1b-ee52-4427-b104-19a17d913be4",
   "metadata": {},
   "source": [
    "plotting graph"
   ]
  },
  {
   "cell_type": "code",
   "execution_count": null,
   "id": "79a647d6-a545-421b-9299-183627faf78e",
   "metadata": {},
   "outputs": [],
   "source": [
    "rcParams['figure.figsize'] = (4,4)  \n",
    "birth_gender.plot()\n",
    "plt.ylabel(\"Total births per year\")\n",
    "plt.show()"
   ]
  },
  {
   "cell_type": "markdown",
   "id": "7da3fb54-b225-41c4-bcff-c5b7ccba5b69",
   "metadata": {},
   "source": [
    "#### removing outliers"
   ]
  },
  {
   "cell_type": "code",
   "execution_count": null,
   "id": "51b1f2f1-3ec9-4d40-90a6-798ef72d284b",
   "metadata": {},
   "outputs": [],
   "source": [
    "quartiles = np.percentile(births['births'], [25, 50, 75])\n",
    "mean = quartiles[1]\n",
    "sigma = 0.74 * (quartiles[2] - quartiles[0]) #0.74 is interquartile range of normal distribution"
   ]
  },
  {
   "cell_type": "markdown",
   "id": "741bbd56-87b8-4e9f-a4e7-587085a111ae",
   "metadata": {},
   "source": [
    "use query() to filter out rows with births outside this value"
   ]
  },
  {
   "cell_type": "code",
   "execution_count": null,
   "id": "6cdf9215-03e7-4de3-8019-f2a1f8c258bc",
   "metadata": {},
   "outputs": [],
   "source": [
    "births = births.query('(births > @mean - 5 * @sigma) & (births < @mean + 5 * @sigma)')\n",
    "births.index = pd.to_datetime(10000 * births.year + 100 * births.month + births.day,\n",
    "                              format='%Y%m%d')\n",
    "# @ is used to specify variable defined outside query"
   ]
  },
  {
   "cell_type": "markdown",
   "id": "91e8be74-a2e0-4b1c-83dc-e47811a7c269",
   "metadata": {},
   "source": [
    "#### Average births by day of week"
   ]
  },
  {
   "cell_type": "markdown",
   "id": "633c7df0-dd54-4e36-a649-2889eb0f2583",
   "metadata": {},
   "source": [
    "adding day of week column"
   ]
  },
  {
   "cell_type": "code",
   "execution_count": null,
   "id": "b49a1be6-4581-46b3-acf2-77134b854837",
   "metadata": {},
   "outputs": [],
   "source": [
    "births['day of week'] = births.index.dayofweek"
   ]
  },
  {
   "cell_type": "markdown",
   "id": "0e3c034b-1809-4b4d-b75b-26962bdba225",
   "metadata": {},
   "source": [
    "creating pivot table"
   ]
  },
  {
   "cell_type": "code",
   "execution_count": null,
   "id": "ac83fdc6-a8e6-4c50-b241-080c05627c92",
   "metadata": {},
   "outputs": [],
   "source": [
    "births_day = births.pivot_table('births', index='day of week',columns='decade', aggfunc='mean')\n",
    "births_day.index = ['Mon', 'Tues', 'Wed', 'Thurs', 'Fri', 'Sat', 'Sun']\n",
    "births_day"
   ]
  },
  {
   "cell_type": "markdown",
   "id": "f13eaed8-ee65-4bb7-b3ab-c969dcc4aeb6",
   "metadata": {},
   "source": [
    "visualisation"
   ]
  },
  {
   "cell_type": "code",
   "execution_count": null,
   "id": "dcbe4d95-41dc-49e1-b6c8-aad7773aea08",
   "metadata": {},
   "outputs": [],
   "source": [
    "births_day.plot()\n",
    "plt.ylabel(\"Average Births by Day\")\n",
    "plt.show()"
   ]
  },
  {
   "cell_type": "markdown",
   "id": "d8509573-9d63-4a2d-b1e9-04b5db091e45",
   "metadata": {},
   "source": [
    "we can see that births were less common on weekends as compared to weekdays"
   ]
  },
  {
   "cell_type": "markdown",
   "id": "3cae3909-e9ed-4377-a734-ecf2d9a67791",
   "metadata": {},
   "source": [
    "#### average births by day of year"
   ]
  },
  {
   "cell_type": "code",
   "execution_count": null,
   "id": "a89a02eb-4619-4461-aa33-acd3bf765e45",
   "metadata": {},
   "outputs": [],
   "source": [
    "births_month = births.pivot_table('births', [births.index.month, births.index.day])\n",
    "print(births_month.head())\n",
    "\n",
    "births_month.index = [pd.Timestamp(2000, month, day)\n",
    "                      for (month, day) in births_month.index]\n",
    "print(births_month.head())"
   ]
  },
  {
   "cell_type": "code",
   "execution_count": null,
   "id": "a001d4a9-70ee-4e74-8581-79a3bf8e5f58",
   "metadata": {},
   "outputs": [],
   "source": [
    "fig, ax = plt.subplots(figsize=(12, 4))\n",
    "births_month.plot(ax=ax)\n",
    "plt.show()"
   ]
  },
  {
   "cell_type": "code",
   "execution_count": null,
   "id": "8edcf192-edd5-49a3-9911-20aad9e85fef",
   "metadata": {},
   "outputs": [],
   "source": []
  }
 ],
 "metadata": {
  "kernelspec": {
   "display_name": "Python 3 (ipykernel)",
   "language": "python",
   "name": "python3"
  },
  "language_info": {
   "codemirror_mode": {
    "name": "ipython",
    "version": 3
   },
   "file_extension": ".py",
   "mimetype": "text/x-python",
   "name": "python",
   "nbconvert_exporter": "python",
   "pygments_lexer": "ipython3",
   "version": "3.9.12"
  }
 },
 "nbformat": 4,
 "nbformat_minor": 5
}
