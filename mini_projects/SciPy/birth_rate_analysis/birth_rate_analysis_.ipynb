{
 "cells": [
  {
   "cell_type": "markdown",
   "id": "74a7bf32-62ee-4458-9ded-a012c9a5c038",
   "metadata": {},
   "source": [
    "## Birthrate Analysis"
   ]
  },
  {
   "cell_type": "code",
   "execution_count": 1,
   "id": "d6bf2b26-d997-41de-9b26-3cacc44433d6",
   "metadata": {},
   "outputs": [],
   "source": [
    "import pandas as pd\n",
    "import matplotlib.pyplot as plt\n",
    "import seaborn as sns\n",
    "import numpy as np\n",
    "from pylab import rcParams"
   ]
  },
  {
   "cell_type": "code",
   "execution_count": 2,
   "id": "b146dc63-f6c2-4edc-a2af-c18aa06fb1fe",
   "metadata": {},
   "outputs": [],
   "source": [
    "births=pd.read_csv('births.csv')"
   ]
  },
  {
   "cell_type": "code",
   "execution_count": 3,
   "id": "0696c8d1-6782-4716-ade9-3f385b1be5d3",
   "metadata": {},
   "outputs": [
    {
     "data": {
      "text/html": [
       "<div>\n",
       "<style scoped>\n",
       "    .dataframe tbody tr th:only-of-type {\n",
       "        vertical-align: middle;\n",
       "    }\n",
       "\n",
       "    .dataframe tbody tr th {\n",
       "        vertical-align: top;\n",
       "    }\n",
       "\n",
       "    .dataframe thead th {\n",
       "        text-align: right;\n",
       "    }\n",
       "</style>\n",
       "<table border=\"1\" class=\"dataframe\">\n",
       "  <thead>\n",
       "    <tr style=\"text-align: right;\">\n",
       "      <th></th>\n",
       "      <th>year</th>\n",
       "      <th>month</th>\n",
       "      <th>day</th>\n",
       "      <th>gender</th>\n",
       "      <th>births</th>\n",
       "    </tr>\n",
       "  </thead>\n",
       "  <tbody>\n",
       "    <tr>\n",
       "      <th>0</th>\n",
       "      <td>1969</td>\n",
       "      <td>1</td>\n",
       "      <td>1.0</td>\n",
       "      <td>F</td>\n",
       "      <td>4046</td>\n",
       "    </tr>\n",
       "    <tr>\n",
       "      <th>1</th>\n",
       "      <td>1969</td>\n",
       "      <td>1</td>\n",
       "      <td>1.0</td>\n",
       "      <td>M</td>\n",
       "      <td>4440</td>\n",
       "    </tr>\n",
       "    <tr>\n",
       "      <th>2</th>\n",
       "      <td>1969</td>\n",
       "      <td>1</td>\n",
       "      <td>2.0</td>\n",
       "      <td>F</td>\n",
       "      <td>4454</td>\n",
       "    </tr>\n",
       "    <tr>\n",
       "      <th>3</th>\n",
       "      <td>1969</td>\n",
       "      <td>1</td>\n",
       "      <td>2.0</td>\n",
       "      <td>M</td>\n",
       "      <td>4548</td>\n",
       "    </tr>\n",
       "    <tr>\n",
       "      <th>4</th>\n",
       "      <td>1969</td>\n",
       "      <td>1</td>\n",
       "      <td>3.0</td>\n",
       "      <td>F</td>\n",
       "      <td>4548</td>\n",
       "    </tr>\n",
       "  </tbody>\n",
       "</table>\n",
       "</div>"
      ],
      "text/plain": [
       "   year  month  day gender  births\n",
       "0  1969      1  1.0      F    4046\n",
       "1  1969      1  1.0      M    4440\n",
       "2  1969      1  2.0      F    4454\n",
       "3  1969      1  2.0      M    4548\n",
       "4  1969      1  3.0      F    4548"
      ]
     },
     "execution_count": 3,
     "metadata": {},
     "output_type": "execute_result"
    }
   ],
   "source": [
    "births.head()"
   ]
  },
  {
   "cell_type": "code",
   "execution_count": 4,
   "id": "5d8751ee-2fde-4e21-ab87-c0b5fed34d4c",
   "metadata": {},
   "outputs": [
    {
     "data": {
      "text/html": [
       "<div>\n",
       "<style scoped>\n",
       "    .dataframe tbody tr th:only-of-type {\n",
       "        vertical-align: middle;\n",
       "    }\n",
       "\n",
       "    .dataframe tbody tr th {\n",
       "        vertical-align: top;\n",
       "    }\n",
       "\n",
       "    .dataframe thead th {\n",
       "        text-align: right;\n",
       "    }\n",
       "</style>\n",
       "<table border=\"1\" class=\"dataframe\">\n",
       "  <thead>\n",
       "    <tr style=\"text-align: right;\">\n",
       "      <th></th>\n",
       "      <th>year</th>\n",
       "      <th>month</th>\n",
       "      <th>day</th>\n",
       "      <th>gender</th>\n",
       "      <th>births</th>\n",
       "    </tr>\n",
       "  </thead>\n",
       "  <tbody>\n",
       "    <tr>\n",
       "      <th>15542</th>\n",
       "      <td>2008</td>\n",
       "      <td>10</td>\n",
       "      <td>NaN</td>\n",
       "      <td>M</td>\n",
       "      <td>183219</td>\n",
       "    </tr>\n",
       "    <tr>\n",
       "      <th>15543</th>\n",
       "      <td>2008</td>\n",
       "      <td>11</td>\n",
       "      <td>NaN</td>\n",
       "      <td>F</td>\n",
       "      <td>158939</td>\n",
       "    </tr>\n",
       "    <tr>\n",
       "      <th>15544</th>\n",
       "      <td>2008</td>\n",
       "      <td>11</td>\n",
       "      <td>NaN</td>\n",
       "      <td>M</td>\n",
       "      <td>165468</td>\n",
       "    </tr>\n",
       "    <tr>\n",
       "      <th>15545</th>\n",
       "      <td>2008</td>\n",
       "      <td>12</td>\n",
       "      <td>NaN</td>\n",
       "      <td>F</td>\n",
       "      <td>173215</td>\n",
       "    </tr>\n",
       "    <tr>\n",
       "      <th>15546</th>\n",
       "      <td>2008</td>\n",
       "      <td>12</td>\n",
       "      <td>NaN</td>\n",
       "      <td>M</td>\n",
       "      <td>181235</td>\n",
       "    </tr>\n",
       "  </tbody>\n",
       "</table>\n",
       "</div>"
      ],
      "text/plain": [
       "       year  month  day gender  births\n",
       "15542  2008     10  NaN      M  183219\n",
       "15543  2008     11  NaN      F  158939\n",
       "15544  2008     11  NaN      M  165468\n",
       "15545  2008     12  NaN      F  173215\n",
       "15546  2008     12  NaN      M  181235"
      ]
     },
     "execution_count": 4,
     "metadata": {},
     "output_type": "execute_result"
    }
   ],
   "source": [
    "births.tail()"
   ]
  },
  {
   "cell_type": "markdown",
   "id": "a5412f60-8a32-4e57-b031-0903be9a7a1d",
   "metadata": {},
   "source": [
    "#### replacing na values with 0"
   ]
  },
  {
   "cell_type": "code",
   "execution_count": 5,
   "id": "2816255e-87cc-4d68-ac41-849384f8d469",
   "metadata": {},
   "outputs": [
    {
     "data": {
      "text/plain": [
       "year        0\n",
       "month       0\n",
       "day       480\n",
       "gender      0\n",
       "births      0\n",
       "dtype: int64"
      ]
     },
     "execution_count": 5,
     "metadata": {},
     "output_type": "execute_result"
    }
   ],
   "source": [
    "births.isna().sum()"
   ]
  },
  {
   "cell_type": "code",
   "execution_count": 6,
   "id": "1e97b703-604d-46f3-a54c-a26dfdae77b6",
   "metadata": {},
   "outputs": [],
   "source": [
    "births['day'].fillna(0, inplace=True)"
   ]
  },
  {
   "cell_type": "markdown",
   "id": "b117483f-aa6a-4f7f-9b1b-8dc7268b58e7",
   "metadata": {},
   "source": [
    "#### changing data type"
   ]
  },
  {
   "cell_type": "code",
   "execution_count": 7,
   "id": "8670b542-12b0-4edb-9424-a6319c9e8bc0",
   "metadata": {},
   "outputs": [
    {
     "name": "stdout",
     "output_type": "stream",
     "text": [
      "<class 'pandas.core.frame.DataFrame'>\n",
      "RangeIndex: 15547 entries, 0 to 15546\n",
      "Data columns (total 5 columns):\n",
      " #   Column  Non-Null Count  Dtype \n",
      "---  ------  --------------  ----- \n",
      " 0   year    15547 non-null  int64 \n",
      " 1   month   15547 non-null  int64 \n",
      " 2   day     15547 non-null  int32 \n",
      " 3   gender  15547 non-null  object\n",
      " 4   births  15547 non-null  int64 \n",
      "dtypes: int32(1), int64(3), object(1)\n",
      "memory usage: 546.7+ KB\n"
     ]
    }
   ],
   "source": [
    "births['day'] = births['day'].astype(int)\n",
    "births.info()"
   ]
  },
  {
   "cell_type": "markdown",
   "id": "232759f5-ac2e-4804-bbb4-12b1785178bc",
   "metadata": {},
   "source": [
    "#### calculating decade for each year"
   ]
  },
  {
   "cell_type": "code",
   "execution_count": 8,
   "id": "9197f554-dffa-49d8-ae49-1cc947335e5e",
   "metadata": {},
   "outputs": [],
   "source": [
    "births['decade']=10*(births['year']//10)"
   ]
  },
  {
   "cell_type": "markdown",
   "id": "ee72364d-ac60-4148-9345-f2b43a2cafb2",
   "metadata": {},
   "source": [
    "#### gender by decade"
   ]
  },
  {
   "cell_type": "markdown",
   "id": "0e923214-7212-4b6f-8bf3-9a9c2735fc65",
   "metadata": {},
   "source": [
    "creating pivot table"
   ]
  },
  {
   "cell_type": "code",
   "execution_count": 9,
   "id": "0115f990-ea55-42c7-9b6b-da5d0e0b2889",
   "metadata": {},
   "outputs": [
    {
     "data": {
      "text/html": [
       "<div>\n",
       "<style scoped>\n",
       "    .dataframe tbody tr th:only-of-type {\n",
       "        vertical-align: middle;\n",
       "    }\n",
       "\n",
       "    .dataframe tbody tr th {\n",
       "        vertical-align: top;\n",
       "    }\n",
       "\n",
       "    .dataframe thead th {\n",
       "        text-align: right;\n",
       "    }\n",
       "</style>\n",
       "<table border=\"1\" class=\"dataframe\">\n",
       "  <thead>\n",
       "    <tr style=\"text-align: right;\">\n",
       "      <th>gender</th>\n",
       "      <th>F</th>\n",
       "      <th>M</th>\n",
       "    </tr>\n",
       "    <tr>\n",
       "      <th>decade</th>\n",
       "      <th></th>\n",
       "      <th></th>\n",
       "    </tr>\n",
       "  </thead>\n",
       "  <tbody>\n",
       "    <tr>\n",
       "      <th>1960</th>\n",
       "      <td>1753634</td>\n",
       "      <td>1846572</td>\n",
       "    </tr>\n",
       "    <tr>\n",
       "      <th>1970</th>\n",
       "      <td>16263075</td>\n",
       "      <td>17121550</td>\n",
       "    </tr>\n",
       "    <tr>\n",
       "      <th>1980</th>\n",
       "      <td>18310351</td>\n",
       "      <td>19243452</td>\n",
       "    </tr>\n",
       "    <tr>\n",
       "      <th>1990</th>\n",
       "      <td>19479454</td>\n",
       "      <td>20420553</td>\n",
       "    </tr>\n",
       "    <tr>\n",
       "      <th>2000</th>\n",
       "      <td>18229309</td>\n",
       "      <td>19106428</td>\n",
       "    </tr>\n",
       "  </tbody>\n",
       "</table>\n",
       "</div>"
      ],
      "text/plain": [
       "gender         F         M\n",
       "decade                    \n",
       "1960     1753634   1846572\n",
       "1970    16263075  17121550\n",
       "1980    18310351  19243452\n",
       "1990    19479454  20420553\n",
       "2000    18229309  19106428"
      ]
     },
     "execution_count": 9,
     "metadata": {},
     "output_type": "execute_result"
    }
   ],
   "source": [
    "birth_gender=births.pivot_table('births', index='decade', columns='gender', aggfunc='sum')\n",
    "birth_gender"
   ]
  },
  {
   "cell_type": "markdown",
   "id": "e06f3a1b-ee52-4427-b104-19a17d913be4",
   "metadata": {},
   "source": [
    "plotting graph"
   ]
  },
  {
   "cell_type": "code",
   "execution_count": 10,
   "id": "79a647d6-a545-421b-9299-183627faf78e",
   "metadata": {},
   "outputs": [
    {
     "data": {
      "image/png": "[encoded data removed]",
      "text/plain": [
       "<Figure size 288x288 with 1 Axes>"
      ]
     },
     "metadata": {
      "needs_background": "light"
     },
     "output_type": "display_data"
    }
   ],
   "source": [
    "rcParams['figure.figsize'] = (4,4)  \n",
    "birth_gender.plot()\n",
    "plt.ylabel(\"Total births per year\")\n",
    "plt.show()"
   ]
  },
  {
   "cell_type": "markdown",
   "id": "7da3fb54-b225-41c4-bcff-c5b7ccba5b69",
   "metadata": {},
   "source": [
    "#### removing outliers"
   ]
  },
  {
   "cell_type": "code",
   "execution_count": 11,
   "id": "51b1f2f1-3ec9-4d40-90a6-798ef72d284b",
   "metadata": {},
   "outputs": [],
   "source": [
    "quartiles = np.percentile(births['births'], [25, 50, 75])\n",
    "mean = quartiles[1]\n",
    "sigma = 0.74 * (quartiles[2] - quartiles[0]) #0.74 is interquartile range of normal distribution"
   ]
  },
  {
   "cell_type": "markdown",
   "id": "741bbd56-87b8-4e9f-a4e7-587085a111ae",
   "metadata": {},
   "source": [
    "use query() to filter out rows with births outside this value"
   ]
  },
  {
   "cell_type": "code",
   "execution_count": 12,
   "id": "6cdf9215-03e7-4de3-8019-f2a1f8c258bc",
   "metadata": {},
   "outputs": [],
   "source": [
    "births = births.query('(births > @mean - 5 * @sigma) & (births < @mean + 5 * @sigma)')\n",
    "births.index = pd.to_datetime(10000 * births.year + 100 * births.month + births.day,\n",
    "                              format='%Y%m%d')\n",
    "# @ is used to specify variable defined outside query"
   ]
  },
  {
   "cell_type": "markdown",
   "id": "91e8be74-a2e0-4b1c-83dc-e47811a7c269",
   "metadata": {},
   "source": [
    "#### Average births by day of week"
   ]
  },
  {
   "cell_type": "markdown",
   "id": "633c7df0-dd54-4e36-a649-2889eb0f2583",
   "metadata": {},
   "source": [
    "adding day of week column"
   ]
  },
  {
   "cell_type": "code",
   "execution_count": 13,
   "id": "b49a1be6-4581-46b3-acf2-77134b854837",
   "metadata": {},
   "outputs": [],
   "source": [
    "births['day of week'] = births.index.dayofweek"
   ]
  },
  {
   "cell_type": "markdown",
   "id": "0e3c034b-1809-4b4d-b75b-26962bdba225",
   "metadata": {},
   "source": [
    "creating pivot table"
   ]
  },
  {
   "cell_type": "code",
   "execution_count": 14,
   "id": "ac83fdc6-a8e6-4c50-b241-080c05627c92",
   "metadata": {},
   "outputs": [
    {
     "data": {
      "text/html": [
       "<div>\n",
       "<style scoped>\n",
       "    .dataframe tbody tr th:only-of-type {\n",
       "        vertical-align: middle;\n",
       "    }\n",
       "\n",
       "    .dataframe tbody tr th {\n",
       "        vertical-align: top;\n",
       "    }\n",
       "\n",
       "    .dataframe thead th {\n",
       "        text-align: right;\n",
       "    }\n",
       "</style>\n",
       "<table border=\"1\" class=\"dataframe\">\n",
       "  <thead>\n",
       "    <tr style=\"text-align: right;\">\n",
       "      <th>decade</th>\n",
       "      <th>1960</th>\n",
       "      <th>1970</th>\n",
       "      <th>1980</th>\n",
       "    </tr>\n",
       "  </thead>\n",
       "  <tbody>\n",
       "    <tr>\n",
       "      <th>Mon</th>\n",
       "      <td>5063.826923</td>\n",
       "      <td>4689.097701</td>\n",
       "      <td>5276.907249</td>\n",
       "    </tr>\n",
       "    <tr>\n",
       "      <th>Tues</th>\n",
       "      <td>5286.096154</td>\n",
       "      <td>4885.252399</td>\n",
       "      <td>5503.842553</td>\n",
       "    </tr>\n",
       "    <tr>\n",
       "      <th>Wed</th>\n",
       "      <td>5074.622642</td>\n",
       "      <td>4750.376200</td>\n",
       "      <td>5367.642553</td>\n",
       "    </tr>\n",
       "    <tr>\n",
       "      <th>Thurs</th>\n",
       "      <td>4978.288462</td>\n",
       "      <td>4696.923372</td>\n",
       "      <td>5333.485106</td>\n",
       "    </tr>\n",
       "    <tr>\n",
       "      <th>Fri</th>\n",
       "      <td>5107.884615</td>\n",
       "      <td>4782.095785</td>\n",
       "      <td>5393.087234</td>\n",
       "    </tr>\n",
       "    <tr>\n",
       "      <th>Sat</th>\n",
       "      <td>4651.057692</td>\n",
       "      <td>4207.784483</td>\n",
       "      <td>4483.901064</td>\n",
       "    </tr>\n",
       "    <tr>\n",
       "      <th>Sun</th>\n",
       "      <td>4342.346154</td>\n",
       "      <td>3979.278736</td>\n",
       "      <td>4308.120469</td>\n",
       "    </tr>\n",
       "  </tbody>\n",
       "</table>\n",
       "</div>"
      ],
      "text/plain": [
       "decade         1960         1970         1980\n",
       "Mon     5063.826923  4689.097701  5276.907249\n",
       "Tues    5286.096154  4885.252399  5503.842553\n",
       "Wed     5074.622642  4750.376200  5367.642553\n",
       "Thurs   4978.288462  4696.923372  5333.485106\n",
       "Fri     5107.884615  4782.095785  5393.087234\n",
       "Sat     4651.057692  4207.784483  4483.901064\n",
       "Sun     4342.346154  3979.278736  4308.120469"
      ]
     },
     "execution_count": 14,
     "metadata": {},
     "output_type": "execute_result"
    }
   ],
   "source": [
    "births_day = births.pivot_table('births', index='day of week',columns='decade', aggfunc='mean')\n",
    "births_day.index = ['Mon', 'Tues', 'Wed', 'Thurs', 'Fri', 'Sat', 'Sun']\n",
    "births_day"
   ]
  },
  {
   "cell_type": "markdown",
   "id": "f13eaed8-ee65-4bb7-b3ab-c969dcc4aeb6",
   "metadata": {},
   "source": [
    "visualisation"
   ]
  },
  {
   "cell_type": "code",
   "execution_count": 15,
   "id": "dcbe4d95-41dc-49e1-b6c8-aad7773aea08",
   "metadata": {},
   "outputs": [
    {
     "data": {
      "image/png": "[encoded data removed]",
      "text/plain": [
       "<Figure size 288x288 with 1 Axes>"
      ]
     },
     "metadata": {
      "needs_background": "light"
     },
     "output_type": "display_data"
    }
   ],
   "source": [
    "births_day.plot()\n",
    "plt.ylabel(\"Average Births by Day\")\n",
    "plt.show()"
   ]
  },
  {
   "cell_type": "markdown",
   "id": "d8509573-9d63-4a2d-b1e9-04b5db091e45",
   "metadata": {},
   "source": [
    "we can see that births were less common on weekends as compared to weekdays"
   ]
  },
  {
   "cell_type": "markdown",
   "id": "3cae3909-e9ed-4377-a734-ecf2d9a67791",
   "metadata": {},
   "source": [
    "#### average births by day of year"
   ]
  },
  {
   "cell_type": "code",
   "execution_count": 16,
   "id": "a89a02eb-4619-4461-aa33-acd3bf765e45",
   "metadata": {},
   "outputs": [
    {
     "name": "stdout",
     "output_type": "stream",
     "text": [
      "       births\n",
      "1 1  4009.225\n",
      "  2  4247.400\n",
      "  3  4500.900\n",
      "  4  4571.350\n",
      "  5  4603.625\n",
      "              births\n",
      "2000-01-01  4009.225\n",
      "2000-01-02  4247.400\n",
      "2000-01-03  4500.900\n",
      "2000-01-04  4571.350\n",
      "2000-01-05  4603.625\n"
     ]
    }
   ],
   "source": [
    "births_month = births.pivot_table('births', [births.index.month, births.index.day])\n",
    "print(births_month.head())\n",
    "\n",
    "births_month.index = [pd.Timestamp(2000, month, day)\n",
    "                      for (month, day) in births_month.index]\n",
    "print(births_month.head())"
   ]
  },
  {
   "cell_type": "code",
   "execution_count": 17,
   "id": "a001d4a9-70ee-4e74-8581-79a3bf8e5f58",
   "metadata": {},
   "outputs": [
    {
     "data": {
      "image/png": "[encoded data removed]",
      "text/plain": [
       "<Figure size 864x288 with 1 Axes>"
      ]
     },
     "metadata": {
      "needs_background": "light"
     },
     "output_type": "display_data"
    }
   ],
   "source": [
    "fig, ax = plt.subplots(figsize=(12, 4))\n",
    "births_month.plot(ax=ax)\n",
    "plt.show()"
   ]
  },
  {
   "cell_type": "code",
   "execution_count": null,
   "id": "8edcf192-edd5-49a3-9911-20aad9e85fef",
   "metadata": {},
   "outputs": [],
   "source": []
  }
 ],
 "metadata": {
  "kernelspec": {
   "display_name": "Python 3 (ipykernel)",
   "language": "python",
   "name": "python3"
  },
  "language_info": {
   "codemirror_mode": {
    "name": "ipython",
    "version": 3
   },
   "file_extension": ".py",
   "mimetype": "text/x-python",
   "name": "python",
   "nbconvert_exporter": "python",
   "pygments_lexer": "ipython3",
   "version": "3.9.12"
  }
 },
 "nbformat": 4,
 "nbformat_minor": 5
}
