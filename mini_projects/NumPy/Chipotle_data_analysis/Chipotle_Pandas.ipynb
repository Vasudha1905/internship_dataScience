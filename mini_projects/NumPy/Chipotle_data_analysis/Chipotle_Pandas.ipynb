{
 "cells": [
  {
   "cell_type": "markdown",
   "id": "a8897771-8856-4bc4-b773-9390d15742e6",
   "metadata": {},
   "source": [
    "### Chipotle Pandas Project"
   ]
  },
  {
   "cell_type": "code",
   "execution_count": 1,
   "id": "728008e8-19cf-4a0e-bdb2-e5e2e1ce3dd6",
   "metadata": {},
   "outputs": [],
   "source": [
    "import pandas as pd\n",
    "import numpy as np\n",
    "import matplotlib.pyplot as plt"
   ]
  },
  {
   "cell_type": "code",
   "execution_count": 2,
   "id": "e611d45f-55ff-4697-b22e-409d67929b46",
   "metadata": {},
   "outputs": [],
   "source": [
    "data=pd.read_csv('chipotle.tsv',sep='\\t')"
   ]
  },
  {
   "cell_type": "markdown",
   "id": "93fe7bb9-1cb3-4c82-a995-92cd4dea8135",
   "metadata": {},
   "source": [
    "### DATA CLEANING"
   ]
  },
  {
   "cell_type": "markdown",
   "id": "8303f23e-3443-4e18-b4d9-2c6d334a1611",
   "metadata": {},
   "source": [
    "#### viewing first 10 rows"
   ]
  },
  {
   "cell_type": "code",
   "execution_count": 3,
   "id": "0b3b02be-615a-4a95-9a7c-6353654d51fe",
   "metadata": {},
   "outputs": [
    {
     "data": {
      "text/html": [
       "<div>\n",
       "<style scoped>\n",
       "    .dataframe tbody tr th:only-of-type {\n",
       "        vertical-align: middle;\n",
       "    }\n",
       "\n",
       "    .dataframe tbody tr th {\n",
       "        vertical-align: top;\n",
       "    }\n",
       "\n",
       "    .dataframe thead th {\n",
       "        text-align: right;\n",
       "    }\n",
       "</style>\n",
       "<table border=\"1\" class=\"dataframe\">\n",
       "  <thead>\n",
       "    <tr style=\"text-align: right;\">\n",
       "      <th></th>\n",
       "      <th>order_id</th>\n",
       "      <th>quantity</th>\n",
       "      <th>item_name</th>\n",
       "      <th>choice_description</th>\n",
       "      <th>item_price</th>\n",
       "    </tr>\n",
       "  </thead>\n",
       "  <tbody>\n",
       "    <tr>\n",
       "      <th>0</th>\n",
       "      <td>1</td>\n",
       "      <td>1</td>\n",
       "      <td>Chips and Fresh Tomato Salsa</td>\n",
       "      <td>NaN</td>\n",
       "      <td>$2.39</td>\n",
       "    </tr>\n",
       "    <tr>\n",
       "      <th>1</th>\n",
       "      <td>1</td>\n",
       "      <td>1</td>\n",
       "      <td>Izze</td>\n",
       "      <td>[Clementine]</td>\n",
       "      <td>$3.39</td>\n",
       "    </tr>\n",
       "    <tr>\n",
       "      <th>2</th>\n",
       "      <td>1</td>\n",
       "      <td>1</td>\n",
       "      <td>Nantucket Nectar</td>\n",
       "      <td>[Apple]</td>\n",
       "      <td>$3.39</td>\n",
       "    </tr>\n",
       "    <tr>\n",
       "      <th>3</th>\n",
       "      <td>1</td>\n",
       "      <td>1</td>\n",
       "      <td>Chips and Tomatillo-Green Chili Salsa</td>\n",
       "      <td>NaN</td>\n",
       "      <td>$2.39</td>\n",
       "    </tr>\n",
       "    <tr>\n",
       "      <th>4</th>\n",
       "      <td>2</td>\n",
       "      <td>2</td>\n",
       "      <td>Chicken Bowl</td>\n",
       "      <td>[Tomatillo-Red Chili Salsa (Hot), [Black Beans...</td>\n",
       "      <td>$16.98</td>\n",
       "    </tr>\n",
       "    <tr>\n",
       "      <th>5</th>\n",
       "      <td>3</td>\n",
       "      <td>1</td>\n",
       "      <td>Chicken Bowl</td>\n",
       "      <td>[Fresh Tomato Salsa (Mild), [Rice, Cheese, Sou...</td>\n",
       "      <td>$10.98</td>\n",
       "    </tr>\n",
       "    <tr>\n",
       "      <th>6</th>\n",
       "      <td>3</td>\n",
       "      <td>1</td>\n",
       "      <td>Side of Chips</td>\n",
       "      <td>NaN</td>\n",
       "      <td>$1.69</td>\n",
       "    </tr>\n",
       "    <tr>\n",
       "      <th>7</th>\n",
       "      <td>4</td>\n",
       "      <td>1</td>\n",
       "      <td>Steak Burrito</td>\n",
       "      <td>[Tomatillo Red Chili Salsa, [Fajita Vegetables...</td>\n",
       "      <td>$11.75</td>\n",
       "    </tr>\n",
       "    <tr>\n",
       "      <th>8</th>\n",
       "      <td>4</td>\n",
       "      <td>1</td>\n",
       "      <td>Steak Soft Tacos</td>\n",
       "      <td>[Tomatillo Green Chili Salsa, [Pinto Beans, Ch...</td>\n",
       "      <td>$9.25</td>\n",
       "    </tr>\n",
       "    <tr>\n",
       "      <th>9</th>\n",
       "      <td>5</td>\n",
       "      <td>1</td>\n",
       "      <td>Steak Burrito</td>\n",
       "      <td>[Fresh Tomato Salsa, [Rice, Black Beans, Pinto...</td>\n",
       "      <td>$9.25</td>\n",
       "    </tr>\n",
       "  </tbody>\n",
       "</table>\n",
       "</div>"
      ],
      "text/plain": [
       "   order_id  quantity                              item_name  \\\n",
       "0         1         1           Chips and Fresh Tomato Salsa   \n",
       "1         1         1                                   Izze   \n",
       "2         1         1                       Nantucket Nectar   \n",
       "3         1         1  Chips and Tomatillo-Green Chili Salsa   \n",
       "4         2         2                           Chicken Bowl   \n",
       "5         3         1                           Chicken Bowl   \n",
       "6         3         1                          Side of Chips   \n",
       "7         4         1                          Steak Burrito   \n",
       "8         4         1                       Steak Soft Tacos   \n",
       "9         5         1                          Steak Burrito   \n",
       "\n",
       "                                  choice_description item_price  \n",
       "0                                                NaN     $2.39   \n",
       "1                                       [Clementine]     $3.39   \n",
       "2                                            [Apple]     $3.39   \n",
       "3                                                NaN     $2.39   \n",
       "4  [Tomatillo-Red Chili Salsa (Hot), [Black Beans...    $16.98   \n",
       "5  [Fresh Tomato Salsa (Mild), [Rice, Cheese, Sou...    $10.98   \n",
       "6                                                NaN     $1.69   \n",
       "7  [Tomatillo Red Chili Salsa, [Fajita Vegetables...    $11.75   \n",
       "8  [Tomatillo Green Chili Salsa, [Pinto Beans, Ch...     $9.25   \n",
       "9  [Fresh Tomato Salsa, [Rice, Black Beans, Pinto...     $9.25   "
      ]
     },
     "execution_count": 3,
     "metadata": {},
     "output_type": "execute_result"
    }
   ],
   "source": [
    "data.head(10)"
   ]
  },
  {
   "cell_type": "code",
   "execution_count": 4,
   "id": "654b3750-0e6d-4e81-b4cf-5ee9af54bbba",
   "metadata": {},
   "outputs": [
    {
     "name": "stdout",
     "output_type": "stream",
     "text": [
      "<class 'pandas.core.frame.DataFrame'>\n",
      "RangeIndex: 4622 entries, 0 to 4621\n",
      "Data columns (total 5 columns):\n",
      " #   Column              Non-Null Count  Dtype \n",
      "---  ------              --------------  ----- \n",
      " 0   order_id            4622 non-null   int64 \n",
      " 1   quantity            4622 non-null   int64 \n",
      " 2   item_name           4622 non-null   object\n",
      " 3   choice_description  3376 non-null   object\n",
      " 4   item_price          4622 non-null   object\n",
      "dtypes: int64(2), object(3)\n",
      "memory usage: 180.7+ KB\n"
     ]
    }
   ],
   "source": [
    "data.info()"
   ]
  },
  {
   "cell_type": "markdown",
   "id": "0001710a-2d6b-4a07-8663-d81d6547738d",
   "metadata": {},
   "source": [
    "#### remvoving dollar sign and converitng to float"
   ]
  },
  {
   "cell_type": "code",
   "execution_count": 5,
   "id": "eea47855-9368-46d0-98ee-2313bf78e511",
   "metadata": {},
   "outputs": [],
   "source": [
    "# removing dollar sign\n",
    "data['item_price']=data['item_price'].str[1:]"
   ]
  },
  {
   "cell_type": "code",
   "execution_count": 6,
   "id": "153f4499-2fe7-4ff8-a563-aaedb2e1b6c4",
   "metadata": {},
   "outputs": [],
   "source": [
    "# converting to float\n",
    "data['item_price']=data['item_price'].astype('float')"
   ]
  },
  {
   "cell_type": "markdown",
   "id": "ccbe9524-fb0b-417c-964e-bc3032f886fa",
   "metadata": {},
   "source": [
    "#### checking for null values"
   ]
  },
  {
   "cell_type": "code",
   "execution_count": 7,
   "id": "3893657e-ce5f-4922-abc1-9484b975ceed",
   "metadata": {},
   "outputs": [
    {
     "data": {
      "text/plain": [
       "order_id                 0\n",
       "quantity                 0\n",
       "item_name                0\n",
       "choice_description    1246\n",
       "item_price               0\n",
       "dtype: int64"
      ]
     },
     "execution_count": 7,
     "metadata": {},
     "output_type": "execute_result"
    }
   ],
   "source": [
    "data.isnull().sum()"
   ]
  },
  {
   "cell_type": "markdown",
   "id": "89ba72d1-172b-4e51-a672-f897856cc17d",
   "metadata": {},
   "source": [
    "#### shape of dataset"
   ]
  },
  {
   "cell_type": "code",
   "execution_count": 8,
   "id": "e029dd5c-d898-4179-892c-a60141921de5",
   "metadata": {},
   "outputs": [
    {
     "data": {
      "text/plain": [
       "(4622, 5)"
      ]
     },
     "execution_count": 8,
     "metadata": {},
     "output_type": "execute_result"
    }
   ],
   "source": [
    "data.shape"
   ]
  },
  {
   "cell_type": "markdown",
   "id": "2d0245fe-d116-49de-9224-328bc57b2fc6",
   "metadata": {},
   "source": [
    "#### formatting the choice_description column"
   ]
  },
  {
   "cell_type": "code",
   "execution_count": 9,
   "id": "208f69aa-603e-456c-b768-e6dd0839b66a",
   "metadata": {},
   "outputs": [],
   "source": [
    "# replacing null value\n",
    "data.fillna(\"no description\", inplace=True)"
   ]
  },
  {
   "cell_type": "code",
   "execution_count": 10,
   "id": "b56b0411-bac3-400a-ba6c-00e853087364",
   "metadata": {},
   "outputs": [],
   "source": [
    "data['choice_description']=data['choice_description'].apply(lambda x: x.replace('[','').replace(']',''))"
   ]
  },
  {
   "cell_type": "code",
   "execution_count": 11,
   "id": "53d4b361-514b-43ba-873f-d16e7ed5d4a5",
   "metadata": {},
   "outputs": [
    {
     "data": {
      "text/html": [
       "<div>\n",
       "<style scoped>\n",
       "    .dataframe tbody tr th:only-of-type {\n",
       "        vertical-align: middle;\n",
       "    }\n",
       "\n",
       "    .dataframe tbody tr th {\n",
       "        vertical-align: top;\n",
       "    }\n",
       "\n",
       "    .dataframe thead th {\n",
       "        text-align: right;\n",
       "    }\n",
       "</style>\n",
       "<table border=\"1\" class=\"dataframe\">\n",
       "  <thead>\n",
       "    <tr style=\"text-align: right;\">\n",
       "      <th></th>\n",
       "      <th>order_id</th>\n",
       "      <th>quantity</th>\n",
       "      <th>item_name</th>\n",
       "      <th>choice_description</th>\n",
       "      <th>item_price</th>\n",
       "    </tr>\n",
       "  </thead>\n",
       "  <tbody>\n",
       "    <tr>\n",
       "      <th>0</th>\n",
       "      <td>1</td>\n",
       "      <td>1</td>\n",
       "      <td>Chips and Fresh Tomato Salsa</td>\n",
       "      <td>no description</td>\n",
       "      <td>2.39</td>\n",
       "    </tr>\n",
       "    <tr>\n",
       "      <th>1</th>\n",
       "      <td>1</td>\n",
       "      <td>1</td>\n",
       "      <td>Izze</td>\n",
       "      <td>Clementine</td>\n",
       "      <td>3.39</td>\n",
       "    </tr>\n",
       "    <tr>\n",
       "      <th>2</th>\n",
       "      <td>1</td>\n",
       "      <td>1</td>\n",
       "      <td>Nantucket Nectar</td>\n",
       "      <td>Apple</td>\n",
       "      <td>3.39</td>\n",
       "    </tr>\n",
       "    <tr>\n",
       "      <th>3</th>\n",
       "      <td>1</td>\n",
       "      <td>1</td>\n",
       "      <td>Chips and Tomatillo-Green Chili Salsa</td>\n",
       "      <td>no description</td>\n",
       "      <td>2.39</td>\n",
       "    </tr>\n",
       "    <tr>\n",
       "      <th>4</th>\n",
       "      <td>2</td>\n",
       "      <td>2</td>\n",
       "      <td>Chicken Bowl</td>\n",
       "      <td>Tomatillo-Red Chili Salsa (Hot), Black Beans, ...</td>\n",
       "      <td>16.98</td>\n",
       "    </tr>\n",
       "  </tbody>\n",
       "</table>\n",
       "</div>"
      ],
      "text/plain": [
       "   order_id  quantity                              item_name  \\\n",
       "0         1         1           Chips and Fresh Tomato Salsa   \n",
       "1         1         1                                   Izze   \n",
       "2         1         1                       Nantucket Nectar   \n",
       "3         1         1  Chips and Tomatillo-Green Chili Salsa   \n",
       "4         2         2                           Chicken Bowl   \n",
       "\n",
       "                                  choice_description  item_price  \n",
       "0                                     no description        2.39  \n",
       "1                                         Clementine        3.39  \n",
       "2                                              Apple        3.39  \n",
       "3                                     no description        2.39  \n",
       "4  Tomatillo-Red Chili Salsa (Hot), Black Beans, ...       16.98  "
      ]
     },
     "execution_count": 11,
     "metadata": {},
     "output_type": "execute_result"
    }
   ],
   "source": [
    "data.head()"
   ]
  },
  {
   "cell_type": "markdown",
   "id": "37bb07cb-5d15-45bc-81cc-cfb9d2e4dc57",
   "metadata": {},
   "source": [
    "## Analysis"
   ]
  },
  {
   "cell_type": "markdown",
   "id": "09c6ac78-b4e9-4ec4-b8b3-231218daeead",
   "metadata": {},
   "source": [
    "#### most orderd item"
   ]
  },
  {
   "cell_type": "code",
   "execution_count": 12,
   "id": "5076a2d4-c7bd-4b98-95c2-f316a78b0c68",
   "metadata": {},
   "outputs": [
    {
     "data": {
      "text/html": [
       "<div>\n",
       "<style scoped>\n",
       "    .dataframe tbody tr th:only-of-type {\n",
       "        vertical-align: middle;\n",
       "    }\n",
       "\n",
       "    .dataframe tbody tr th {\n",
       "        vertical-align: top;\n",
       "    }\n",
       "\n",
       "    .dataframe thead th {\n",
       "        text-align: right;\n",
       "    }\n",
       "</style>\n",
       "<table border=\"1\" class=\"dataframe\">\n",
       "  <thead>\n",
       "    <tr style=\"text-align: right;\">\n",
       "      <th></th>\n",
       "      <th>quantity</th>\n",
       "    </tr>\n",
       "    <tr>\n",
       "      <th>item_name</th>\n",
       "      <th></th>\n",
       "    </tr>\n",
       "  </thead>\n",
       "  <tbody>\n",
       "    <tr>\n",
       "      <th>Chicken Bowl</th>\n",
       "      <td>761</td>\n",
       "    </tr>\n",
       "    <tr>\n",
       "      <th>Chicken Burrito</th>\n",
       "      <td>591</td>\n",
       "    </tr>\n",
       "    <tr>\n",
       "      <th>Chips and Guacamole</th>\n",
       "      <td>506</td>\n",
       "    </tr>\n",
       "    <tr>\n",
       "      <th>Steak Burrito</th>\n",
       "      <td>386</td>\n",
       "    </tr>\n",
       "    <tr>\n",
       "      <th>Canned Soft Drink</th>\n",
       "      <td>351</td>\n",
       "    </tr>\n",
       "  </tbody>\n",
       "</table>\n",
       "</div>"
      ],
      "text/plain": [
       "                     quantity\n",
       "item_name                    \n",
       "Chicken Bowl              761\n",
       "Chicken Burrito           591\n",
       "Chips and Guacamole       506\n",
       "Steak Burrito             386\n",
       "Canned Soft Drink         351"
      ]
     },
     "execution_count": 12,
     "metadata": {},
     "output_type": "execute_result"
    }
   ],
   "source": [
    "#creating dataframe with items and quantity orderd\n",
    "item_quantity=data.groupby('item_name')['quantity'].sum()\n",
    "item_quantity_sort=pd.DataFrame(item_quantity.sort_values(ascending=False))\n",
    "item_quantity_sort.head()"
   ]
  },
  {
   "cell_type": "code",
   "execution_count": 13,
   "id": "ba7c0d05-d1e9-44b3-9be4-d9ac5227e754",
   "metadata": {},
   "outputs": [
    {
     "data": {
      "text/plain": [
       "quantity    761\n",
       "Name: Chicken Bowl, dtype: int64"
      ]
     },
     "execution_count": 13,
     "metadata": {},
     "output_type": "execute_result"
    }
   ],
   "source": [
    "# most orderd item\n",
    "item_quantity_sort.iloc[0]"
   ]
  },
  {
   "cell_type": "markdown",
   "id": "3bdaca02-aa0c-4c8a-93c3-70135d595cf9",
   "metadata": {},
   "source": [
    "#### top 10 best selling items"
   ]
  },
  {
   "cell_type": "code",
   "execution_count": 36,
   "id": "dc181c55-1865-48cf-a5d6-e36c4d07cde3",
   "metadata": {},
   "outputs": [
    {
     "data": {
      "text/plain": [
       "<Axes: xlabel='item_name'>"
      ]
     },
     "execution_count": 36,
     "metadata": {},
     "output_type": "execute_result"
    },
    {
     "data": {
      "image/png": "[encoded data removed]",
      "text/plain": [
       "<Figure size 640x480 with 1 Axes>"
      ]
     },
     "metadata": {},
     "output_type": "display_data"
    }
   ],
   "source": [
    "top_10=pd.DataFrame(item_quantity_sort.iloc[0:10])\n",
    "top_10.plot(kind='bar')                "
   ]
  },
  {
   "cell_type": "markdown",
   "id": "b4a6b833-0f53-4f56-9d5a-2d704cc50577",
   "metadata": {},
   "source": [
    "#### most ordered item in choice_description "
   ]
  },
  {
   "cell_type": "code",
   "execution_count": 29,
   "id": "31ee7901-5471-43a0-a56f-4bdc19d9e05b",
   "metadata": {},
   "outputs": [
    {
     "data": {
      "text/plain": [
       "quantity    1382\n",
       "Name: no description, dtype: int64"
      ]
     },
     "execution_count": 29,
     "metadata": {},
     "output_type": "execute_result"
    }
   ],
   "source": [
    "choice_quantity = data.groupby('choice_description')['quantity'].sum()\n",
    "choice_quantity_sorted = pd.DataFrame(choice_quantity.sort_values(ascending=False))\n",
    "choice_quantity_sorted.iloc[0]"
   ]
  },
  {
   "cell_type": "markdown",
   "id": "c2a7981f-6466-401d-bf18-f10b20eed00b",
   "metadata": {},
   "source": [
    "#### Total orders"
   ]
  },
  {
   "cell_type": "code",
   "execution_count": 14,
   "id": "120ea359-a552-4f1e-b439-9b3fd17cd426",
   "metadata": {},
   "outputs": [
    {
     "data": {
      "text/plain": [
       "1834"
      ]
     },
     "execution_count": 14,
     "metadata": {},
     "output_type": "execute_result"
    }
   ],
   "source": [
    "orders=data.groupby('order_id')\n",
    "len(orders)"
   ]
  },
  {
   "cell_type": "markdown",
   "id": "fc4f1c34-a97e-4d84-9048-e7ad03d431f4",
   "metadata": {},
   "source": [
    "#### Average number of items in an order"
   ]
  },
  {
   "cell_type": "code",
   "execution_count": 15,
   "id": "b51df455-e4bc-41e0-9c4c-2fefc8f9ba84",
   "metadata": {},
   "outputs": [
    {
     "data": {
      "text/plain": [
       "2.711014176663032"
      ]
     },
     "execution_count": 15,
     "metadata": {},
     "output_type": "execute_result"
    }
   ],
   "source": [
    "order_quantity=data.groupby('order_id')['quantity'].sum()\n",
    "order_quantity_df=pd.DataFrame(order_quantity)\n",
    "order_quantity_df['quantity'].mean()"
   ]
  },
  {
   "cell_type": "markdown",
   "id": "77a1ca51-c8a5-451b-805d-24bbb0d29de7",
   "metadata": {},
   "source": [
    "#### Number of items sold"
   ]
  },
  {
   "cell_type": "code",
   "execution_count": 16,
   "id": "6820d838-49ff-4261-813e-8339b05f2f5a",
   "metadata": {},
   "outputs": [
    {
     "data": {
      "text/plain": [
       "50"
      ]
     },
     "execution_count": 16,
     "metadata": {},
     "output_type": "execute_result"
    }
   ],
   "source": [
    "data['item_name'].nunique()"
   ]
  },
  {
   "cell_type": "markdown",
   "id": "9af849e9-3fce-4832-ba8e-8d3ad079861c",
   "metadata": {},
   "source": [
    "#### Total revenue"
   ]
  },
  {
   "cell_type": "code",
   "execution_count": 31,
   "id": "f946137a-515f-4f3c-b9c7-faaf310a317b",
   "metadata": {},
   "outputs": [],
   "source": [
    "# adding revenue to data\n",
    "data[\"revenue\"]=data['quantity']*data['item_price']"
   ]
  },
  {
   "cell_type": "code",
   "execution_count": 32,
   "id": "bf557e20-c3e9-427b-82f1-b1e330f2f346",
   "metadata": {},
   "outputs": [
    {
     "data": {
      "text/plain": [
       "39237.02"
      ]
     },
     "execution_count": 32,
     "metadata": {},
     "output_type": "execute_result"
    }
   ],
   "source": [
    "data['revenue'].sum()"
   ]
  },
  {
   "cell_type": "markdown",
   "id": "5fad491d-06ed-47b4-8412-e6ff298a11af",
   "metadata": {},
   "source": [
    "#### Average revenue per order"
   ]
  },
  {
   "cell_type": "code",
   "execution_count": 18,
   "id": "f584f139-741f-4299-93ac-30b2af3d1bc7",
   "metadata": {},
   "outputs": [
    {
     "data": {
      "text/plain": [
       "21.39423118865867"
      ]
     },
     "execution_count": 18,
     "metadata": {},
     "output_type": "execute_result"
    }
   ],
   "source": [
    "order_group=data.groupby('order_id')['revenue'].sum()\n",
    "order_group.mean()"
   ]
  },
  {
   "cell_type": "markdown",
   "id": "90fb5a3c-c636-4b20-b1e4-11f094ef0721",
   "metadata": {},
   "source": [
    "#### Number of Soft drinks Orderd"
   ]
  },
  {
   "cell_type": "code",
   "execution_count": 19,
   "id": "4a548163-c482-4b3b-9870-5f7dddc32ba1",
   "metadata": {},
   "outputs": [
    {
     "data": {
      "text/plain": [
       "351"
      ]
     },
     "execution_count": 19,
     "metadata": {},
     "output_type": "execute_result"
    }
   ],
   "source": [
    "soft_drink=data.groupby('item_name')\n",
    "soft_drink_df=soft_drink.get_group('Canned Soft Drink')\n",
    "soft_drink_df['quantity'].sum()"
   ]
  },
  {
   "cell_type": "markdown",
   "id": "5003eeb5-89b1-4bc2-8d87-abaee0b58318",
   "metadata": {},
   "source": [
    "#### Soft drink preferance"
   ]
  },
  {
   "cell_type": "code",
   "execution_count": 20,
   "id": "ffa6169f-ac89-4434-9702-51cc841b1297",
   "metadata": {},
   "outputs": [
    {
     "data": {
      "text/plain": [
       "choice_description\n",
       "Coke         122\n",
       "Diet Coke    115\n",
       "Lemonade      34\n",
       "Nestea        18\n",
       "Sprite        62\n",
       "Name: quantity, dtype: int64"
      ]
     },
     "execution_count": 20,
     "metadata": {},
     "output_type": "execute_result"
    }
   ],
   "source": [
    "soft_drink_quant=soft_drink_df[['quantity','choice_description']]\n",
    "sf_orderd=soft_drink_quant.groupby('choice_description')['quantity'].sum()\n",
    "sf_orderd"
   ]
  },
  {
   "cell_type": "code",
   "execution_count": 21,
   "id": "3f92e6bf-78de-49c1-8293-05481b9d62c9",
   "metadata": {},
   "outputs": [
    {
     "data": {
      "text/plain": [
       "<Axes: ylabel='quantity'>"
      ]
     },
     "execution_count": 21,
     "metadata": {},
     "output_type": "execute_result"
    },
    {
     "data": {
      "image/png": "[encoded data removed]",
      "text/plain": [
       "<Figure size 640x480 with 1 Axes>"
      ]
     },
     "metadata": {},
     "output_type": "display_data"
    }
   ],
   "source": [
    "# visulasing using pie chart\n",
    "sf_orderd.plot(kind='pie')"
   ]
  },
  {
   "cell_type": "markdown",
   "id": "86900838-48fb-4fa9-8fec-cf6bb6665435",
   "metadata": {},
   "source": [
    "#### Salsa Type Preference of customers"
   ]
  },
  {
   "cell_type": "code",
   "execution_count": 22,
   "id": "00a6e91e-d79a-48de-a158-b706ffc0f8db",
   "metadata": {},
   "outputs": [],
   "source": [
    "# creating a dataframe with orders of salsa\n",
    "salsa = data.copy()"
   ]
  },
  {
   "cell_type": "code",
   "execution_count": 23,
   "id": "1d3b38eb-e5c1-46e7-a5b4-63ff52e742dc",
   "metadata": {},
   "outputs": [],
   "source": [
    "# editing data frame to have only type of salsa ordered\n",
    "salsa['choice_description']=data['choice_description'].apply(lambda x : x.split(',')[0])\n",
    "salsa=salsa[salsa['choice_description'].str.contains('Salsa')]"
   ]
  },
  {
   "cell_type": "code",
   "execution_count": 24,
   "id": "fe779c99-2d2b-4c33-ab96-62a2aeead813",
   "metadata": {},
   "outputs": [
    {
     "data": {
      "text/html": [
       "<div>\n",
       "<style scoped>\n",
       "    .dataframe tbody tr th:only-of-type {\n",
       "        vertical-align: middle;\n",
       "    }\n",
       "\n",
       "    .dataframe tbody tr th {\n",
       "        vertical-align: top;\n",
       "    }\n",
       "\n",
       "    .dataframe thead th {\n",
       "        text-align: right;\n",
       "    }\n",
       "</style>\n",
       "<table border=\"1\" class=\"dataframe\">\n",
       "  <thead>\n",
       "    <tr style=\"text-align: right;\">\n",
       "      <th></th>\n",
       "      <th>order_id</th>\n",
       "      <th>quantity</th>\n",
       "      <th>item_name</th>\n",
       "      <th>choice_description</th>\n",
       "      <th>item_price</th>\n",
       "      <th>revenue</th>\n",
       "    </tr>\n",
       "  </thead>\n",
       "  <tbody>\n",
       "    <tr>\n",
       "      <th>4</th>\n",
       "      <td>2</td>\n",
       "      <td>2</td>\n",
       "      <td>Chicken Bowl</td>\n",
       "      <td>Tomatillo-Red Chili Salsa (Hot)</td>\n",
       "      <td>16.98</td>\n",
       "      <td>33.96</td>\n",
       "    </tr>\n",
       "    <tr>\n",
       "      <th>5</th>\n",
       "      <td>3</td>\n",
       "      <td>1</td>\n",
       "      <td>Chicken Bowl</td>\n",
       "      <td>Fresh Tomato Salsa (Mild)</td>\n",
       "      <td>10.98</td>\n",
       "      <td>10.98</td>\n",
       "    </tr>\n",
       "    <tr>\n",
       "      <th>7</th>\n",
       "      <td>4</td>\n",
       "      <td>1</td>\n",
       "      <td>Steak Burrito</td>\n",
       "      <td>Tomatillo Red Chili Salsa</td>\n",
       "      <td>11.75</td>\n",
       "      <td>11.75</td>\n",
       "    </tr>\n",
       "    <tr>\n",
       "      <th>8</th>\n",
       "      <td>4</td>\n",
       "      <td>1</td>\n",
       "      <td>Steak Soft Tacos</td>\n",
       "      <td>Tomatillo Green Chili Salsa</td>\n",
       "      <td>9.25</td>\n",
       "      <td>9.25</td>\n",
       "    </tr>\n",
       "    <tr>\n",
       "      <th>9</th>\n",
       "      <td>5</td>\n",
       "      <td>1</td>\n",
       "      <td>Steak Burrito</td>\n",
       "      <td>Fresh Tomato Salsa</td>\n",
       "      <td>9.25</td>\n",
       "      <td>9.25</td>\n",
       "    </tr>\n",
       "  </tbody>\n",
       "</table>\n",
       "</div>"
      ],
      "text/plain": [
       "   order_id  quantity         item_name               choice_description  \\\n",
       "4         2         2      Chicken Bowl  Tomatillo-Red Chili Salsa (Hot)   \n",
       "5         3         1      Chicken Bowl        Fresh Tomato Salsa (Mild)   \n",
       "7         4         1     Steak Burrito        Tomatillo Red Chili Salsa   \n",
       "8         4         1  Steak Soft Tacos      Tomatillo Green Chili Salsa   \n",
       "9         5         1     Steak Burrito               Fresh Tomato Salsa   \n",
       "\n",
       "   item_price  revenue  \n",
       "4       16.98    33.96  \n",
       "5       10.98    10.98  \n",
       "7       11.75    11.75  \n",
       "8        9.25     9.25  \n",
       "9        9.25     9.25  "
      ]
     },
     "execution_count": 24,
     "metadata": {},
     "output_type": "execute_result"
    }
   ],
   "source": [
    "salsa.head()"
   ]
  },
  {
   "cell_type": "code",
   "execution_count": 25,
   "id": "846d51eb-e08e-4d76-a0f5-f9f4566b768d",
   "metadata": {},
   "outputs": [
    {
     "data": {
      "text/plain": [
       "choice_description\n",
       "Fresh Tomato Salsa                      1112\n",
       "Fresh Tomato Salsa (Mild)                334\n",
       "Roasted Chili Corn Salsa                 461\n",
       "Roasted Chili Corn Salsa (Medium)        184\n",
       "Tomatillo Green Chili Salsa              238\n",
       "Tomatillo Red Chili Salsa                340\n",
       "Tomatillo-Green Chili Salsa (Medium)      97\n",
       "Tomatillo-Red Chili Salsa (Hot)          166\n",
       "Name: quantity, dtype: int64"
      ]
     },
     "execution_count": 25,
     "metadata": {},
     "output_type": "execute_result"
    }
   ],
   "source": [
    "# finding quantity of each salsa\n",
    "salsa_quantity=salsa.groupby('choice_description')['quantity'].sum()\n",
    "salsa_quantity"
   ]
  },
  {
   "cell_type": "code",
   "execution_count": 26,
   "id": "8e16ae6b-630f-4c67-b75a-f8d73d352478",
   "metadata": {},
   "outputs": [
    {
     "data": {
      "text/plain": [
       "<Axes: ylabel='quantity'>"
      ]
     },
     "execution_count": 26,
     "metadata": {},
     "output_type": "execute_result"
    },
    {
     "data": {
      "image/png": "[encoded data removed]",
      "text/plain": [
       "<Figure size 640x480 with 1 Axes>"
      ]
     },
     "metadata": {},
     "output_type": "display_data"
    }
   ],
   "source": [
    "salsa_quantity.plot(kind=\"pie\")"
   ]
  },
  {
   "cell_type": "code",
   "execution_count": null,
   "id": "7dda9706-67b5-4349-a8a5-376dc2a563a0",
   "metadata": {},
   "outputs": [],
   "source": []
  }
 ],
 "metadata": {
  "kernelspec": {
   "display_name": "Python 3 (ipykernel)",
   "language": "python",
   "name": "python3"
  },
  "language_info": {
   "codemirror_mode": {
    "name": "ipython",
    "version": 3
   },
   "file_extension": ".py",
   "mimetype": "text/x-python",
   "name": "python",
   "nbconvert_exporter": "python",
   "pygments_lexer": "ipython3",
   "version": "3.11.7"
  }
 },
 "nbformat": 4,
 "nbformat_minor": 5
}
