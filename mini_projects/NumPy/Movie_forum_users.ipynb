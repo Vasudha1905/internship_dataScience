{
 "cells": [
  {
   "cell_type": "markdown",
   "id": "820e3b63-ef95-4f68-85d3-007c0d872ad6",
   "metadata": {},
   "source": [
    "### Data Cleaning"
   ]
  },
  {
   "cell_type": "code",
   "execution_count": null,
   "id": "f4fbf414-e7f7-45fc-ac98-64cf3c82fe14",
   "metadata": {},
   "outputs": [],
   "source": [
    "import numpy as np\n",
    "import pandas as pd"
   ]
  },
  {
   "cell_type": "code",
   "execution_count": null,
   "id": "b67e979a-b2f2-4454-9ea5-0e302c25b44f",
   "metadata": {},
   "outputs": [],
   "source": [
    "data=pd.read_csv('movieforums_user.txt',sep='\\t',encoding='latin1')"
   ]
  },
  {
   "cell_type": "code",
   "execution_count": null,
   "id": "60bc1069-9750-4e7b-ad80-6618b9d9c795",
   "metadata": {},
   "outputs": [],
   "source": [
    "data"
   ]
  },
  {
   "cell_type": "code",
   "execution_count": null,
   "id": "361cea4d-fb7c-4a7a-ab3a-8509d034fd5f",
   "metadata": {},
   "outputs": [],
   "source": [
    "data.info()"
   ]
  },
  {
   "cell_type": "markdown",
   "id": "fc73f00e-45d1-4209-9c00-101f616a55e4",
   "metadata": {},
   "source": [
    "#### deleting null values"
   ]
  },
  {
   "cell_type": "code",
   "execution_count": null,
   "id": "e607a38d-add0-4a3b-bc17-a332451d3f17",
   "metadata": {},
   "outputs": [],
   "source": [
    "data.isnull().sum()"
   ]
  },
  {
   "cell_type": "code",
   "execution_count": null,
   "id": "b456970b-ce04-4802-bd60-db20bff3a12f",
   "metadata": {},
   "outputs": [],
   "source": [
    "data.dropna(inplace=True)"
   ]
  },
  {
   "cell_type": "markdown",
   "id": "9e480979-6fd3-4400-90d6-661b4b9d387e",
   "metadata": {},
   "source": [
    "#### deleting user id column"
   ]
  },
  {
   "cell_type": "code",
   "execution_count": null,
   "id": "e3065f32-6fda-4690-95c7-6ea63c561fb3",
   "metadata": {},
   "outputs": [],
   "source": [
    "data=data.drop('userid',axis='columns')"
   ]
  },
  {
   "cell_type": "code",
   "execution_count": null,
   "id": "7c044d35-e008-4518-b8d7-249e87c15b7b",
   "metadata": {},
   "outputs": [],
   "source": [
    "data"
   ]
  },
  {
   "cell_type": "markdown",
   "id": "72bf8f30-aed1-41fc-b3d2-d7b4b6999372",
   "metadata": {},
   "source": [
    "#### check for duplicates"
   ]
  },
  {
   "cell_type": "code",
   "execution_count": null,
   "id": "29b45014-a726-4709-937c-234cbe00e895",
   "metadata": {},
   "outputs": [],
   "source": [
    "data.duplicated()"
   ]
  },
  {
   "cell_type": "markdown",
   "id": "d9b2d7c8-000c-416c-84ca-9e1caaa9b841",
   "metadata": {},
   "source": [
    "#### formatting the passwords"
   ]
  },
  {
   "cell_type": "code",
   "execution_count": null,
   "id": "139b0cbf-7edd-4482-8e87-716b31bcdb29",
   "metadata": {},
   "outputs": [],
   "source": [
    "# renaming the column\n",
    "data.rename(columns={\"CONCAT(password, ':', salt)\": 'password'}, inplace=True)"
   ]
  },
  {
   "cell_type": "code",
   "execution_count": null,
   "id": "dfeee917-ac7d-484f-b859-92db3095866a",
   "metadata": {},
   "outputs": [],
   "source": [
    "data['password']=data['password'].apply(lambda x : x.split(':')[0])"
   ]
  },
  {
   "cell_type": "code",
   "execution_count": null,
   "id": "695d855d-eb56-407c-80e1-dbb2c3f6d837",
   "metadata": {},
   "outputs": [],
   "source": [
    "data"
   ]
  },
  {
   "cell_type": "code",
   "execution_count": null,
   "id": "3e3c4345-0ff8-4e8e-a9b3-81f912b4b389",
   "metadata": {},
   "outputs": [],
   "source": [
    "data['password'].duplicated()"
   ]
  },
  {
   "cell_type": "code",
   "execution_count": null,
   "id": "d7db6356-4f26-46e9-b197-0629f386e87f",
   "metadata": {},
   "outputs": [],
   "source": []
  }
 ],
 "metadata": {
  "kernelspec": {
   "display_name": "Python 3 (ipykernel)",
   "language": "python",
   "name": "python3"
  },
  "language_info": {
   "codemirror_mode": {
    "name": "ipython",
    "version": 3
   },
   "file_extension": ".py",
   "mimetype": "text/x-python",
   "name": "python",
   "nbconvert_exporter": "python",
   "pygments_lexer": "ipython3",
   "version": "3.9.12"
  }
 },
 "nbformat": 4,
 "nbformat_minor": 5
}
