{
 "cells": [
  {
   "cell_type": "markdown",
   "id": "1e6d2d7d-b850-49ef-b49e-4cced54556b3",
   "metadata": {},
   "source": [
    "## Pandas Mini Project"
   ]
  },
  {
   "cell_type": "markdown",
   "id": "3204d59d-a50e-4329-acda-0350fd2116f7",
   "metadata": {},
   "source": [
    "* This data contains the names, job title, and compensation for San Francisco city employees on an annual basis from 2011 to 2014."
   ]
  },
  {
   "cell_type": "code",
   "execution_count": null,
   "id": "6b61cee4-350a-4316-be81-e1bc3dcedd94",
   "metadata": {},
   "outputs": [],
   "source": [
    "import numpy as np\n",
    "import pandas as pd\n",
    "import matplotlib.pyplot as plt\n",
    "import seaborn as sns"
   ]
  },
  {
   "cell_type": "code",
   "execution_count": null,
   "id": "0cbb4d5e-f62c-428b-88e7-87f03de28cce",
   "metadata": {},
   "outputs": [],
   "source": [
    "# loading the dataset\n",
    "data=pd.read_csv('Salaries.csv',low_memory=False)"
   ]
  },
  {
   "cell_type": "code",
   "execution_count": null,
   "id": "c061d8a7-91a2-499f-94c4-3cc3c76c94dc",
   "metadata": {},
   "outputs": [],
   "source": [
    "# viewing the first 10 rows\n",
    "data.head()"
   ]
  },
  {
   "cell_type": "code",
   "execution_count": null,
   "id": "03bdd739-1ac0-49e8-890c-335a0e4b0c3b",
   "metadata": {},
   "outputs": [],
   "source": [
    "# viewing last 10 rows\n",
    "data.tail()"
   ]
  },
  {
   "cell_type": "code",
   "execution_count": null,
   "id": "dfa4d889-7afd-400d-bf4b-900dc1a88fbb",
   "metadata": {},
   "outputs": [],
   "source": [
    "# getting information\n",
    "data.info()"
   ]
  },
  {
   "cell_type": "code",
   "execution_count": null,
   "id": "e6c0bc03-7d0d-42b0-9906-f4e81adf1efa",
   "metadata": {},
   "outputs": [],
   "source": [
    "# shape of data\n",
    "data.shape"
   ]
  },
  {
   "cell_type": "code",
   "execution_count": null,
   "id": "903b5664-8115-4d25-9cec-7b139eda15d2",
   "metadata": {},
   "outputs": [],
   "source": [
    "# calculating the null values\n",
    "data.isnull().sum()"
   ]
  },
  {
   "cell_type": "code",
   "execution_count": null,
   "id": "563b7f90-28d2-41c6-9ae0-5b77e476a5f8",
   "metadata": {},
   "outputs": [],
   "source": [
    "# since benifit,status and notes have a significant number of null values we delete these columns\n",
    "data=data.drop(['Notes','Status','Benefits'],axis=1)"
   ]
  },
  {
   "cell_type": "code",
   "execution_count": null,
   "id": "d8dd93d6-7a27-4938-b58d-c2ad79d3cb43",
   "metadata": {},
   "outputs": [],
   "source": [
    "# checking unique values in Agency column\n",
    "data.Agency.nunique()"
   ]
  },
  {
   "cell_type": "code",
   "execution_count": null,
   "id": "efe0c57c-8d0a-43f7-94df-0ca126c83247",
   "metadata": {},
   "outputs": [],
   "source": [
    "# since Agency column has same entry for all we delete the column as we know the data is about sanfransisco employess\n",
    "data=data.drop(['Agency'],axis=1)"
   ]
  },
  {
   "cell_type": "code",
   "execution_count": null,
   "id": "bfabf137-45d6-45d9-83d5-7ba3864e01bd",
   "metadata": {},
   "outputs": [],
   "source": [
    "data.head()"
   ]
  },
  {
   "cell_type": "code",
   "execution_count": null,
   "id": "a8e931df-bca6-4136-b084-d5d444fd53a4",
   "metadata": {},
   "outputs": [],
   "source": [
    "data.set_index('Id',inplace=True)"
   ]
  },
  {
   "cell_type": "code",
   "execution_count": null,
   "id": "83f57165-9ab9-4f8d-8d73-93d4347e78fe",
   "metadata": {},
   "outputs": [],
   "source": [
    "# checking for duplicates\n",
    "data.duplicated()"
   ]
  },
  {
   "cell_type": "code",
   "execution_count": null,
   "id": "f1302e75-a6a8-4201-9e61-79b66a7cdddc",
   "metadata": {},
   "outputs": [],
   "source": [
    "# removing duplicates\n",
    "data.drop_duplicates('EmployeeName',inplace=True)"
   ]
  },
  {
   "cell_type": "code",
   "execution_count": null,
   "id": "c8831e37-1d6d-4c8d-8b27-e1cadb890b22",
   "metadata": {},
   "outputs": [],
   "source": [
    "# converting all string entries to title case\n",
    "data['EmployeeName']=data['EmployeeName'].str.title()\n",
    "data['JobTitle']=data['JobTitle'].str.title()"
   ]
  },
  {
   "cell_type": "code",
   "execution_count": null,
   "id": "dc7f01d8-248b-437d-858a-e350f81fde5a",
   "metadata": {},
   "outputs": [],
   "source": [
    "data.describe()"
   ]
  },
  {
   "cell_type": "code",
   "execution_count": null,
   "id": "e8077ed7-f16e-4a9b-8885-fdc1e9268608",
   "metadata": {},
   "outputs": [],
   "source": [
    "# since base pay overtime and other pay are not coming in the describe table we need to convert them to numeric format\n",
    "# ran pd.to_numeric(data['BasePay']) which showed string at poisition 110809"
   ]
  },
  {
   "cell_type": "code",
   "execution_count": null,
   "id": "a69ba2bd-a183-4fd9-af66-b57ba04156ff",
   "metadata": {},
   "outputs": [],
   "source": [
    "# fixing error\n",
    "data.iloc[110809]"
   ]
  },
  {
   "cell_type": "code",
   "execution_count": null,
   "id": "381de5ef-dad8-4f71-b052-20f2797bdb80",
   "metadata": {},
   "outputs": [],
   "source": [
    "# deleting the row as information is not provided\n",
    "data.drop(data.index[110809],axis=0, inplace= True)"
   ]
  },
  {
   "cell_type": "code",
   "execution_count": null,
   "id": "23eb0f08-d7ca-4468-8f39-6a739edc3a63",
   "metadata": {},
   "outputs": [],
   "source": [
    "# converting to numeric\n",
    "data['BasePay']= pd.to_numeric(data['BasePay'])\n",
    "data['OvertimePay']=pd.to_numeric(data['OvertimePay'])\n",
    "data['OtherPay']=pd.to_numeric(data['OtherPay'])"
   ]
  },
  {
   "cell_type": "code",
   "execution_count": null,
   "id": "34d0aff3-e735-4871-90ed-977f632732fe",
   "metadata": {},
   "outputs": [],
   "source": [
    "# statistical summary\n",
    "data.describe()"
   ]
  },
  {
   "cell_type": "code",
   "execution_count": null,
   "id": "cf9fe74d-3d17-4e2f-99c5-b30297aedb4b",
   "metadata": {},
   "outputs": [],
   "source": [
    "# average base pay by year\n",
    "year_group=data.groupby('Year')\n",
    "u=pd.DataFrame(year_group['BasePay'].mean())\n",
    "u"
   ]
  },
  {
   "cell_type": "code",
   "execution_count": null,
   "id": "2c7518ca-7538-4b41-9928-4e3b4ede2c84",
   "metadata": {},
   "outputs": [],
   "source": [
    "# plotting\n",
    "u.plot(kind='bar')"
   ]
  },
  {
   "cell_type": "code",
   "execution_count": null,
   "id": "d9bab0aa-6fa2-4cbc-b9e4-fdf78bfba71b",
   "metadata": {},
   "outputs": [],
   "source": [
    "# average base pay as per job title\n",
    "round(data.groupby('JobTitle')['BasePay'].mean(),2)"
   ]
  },
  {
   "cell_type": "code",
   "execution_count": null,
   "id": "c26c3c55-eb83-40fd-94be-492d50ffe44d",
   "metadata": {},
   "outputs": [],
   "source": [
    "# complete infromation about person with highest Total pay\n",
    "data.iloc[data['TotalPay'].idxmax()]"
   ]
  },
  {
   "cell_type": "code",
   "execution_count": null,
   "id": "67d47940-9c55-4a61-9c78-0e0f70a59906",
   "metadata": {},
   "outputs": [],
   "source": [
    "# no. of job titles\n",
    "data['JobTitle'].nunique()"
   ]
  },
  {
   "cell_type": "code",
   "execution_count": null,
   "id": "78f4f937-43a9-4a30-91c8-6c8d9149a18d",
   "metadata": {},
   "outputs": [],
   "source": [
    "# top5 most common jobs\n",
    "data['JobTitle'].value_counts().head(5)"
   ]
  },
  {
   "cell_type": "code",
   "execution_count": null,
   "id": "6175d273-093b-422d-9d89-7176d10a1ab1",
   "metadata": {},
   "outputs": [],
   "source": [
    "# which job title has highest overtime pay\n",
    "data[data['OvertimePay'] == data['OvertimePay'].max()]['JobTitle']"
   ]
  },
  {
   "cell_type": "code",
   "execution_count": null,
   "id": "020799e9-7529-468e-8aac-c68bf8f983af",
   "metadata": {},
   "outputs": [],
   "source": [
    "# Number of employees per year\n",
    "num_employee=data.groupby('Year')\n",
    "num_employ_per_year=pd.DataFrame(num_employee.nunique()['EmployeeName'])\n",
    "num_employ_per_year"
   ]
  },
  {
   "cell_type": "code",
   "execution_count": null,
   "id": "b955518e-4df5-4fcc-a1b1-2ae8ea750797",
   "metadata": {},
   "outputs": [],
   "source": [
    "# visualisation\n",
    "num_employ_per_year.plot(kind='bar')"
   ]
  },
  {
   "cell_type": "code",
   "execution_count": null,
   "id": "93048d23-2444-4b37-8ff5-5bf4382111b4",
   "metadata": {},
   "outputs": [],
   "source": [
    "# histogram that shows distribution of total pay\n",
    "sns.histplot(data['TotalPay'])"
   ]
  },
  {
   "cell_type": "code",
   "execution_count": null,
   "id": "9893a6f0-054e-4fc8-871e-c7ea30c38289",
   "metadata": {},
   "outputs": [],
   "source": [
    "# list of people working in Police department\n",
    "police_employees=data[data['JobTitle'].str.contains('Police')]\n",
    "police_employees"
   ]
  },
  {
   "cell_type": "code",
   "execution_count": null,
   "id": "61a1cf26-17c9-4e21-ab4b-a7fa46c15d9b",
   "metadata": {},
   "outputs": [],
   "source": []
  }
 ],
 "metadata": {
  "kernelspec": {
   "display_name": "Python 3 (ipykernel)",
   "language": "python",
   "name": "python3"
  },
  "language_info": {
   "codemirror_mode": {
    "name": "ipython",
    "version": 3
   },
   "file_extension": ".py",
   "mimetype": "text/x-python",
   "name": "python",
   "nbconvert_exporter": "python",
   "pygments_lexer": "ipython3",
   "version": "3.9.12"
  }
 },
 "nbformat": 4,
 "nbformat_minor": 5
}
