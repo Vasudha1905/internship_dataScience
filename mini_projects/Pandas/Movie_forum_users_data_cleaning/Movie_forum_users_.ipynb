{
 "cells": [
  {
   "cell_type": "markdown",
   "id": "820e3b63-ef95-4f68-85d3-007c0d872ad6",
   "metadata": {},
   "source": [
    "### Data Cleaning"
   ]
  },
  {
   "cell_type": "code",
   "execution_count": 1,
   "id": "f4fbf414-e7f7-45fc-ac98-64cf3c82fe14",
   "metadata": {},
   "outputs": [],
   "source": [
    "import numpy as np\n",
    "import pandas as pd"
   ]
  },
  {
   "cell_type": "code",
   "execution_count": 2,
   "id": "b67e979a-b2f2-4454-9ea5-0e302c25b44f",
   "metadata": {},
   "outputs": [],
   "source": [
    "data=pd.read_csv('movieforums_user.txt',sep='\\t',encoding='latin1')"
   ]
  },
  {
   "cell_type": "code",
   "execution_count": 3,
   "id": "60bc1069-9750-4e7b-ad80-6618b9d9c795",
   "metadata": {},
   "outputs": [
    {
     "data": {
      "text/html": [
       "<div>\n",
       "<style scoped>\n",
       "    .dataframe tbody tr th:only-of-type {\n",
       "        vertical-align: middle;\n",
       "    }\n",
       "\n",
       "    .dataframe tbody tr th {\n",
       "        vertical-align: top;\n",
       "    }\n",
       "\n",
       "    .dataframe thead th {\n",
       "        text-align: right;\n",
       "    }\n",
       "</style>\n",
       "<table border=\"1\" class=\"dataframe\">\n",
       "  <thead>\n",
       "    <tr style=\"text-align: right;\">\n",
       "      <th></th>\n",
       "      <th>userid</th>\n",
       "      <th>username</th>\n",
       "      <th>email</th>\n",
       "      <th>ipaddress</th>\n",
       "      <th>CONCAT(password, ':', salt)</th>\n",
       "    </tr>\n",
       "  </thead>\n",
       "  <tbody>\n",
       "    <tr>\n",
       "      <th>0</th>\n",
       "      <td>1</td>\n",
       "      <td>Yoda</td>\n",
       "      <td>christopherabowyer@gmail.com</td>\n",
       "      <td>NaN</td>\n",
       "      <td>6857f2616606175220264035a294a70f:Ì</td>\n",
       "    </tr>\n",
       "    <tr>\n",
       "      <th>1</th>\n",
       "      <td>2</td>\n",
       "      <td>wsresource</td>\n",
       "      <td>devstormsite@hotmail.com</td>\n",
       "      <td>4.54.82.193</td>\n",
       "      <td>700ecc6e40681d240dbf0e24924b9029:ï{'</td>\n",
       "    </tr>\n",
       "    <tr>\n",
       "      <th>2</th>\n",
       "      <td>3</td>\n",
       "      <td>James</td>\n",
       "      <td>james.ussher-smith@breathemail.net</td>\n",
       "      <td>213.1.37.153</td>\n",
       "      <td>ec7e9cd0388055fa251314e0fc11bb15:àá</td>\n",
       "    </tr>\n",
       "    <tr>\n",
       "      <th>3</th>\n",
       "      <td>5</td>\n",
       "      <td>Gem</td>\n",
       "      <td>gary@sifox.com</td>\n",
       "      <td>194.145.134.170</td>\n",
       "      <td>f1e15abac4e7b5107d649b1ea1c6f838:Þ\u0016L</td>\n",
       "    </tr>\n",
       "    <tr>\n",
       "      <th>4</th>\n",
       "      <td>6</td>\n",
       "      <td>BobM</td>\n",
       "      <td>movie_fever-owner@egroups.com</td>\n",
       "      <td>208.32.92.133</td>\n",
       "      <td>1bbe5064a454c707fb9a69e8248b8661:0\u0019Ä</td>\n",
       "    </tr>\n",
       "    <tr>\n",
       "      <th>...</th>\n",
       "      <td>...</td>\n",
       "      <td>...</td>\n",
       "      <td>...</td>\n",
       "      <td>...</td>\n",
       "      <td>...</td>\n",
       "    </tr>\n",
       "    <tr>\n",
       "      <th>10960</th>\n",
       "      <td>73021</td>\n",
       "      <td>fraanders</td>\n",
       "      <td>gittekeller@gmail.com</td>\n",
       "      <td>93.167.235.75</td>\n",
       "      <td>15b0f2b0f88c145eaa359c525d5b20dc:lsg</td>\n",
       "    </tr>\n",
       "    <tr>\n",
       "      <th>10961</th>\n",
       "      <td>73024</td>\n",
       "      <td>DmitRU</td>\n",
       "      <td>dmitru@inbox.lv</td>\n",
       "      <td>83.241.8.14</td>\n",
       "      <td>3e7135c8a956352893747120c29a8214:?EZ</td>\n",
       "    </tr>\n",
       "    <tr>\n",
       "      <th>10962</th>\n",
       "      <td>73039</td>\n",
       "      <td>Narine</td>\n",
       "      <td>narinegishyan@yahoo.com</td>\n",
       "      <td>212.34.250.228</td>\n",
       "      <td>c3a14dd4d5ddd61159025562776a613e:mUv</td>\n",
       "    </tr>\n",
       "    <tr>\n",
       "      <th>10963</th>\n",
       "      <td>73040</td>\n",
       "      <td>gwyn60</td>\n",
       "      <td>gwyn.white60@gmail.com</td>\n",
       "      <td>193.62.42.147</td>\n",
       "      <td>6ee64aa416ef0632aff878f478726629:\"!]</td>\n",
       "    </tr>\n",
       "    <tr>\n",
       "      <th>10964</th>\n",
       "      <td>73041</td>\n",
       "      <td>horrorwalker</td>\n",
       "      <td>walkerf5e@gmail.com</td>\n",
       "      <td>160.94.47.16</td>\n",
       "      <td>b05232a458e6b76a01f3094aad84e94c:g@c</td>\n",
       "    </tr>\n",
       "  </tbody>\n",
       "</table>\n",
       "<p>10965 rows × 5 columns</p>\n",
       "</div>"
      ],
      "text/plain": [
       "      userid      username                               email  \\\n",
       "0          1          Yoda        christopherabowyer@gmail.com   \n",
       "1          2    wsresource            devstormsite@hotmail.com   \n",
       "2          3         James  james.ussher-smith@breathemail.net   \n",
       "3          5           Gem                      gary@sifox.com   \n",
       "4          6          BobM       movie_fever-owner@egroups.com   \n",
       "...      ...           ...                                 ...   \n",
       "10960  73021     fraanders               gittekeller@gmail.com   \n",
       "10961  73024        DmitRU                     dmitru@inbox.lv   \n",
       "10962  73039        Narine             narinegishyan@yahoo.com   \n",
       "10963  73040        gwyn60              gwyn.white60@gmail.com   \n",
       "10964  73041  horrorwalker                 walkerf5e@gmail.com   \n",
       "\n",
       "             ipaddress           CONCAT(password, ':', salt)  \n",
       "0                  NaN   6857f2616606175220264035a294a70f:Ì  \n",
       "1          4.54.82.193  700ecc6e40681d240dbf0e24924b9029:ï{'  \n",
       "2         213.1.37.153  ec7e9cd0388055fa251314e0fc11bb15:àá  \n",
       "3      194.145.134.170  f1e15abac4e7b5107d649b1ea1c6f838:Þ\u0016L  \n",
       "4        208.32.92.133  1bbe5064a454c707fb9a69e8248b8661:0\u0019Ä  \n",
       "...                ...                                   ...  \n",
       "10960    93.167.235.75  15b0f2b0f88c145eaa359c525d5b20dc:lsg  \n",
       "10961      83.241.8.14  3e7135c8a956352893747120c29a8214:?EZ  \n",
       "10962   212.34.250.228  c3a14dd4d5ddd61159025562776a613e:mUv  \n",
       "10963    193.62.42.147  6ee64aa416ef0632aff878f478726629:\"!]  \n",
       "10964     160.94.47.16  b05232a458e6b76a01f3094aad84e94c:g@c  \n",
       "\n",
       "[10965 rows x 5 columns]"
      ]
     },
     "execution_count": 3,
     "metadata": {},
     "output_type": "execute_result"
    }
   ],
   "source": [
    "data"
   ]
  },
  {
   "cell_type": "code",
   "execution_count": 4,
   "id": "361cea4d-fb7c-4a7a-ab3a-8509d034fd5f",
   "metadata": {},
   "outputs": [
    {
     "name": "stdout",
     "output_type": "stream",
     "text": [
      "<class 'pandas.core.frame.DataFrame'>\n",
      "RangeIndex: 10965 entries, 0 to 10964\n",
      "Data columns (total 5 columns):\n",
      " #   Column                       Non-Null Count  Dtype \n",
      "---  ------                       --------------  ----- \n",
      " 0   userid                       10965 non-null  object\n",
      " 1   username                     10931 non-null  object\n",
      " 2   email                        10930 non-null  object\n",
      " 3   ipaddress                    10920 non-null  object\n",
      " 4   CONCAT(password, ':', salt)  10931 non-null  object\n",
      "dtypes: object(5)\n",
      "memory usage: 428.4+ KB\n"
     ]
    }
   ],
   "source": [
    "data.info()"
   ]
  },
  {
   "cell_type": "markdown",
   "id": "fc73f00e-45d1-4209-9c00-101f616a55e4",
   "metadata": {},
   "source": [
    "#### deleting null values"
   ]
  },
  {
   "cell_type": "code",
   "execution_count": 5,
   "id": "e607a38d-add0-4a3b-bc17-a332451d3f17",
   "metadata": {},
   "outputs": [
    {
     "data": {
      "text/plain": [
       "userid                          0\n",
       "username                       34\n",
       "email                          35\n",
       "ipaddress                      45\n",
       "CONCAT(password, ':', salt)    34\n",
       "dtype: int64"
      ]
     },
     "execution_count": 5,
     "metadata": {},
     "output_type": "execute_result"
    }
   ],
   "source": [
    "data.isnull().sum()"
   ]
  },
  {
   "cell_type": "code",
   "execution_count": 6,
   "id": "b456970b-ce04-4802-bd60-db20bff3a12f",
   "metadata": {},
   "outputs": [],
   "source": [
    "data.dropna(inplace=True)"
   ]
  },
  {
   "cell_type": "markdown",
   "id": "9e480979-6fd3-4400-90d6-661b4b9d387e",
   "metadata": {},
   "source": [
    "#### deleting user id column"
   ]
  },
  {
   "cell_type": "code",
   "execution_count": 7,
   "id": "e3065f32-6fda-4690-95c7-6ea63c561fb3",
   "metadata": {},
   "outputs": [],
   "source": [
    "data=data.drop('userid',axis='columns')"
   ]
  },
  {
   "cell_type": "code",
   "execution_count": 8,
   "id": "7c044d35-e008-4518-b8d7-249e87c15b7b",
   "metadata": {},
   "outputs": [
    {
     "data": {
      "text/html": [
       "<div>\n",
       "<style scoped>\n",
       "    .dataframe tbody tr th:only-of-type {\n",
       "        vertical-align: middle;\n",
       "    }\n",
       "\n",
       "    .dataframe tbody tr th {\n",
       "        vertical-align: top;\n",
       "    }\n",
       "\n",
       "    .dataframe thead th {\n",
       "        text-align: right;\n",
       "    }\n",
       "</style>\n",
       "<table border=\"1\" class=\"dataframe\">\n",
       "  <thead>\n",
       "    <tr style=\"text-align: right;\">\n",
       "      <th></th>\n",
       "      <th>username</th>\n",
       "      <th>email</th>\n",
       "      <th>ipaddress</th>\n",
       "      <th>CONCAT(password, ':', salt)</th>\n",
       "    </tr>\n",
       "  </thead>\n",
       "  <tbody>\n",
       "    <tr>\n",
       "      <th>1</th>\n",
       "      <td>wsresource</td>\n",
       "      <td>devstormsite@hotmail.com</td>\n",
       "      <td>4.54.82.193</td>\n",
       "      <td>700ecc6e40681d240dbf0e24924b9029:ï{'</td>\n",
       "    </tr>\n",
       "    <tr>\n",
       "      <th>2</th>\n",
       "      <td>James</td>\n",
       "      <td>james.ussher-smith@breathemail.net</td>\n",
       "      <td>213.1.37.153</td>\n",
       "      <td>ec7e9cd0388055fa251314e0fc11bb15:àá</td>\n",
       "    </tr>\n",
       "    <tr>\n",
       "      <th>3</th>\n",
       "      <td>Gem</td>\n",
       "      <td>gary@sifox.com</td>\n",
       "      <td>194.145.134.170</td>\n",
       "      <td>f1e15abac4e7b5107d649b1ea1c6f838:Þ\u0016L</td>\n",
       "    </tr>\n",
       "    <tr>\n",
       "      <th>4</th>\n",
       "      <td>BobM</td>\n",
       "      <td>movie_fever-owner@egroups.com</td>\n",
       "      <td>208.32.92.133</td>\n",
       "      <td>1bbe5064a454c707fb9a69e8248b8661:0\u0019Ä</td>\n",
       "    </tr>\n",
       "    <tr>\n",
       "      <th>5</th>\n",
       "      <td>qslack</td>\n",
       "      <td>qslack@aboutpcs.com</td>\n",
       "      <td>207.208.119.170</td>\n",
       "      <td>56e352a88eda93137cf01d15fbf41aa7:Câq</td>\n",
       "    </tr>\n",
       "    <tr>\n",
       "      <th>...</th>\n",
       "      <td>...</td>\n",
       "      <td>...</td>\n",
       "      <td>...</td>\n",
       "      <td>...</td>\n",
       "    </tr>\n",
       "    <tr>\n",
       "      <th>10960</th>\n",
       "      <td>fraanders</td>\n",
       "      <td>gittekeller@gmail.com</td>\n",
       "      <td>93.167.235.75</td>\n",
       "      <td>15b0f2b0f88c145eaa359c525d5b20dc:lsg</td>\n",
       "    </tr>\n",
       "    <tr>\n",
       "      <th>10961</th>\n",
       "      <td>DmitRU</td>\n",
       "      <td>dmitru@inbox.lv</td>\n",
       "      <td>83.241.8.14</td>\n",
       "      <td>3e7135c8a956352893747120c29a8214:?EZ</td>\n",
       "    </tr>\n",
       "    <tr>\n",
       "      <th>10962</th>\n",
       "      <td>Narine</td>\n",
       "      <td>narinegishyan@yahoo.com</td>\n",
       "      <td>212.34.250.228</td>\n",
       "      <td>c3a14dd4d5ddd61159025562776a613e:mUv</td>\n",
       "    </tr>\n",
       "    <tr>\n",
       "      <th>10963</th>\n",
       "      <td>gwyn60</td>\n",
       "      <td>gwyn.white60@gmail.com</td>\n",
       "      <td>193.62.42.147</td>\n",
       "      <td>6ee64aa416ef0632aff878f478726629:\"!]</td>\n",
       "    </tr>\n",
       "    <tr>\n",
       "      <th>10964</th>\n",
       "      <td>horrorwalker</td>\n",
       "      <td>walkerf5e@gmail.com</td>\n",
       "      <td>160.94.47.16</td>\n",
       "      <td>b05232a458e6b76a01f3094aad84e94c:g@c</td>\n",
       "    </tr>\n",
       "  </tbody>\n",
       "</table>\n",
       "<p>10919 rows × 4 columns</p>\n",
       "</div>"
      ],
      "text/plain": [
       "           username                               email        ipaddress  \\\n",
       "1        wsresource            devstormsite@hotmail.com      4.54.82.193   \n",
       "2             James  james.ussher-smith@breathemail.net     213.1.37.153   \n",
       "3               Gem                      gary@sifox.com  194.145.134.170   \n",
       "4              BobM       movie_fever-owner@egroups.com    208.32.92.133   \n",
       "5            qslack                 qslack@aboutpcs.com  207.208.119.170   \n",
       "...             ...                                 ...              ...   \n",
       "10960     fraanders               gittekeller@gmail.com    93.167.235.75   \n",
       "10961        DmitRU                     dmitru@inbox.lv      83.241.8.14   \n",
       "10962        Narine             narinegishyan@yahoo.com   212.34.250.228   \n",
       "10963        gwyn60              gwyn.white60@gmail.com    193.62.42.147   \n",
       "10964  horrorwalker                 walkerf5e@gmail.com     160.94.47.16   \n",
       "\n",
       "                CONCAT(password, ':', salt)  \n",
       "1      700ecc6e40681d240dbf0e24924b9029:ï{'  \n",
       "2      ec7e9cd0388055fa251314e0fc11bb15:àá  \n",
       "3      f1e15abac4e7b5107d649b1ea1c6f838:Þ\u0016L  \n",
       "4      1bbe5064a454c707fb9a69e8248b8661:0\u0019Ä  \n",
       "5      56e352a88eda93137cf01d15fbf41aa7:Câq  \n",
       "...                                     ...  \n",
       "10960  15b0f2b0f88c145eaa359c525d5b20dc:lsg  \n",
       "10961  3e7135c8a956352893747120c29a8214:?EZ  \n",
       "10962  c3a14dd4d5ddd61159025562776a613e:mUv  \n",
       "10963  6ee64aa416ef0632aff878f478726629:\"!]  \n",
       "10964  b05232a458e6b76a01f3094aad84e94c:g@c  \n",
       "\n",
       "[10919 rows x 4 columns]"
      ]
     },
     "execution_count": 8,
     "metadata": {},
     "output_type": "execute_result"
    }
   ],
   "source": [
    "data"
   ]
  },
  {
   "cell_type": "markdown",
   "id": "72bf8f30-aed1-41fc-b3d2-d7b4b6999372",
   "metadata": {},
   "source": [
    "#### check for duplicates"
   ]
  },
  {
   "cell_type": "code",
   "execution_count": 15,
   "id": "29b45014-a726-4709-937c-234cbe00e895",
   "metadata": {},
   "outputs": [
    {
     "data": {
      "text/plain": [
       "0"
      ]
     },
     "execution_count": 15,
     "metadata": {},
     "output_type": "execute_result"
    }
   ],
   "source": [
    "data.duplicated().sum()"
   ]
  },
  {
   "cell_type": "markdown",
   "id": "d9b2d7c8-000c-416c-84ca-9e1caaa9b841",
   "metadata": {},
   "source": [
    "#### formatting the passwords"
   ]
  },
  {
   "cell_type": "code",
   "execution_count": 10,
   "id": "139b0cbf-7edd-4482-8e87-716b31bcdb29",
   "metadata": {},
   "outputs": [],
   "source": [
    "# renaming the column\n",
    "data.rename(columns={\"CONCAT(password, ':', salt)\": 'password'}, inplace=True)"
   ]
  },
  {
   "cell_type": "code",
   "execution_count": 11,
   "id": "dfeee917-ac7d-484f-b859-92db3095866a",
   "metadata": {},
   "outputs": [],
   "source": [
    "data['password']=data['password'].apply(lambda x : x.split(':')[0])"
   ]
  },
  {
   "cell_type": "code",
   "execution_count": 12,
   "id": "695d855d-eb56-407c-80e1-dbb2c3f6d837",
   "metadata": {},
   "outputs": [
    {
     "data": {
      "text/html": [
       "<div>\n",
       "<style scoped>\n",
       "    .dataframe tbody tr th:only-of-type {\n",
       "        vertical-align: middle;\n",
       "    }\n",
       "\n",
       "    .dataframe tbody tr th {\n",
       "        vertical-align: top;\n",
       "    }\n",
       "\n",
       "    .dataframe thead th {\n",
       "        text-align: right;\n",
       "    }\n",
       "</style>\n",
       "<table border=\"1\" class=\"dataframe\">\n",
       "  <thead>\n",
       "    <tr style=\"text-align: right;\">\n",
       "      <th></th>\n",
       "      <th>username</th>\n",
       "      <th>email</th>\n",
       "      <th>ipaddress</th>\n",
       "      <th>password</th>\n",
       "    </tr>\n",
       "  </thead>\n",
       "  <tbody>\n",
       "    <tr>\n",
       "      <th>1</th>\n",
       "      <td>wsresource</td>\n",
       "      <td>devstormsite@hotmail.com</td>\n",
       "      <td>4.54.82.193</td>\n",
       "      <td>700ecc6e40681d240dbf0e24924b9029</td>\n",
       "    </tr>\n",
       "    <tr>\n",
       "      <th>2</th>\n",
       "      <td>James</td>\n",
       "      <td>james.ussher-smith@breathemail.net</td>\n",
       "      <td>213.1.37.153</td>\n",
       "      <td>ec7e9cd0388055fa251314e0fc11bb15</td>\n",
       "    </tr>\n",
       "    <tr>\n",
       "      <th>3</th>\n",
       "      <td>Gem</td>\n",
       "      <td>gary@sifox.com</td>\n",
       "      <td>194.145.134.170</td>\n",
       "      <td>f1e15abac4e7b5107d649b1ea1c6f838</td>\n",
       "    </tr>\n",
       "    <tr>\n",
       "      <th>4</th>\n",
       "      <td>BobM</td>\n",
       "      <td>movie_fever-owner@egroups.com</td>\n",
       "      <td>208.32.92.133</td>\n",
       "      <td>1bbe5064a454c707fb9a69e8248b8661</td>\n",
       "    </tr>\n",
       "    <tr>\n",
       "      <th>5</th>\n",
       "      <td>qslack</td>\n",
       "      <td>qslack@aboutpcs.com</td>\n",
       "      <td>207.208.119.170</td>\n",
       "      <td>56e352a88eda93137cf01d15fbf41aa7</td>\n",
       "    </tr>\n",
       "    <tr>\n",
       "      <th>...</th>\n",
       "      <td>...</td>\n",
       "      <td>...</td>\n",
       "      <td>...</td>\n",
       "      <td>...</td>\n",
       "    </tr>\n",
       "    <tr>\n",
       "      <th>10960</th>\n",
       "      <td>fraanders</td>\n",
       "      <td>gittekeller@gmail.com</td>\n",
       "      <td>93.167.235.75</td>\n",
       "      <td>15b0f2b0f88c145eaa359c525d5b20dc</td>\n",
       "    </tr>\n",
       "    <tr>\n",
       "      <th>10961</th>\n",
       "      <td>DmitRU</td>\n",
       "      <td>dmitru@inbox.lv</td>\n",
       "      <td>83.241.8.14</td>\n",
       "      <td>3e7135c8a956352893747120c29a8214</td>\n",
       "    </tr>\n",
       "    <tr>\n",
       "      <th>10962</th>\n",
       "      <td>Narine</td>\n",
       "      <td>narinegishyan@yahoo.com</td>\n",
       "      <td>212.34.250.228</td>\n",
       "      <td>c3a14dd4d5ddd61159025562776a613e</td>\n",
       "    </tr>\n",
       "    <tr>\n",
       "      <th>10963</th>\n",
       "      <td>gwyn60</td>\n",
       "      <td>gwyn.white60@gmail.com</td>\n",
       "      <td>193.62.42.147</td>\n",
       "      <td>6ee64aa416ef0632aff878f478726629</td>\n",
       "    </tr>\n",
       "    <tr>\n",
       "      <th>10964</th>\n",
       "      <td>horrorwalker</td>\n",
       "      <td>walkerf5e@gmail.com</td>\n",
       "      <td>160.94.47.16</td>\n",
       "      <td>b05232a458e6b76a01f3094aad84e94c</td>\n",
       "    </tr>\n",
       "  </tbody>\n",
       "</table>\n",
       "<p>10919 rows × 4 columns</p>\n",
       "</div>"
      ],
      "text/plain": [
       "           username                               email        ipaddress  \\\n",
       "1        wsresource            devstormsite@hotmail.com      4.54.82.193   \n",
       "2             James  james.ussher-smith@breathemail.net     213.1.37.153   \n",
       "3               Gem                      gary@sifox.com  194.145.134.170   \n",
       "4              BobM       movie_fever-owner@egroups.com    208.32.92.133   \n",
       "5            qslack                 qslack@aboutpcs.com  207.208.119.170   \n",
       "...             ...                                 ...              ...   \n",
       "10960     fraanders               gittekeller@gmail.com    93.167.235.75   \n",
       "10961        DmitRU                     dmitru@inbox.lv      83.241.8.14   \n",
       "10962        Narine             narinegishyan@yahoo.com   212.34.250.228   \n",
       "10963        gwyn60              gwyn.white60@gmail.com    193.62.42.147   \n",
       "10964  horrorwalker                 walkerf5e@gmail.com     160.94.47.16   \n",
       "\n",
       "                               password  \n",
       "1      700ecc6e40681d240dbf0e24924b9029  \n",
       "2      ec7e9cd0388055fa251314e0fc11bb15  \n",
       "3      f1e15abac4e7b5107d649b1ea1c6f838  \n",
       "4      1bbe5064a454c707fb9a69e8248b8661  \n",
       "5      56e352a88eda93137cf01d15fbf41aa7  \n",
       "...                                 ...  \n",
       "10960  15b0f2b0f88c145eaa359c525d5b20dc  \n",
       "10961  3e7135c8a956352893747120c29a8214  \n",
       "10962  c3a14dd4d5ddd61159025562776a613e  \n",
       "10963  6ee64aa416ef0632aff878f478726629  \n",
       "10964  b05232a458e6b76a01f3094aad84e94c  \n",
       "\n",
       "[10919 rows x 4 columns]"
      ]
     },
     "execution_count": 12,
     "metadata": {},
     "output_type": "execute_result"
    }
   ],
   "source": [
    "data"
   ]
  },
  {
   "cell_type": "code",
   "execution_count": 14,
   "id": "3e3c4345-0ff8-4e8e-a9b3-81f912b4b389",
   "metadata": {},
   "outputs": [
    {
     "data": {
      "text/plain": [
       "0"
      ]
     },
     "execution_count": 14,
     "metadata": {},
     "output_type": "execute_result"
    }
   ],
   "source": [
    "data['password'].duplicated().sum()"
   ]
  },
  {
   "cell_type": "code",
   "execution_count": null,
   "id": "d7db6356-4f26-46e9-b197-0629f386e87f",
   "metadata": {},
   "outputs": [],
   "source": []
  }
 ],
 "metadata": {
  "kernelspec": {
   "display_name": "Python 3 (ipykernel)",
   "language": "python",
   "name": "python3"
  },
  "language_info": {
   "codemirror_mode": {
    "name": "ipython",
    "version": 3
   },
   "file_extension": ".py",
   "mimetype": "text/x-python",
   "name": "python",
   "nbconvert_exporter": "python",
   "pygments_lexer": "ipython3",
   "version": "3.9.12"
  }
 },
 "nbformat": 4,
 "nbformat_minor": 5
}
