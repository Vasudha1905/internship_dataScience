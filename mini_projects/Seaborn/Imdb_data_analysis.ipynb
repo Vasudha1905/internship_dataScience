{
 "cells": [
  {
   "cell_type": "markdown",
   "id": "67d2fc8f-c4c3-4e1f-8691-5d8b723102ed",
   "metadata": {},
   "source": [
    "## IMDB Movie Data Analysis"
   ]
  },
  {
   "cell_type": "code",
   "execution_count": 1,
   "id": "f42b2b81-4444-423c-a0d3-dfbd49fc1c22",
   "metadata": {},
   "outputs": [],
   "source": [
    "import numpy as np\n",
    "import matplotlib.pyplot as plt\n",
    "import seaborn as sns\n",
    "import pandas as pd\n",
    "import warnings\n",
    "warnings.filterwarnings(\"ignore\")"
   ]
  },
  {
   "cell_type": "code",
   "execution_count": 2,
   "id": "df26acb6-d90d-46b4-8560-73b5b174e64f",
   "metadata": {},
   "outputs": [],
   "source": [
    "data=pd.read_csv('datasets/movies.csv')"
   ]
  },
  {
   "cell_type": "markdown",
   "id": "0fbfbea4-b26b-48fd-a93b-adc73ea86958",
   "metadata": {},
   "source": [
    "### data exploration"
   ]
  },
  {
   "cell_type": "code",
   "execution_count": 3,
   "id": "e34939c6-1e68-4849-8489-08ad9d45325e",
   "metadata": {},
   "outputs": [
    {
     "data": {
      "text/html": [
       "<div>\n",
       "<style scoped>\n",
       "    .dataframe tbody tr th:only-of-type {\n",
       "        vertical-align: middle;\n",
       "    }\n",
       "\n",
       "    .dataframe tbody tr th {\n",
       "        vertical-align: top;\n",
       "    }\n",
       "\n",
       "    .dataframe thead th {\n",
       "        text-align: right;\n",
       "    }\n",
       "</style>\n",
       "<table border=\"1\" class=\"dataframe\">\n",
       "  <thead>\n",
       "    <tr style=\"text-align: right;\">\n",
       "      <th></th>\n",
       "      <th>Movie URL</th>\n",
       "      <th>Title</th>\n",
       "      <th>Poster</th>\n",
       "      <th>Release Year</th>\n",
       "      <th>Length in Min</th>\n",
       "      <th>IMDB Rating</th>\n",
       "      <th>Rating Count</th>\n",
       "      <th>Plot</th>\n",
       "      <th>Directors</th>\n",
       "      <th>Writers</th>\n",
       "      <th>Stars</th>\n",
       "      <th>Genres</th>\n",
       "    </tr>\n",
       "  </thead>\n",
       "  <tbody>\n",
       "    <tr>\n",
       "      <th>0</th>\n",
       "      <td>https://www.imdb.com/title/tt0001892/?ref_=sr_t_3</td>\n",
       "      <td>Den sorte drøm</td>\n",
       "      <td>https://m.media-amazon.com/images/M/MV5BZjg0Yj...</td>\n",
       "      <td>1911.0</td>\n",
       "      <td>53.0</td>\n",
       "      <td>5.8</td>\n",
       "      <td>265.0</td>\n",
       "      <td>Two men of high rank are both wooing the beaut...</td>\n",
       "      <td>Urban Gad|</td>\n",
       "      <td>Urban Gad|Gebhard Schätzler-Perasini|</td>\n",
       "      <td>Asta Nielsen|Valdemar Psilander|Gunnar Helseng...</td>\n",
       "      <td>Drama</td>\n",
       "    </tr>\n",
       "    <tr>\n",
       "      <th>1</th>\n",
       "      <td>https://www.imdb.com/title/tt0001964/?ref_=sr_t_6</td>\n",
       "      <td>Die Verräterin</td>\n",
       "      <td>https://m.media-amazon.com/images/M/MV5BNjI2Nj...</td>\n",
       "      <td>1911.0</td>\n",
       "      <td>48.0</td>\n",
       "      <td>5.9</td>\n",
       "      <td>100.0</td>\n",
       "      <td>A woman betrays the regiment location in which...</td>\n",
       "      <td>Urban Gad</td>\n",
       "      <td>Erich Zeiske|</td>\n",
       "      <td>Asta Nielsen|Max Obal|Robert Valberg</td>\n",
       "      <td>Drama</td>\n",
       "    </tr>\n",
       "    <tr>\n",
       "      <th>2</th>\n",
       "      <td>https://www.imdb.com/title/tt0002101/?ref_=sr_t_1</td>\n",
       "      <td>Cleopatra</td>\n",
       "      <td>https://m.media-amazon.com/images/M/MV5BZTcyMG...</td>\n",
       "      <td>1912.0</td>\n",
       "      <td>100.0</td>\n",
       "      <td>5.1</td>\n",
       "      <td>620.0</td>\n",
       "      <td>The fabled queen of Egypt's affair with Roman ...</td>\n",
       "      <td>Charles L. Gaskill|</td>\n",
       "      <td>Victorien Sardou|Charles L. Gaskill|</td>\n",
       "      <td>Helen Gardner|Pearl Sindelar|Miss Fielding</td>\n",
       "      <td>Drama|History</td>\n",
       "    </tr>\n",
       "    <tr>\n",
       "      <th>3</th>\n",
       "      <td>https://www.imdb.com/title/tt0002130/?ref_=sr_t_1</td>\n",
       "      <td>L'Inferno</td>\n",
       "      <td>https://m.media-amazon.com/images/M/MV5BMzY0NT...</td>\n",
       "      <td>1911.0</td>\n",
       "      <td>71.0</td>\n",
       "      <td>7.0</td>\n",
       "      <td>3500.0</td>\n",
       "      <td>Loosely adapted from Dante's Divine Comedy and...</td>\n",
       "      <td>Francesco Bertolini|Adolfo Padovan|Giuseppe de...</td>\n",
       "      <td>Dante Alighieri|</td>\n",
       "      <td>Salvatore Papa|Arturo Pirovano|Giuseppe de Lig...</td>\n",
       "      <td>Adventure|Drama|Fantasy</td>\n",
       "    </tr>\n",
       "    <tr>\n",
       "      <th>4</th>\n",
       "      <td>https://www.imdb.com/title/tt0002186/?ref_=sr_t_6</td>\n",
       "      <td>Den flyvende cirkus</td>\n",
       "      <td>https://m.media-amazon.com/images/M/MV5BZTljZD...</td>\n",
       "      <td>1912.0</td>\n",
       "      <td>46.0</td>\n",
       "      <td>6.4</td>\n",
       "      <td>145.0</td>\n",
       "      <td>The Flying Circus was the largest traveling ar...</td>\n",
       "      <td>Alfred Lind|</td>\n",
       "      <td>Carl Otto Dumreicher|Alfred Lind|</td>\n",
       "      <td>Rasmus Ottesen|Emilie Otterdahl|Lili Beck</td>\n",
       "      <td>Drama</td>\n",
       "    </tr>\n",
       "  </tbody>\n",
       "</table>\n",
       "</div>"
      ],
      "text/plain": [
       "                                           Movie URL                Title  \\\n",
       "0  https://www.imdb.com/title/tt0001892/?ref_=sr_t_3       Den sorte drøm   \n",
       "1  https://www.imdb.com/title/tt0001964/?ref_=sr_t_6       Die Verräterin   \n",
       "2  https://www.imdb.com/title/tt0002101/?ref_=sr_t_1            Cleopatra   \n",
       "3  https://www.imdb.com/title/tt0002130/?ref_=sr_t_1            L'Inferno   \n",
       "4  https://www.imdb.com/title/tt0002186/?ref_=sr_t_6  Den flyvende cirkus   \n",
       "\n",
       "                                              Poster  Release Year  \\\n",
       "0  https://m.media-amazon.com/images/M/MV5BZjg0Yj...        1911.0   \n",
       "1  https://m.media-amazon.com/images/M/MV5BNjI2Nj...        1911.0   \n",
       "2  https://m.media-amazon.com/images/M/MV5BZTcyMG...        1912.0   \n",
       "3  https://m.media-amazon.com/images/M/MV5BMzY0NT...        1911.0   \n",
       "4  https://m.media-amazon.com/images/M/MV5BZTljZD...        1912.0   \n",
       "\n",
       "   Length in Min  IMDB Rating  Rating Count  \\\n",
       "0           53.0          5.8         265.0   \n",
       "1           48.0          5.9         100.0   \n",
       "2          100.0          5.1         620.0   \n",
       "3           71.0          7.0        3500.0   \n",
       "4           46.0          6.4         145.0   \n",
       "\n",
       "                                                Plot  \\\n",
       "0  Two men of high rank are both wooing the beaut...   \n",
       "1  A woman betrays the regiment location in which...   \n",
       "2  The fabled queen of Egypt's affair with Roman ...   \n",
       "3  Loosely adapted from Dante's Divine Comedy and...   \n",
       "4  The Flying Circus was the largest traveling ar...   \n",
       "\n",
       "                                           Directors  \\\n",
       "0                                         Urban Gad|   \n",
       "1                                          Urban Gad   \n",
       "2                                Charles L. Gaskill|   \n",
       "3  Francesco Bertolini|Adolfo Padovan|Giuseppe de...   \n",
       "4                                       Alfred Lind|   \n",
       "\n",
       "                                 Writers  \\\n",
       "0  Urban Gad|Gebhard Schätzler-Perasini|   \n",
       "1                          Erich Zeiske|   \n",
       "2   Victorien Sardou|Charles L. Gaskill|   \n",
       "3                       Dante Alighieri|   \n",
       "4      Carl Otto Dumreicher|Alfred Lind|   \n",
       "\n",
       "                                               Stars                   Genres  \n",
       "0  Asta Nielsen|Valdemar Psilander|Gunnar Helseng...                    Drama  \n",
       "1               Asta Nielsen|Max Obal|Robert Valberg                    Drama  \n",
       "2         Helen Gardner|Pearl Sindelar|Miss Fielding            Drama|History  \n",
       "3  Salvatore Papa|Arturo Pirovano|Giuseppe de Lig...  Adventure|Drama|Fantasy  \n",
       "4          Rasmus Ottesen|Emilie Otterdahl|Lili Beck                    Drama  "
      ]
     },
     "execution_count": 3,
     "metadata": {},
     "output_type": "execute_result"
    }
   ],
   "source": [
    "data.head()"
   ]
  },
  {
   "cell_type": "code",
   "execution_count": 4,
   "id": "4023cbcd-8c9a-41d0-9060-576cc4061998",
   "metadata": {},
   "outputs": [
    {
     "name": "stdout",
     "output_type": "stream",
     "text": [
      "<class 'pandas.core.frame.DataFrame'>\n",
      "RangeIndex: 126691 entries, 0 to 126690\n",
      "Data columns (total 12 columns):\n",
      " #   Column         Non-Null Count   Dtype  \n",
      "---  ------         --------------   -----  \n",
      " 0   Movie URL      126691 non-null  object \n",
      " 1   Title          126626 non-null  object \n",
      " 2   Poster         126384 non-null  object \n",
      " 3   Release Year   126618 non-null  float64\n",
      " 4   Length in Min  124733 non-null  float64\n",
      " 5   IMDB Rating    126624 non-null  float64\n",
      " 6   Rating Count   126624 non-null  float64\n",
      " 7   Plot           126626 non-null  object \n",
      " 8   Directors      125842 non-null  object \n",
      " 9   Writers        119634 non-null  object \n",
      " 10  Stars          125339 non-null  object \n",
      " 11  Genres         126515 non-null  object \n",
      "dtypes: float64(4), object(8)\n",
      "memory usage: 11.6+ MB\n"
     ]
    }
   ],
   "source": [
    "data.info()"
   ]
  },
  {
   "cell_type": "markdown",
   "id": "f0fb825a-aef1-4c46-b18a-6e73ce16ad35",
   "metadata": {},
   "source": [
    "#### remvoing columns we dont need"
   ]
  },
  {
   "cell_type": "code",
   "execution_count": 5,
   "id": "3bc52a69-592e-4470-b099-0cadd4a0b45f",
   "metadata": {},
   "outputs": [],
   "source": [
    "data.drop(['Poster','Movie URL'],axis=1,inplace=True)"
   ]
  },
  {
   "cell_type": "markdown",
   "id": "f8c698ab-dbbb-4169-9a53-c062a28c53e5",
   "metadata": {},
   "source": [
    "#### checking for null values"
   ]
  },
  {
   "cell_type": "code",
   "execution_count": 6,
   "id": "d15046fe-9688-4cb0-be13-af3996560f50",
   "metadata": {},
   "outputs": [
    {
     "data": {
      "text/plain": [
       "Title              65\n",
       "Release Year       73\n",
       "Length in Min    1958\n",
       "IMDB Rating        67\n",
       "Rating Count       67\n",
       "Plot               65\n",
       "Directors         849\n",
       "Writers          7057\n",
       "Stars            1352\n",
       "Genres            176\n",
       "dtype: int64"
      ]
     },
     "execution_count": 6,
     "metadata": {},
     "output_type": "execute_result"
    }
   ],
   "source": [
    "data.isnull().sum()"
   ]
  },
  {
   "cell_type": "code",
   "execution_count": 7,
   "id": "4198ceaf-5357-4d7a-953f-83aaf84b8b26",
   "metadata": {},
   "outputs": [],
   "source": [
    "data=data.dropna()"
   ]
  },
  {
   "cell_type": "markdown",
   "id": "0e342c20-95e4-44fe-9b2c-28133c4e818a",
   "metadata": {},
   "source": [
    "#### checking for duplicates"
   ]
  },
  {
   "cell_type": "code",
   "execution_count": 8,
   "id": "ee88d5b5-ba05-4694-892a-2262687bde94",
   "metadata": {},
   "outputs": [
    {
     "data": {
      "text/plain": [
       "0"
      ]
     },
     "execution_count": 8,
     "metadata": {},
     "output_type": "execute_result"
    }
   ],
   "source": [
    "dupli=data.duplicated()\n",
    "sum(dupli)"
   ]
  },
  {
   "cell_type": "markdown",
   "id": "98f6a61b-6c9c-41b8-8c61-9b1493147053",
   "metadata": {},
   "source": [
    "there are no duplicates"
   ]
  },
  {
   "cell_type": "code",
   "execution_count": 9,
   "id": "20c2df47-c6cd-497c-88dc-30c80af168ac",
   "metadata": {},
   "outputs": [
    {
     "name": "stdout",
     "output_type": "stream",
     "text": [
      "<class 'pandas.core.frame.DataFrame'>\n",
      "Index: 117963 entries, 0 to 126690\n",
      "Data columns (total 10 columns):\n",
      " #   Column         Non-Null Count   Dtype  \n",
      "---  ------         --------------   -----  \n",
      " 0   Title          117963 non-null  object \n",
      " 1   Release Year   117963 non-null  float64\n",
      " 2   Length in Min  117963 non-null  float64\n",
      " 3   IMDB Rating    117963 non-null  float64\n",
      " 4   Rating Count   117963 non-null  float64\n",
      " 5   Plot           117963 non-null  object \n",
      " 6   Directors      117963 non-null  object \n",
      " 7   Writers        117963 non-null  object \n",
      " 8   Stars          117963 non-null  object \n",
      " 9   Genres         117963 non-null  object \n",
      "dtypes: float64(4), object(6)\n",
      "memory usage: 9.9+ MB\n"
     ]
    }
   ],
   "source": [
    "data.info()"
   ]
  },
  {
   "cell_type": "markdown",
   "id": "9e6a57c6-a078-4816-bafa-a181c273068d",
   "metadata": {},
   "source": [
    "#### removing outliers"
   ]
  },
  {
   "cell_type": "code",
   "execution_count": 10,
   "id": "15077b94-7def-439e-b17e-858d13efc1a5",
   "metadata": {},
   "outputs": [
    {
     "data": {
      "text/html": [
       "<div>\n",
       "<style scoped>\n",
       "    .dataframe tbody tr th:only-of-type {\n",
       "        vertical-align: middle;\n",
       "    }\n",
       "\n",
       "    .dataframe tbody tr th {\n",
       "        vertical-align: top;\n",
       "    }\n",
       "\n",
       "    .dataframe thead th {\n",
       "        text-align: right;\n",
       "    }\n",
       "</style>\n",
       "<table border=\"1\" class=\"dataframe\">\n",
       "  <thead>\n",
       "    <tr style=\"text-align: right;\">\n",
       "      <th></th>\n",
       "      <th>Release Year</th>\n",
       "      <th>Length in Min</th>\n",
       "      <th>IMDB Rating</th>\n",
       "      <th>Rating Count</th>\n",
       "    </tr>\n",
       "  </thead>\n",
       "  <tbody>\n",
       "    <tr>\n",
       "      <th>count</th>\n",
       "      <td>117963.0</td>\n",
       "      <td>117963.0</td>\n",
       "      <td>117963.0</td>\n",
       "      <td>117963.0</td>\n",
       "    </tr>\n",
       "    <tr>\n",
       "      <th>mean</th>\n",
       "      <td>1997.0</td>\n",
       "      <td>100.0</td>\n",
       "      <td>6.0</td>\n",
       "      <td>9391.0</td>\n",
       "    </tr>\n",
       "    <tr>\n",
       "      <th>std</th>\n",
       "      <td>25.0</td>\n",
       "      <td>129.0</td>\n",
       "      <td>1.0</td>\n",
       "      <td>58131.0</td>\n",
       "    </tr>\n",
       "    <tr>\n",
       "      <th>min</th>\n",
       "      <td>1911.0</td>\n",
       "      <td>21.0</td>\n",
       "      <td>1.0</td>\n",
       "      <td>99.0</td>\n",
       "    </tr>\n",
       "    <tr>\n",
       "      <th>25%</th>\n",
       "      <td>1982.0</td>\n",
       "      <td>87.0</td>\n",
       "      <td>5.0</td>\n",
       "      <td>208.0</td>\n",
       "    </tr>\n",
       "    <tr>\n",
       "      <th>50%</th>\n",
       "      <td>2006.0</td>\n",
       "      <td>95.0</td>\n",
       "      <td>6.0</td>\n",
       "      <td>499.0</td>\n",
       "    </tr>\n",
       "    <tr>\n",
       "      <th>75%</th>\n",
       "      <td>2016.0</td>\n",
       "      <td>108.0</td>\n",
       "      <td>7.0</td>\n",
       "      <td>1800.0</td>\n",
       "    </tr>\n",
       "    <tr>\n",
       "      <th>max</th>\n",
       "      <td>2023.0</td>\n",
       "      <td>43200.0</td>\n",
       "      <td>10.0</td>\n",
       "      <td>2900000.0</td>\n",
       "    </tr>\n",
       "  </tbody>\n",
       "</table>\n",
       "</div>"
      ],
      "text/plain": [
       "       Release Year  Length in Min  IMDB Rating  Rating Count\n",
       "count      117963.0       117963.0     117963.0      117963.0\n",
       "mean         1997.0          100.0          6.0        9391.0\n",
       "std            25.0          129.0          1.0       58131.0\n",
       "min          1911.0           21.0          1.0          99.0\n",
       "25%          1982.0           87.0          5.0         208.0\n",
       "50%          2006.0           95.0          6.0         499.0\n",
       "75%          2016.0          108.0          7.0        1800.0\n",
       "max          2023.0        43200.0         10.0     2900000.0"
      ]
     },
     "execution_count": 10,
     "metadata": {},
     "output_type": "execute_result"
    }
   ],
   "source": [
    "data.describe().round()"
   ]
  },
  {
   "cell_type": "code",
   "execution_count": 11,
   "id": "76f93389-b385-4b30-b5a9-cd52936edbd8",
   "metadata": {},
   "outputs": [
    {
     "data": {
      "text/plain": [
       "<Axes: xlabel='Length in Min'>"
      ]
     },
     "execution_count": 11,
     "metadata": {},
     "output_type": "execute_result"
    },
    {
     "data": {
      "image/png": "[encoded data removed]",
      "text/plain": [
       "<Figure size 640x480 with 1 Axes>"
      ]
     },
     "metadata": {},
     "output_type": "display_data"
    }
   ],
   "source": [
    "sns.set(style='whitegrid',palette='deep')\n",
    "sns.boxplot(x=data['Length in Min'])"
   ]
  },
  {
   "cell_type": "markdown",
   "id": "f446f437-c2c6-44a2-a731-b3c61ab5b72e",
   "metadata": {},
   "source": [
    "considering movies with runtime less than 4 hours"
   ]
  },
  {
   "cell_type": "code",
   "execution_count": 12,
   "id": "41836519-3d23-47f2-af45-1d176980a74a",
   "metadata": {},
   "outputs": [],
   "source": [
    "data = data[data['Length in Min']<240]"
   ]
  },
  {
   "cell_type": "markdown",
   "id": "ac7f2e00-d6c7-4e7b-8d7c-9fad19a3ff29",
   "metadata": {},
   "source": [
    "### Analysis"
   ]
  },
  {
   "cell_type": "code",
   "execution_count": 13,
   "id": "0fffef56-4232-4aa1-b16b-49ffb5f3cb6f",
   "metadata": {},
   "outputs": [
    {
     "data": {
      "text/html": [
       "<div>\n",
       "<style scoped>\n",
       "    .dataframe tbody tr th:only-of-type {\n",
       "        vertical-align: middle;\n",
       "    }\n",
       "\n",
       "    .dataframe tbody tr th {\n",
       "        vertical-align: top;\n",
       "    }\n",
       "\n",
       "    .dataframe thead th {\n",
       "        text-align: right;\n",
       "    }\n",
       "</style>\n",
       "<table border=\"1\" class=\"dataframe\">\n",
       "  <thead>\n",
       "    <tr style=\"text-align: right;\">\n",
       "      <th></th>\n",
       "      <th>IMDB Rating</th>\n",
       "      <th>Rating Count</th>\n",
       "      <th>Title</th>\n",
       "      <th>Length in Min</th>\n",
       "    </tr>\n",
       "    <tr>\n",
       "      <th>Release Year</th>\n",
       "      <th></th>\n",
       "      <th></th>\n",
       "      <th></th>\n",
       "      <th></th>\n",
       "    </tr>\n",
       "  </thead>\n",
       "  <tbody>\n",
       "    <tr>\n",
       "      <th>1911.0</th>\n",
       "      <td>5.985714</td>\n",
       "      <td>4714.0</td>\n",
       "      <td>7</td>\n",
       "      <td>63.857143</td>\n",
       "    </tr>\n",
       "    <tr>\n",
       "      <th>1912.0</th>\n",
       "      <td>6.042857</td>\n",
       "      <td>2559.0</td>\n",
       "      <td>7</td>\n",
       "      <td>68.571429</td>\n",
       "    </tr>\n",
       "    <tr>\n",
       "      <th>1913.0</th>\n",
       "      <td>6.361111</td>\n",
       "      <td>13805.0</td>\n",
       "      <td>18</td>\n",
       "      <td>87.166667</td>\n",
       "    </tr>\n",
       "    <tr>\n",
       "      <th>1914.0</th>\n",
       "      <td>6.130000</td>\n",
       "      <td>22957.0</td>\n",
       "      <td>30</td>\n",
       "      <td>78.600000</td>\n",
       "    </tr>\n",
       "    <tr>\n",
       "      <th>1915.0</th>\n",
       "      <td>6.177778</td>\n",
       "      <td>39715.0</td>\n",
       "      <td>27</td>\n",
       "      <td>69.037037</td>\n",
       "    </tr>\n",
       "    <tr>\n",
       "      <th>...</th>\n",
       "      <td>...</td>\n",
       "      <td>...</td>\n",
       "      <td>...</td>\n",
       "      <td>...</td>\n",
       "    </tr>\n",
       "    <tr>\n",
       "      <th>2019.0</th>\n",
       "      <td>5.687615</td>\n",
       "      <td>34564226.0</td>\n",
       "      <td>4352</td>\n",
       "      <td>101.227482</td>\n",
       "    </tr>\n",
       "    <tr>\n",
       "      <th>2020.0</th>\n",
       "      <td>5.526470</td>\n",
       "      <td>16977942.0</td>\n",
       "      <td>3249</td>\n",
       "      <td>98.196060</td>\n",
       "    </tr>\n",
       "    <tr>\n",
       "      <th>2021.0</th>\n",
       "      <td>5.587371</td>\n",
       "      <td>24330123.0</td>\n",
       "      <td>3500</td>\n",
       "      <td>101.290286</td>\n",
       "    </tr>\n",
       "    <tr>\n",
       "      <th>2022.0</th>\n",
       "      <td>5.764976</td>\n",
       "      <td>25748670.0</td>\n",
       "      <td>3963</td>\n",
       "      <td>105.298764</td>\n",
       "    </tr>\n",
       "    <tr>\n",
       "      <th>2023.0</th>\n",
       "      <td>5.958061</td>\n",
       "      <td>19432713.0</td>\n",
       "      <td>3269</td>\n",
       "      <td>107.759254</td>\n",
       "    </tr>\n",
       "  </tbody>\n",
       "</table>\n",
       "<p>113 rows × 4 columns</p>\n",
       "</div>"
      ],
      "text/plain": [
       "              IMDB Rating  Rating Count  Title  Length in Min\n",
       "Release Year                                                 \n",
       "1911.0           5.985714        4714.0      7      63.857143\n",
       "1912.0           6.042857        2559.0      7      68.571429\n",
       "1913.0           6.361111       13805.0     18      87.166667\n",
       "1914.0           6.130000       22957.0     30      78.600000\n",
       "1915.0           6.177778       39715.0     27      69.037037\n",
       "...                   ...           ...    ...            ...\n",
       "2019.0           5.687615    34564226.0   4352     101.227482\n",
       "2020.0           5.526470    16977942.0   3249      98.196060\n",
       "2021.0           5.587371    24330123.0   3500     101.290286\n",
       "2022.0           5.764976    25748670.0   3963     105.298764\n",
       "2023.0           5.958061    19432713.0   3269     107.759254\n",
       "\n",
       "[113 rows x 4 columns]"
      ]
     },
     "execution_count": 13,
     "metadata": {},
     "output_type": "execute_result"
    }
   ],
   "source": [
    "g=data.groupby('Release Year').agg({'IMDB Rating':'mean','Rating Count':'sum','Title':'count','Length in Min':'mean'})\n",
    "g"
   ]
  },
  {
   "cell_type": "markdown",
   "id": "b0c3d4b1-399c-4024-a587-97b1bf46e5f2",
   "metadata": {},
   "source": [
    "#### Number of movies released over the years"
   ]
  },
  {
   "cell_type": "code",
   "execution_count": 14,
   "id": "7acbb737-1cd3-4989-9012-d5f2fc85e651",
   "metadata": {},
   "outputs": [
    {
     "data": {
      "text/plain": [
       "Text(0.5, 1.0, 'Number of movies released over the years')"
      ]
     },
     "execution_count": 14,
     "metadata": {},
     "output_type": "execute_result"
    },
    {
     "data": {
      "image/png": "[encoded data removed]",
      "text/plain": [
       "<Figure size 640x480 with 1 Axes>"
      ]
     },
     "metadata": {},
     "output_type": "display_data"
    }
   ],
   "source": [
    "sns.lineplot(x=g.index,y='Title',data=g)\n",
    "plt.ylabel('No. of movies released')\n",
    "plt.title('Number of movies released over the years')"
   ]
  },
  {
   "cell_type": "markdown",
   "id": "824501d6-abbc-40c9-8e40-25ed5767cb32",
   "metadata": {},
   "source": [
    "#### IMDB rating over the years"
   ]
  },
  {
   "cell_type": "code",
   "execution_count": 15,
   "id": "edd88509-384f-4480-aa93-4755765d4aad",
   "metadata": {},
   "outputs": [
    {
     "data": {
      "text/plain": [
       "Text(0.5, 1.0, 'IMDB Rating over the years')"
      ]
     },
     "execution_count": 15,
     "metadata": {},
     "output_type": "execute_result"
    },
    {
     "data": {
      "image/png": "[encoded data removed]",
      "text/plain": [
       "<Figure size 640x480 with 1 Axes>"
      ]
     },
     "metadata": {},
     "output_type": "display_data"
    }
   ],
   "source": [
    "sns.lineplot(x=g.index,y='IMDB Rating',data=g)\n",
    "plt.title('IMDB Rating over the years')"
   ]
  },
  {
   "cell_type": "markdown",
   "id": "011bfca7-598a-44ba-9bd3-68461b875a51",
   "metadata": {},
   "source": [
    "#### rating count over the years"
   ]
  },
  {
   "cell_type": "code",
   "execution_count": 16,
   "id": "938d84fe-ea27-43ac-87bf-0e48d26c7700",
   "metadata": {},
   "outputs": [
    {
     "data": {
      "text/plain": [
       "Text(0, 0.5, 'rating count in M')"
      ]
     },
     "execution_count": 16,
     "metadata": {},
     "output_type": "execute_result"
    },
    {
     "data": {
      "image/png": "[encoded data removed]",
      "text/plain": [
       "<Figure size 640x480 with 1 Axes>"
      ]
     },
     "metadata": {},
     "output_type": "display_data"
    }
   ],
   "source": [
    "sns.lineplot(x=g.index,y='Rating Count',data=g)\n",
    "plt.title('number of ratings over the years')\n",
    "plt.ylim(0, g['Rating Count'].max() + 100) \n",
    "plt.ylabel('rating count in M')"
   ]
  },
  {
   "cell_type": "markdown",
   "id": "4e7968ee-536f-49bc-8f65-46638df2baa9",
   "metadata": {},
   "source": [
    "#### length of movies over the years"
   ]
  },
  {
   "cell_type": "code",
   "execution_count": 17,
   "id": "55bc755c-9166-4d93-9b4f-a0e1b9708866",
   "metadata": {},
   "outputs": [
    {
     "data": {
      "text/plain": [
       "<Axes: xlabel='Release Year', ylabel='Length in Min'>"
      ]
     },
     "execution_count": 17,
     "metadata": {},
     "output_type": "execute_result"
    },
    {
     "data": {
      "image/png": "[encoded data removed]",
      "text/plain": [
       "<Figure size 640x480 with 1 Axes>"
      ]
     },
     "metadata": {},
     "output_type": "display_data"
    }
   ],
   "source": [
    "sns.lineplot(x=g.index,y='Length in Min',data=g)"
   ]
  },
  {
   "cell_type": "markdown",
   "id": "3483dd9c-63e3-4268-8a0d-cd383f59cbb6",
   "metadata": {},
   "source": [
    "#### correlation analysis"
   ]
  },
  {
   "cell_type": "code",
   "execution_count": 18,
   "id": "4570e060-97dc-4dd6-8a58-23c1b35d1143",
   "metadata": {},
   "outputs": [
    {
     "data": {
      "text/plain": [
       "<Axes: >"
      ]
     },
     "execution_count": 18,
     "metadata": {},
     "output_type": "execute_result"
    },
    {
     "data": {
      "image/png": "[encoded data removed]",
      "text/plain": [
       "<Figure size 300x300 with 2 Axes>"
      ]
     },
     "metadata": {},
     "output_type": "display_data"
    }
   ],
   "source": [
    "plt.figure(figsize=(3,3))\n",
    "corr=data.iloc[:,1:5].corr()\n",
    "sns.heatmap(corr,cmap='viridis')"
   ]
  },
  {
   "cell_type": "markdown",
   "id": "8e069e45-a1ee-4cc9-904e-058cbec3bbe3",
   "metadata": {},
   "source": [
    "there isnt much correlation among the variables"
   ]
  },
  {
   "cell_type": "markdown",
   "id": "8d8ae4cb-a568-431a-a3c1-7a279a54b9a8",
   "metadata": {},
   "source": [
    "#### Genres with highest number of movies"
   ]
  },
  {
   "cell_type": "code",
   "execution_count": 19,
   "id": "768ce348-11ea-48d3-82e2-3460e6100431",
   "metadata": {},
   "outputs": [
    {
     "data": {
      "text/html": [
       "<div>\n",
       "<style scoped>\n",
       "    .dataframe tbody tr th:only-of-type {\n",
       "        vertical-align: middle;\n",
       "    }\n",
       "\n",
       "    .dataframe tbody tr th {\n",
       "        vertical-align: top;\n",
       "    }\n",
       "\n",
       "    .dataframe thead th {\n",
       "        text-align: right;\n",
       "    }\n",
       "</style>\n",
       "<table border=\"1\" class=\"dataframe\">\n",
       "  <thead>\n",
       "    <tr style=\"text-align: right;\">\n",
       "      <th></th>\n",
       "      <th>0</th>\n",
       "      <th>1</th>\n",
       "      <th>2</th>\n",
       "    </tr>\n",
       "  </thead>\n",
       "  <tbody>\n",
       "    <tr>\n",
       "      <th>0</th>\n",
       "      <td>Drama</td>\n",
       "      <td>None</td>\n",
       "      <td>None</td>\n",
       "    </tr>\n",
       "  </tbody>\n",
       "</table>\n",
       "</div>"
      ],
      "text/plain": [
       "       0     1     2\n",
       "0  Drama  None  None"
      ]
     },
     "execution_count": 19,
     "metadata": {},
     "output_type": "execute_result"
    }
   ],
   "source": [
    "genres=data.Genres.str.split(\"|\",expand=True) \n",
    "genres.head(1)"
   ]
  },
  {
   "cell_type": "code",
   "execution_count": 20,
   "id": "79afe60d-ec57-4faa-b1b4-8b3efae8f059",
   "metadata": {},
   "outputs": [
    {
     "data": {
      "text/plain": [
       "<Axes: xlabel='genre'>"
      ]
     },
     "execution_count": 20,
     "metadata": {},
     "output_type": "execute_result"
    },
    {
     "data": {
      "image/png": "[encoded data removed]",
      "text/plain": [
       "<Figure size 640x480 with 1 Axes>"
      ]
     },
     "metadata": {},
     "output_type": "display_data"
    }
   ],
   "source": [
    "melted_df = genres.melt(value_vars=[0, 1, 2], value_name='genre')\n",
    "melted_df = melted_df.dropna()\n",
    "melted_df\n",
    "genre_counts = melted_df['genre'].value_counts().head(10)\n",
    "genre_counts.plot(kind='bar',edgecolor='k')"
   ]
  },
  {
   "cell_type": "markdown",
   "id": "3ae97a27-1bb0-4a3b-a603-01f9d7861c4d",
   "metadata": {},
   "source": [
    "#### director with most movies"
   ]
  },
  {
   "cell_type": "code",
   "execution_count": 21,
   "id": "c73543e6-81de-4db0-9a61-08a721c4108f",
   "metadata": {},
   "outputs": [
    {
     "data": {
      "text/html": [
       "<div>\n",
       "<style scoped>\n",
       "    .dataframe tbody tr th:only-of-type {\n",
       "        vertical-align: middle;\n",
       "    }\n",
       "\n",
       "    .dataframe tbody tr th {\n",
       "        vertical-align: top;\n",
       "    }\n",
       "\n",
       "    .dataframe thead th {\n",
       "        text-align: right;\n",
       "    }\n",
       "</style>\n",
       "<table border=\"1\" class=\"dataframe\">\n",
       "  <thead>\n",
       "    <tr style=\"text-align: right;\">\n",
       "      <th></th>\n",
       "      <th>0</th>\n",
       "      <th>1</th>\n",
       "      <th>2</th>\n",
       "      <th>3</th>\n",
       "    </tr>\n",
       "  </thead>\n",
       "  <tbody>\n",
       "    <tr>\n",
       "      <th>0</th>\n",
       "      <td>Urban Gad</td>\n",
       "      <td></td>\n",
       "      <td>None</td>\n",
       "      <td>None</td>\n",
       "    </tr>\n",
       "    <tr>\n",
       "      <th>1</th>\n",
       "      <td>Urban Gad</td>\n",
       "      <td>None</td>\n",
       "      <td>None</td>\n",
       "      <td>None</td>\n",
       "    </tr>\n",
       "    <tr>\n",
       "      <th>2</th>\n",
       "      <td>Charles L. Gaskill</td>\n",
       "      <td></td>\n",
       "      <td>None</td>\n",
       "      <td>None</td>\n",
       "    </tr>\n",
       "  </tbody>\n",
       "</table>\n",
       "</div>"
      ],
      "text/plain": [
       "                    0     1     2     3\n",
       "0           Urban Gad        None  None\n",
       "1           Urban Gad  None  None  None\n",
       "2  Charles L. Gaskill        None  None"
      ]
     },
     "execution_count": 21,
     "metadata": {},
     "output_type": "execute_result"
    }
   ],
   "source": [
    "directors=data.Directors.str.split(\"|\",expand=True) \n",
    "directors.head(3)"
   ]
  },
  {
   "cell_type": "markdown",
   "id": "805e9fa0-9803-4cf2-b0ec-eb1c907ae852",
   "metadata": {},
   "source": [
    "creating single list "
   ]
  },
  {
   "cell_type": "code",
   "execution_count": 22,
   "id": "9c015f48-cbbe-438b-84ce-96c0de31284e",
   "metadata": {},
   "outputs": [],
   "source": [
    "melted_df = directors.melt(value_vars=[0, 1, 2, 3], value_name='director')\n",
    "melted_df = melted_df.dropna()\n",
    "melted_df = melted_df[melted_df['director'] != '']"
   ]
  },
  {
   "cell_type": "markdown",
   "id": "2aeb94fc-1493-491f-8cc7-4dfc2ec794ca",
   "metadata": {},
   "source": [
    "getting count of directors"
   ]
  },
  {
   "cell_type": "code",
   "execution_count": 23,
   "id": "3f6791a5-6bf1-4681-925c-e415f5e629ca",
   "metadata": {},
   "outputs": [],
   "source": [
    "director_counts = melted_df['director'].value_counts().head(10)"
   ]
  },
  {
   "cell_type": "code",
   "execution_count": 24,
   "id": "98b44ab6-8bd1-4137-8978-3c3c8ed094b4",
   "metadata": {},
   "outputs": [
    {
     "data": {
      "text/plain": [
       "Text(0.5, 1.0, 'director with highest number of movies')"
      ]
     },
     "execution_count": 24,
     "metadata": {},
     "output_type": "execute_result"
    },
    {
     "data": {
      "image/png": "[encoded data removed]",
      "text/plain": [
       "<Figure size 640x480 with 1 Axes>"
      ]
     },
     "metadata": {},
     "output_type": "display_data"
    }
   ],
   "source": [
    "director_counts.plot(kind='bar',edgecolor='k')\n",
    "plt.ylim(0, 130)\n",
    "plt.title('director with highest number of movies')"
   ]
  },
  {
   "cell_type": "markdown",
   "id": "f0d31419-20ea-4cd1-b662-d756080c14c5",
   "metadata": {},
   "source": [
    "#### directors with highest mean rating count"
   ]
  },
  {
   "cell_type": "code",
   "execution_count": 25,
   "id": "656214b1-ce42-4dbf-840e-e81fd055d397",
   "metadata": {},
   "outputs": [],
   "source": [
    "data['Directors'] = data['Directors'].str.split('|').apply(sorted)\n",
    "data['Directors'] = data['Directors'].apply(', '.join)"
   ]
  },
  {
   "cell_type": "code",
   "execution_count": 26,
   "id": "8e30ea3a-a718-47ed-a32d-e2637fcd71a1",
   "metadata": {},
   "outputs": [
    {
     "data": {
      "text/plain": [
       "Text(0.5, 1.0, 'top 10 directors with highest mean rating count')"
      ]
     },
     "execution_count": 26,
     "metadata": {},
     "output_type": "execute_result"
    },
    {
     "data": {
      "image/png": "[encoded data removed]",
      "text/plain": [
       "<Figure size 640x480 with 1 Axes>"
      ]
     },
     "metadata": {},
     "output_type": "display_data"
    }
   ],
   "source": [
    "# Filter directors with at least 10 movies and calculate mean rating count\n",
    "director_ratings = data.groupby('Directors').filter(lambda x: x['Title'].count() >= 10)\n",
    "director_ratings = director_ratings.groupby('Directors')['Rating Count'].mean()\n",
    "\n",
    "# Select top 10 directors with highest mean rating count\n",
    "top_10_directors = director_ratings.sort_values(ascending=False).head(10)\n",
    "top_10_directors.plot(kind='bar',edgecolor='k')\n",
    "plt.title('top 10 directors with highest mean rating count')"
   ]
  },
  {
   "cell_type": "markdown",
   "id": "5919fc1d-477c-42bd-b5a6-fde84afb8d37",
   "metadata": {},
   "source": [
    "#### top 10 highest rated movies"
   ]
  },
  {
   "cell_type": "code",
   "execution_count": 27,
   "id": "93edfb4f-ef6c-4081-9bee-bfe23551f0e3",
   "metadata": {},
   "outputs": [
    {
     "data": {
      "text/html": [
       "<div>\n",
       "<style scoped>\n",
       "    .dataframe tbody tr th:only-of-type {\n",
       "        vertical-align: middle;\n",
       "    }\n",
       "\n",
       "    .dataframe tbody tr th {\n",
       "        vertical-align: top;\n",
       "    }\n",
       "\n",
       "    .dataframe thead th {\n",
       "        text-align: right;\n",
       "    }\n",
       "</style>\n",
       "<table border=\"1\" class=\"dataframe\">\n",
       "  <thead>\n",
       "    <tr style=\"text-align: right;\">\n",
       "      <th></th>\n",
       "      <th>Title</th>\n",
       "      <th>Release Year</th>\n",
       "      <th>IMDB Rating</th>\n",
       "    </tr>\n",
       "  </thead>\n",
       "  <tbody>\n",
       "    <tr>\n",
       "      <th>2640</th>\n",
       "      <td>Ardhambardha Premakathe</td>\n",
       "      <td>2023.0</td>\n",
       "      <td>9.8</td>\n",
       "    </tr>\n",
       "    <tr>\n",
       "      <th>97131</th>\n",
       "      <td>Days of Géants</td>\n",
       "      <td>2019.0</td>\n",
       "      <td>9.7</td>\n",
       "    </tr>\n",
       "    <tr>\n",
       "      <th>2722</th>\n",
       "      <td>Mukalpparappu</td>\n",
       "      <td>2023.0</td>\n",
       "      <td>9.7</td>\n",
       "    </tr>\n",
       "    <tr>\n",
       "      <th>25502</th>\n",
       "      <td>Grinders</td>\n",
       "      <td>2023.0</td>\n",
       "      <td>9.6</td>\n",
       "    </tr>\n",
       "    <tr>\n",
       "      <th>2444</th>\n",
       "      <td>Nimmellara Aashirvada</td>\n",
       "      <td>2023.0</td>\n",
       "      <td>9.6</td>\n",
       "    </tr>\n",
       "    <tr>\n",
       "      <th>3706</th>\n",
       "      <td>Cuento de Primavera: A Spring Tale</td>\n",
       "      <td>2022.0</td>\n",
       "      <td>9.6</td>\n",
       "    </tr>\n",
       "    <tr>\n",
       "      <th>13935</th>\n",
       "      <td>Wheels of War</td>\n",
       "      <td>2015.0</td>\n",
       "      <td>9.6</td>\n",
       "    </tr>\n",
       "    <tr>\n",
       "      <th>31170</th>\n",
       "      <td>Odazivam Ti se, Boze</td>\n",
       "      <td>1996.0</td>\n",
       "      <td>9.6</td>\n",
       "    </tr>\n",
       "    <tr>\n",
       "      <th>16152</th>\n",
       "      <td>Mithila Makhaan</td>\n",
       "      <td>2019.0</td>\n",
       "      <td>9.5</td>\n",
       "    </tr>\n",
       "    <tr>\n",
       "      <th>122569</th>\n",
       "      <td>The Return of Uncle Benon</td>\n",
       "      <td>2011.0</td>\n",
       "      <td>9.5</td>\n",
       "    </tr>\n",
       "  </tbody>\n",
       "</table>\n",
       "</div>"
      ],
      "text/plain": [
       "                                     Title  Release Year  IMDB Rating\n",
       "2640               Ardhambardha Premakathe        2023.0          9.8\n",
       "97131                       Days of Géants        2019.0          9.7\n",
       "2722                         Mukalpparappu        2023.0          9.7\n",
       "25502                             Grinders        2023.0          9.6\n",
       "2444                 Nimmellara Aashirvada        2023.0          9.6\n",
       "3706    Cuento de Primavera: A Spring Tale        2022.0          9.6\n",
       "13935                        Wheels of War        2015.0          9.6\n",
       "31170                 Odazivam Ti se, Boze        1996.0          9.6\n",
       "16152                      Mithila Makhaan        2019.0          9.5\n",
       "122569           The Return of Uncle Benon        2011.0          9.5"
      ]
     },
     "execution_count": 27,
     "metadata": {},
     "output_type": "execute_result"
    }
   ],
   "source": [
    "sorted_df = data.sort_values(by='IMDB Rating', ascending=False)\n",
    "sorted_df=sorted_df.head(10)\n",
    "sorted_df[['Title','Release Year','IMDB Rating']]"
   ]
  },
  {
   "cell_type": "code",
   "execution_count": 28,
   "id": "b489cf70-8208-4e00-b1aa-4c74214aeccc",
   "metadata": {},
   "outputs": [
    {
     "data": {
      "text/html": [
       "<div>\n",
       "<style scoped>\n",
       "    .dataframe tbody tr th:only-of-type {\n",
       "        vertical-align: middle;\n",
       "    }\n",
       "\n",
       "    .dataframe tbody tr th {\n",
       "        vertical-align: top;\n",
       "    }\n",
       "\n",
       "    .dataframe thead th {\n",
       "        text-align: right;\n",
       "    }\n",
       "</style>\n",
       "<table border=\"1\" class=\"dataframe\">\n",
       "  <thead>\n",
       "    <tr style=\"text-align: right;\">\n",
       "      <th></th>\n",
       "      <th>Title</th>\n",
       "      <th>Release Year</th>\n",
       "      <th>Length in Min</th>\n",
       "      <th>IMDB Rating</th>\n",
       "      <th>Rating Count</th>\n",
       "      <th>Plot</th>\n",
       "      <th>Directors</th>\n",
       "      <th>Writers</th>\n",
       "      <th>Stars</th>\n",
       "      <th>Genres</th>\n",
       "    </tr>\n",
       "  </thead>\n",
       "  <tbody>\n",
       "    <tr>\n",
       "      <th>0</th>\n",
       "      <td>Den sorte drøm</td>\n",
       "      <td>1911.0</td>\n",
       "      <td>53.0</td>\n",
       "      <td>5.8</td>\n",
       "      <td>265.0</td>\n",
       "      <td>Two men of high rank are both wooing the beaut...</td>\n",
       "      <td>, Urban Gad</td>\n",
       "      <td>Urban Gad|Gebhard Schätzler-Perasini|</td>\n",
       "      <td>Asta Nielsen|Valdemar Psilander|Gunnar Helseng...</td>\n",
       "      <td>Drama</td>\n",
       "    </tr>\n",
       "    <tr>\n",
       "      <th>1</th>\n",
       "      <td>Die Verräterin</td>\n",
       "      <td>1911.0</td>\n",
       "      <td>48.0</td>\n",
       "      <td>5.9</td>\n",
       "      <td>100.0</td>\n",
       "      <td>A woman betrays the regiment location in which...</td>\n",
       "      <td>Urban Gad</td>\n",
       "      <td>Erich Zeiske|</td>\n",
       "      <td>Asta Nielsen|Max Obal|Robert Valberg</td>\n",
       "      <td>Drama</td>\n",
       "    </tr>\n",
       "    <tr>\n",
       "      <th>2</th>\n",
       "      <td>Cleopatra</td>\n",
       "      <td>1912.0</td>\n",
       "      <td>100.0</td>\n",
       "      <td>5.1</td>\n",
       "      <td>620.0</td>\n",
       "      <td>The fabled queen of Egypt's affair with Roman ...</td>\n",
       "      <td>, Charles L. Gaskill</td>\n",
       "      <td>Victorien Sardou|Charles L. Gaskill|</td>\n",
       "      <td>Helen Gardner|Pearl Sindelar|Miss Fielding</td>\n",
       "      <td>Drama|History</td>\n",
       "    </tr>\n",
       "    <tr>\n",
       "      <th>3</th>\n",
       "      <td>L'Inferno</td>\n",
       "      <td>1911.0</td>\n",
       "      <td>71.0</td>\n",
       "      <td>7.0</td>\n",
       "      <td>3500.0</td>\n",
       "      <td>Loosely adapted from Dante's Divine Comedy and...</td>\n",
       "      <td>Adolfo Padovan, Francesco Bertolini, Giuseppe ...</td>\n",
       "      <td>Dante Alighieri|</td>\n",
       "      <td>Salvatore Papa|Arturo Pirovano|Giuseppe de Lig...</td>\n",
       "      <td>Adventure|Drama|Fantasy</td>\n",
       "    </tr>\n",
       "    <tr>\n",
       "      <th>4</th>\n",
       "      <td>Den flyvende cirkus</td>\n",
       "      <td>1912.0</td>\n",
       "      <td>46.0</td>\n",
       "      <td>6.4</td>\n",
       "      <td>145.0</td>\n",
       "      <td>The Flying Circus was the largest traveling ar...</td>\n",
       "      <td>, Alfred Lind</td>\n",
       "      <td>Carl Otto Dumreicher|Alfred Lind|</td>\n",
       "      <td>Rasmus Ottesen|Emilie Otterdahl|Lili Beck</td>\n",
       "      <td>Drama</td>\n",
       "    </tr>\n",
       "    <tr>\n",
       "      <th>...</th>\n",
       "      <td>...</td>\n",
       "      <td>...</td>\n",
       "      <td>...</td>\n",
       "      <td>...</td>\n",
       "      <td>...</td>\n",
       "      <td>...</td>\n",
       "      <td>...</td>\n",
       "      <td>...</td>\n",
       "      <td>...</td>\n",
       "      <td>...</td>\n",
       "    </tr>\n",
       "    <tr>\n",
       "      <th>126684</th>\n",
       "      <td>El Ruby House</td>\n",
       "      <td>2023.0</td>\n",
       "      <td>101.0</td>\n",
       "      <td>6.7</td>\n",
       "      <td>1400.0</td>\n",
       "      <td>When a private family event gets leaked on soc...</td>\n",
       "      <td>, Peter Mimi</td>\n",
       "      <td>Reem El-Qamash|Mohamed el-Dabah|</td>\n",
       "      <td>Karim Abdel Aziz|Kareem Mahmoud Abdel Aziz|Nour</td>\n",
       "      <td>Comedy|Drama</td>\n",
       "    </tr>\n",
       "    <tr>\n",
       "      <th>126686</th>\n",
       "      <td>Den allvarsamma leken</td>\n",
       "      <td>2016.0</td>\n",
       "      <td>115.0</td>\n",
       "      <td>6.4</td>\n",
       "      <td>1400.0</td>\n",
       "      <td>An adaptation of Hjalmar Söderberg's novel \"Th...</td>\n",
       "      <td>, Pernilla August</td>\n",
       "      <td>Hjalmar Söderberg|Lone Scherfig|Hjalmar Söderb...</td>\n",
       "      <td>Sverrir Gudnason|Karin Franz Körlof|Liv Mjönes</td>\n",
       "      <td>Drama|Romance</td>\n",
       "    </tr>\n",
       "    <tr>\n",
       "      <th>126687</th>\n",
       "      <td>Pan Samochodzik i templariusze</td>\n",
       "      <td>2023.0</td>\n",
       "      <td>110.0</td>\n",
       "      <td>4.3</td>\n",
       "      <td>1300.0</td>\n",
       "      <td>When an art historian finds an ancient Templar...</td>\n",
       "      <td>, Antoni Nykowski</td>\n",
       "      <td>Bartosz Sztybor|Antoni Nykowski|Zbigniew Niena...</td>\n",
       "      <td>Mateusz Janicki|Sandra Drzymalska|Maria Debska</td>\n",
       "      <td>Adventure|Drama|Family</td>\n",
       "    </tr>\n",
       "    <tr>\n",
       "      <th>126688</th>\n",
       "      <td>Goal of the Dead</td>\n",
       "      <td>2014.0</td>\n",
       "      <td>140.0</td>\n",
       "      <td>5.5</td>\n",
       "      <td>1600.0</td>\n",
       "      <td>A professional football team arrives at their ...</td>\n",
       "      <td>, Benjamin Rocher, Thierry Poiraud</td>\n",
       "      <td>Tristan Schulmann|Nicolas Peufaillit|Quoc Dang...</td>\n",
       "      <td>Alban Lenoir|Charlie Bruneau|Tiphaine Daviot</td>\n",
       "      <td>Comedy|Horror</td>\n",
       "    </tr>\n",
       "    <tr>\n",
       "      <th>126690</th>\n",
       "      <td>As Night Comes</td>\n",
       "      <td>2014.0</td>\n",
       "      <td>103.0</td>\n",
       "      <td>4.0</td>\n",
       "      <td>242.0</td>\n",
       "      <td>Troubled seventeen-year-old Sean Holloway fall...</td>\n",
       "      <td>, Richard Zelniker</td>\n",
       "      <td>Ryan Koehn|Richard Zelniker|</td>\n",
       "      <td>Luke Baines|Myko Olivier|Evanne Friedmann</td>\n",
       "      <td>Crime|Drama</td>\n",
       "    </tr>\n",
       "  </tbody>\n",
       "</table>\n",
       "<p>117771 rows × 10 columns</p>\n",
       "</div>"
      ],
      "text/plain": [
       "                                 Title  Release Year  Length in Min  \\\n",
       "0                       Den sorte drøm        1911.0           53.0   \n",
       "1                       Die Verräterin        1911.0           48.0   \n",
       "2                            Cleopatra        1912.0          100.0   \n",
       "3                            L'Inferno        1911.0           71.0   \n",
       "4                  Den flyvende cirkus        1912.0           46.0   \n",
       "...                                ...           ...            ...   \n",
       "126684                   El Ruby House        2023.0          101.0   \n",
       "126686           Den allvarsamma leken        2016.0          115.0   \n",
       "126687  Pan Samochodzik i templariusze        2023.0          110.0   \n",
       "126688                Goal of the Dead        2014.0          140.0   \n",
       "126690                  As Night Comes        2014.0          103.0   \n",
       "\n",
       "        IMDB Rating  Rating Count  \\\n",
       "0               5.8         265.0   \n",
       "1               5.9         100.0   \n",
       "2               5.1         620.0   \n",
       "3               7.0        3500.0   \n",
       "4               6.4         145.0   \n",
       "...             ...           ...   \n",
       "126684          6.7        1400.0   \n",
       "126686          6.4        1400.0   \n",
       "126687          4.3        1300.0   \n",
       "126688          5.5        1600.0   \n",
       "126690          4.0         242.0   \n",
       "\n",
       "                                                     Plot  \\\n",
       "0       Two men of high rank are both wooing the beaut...   \n",
       "1       A woman betrays the regiment location in which...   \n",
       "2       The fabled queen of Egypt's affair with Roman ...   \n",
       "3       Loosely adapted from Dante's Divine Comedy and...   \n",
       "4       The Flying Circus was the largest traveling ar...   \n",
       "...                                                   ...   \n",
       "126684  When a private family event gets leaked on soc...   \n",
       "126686  An adaptation of Hjalmar Söderberg's novel \"Th...   \n",
       "126687  When an art historian finds an ancient Templar...   \n",
       "126688  A professional football team arrives at their ...   \n",
       "126690  Troubled seventeen-year-old Sean Holloway fall...   \n",
       "\n",
       "                                                Directors  \\\n",
       "0                                             , Urban Gad   \n",
       "1                                               Urban Gad   \n",
       "2                                    , Charles L. Gaskill   \n",
       "3       Adolfo Padovan, Francesco Bertolini, Giuseppe ...   \n",
       "4                                           , Alfred Lind   \n",
       "...                                                   ...   \n",
       "126684                                       , Peter Mimi   \n",
       "126686                                  , Pernilla August   \n",
       "126687                                  , Antoni Nykowski   \n",
       "126688                 , Benjamin Rocher, Thierry Poiraud   \n",
       "126690                                 , Richard Zelniker   \n",
       "\n",
       "                                                  Writers  \\\n",
       "0                   Urban Gad|Gebhard Schätzler-Perasini|   \n",
       "1                                           Erich Zeiske|   \n",
       "2                    Victorien Sardou|Charles L. Gaskill|   \n",
       "3                                        Dante Alighieri|   \n",
       "4                       Carl Otto Dumreicher|Alfred Lind|   \n",
       "...                                                   ...   \n",
       "126684                   Reem El-Qamash|Mohamed el-Dabah|   \n",
       "126686  Hjalmar Söderberg|Lone Scherfig|Hjalmar Söderb...   \n",
       "126687  Bartosz Sztybor|Antoni Nykowski|Zbigniew Niena...   \n",
       "126688  Tristan Schulmann|Nicolas Peufaillit|Quoc Dang...   \n",
       "126690                       Ryan Koehn|Richard Zelniker|   \n",
       "\n",
       "                                                    Stars  \\\n",
       "0       Asta Nielsen|Valdemar Psilander|Gunnar Helseng...   \n",
       "1                    Asta Nielsen|Max Obal|Robert Valberg   \n",
       "2              Helen Gardner|Pearl Sindelar|Miss Fielding   \n",
       "3       Salvatore Papa|Arturo Pirovano|Giuseppe de Lig...   \n",
       "4               Rasmus Ottesen|Emilie Otterdahl|Lili Beck   \n",
       "...                                                   ...   \n",
       "126684    Karim Abdel Aziz|Kareem Mahmoud Abdel Aziz|Nour   \n",
       "126686     Sverrir Gudnason|Karin Franz Körlof|Liv Mjönes   \n",
       "126687     Mateusz Janicki|Sandra Drzymalska|Maria Debska   \n",
       "126688       Alban Lenoir|Charlie Bruneau|Tiphaine Daviot   \n",
       "126690          Luke Baines|Myko Olivier|Evanne Friedmann   \n",
       "\n",
       "                         Genres  \n",
       "0                         Drama  \n",
       "1                         Drama  \n",
       "2                 Drama|History  \n",
       "3       Adventure|Drama|Fantasy  \n",
       "4                         Drama  \n",
       "...                         ...  \n",
       "126684             Comedy|Drama  \n",
       "126686            Drama|Romance  \n",
       "126687   Adventure|Drama|Family  \n",
       "126688            Comedy|Horror  \n",
       "126690              Crime|Drama  \n",
       "\n",
       "[117771 rows x 10 columns]"
      ]
     },
     "execution_count": 28,
     "metadata": {},
     "output_type": "execute_result"
    }
   ],
   "source": [
    "data\n"
   ]
  },
  {
   "cell_type": "code",
   "execution_count": 108,
   "id": "514050ab-bc96-4be9-8d0a-f5eca25cb40b",
   "metadata": {},
   "outputs": [
    {
     "data": {
      "text/html": [
       "<div>\n",
       "<style scoped>\n",
       "    .dataframe tbody tr th:only-of-type {\n",
       "        vertical-align: middle;\n",
       "    }\n",
       "\n",
       "    .dataframe tbody tr th {\n",
       "        vertical-align: top;\n",
       "    }\n",
       "\n",
       "    .dataframe thead th {\n",
       "        text-align: right;\n",
       "    }\n",
       "</style>\n",
       "<table border=\"1\" class=\"dataframe\">\n",
       "  <thead>\n",
       "    <tr style=\"text-align: right;\">\n",
       "      <th></th>\n",
       "      <th>Release Year</th>\n",
       "      <th>Length in Min</th>\n",
       "      <th>0</th>\n",
       "      <th>1</th>\n",
       "      <th>2</th>\n",
       "    </tr>\n",
       "  </thead>\n",
       "  <tbody>\n",
       "    <tr>\n",
       "      <th>0</th>\n",
       "      <td>1911.0</td>\n",
       "      <td>53.0</td>\n",
       "      <td>Asta Nielsen</td>\n",
       "      <td>Valdemar Psilander</td>\n",
       "      <td>Gunnar Helsengreen</td>\n",
       "    </tr>\n",
       "    <tr>\n",
       "      <th>1</th>\n",
       "      <td>1911.0</td>\n",
       "      <td>48.0</td>\n",
       "      <td>Asta Nielsen</td>\n",
       "      <td>Max Obal</td>\n",
       "      <td>Robert Valberg</td>\n",
       "    </tr>\n",
       "  </tbody>\n",
       "</table>\n",
       "</div>"
      ],
      "text/plain": [
       "   Release Year  Length in Min             0                   1  \\\n",
       "0        1911.0           53.0  Asta Nielsen  Valdemar Psilander   \n",
       "1        1911.0           48.0  Asta Nielsen            Max Obal   \n",
       "\n",
       "                    2  \n",
       "0  Gunnar Helsengreen  \n",
       "1      Robert Valberg  "
      ]
     },
     "execution_count": 108,
     "metadata": {},
     "output_type": "execute_result"
    }
   ],
   "source": [
    "df = data.copy()\n",
    "all_stars = df['Stars'].str.split('|',expand=True)\n",
    "x=all_stars.iloc[:,:3]\n",
    "df_comb= pd.concat([df[['Release Year', 'Length in Min']], x], axis=1)\n",
    "df_comb.head(2)"
   ]
  },
  {
   "cell_type": "code",
   "execution_count": 109,
   "id": "35a1fe66-d27d-45fb-8c70-1dbb463eaec0",
   "metadata": {},
   "outputs": [
    {
     "data": {
      "text/html": [
       "<div>\n",
       "<style scoped>\n",
       "    .dataframe tbody tr th:only-of-type {\n",
       "        vertical-align: middle;\n",
       "    }\n",
       "\n",
       "    .dataframe tbody tr th {\n",
       "        vertical-align: top;\n",
       "    }\n",
       "\n",
       "    .dataframe thead th {\n",
       "        text-align: right;\n",
       "    }\n",
       "</style>\n",
       "<table border=\"1\" class=\"dataframe\">\n",
       "  <thead>\n",
       "    <tr style=\"text-align: right;\">\n",
       "      <th></th>\n",
       "      <th>Release Year</th>\n",
       "      <th>Length in Min</th>\n",
       "      <th>0</th>\n",
       "      <th>1</th>\n",
       "      <th>2</th>\n",
       "    </tr>\n",
       "  </thead>\n",
       "  <tbody>\n",
       "    <tr>\n",
       "      <th>0</th>\n",
       "      <td>1911.0</td>\n",
       "      <td>53.0</td>\n",
       "      <td>4897</td>\n",
       "      <td>59382</td>\n",
       "      <td>23415</td>\n",
       "    </tr>\n",
       "    <tr>\n",
       "      <th>1</th>\n",
       "      <td>1911.0</td>\n",
       "      <td>48.0</td>\n",
       "      <td>4897</td>\n",
       "      <td>39734</td>\n",
       "      <td>55263</td>\n",
       "    </tr>\n",
       "    <tr>\n",
       "      <th>2</th>\n",
       "      <td>1912.0</td>\n",
       "      <td>100.0</td>\n",
       "      <td>18967</td>\n",
       "      <td>46461</td>\n",
       "      <td>46055</td>\n",
       "    </tr>\n",
       "    <tr>\n",
       "      <th>3</th>\n",
       "      <td>1911.0</td>\n",
       "      <td>71.0</td>\n",
       "      <td>43498</td>\n",
       "      <td>5222</td>\n",
       "      <td>22727</td>\n",
       "    </tr>\n",
       "    <tr>\n",
       "      <th>4</th>\n",
       "      <td>1912.0</td>\n",
       "      <td>46.0</td>\n",
       "      <td>40806</td>\n",
       "      <td>16634</td>\n",
       "      <td>38244</td>\n",
       "    </tr>\n",
       "    <tr>\n",
       "      <th>...</th>\n",
       "      <td>...</td>\n",
       "      <td>...</td>\n",
       "      <td>...</td>\n",
       "      <td>...</td>\n",
       "      <td>...</td>\n",
       "    </tr>\n",
       "    <tr>\n",
       "      <th>126684</th>\n",
       "      <td>2023.0</td>\n",
       "      <td>101.0</td>\n",
       "      <td>26018</td>\n",
       "      <td>30646</td>\n",
       "      <td>49034</td>\n",
       "    </tr>\n",
       "    <tr>\n",
       "      <th>126686</th>\n",
       "      <td>2016.0</td>\n",
       "      <td>115.0</td>\n",
       "      <td>47292</td>\n",
       "      <td>30772</td>\n",
       "      <td>38708</td>\n",
       "    </tr>\n",
       "    <tr>\n",
       "      <th>126687</th>\n",
       "      <td>2023.0</td>\n",
       "      <td>110.0</td>\n",
       "      <td>32926</td>\n",
       "      <td>52131</td>\n",
       "      <td>41374</td>\n",
       "    </tr>\n",
       "    <tr>\n",
       "      <th>126688</th>\n",
       "      <td>2014.0</td>\n",
       "      <td>140.0</td>\n",
       "      <td>1202</td>\n",
       "      <td>10007</td>\n",
       "      <td>64078</td>\n",
       "    </tr>\n",
       "    <tr>\n",
       "      <th>126690</th>\n",
       "      <td>2014.0</td>\n",
       "      <td>103.0</td>\n",
       "      <td>30402</td>\n",
       "      <td>42536</td>\n",
       "      <td>19468</td>\n",
       "    </tr>\n",
       "  </tbody>\n",
       "</table>\n",
       "<p>117771 rows × 5 columns</p>\n",
       "</div>"
      ],
      "text/plain": [
       "        Release Year  Length in Min      0      1      2\n",
       "0             1911.0           53.0   4897  59382  23415\n",
       "1             1911.0           48.0   4897  39734  55263\n",
       "2             1912.0          100.0  18967  46461  46055\n",
       "3             1911.0           71.0  43498   5222  22727\n",
       "4             1912.0           46.0  40806  16634  38244\n",
       "...              ...            ...    ...    ...    ...\n",
       "126684        2023.0          101.0  26018  30646  49034\n",
       "126686        2016.0          115.0  47292  30772  38708\n",
       "126687        2023.0          110.0  32926  52131  41374\n",
       "126688        2014.0          140.0   1202  10007  64078\n",
       "126690        2014.0          103.0  30402  42536  19468\n",
       "\n",
       "[117771 rows x 5 columns]"
      ]
     },
     "execution_count": 109,
     "metadata": {},
     "output_type": "execute_result"
    }
   ],
   "source": [
    "from sklearn.model_selection import train_test_split\n",
    "from sklearn.linear_model import LinearRegression\n",
    "from sklearn.metrics import r2_score\n",
    "from sklearn.preprocessing import LabelEncoder\n",
    "\n",
    "\n",
    "label_encoder = LabelEncoder()\n",
    "df_comb[0] = label_encoder.fit_transform(df_comb[0])\n",
    "df_comb[1] = label_encoder.fit_transform(df_comb[1])\n",
    "df_comb[2] = label_encoder.fit_transform(df_comb[2])\n",
    "df_comb"
   ]
  },
  {
   "cell_type": "code",
   "execution_count": 120,
   "id": "992f0682-4ba8-436a-b761-91556658eab3",
   "metadata": {},
   "outputs": [
    {
     "data": {
      "text/plain": [
       "(117771,)"
      ]
     },
     "execution_count": 120,
     "metadata": {},
     "output_type": "execute_result"
    }
   ],
   "source": [
    "y = pd.Series(df['IMDB Rating'])\n",
    "y.shape"
   ]
  },
  {
   "cell_type": "code",
   "execution_count": 124,
   "id": "71908cac-9fa2-40f1-acd9-8ce41fc180f4",
   "metadata": {},
   "outputs": [
    {
     "ename": "ValueError",
     "evalue": "Found input variables with inconsistent numbers of samples: [5, 117771]",
     "output_type": "error",
     "traceback": [
      "\u001b[1;31m---------------------------------------------------------------------------\u001b[0m",
      "\u001b[1;31mValueError\u001b[0m                                Traceback (most recent call last)",
      "Cell \u001b[1;32mIn[124], line 1\u001b[0m\n\u001b[1;32m----> 1\u001b[0m X_train, X_test, y_train, y_test \u001b[38;5;241m=\u001b[39m train_test_split(df_comb, y, test_size\u001b[38;5;241m=\u001b[39m\u001b[38;5;241m0.2\u001b[39m, random_state\u001b[38;5;241m=\u001b[39m\u001b[38;5;241m30\u001b[39m)\n\u001b[0;32m      3\u001b[0m \u001b[38;5;66;03m# Model Definition and Training\u001b[39;00m\n\u001b[0;32m      4\u001b[0m model \u001b[38;5;241m=\u001b[39m LinearRegression()\n",
      "File \u001b[1;32m~\\AppData\\Local\\anaconda3\\Lib\\site-packages\\sklearn\\model_selection\\_split.py:2559\u001b[0m, in \u001b[0;36mtrain_test_split\u001b[1;34m(test_size, train_size, random_state, shuffle, stratify, *arrays)\u001b[0m\n\u001b[0;32m   2556\u001b[0m \u001b[38;5;28;01mif\u001b[39;00m n_arrays \u001b[38;5;241m==\u001b[39m \u001b[38;5;241m0\u001b[39m:\n\u001b[0;32m   2557\u001b[0m     \u001b[38;5;28;01mraise\u001b[39;00m \u001b[38;5;167;01mValueError\u001b[39;00m(\u001b[38;5;124m\"\u001b[39m\u001b[38;5;124mAt least one array required as input\u001b[39m\u001b[38;5;124m\"\u001b[39m)\n\u001b[1;32m-> 2559\u001b[0m arrays \u001b[38;5;241m=\u001b[39m indexable(\u001b[38;5;241m*\u001b[39marrays)\n\u001b[0;32m   2561\u001b[0m n_samples \u001b[38;5;241m=\u001b[39m _num_samples(arrays[\u001b[38;5;241m0\u001b[39m])\n\u001b[0;32m   2562\u001b[0m n_train, n_test \u001b[38;5;241m=\u001b[39m _validate_shuffle_split(\n\u001b[0;32m   2563\u001b[0m     n_samples, test_size, train_size, default_test_size\u001b[38;5;241m=\u001b[39m\u001b[38;5;241m0.25\u001b[39m\n\u001b[0;32m   2564\u001b[0m )\n",
      "File \u001b[1;32m~\\AppData\\Local\\anaconda3\\Lib\\site-packages\\sklearn\\utils\\validation.py:443\u001b[0m, in \u001b[0;36mindexable\u001b[1;34m(*iterables)\u001b[0m\n\u001b[0;32m    424\u001b[0m \u001b[38;5;250m\u001b[39m\u001b[38;5;124;03m\"\"\"Make arrays indexable for cross-validation.\u001b[39;00m\n\u001b[0;32m    425\u001b[0m \n\u001b[0;32m    426\u001b[0m \u001b[38;5;124;03mChecks consistent length, passes through None, and ensures that everything\u001b[39;00m\n\u001b[1;32m   (...)\u001b[0m\n\u001b[0;32m    439\u001b[0m \u001b[38;5;124;03m    sparse matrix, or dataframe) or `None`.\u001b[39;00m\n\u001b[0;32m    440\u001b[0m \u001b[38;5;124;03m\"\"\"\u001b[39;00m\n\u001b[0;32m    442\u001b[0m result \u001b[38;5;241m=\u001b[39m [_make_indexable(X) \u001b[38;5;28;01mfor\u001b[39;00m X \u001b[38;5;129;01min\u001b[39;00m iterables]\n\u001b[1;32m--> 443\u001b[0m check_consistent_length(\u001b[38;5;241m*\u001b[39mresult)\n\u001b[0;32m    444\u001b[0m \u001b[38;5;28;01mreturn\u001b[39;00m result\n",
      "File \u001b[1;32m~\\AppData\\Local\\anaconda3\\Lib\\site-packages\\sklearn\\utils\\validation.py:397\u001b[0m, in \u001b[0;36mcheck_consistent_length\u001b[1;34m(*arrays)\u001b[0m\n\u001b[0;32m    395\u001b[0m uniques \u001b[38;5;241m=\u001b[39m np\u001b[38;5;241m.\u001b[39munique(lengths)\n\u001b[0;32m    396\u001b[0m \u001b[38;5;28;01mif\u001b[39;00m \u001b[38;5;28mlen\u001b[39m(uniques) \u001b[38;5;241m>\u001b[39m \u001b[38;5;241m1\u001b[39m:\n\u001b[1;32m--> 397\u001b[0m     \u001b[38;5;28;01mraise\u001b[39;00m \u001b[38;5;167;01mValueError\u001b[39;00m(\n\u001b[0;32m    398\u001b[0m         \u001b[38;5;124m\"\u001b[39m\u001b[38;5;124mFound input variables with inconsistent numbers of samples: \u001b[39m\u001b[38;5;132;01m%r\u001b[39;00m\u001b[38;5;124m\"\u001b[39m\n\u001b[0;32m    399\u001b[0m         \u001b[38;5;241m%\u001b[39m [\u001b[38;5;28mint\u001b[39m(l) \u001b[38;5;28;01mfor\u001b[39;00m l \u001b[38;5;129;01min\u001b[39;00m lengths]\n\u001b[0;32m    400\u001b[0m     )\n",
      "\u001b[1;31mValueError\u001b[0m: Found input variables with inconsistent numbers of samples: [5, 117771]"
     ]
    }
   ],
   "source": [
    "\n",
    "X_train, X_test, y_train, y_test = train_test_split(df_comb, y, test_size=0.2, random_state=30)\n",
    "model = LinearRegression()\n",
    "model.fit(X_train, y_train)\n",
    "\n",
    "test_r2 = r2_score(y_test, model.predict(X_test))\n"
   ]
  },
  {
   "cell_type": "code",
   "execution_count": 80,
   "id": "b79d742b-bc20-4139-a24f-dd6f2ec79d63",
   "metadata": {},
   "outputs": [
    {
     "data": {
      "text/plain": [
       "(5,)"
      ]
     },
     "execution_count": 80,
     "metadata": {},
     "output_type": "execute_result"
    }
   ],
   "source": []
  },
  {
   "cell_type": "code",
   "execution_count": null,
   "id": "480197ec-11bb-448f-aeb1-672fce0de440",
   "metadata": {},
   "outputs": [],
   "source": []
  }
 ],
 "metadata": {
  "kernelspec": {
   "display_name": "Python 3 (ipykernel)",
   "language": "python",
   "name": "python3"
  },
  "language_info": {
   "codemirror_mode": {
    "name": "ipython",
    "version": 3
   },
   "file_extension": ".py",
   "mimetype": "text/x-python",
   "name": "python",
   "nbconvert_exporter": "python",
   "pygments_lexer": "ipython3",
   "version": "3.11.7"
  }
 },
 "nbformat": 4,
 "nbformat_minor": 5
}
