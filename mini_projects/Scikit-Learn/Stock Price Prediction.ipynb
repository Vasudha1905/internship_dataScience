{
 "cells": [
  {
   "cell_type": "markdown",
   "id": "58df383e-8d54-4c22-82f7-5fbceb4f3870",
   "metadata": {},
   "source": [
    "## stock price prediction"
   ]
  },
  {
   "cell_type": "markdown",
   "id": "b753f2f6-e625-4651-b4a2-b0b23d17e340",
   "metadata": {},
   "source": [
    "#### evaluating diffrent models"
   ]
  },
  {
   "cell_type": "markdown",
   "id": "8840b2d1-5f6b-4c04-b03c-5e2d5cceeb72",
   "metadata": {},
   "source": [
    "we evaluate and visualize different models to determine the correlation (aka similarity) between their outputs, in order to create diverse strategies that will perform well when combined into one model."
   ]
  },
  {
   "cell_type": "code",
   "execution_count": 71,
   "id": "496e6c90-ea7a-4a1c-bb64-de0d8fa6fdef",
   "metadata": {},
   "outputs": [],
   "source": [
    "import numpy as np\n",
    "import pandas as pd\n",
    "import matplotlib.pyplot as plt\n",
    "import seaborn as sns\n",
    "import yfinance as yf\n",
    "from sklearn.linear_model import Ridge, Lasso\n",
    "from sklearn.neighbors import KNeighborsRegressor\n",
    "from sklearn.model_selection import train_test_split\n",
    "from sklearn.model_selection import TimeSeriesSplit, cross_val_score\n",
    "from sklearn.ensemble import VotingRegressor\n",
    "from sklearn.metrics import make_scorer"
   ]
  },
  {
   "cell_type": "markdown",
   "id": "ec55896c-c12c-4fb6-bdc5-e685f7cb60a0",
   "metadata": {},
   "source": [
    "#### creating features\n",
    "* The spread feature measures volatility. \n",
    "* The gap feature measures the price movement after hours\n",
    "* The intraday feature measures the price movement from the open to close."
   ]
  },
  {
   "cell_type": "code",
   "execution_count": 72,
   "id": "82b1c0cf-bc4d-46ae-b0ab-f9e4fbcff9b9",
   "metadata": {},
   "outputs": [],
   "source": [
    "def create_features(df):\n",
    "    df['Spread'] = df['High'] - df['Low']\n",
    "    df['Gap'] = df['Open'] - df['Close'].shift(1)\n",
    "    df['Intraday'] = df['Open'] - df['Close']\n",
    "    return df"
   ]
  },
  {
   "cell_type": "markdown",
   "id": "f5db5b1b-f410-496d-a221-a9bfacfe26c3",
   "metadata": {},
   "source": [
    "#### calculating features\n",
    "* to measure the percentage change and rolling average for Spread, Gap, and Intraday over the last n periods.\n",
    "* lookback:maximum period over which we want to look back.\n",
    "  step: interval at which we calculate the new features.\n"
   ]
  },
  {
   "cell_type": "code",
   "execution_count": 73,
   "id": "c05e05c0-028c-48b0-b971-61a191a1ef3c",
   "metadata": {},
   "outputs": [],
   "source": [
    "def process_features(df, lookback, step):\n",
    "    for i in range(step, lookback+1, step):\n",
    "        df['%d Spread' % (i)] = df['Spread'].pct_change(periods=i, fill_method=None)\n",
    "        df['%d Rolling Avg Spread' % (i)] = df['Spread'].rolling(window=i).mean()\n",
    "\n",
    "        df['%d Gap' % (i)] = df['Gap'].pct_change(periods=i, fill_method=None)\n",
    "        df['%d Rolling Avg Gap' % (i)] = df['Gap'].rolling(window=i).mean()\n",
    "\n",
    "        df['%d Intraday' % (i)] = df['Intraday'].pct_change(periods=i, fill_method=None)\n",
    "        df['%d Rolling Avg Intraday' % (i)] = df['Intraday'].rolling(window=i).mean()\n",
    "    return df"
   ]
  },
  {
   "cell_type": "markdown",
   "id": "d39f412a-8a66-4790-bd69-091776a50742",
   "metadata": {},
   "source": [
    "### dropping extra columns"
   ]
  },
  {
   "cell_type": "code",
   "execution_count": 74,
   "id": "78e2171f-f4cf-45a3-91a3-0cb54ef6ad05",
   "metadata": {},
   "outputs": [],
   "source": [
    "def drop_features(df):\n",
    "    df.drop(columns=['Spread','Gap','Intraday'],inplace=True)\n",
    "    df.drop(columns=['Open','High','Low','Close','Volume','Adj Close'], inplace=True)\n",
    "    return df"
   ]
  },
  {
   "cell_type": "markdown",
   "id": "c3e3ff32-aaed-4eac-8808-e489a7b97ada",
   "metadata": {},
   "source": [
    "#### creating a target"
   ]
  },
  {
   "cell_type": "markdown",
   "id": "7761c3ec-ed86-4697-80ab-974da8d2652c",
   "metadata": {},
   "source": [
    "* calculates the percentage change in price over these days and then takes the natural logarithm of that change.\n",
    "* This can help predict future price movements based on past data."
   ]
  },
  {
   "cell_type": "code",
   "execution_count": 75,
   "id": "95c171e7-d71d-425d-b803-f11a88b92e46",
   "metadata": {},
   "outputs": [],
   "source": [
    "def create_target(df, lookforward=2, target='Open'):\n",
    "    df['Target'] = np.log(df[target].shift(periods=-lookforward)/df[target].shift(periods=-1))\n",
    "    return df"
   ]
  },
  {
   "cell_type": "markdown",
   "id": "5853eecd-78e2-4eb2-ac8c-bb479405f461",
   "metadata": {},
   "source": [
    "#### developing models"
   ]
  },
  {
   "cell_type": "markdown",
   "id": "bcf4f9e1-8682-454d-a971-67f1ba72efa2",
   "metadata": {},
   "source": [
    "* Ridge Regression: It smooths out our predictions by putting a limit on how much the factors can influence the outcome.\r",
    "* \n",
    "Lasso Regression: It helps us pick out the most important factors for prediction and ignores the less important ones\n",
    "* KNeighborsRegressor:  A non-linear regression model that makes predictions based on the closest data points."
   ]
  },
  {
   "cell_type": "code",
   "execution_count": 76,
   "id": "bbbe8982-62b4-474f-89e0-32fa8582101f",
   "metadata": {},
   "outputs": [],
   "source": [
    "estimator1 = Ridge()\n",
    "estimator2 = Lasso(alpha=.001)\n",
    "estimator3 = KNeighborsRegressor()\n",
    "models = [estimator1,estimator2,estimator3]"
   ]
  },
  {
   "cell_type": "code",
   "execution_count": 77,
   "id": "99d95494-4a1d-469f-ab88-cd9b01c7f4d1",
   "metadata": {},
   "outputs": [],
   "source": [
    "lookforward = 2\n",
    "step = 21\n",
    "lookback = 21\n",
    "results = pd.DataFrame()"
   ]
  },
  {
   "cell_type": "markdown",
   "id": "4a35b7c5-4bfc-4cfe-90e2-6689c577b2a4",
   "metadata": {},
   "source": [
    "#### defining the models\n",
    "* SPY (representing the S&P 500) reflects the stock market, while AGG (a bond market index) reflects the bond market. \n",
    "* Combining them provides insights from both markets, which can enhance the predictive power of the model."
   ]
  },
  {
   "cell_type": "code",
   "execution_count": 78,
   "id": "ed867201-847d-407a-bf00-20b8cc5d5faf",
   "metadata": {},
   "outputs": [
    {
     "name": "stderr",
     "output_type": "stream",
     "text": [
      "[*********************100%%**********************]  1 of 1 completed\n",
      "[*********************100%%**********************]  1 of 1 completed\n",
      "C:\\Users\\Vasudharajesh.i\\AppData\\Local\\Temp\\ipykernel_12900\\1502594381.py:28: FutureWarning: DataFrame.fillna with 'method' is deprecated and will raise in a future version. Use obj.ffill() or obj.bfill() instead.\n",
      "  X.fillna(method=\"ffill\", inplace=True)\n",
      "C:\\Users\\Vasudharajesh.i\\AppData\\Local\\anaconda3\\Lib\\site-packages\\sklearn\\linear_model\\_ridge.py:216: LinAlgWarning: Ill-conditioned matrix (rcond=4.42585e-20): result may not be accurate.\n",
      "  return linalg.solve(A, Xy, assume_a=\"pos\", overwrite_a=True).T\n",
      "[*********************100%%**********************]  1 of 1 completed\n",
      "[*********************100%%**********************]  1 of 1 completed\n",
      "C:\\Users\\Vasudharajesh.i\\AppData\\Local\\Temp\\ipykernel_12900\\1502594381.py:28: FutureWarning: DataFrame.fillna with 'method' is deprecated and will raise in a future version. Use obj.ffill() or obj.bfill() instead.\n",
      "  X.fillna(method=\"ffill\", inplace=True)\n",
      "C:\\Users\\Vasudharajesh.i\\AppData\\Local\\anaconda3\\Lib\\site-packages\\sklearn\\linear_model\\_coordinate_descent.py:631: ConvergenceWarning: Objective did not converge. You might want to increase the number of iterations, check the scale of the features or consider increasing regularisation. Duality gap: 1.210e-01, tolerance: 2.441e-05\n",
      "  model = cd_fast.enet_coordinate_descent(\n",
      "[*********************100%%**********************]  1 of 1 completed\n",
      "[*********************100%%**********************]  1 of 1 completed\n",
      "C:\\Users\\Vasudharajesh.i\\AppData\\Local\\Temp\\ipykernel_12900\\1502594381.py:28: FutureWarning: DataFrame.fillna with 'method' is deprecated and will raise in a future version. Use obj.ffill() or obj.bfill() instead.\n",
      "  X.fillna(method=\"ffill\", inplace=True)\n"
     ]
    }
   ],
   "source": [
    "for model in models:\n",
    "    if lookback >= step:\n",
    "        # importing data\n",
    "        spy = yf.download('SPY', start='2004-01-01')\n",
    "        agg = yf.download('AGG', start='2004-01-01')\n",
    "\n",
    "        # creating target\n",
    "        spy = create_target(spy, lookforward, target='Open')\n",
    "\n",
    "        # adding features\n",
    "        spy = create_features(spy)\n",
    "        spy = process_features(spy, lookback, step)\n",
    "        spy = spy.add_suffix(' SPY')\n",
    "\n",
    "        agg = create_features(agg)\n",
    "        agg = process_features(agg, lookback, step)\n",
    "        agg = agg.add_suffix(' AGG')\n",
    "        cv = pd.merge(spy, agg, how='inner', on='Date')\n",
    "\n",
    "        # remove rows from end and begining to enusre enough data for lookback and forward \n",
    "        cv.drop(cv.tail(lookforward).index, inplace=True)\n",
    "        cv.drop(cv.head(lookback).index, inplace=True)\n",
    "\n",
    "        # filling null values\n",
    "        X = cv\n",
    "        y = X[['Target SPY']]\n",
    "        X = X.drop(columns=['Target SPY'])\n",
    "        X.fillna(method=\"ffill\", inplace=True)\n",
    "        X.replace([np.inf, -np.inf], 0, inplace=True)\n",
    "        X.fillna(0, inplace=True)\n",
    "\n",
    "        #training the model\n",
    "        X_train, X_test, y_train, y_test = train_test_split(X, y, test_size=0.75, shuffle=False)\n",
    "\n",
    "        model.fit(X_train, y_train)\n",
    "        y_pred = model.predict(X_test)\n",
    "        results[model] = y_pred.flatten()\n",
    "\n",
    "    else:\n",
    "        print('Lookback must be greater than or equal to step')\n",
    "        break"
   ]
  },
  {
   "cell_type": "markdown",
   "id": "1952b07e-9683-405b-8a8c-ada6919c4f9d",
   "metadata": {},
   "source": [
    "#### visulaise correltation of models "
   ]
  },
  {
   "cell_type": "code",
   "execution_count": 79,
   "id": "be353d26-28d9-48e0-9957-074d4c13cb7e",
   "metadata": {},
   "outputs": [],
   "source": [
    "!pip install seaborn --upgrade -q"
   ]
  },
  {
   "cell_type": "code",
   "execution_count": 80,
   "id": "a71c3767-8f42-421e-b9c6-0072e2986715",
   "metadata": {},
   "outputs": [
    {
     "data": {
      "image/png": "[encoded data removed]",
      "text/plain": [
       "<Figure size 640x480 with 2 Axes>"
      ]
     },
     "metadata": {},
     "output_type": "display_data"
    }
   ],
   "source": [
    "correlation = results.corr()\n",
    "sns.heatmap(correlation, annot=True, fmt='.2f',cmap='coolwarm', center=0)\n",
    "plt.tight_layout()\n",
    "plt.show()"
   ]
  },
  {
   "cell_type": "markdown",
   "id": "28d9c828-7e0d-42b2-932e-a60220e10d17",
   "metadata": {},
   "source": [
    "* Here we see the models are mostly uncorrelated, which is good.\n",
    "* when we have uncorrelated models, each model has its own strategy to maximize the scoring function, and when we combine all these uncorrelated strategies, we get a meta-model which has a robust strategy."
   ]
  },
  {
   "cell_type": "markdown",
   "id": "5e01f338-e3e3-4fb2-945c-f8e0d03b135d",
   "metadata": {},
   "source": [
    "### Finding optimal interval and lookback"
   ]
  },
  {
   "cell_type": "markdown",
   "id": "3f63eddd-1a07-4309-bbbb-bca3c18f39f2",
   "metadata": {},
   "source": [
    "#### create a scoring function"
   ]
  },
  {
   "cell_type": "markdown",
   "id": "b689721a-639f-42d9-85a9-d6faff4ceb33",
   "metadata": {},
   "source": [
    " we are scoring different models on their average returns,"
   ]
  },
  {
   "cell_type": "code",
   "execution_count": 81,
   "id": "5896c891-23b5-4000-bff1-413db02ad2b2",
   "metadata": {},
   "outputs": [],
   "source": [
    "def custom_score(y_true, y_pred):\n",
    "  pred_sign = np.sign(y_pred)\n",
    "  y_true = np.squeeze(y_true)\n",
    "  returns = np.where((pred_sign == 1), y_true, 0)\n",
    "  return returns.mean()\n",
    "\n",
    "custom_scorer = make_scorer(custom_score, greater_is_better=True)"
   ]
  },
  {
   "cell_type": "markdown",
   "id": "45e107e6-55b7-43b6-8fa8-1942da889bce",
   "metadata": {},
   "source": [
    "#### combining 3 models into 1 "
   ]
  },
  {
   "cell_type": "markdown",
   "id": "e2402deb-559d-4d54-908f-40970b63be2d",
   "metadata": {},
   "source": [
    "We combine the 3 models into 1 using the VotingRegressor. The VotingRegressor works by averaging the output of the models that its composed of into a single output."
   ]
  },
  {
   "cell_type": "code",
   "execution_count": 82,
   "id": "5bbb029f-d427-430b-987a-135f5208c31c",
   "metadata": {},
   "outputs": [],
   "source": [
    "estimator1 = Ridge()\n",
    "estimator2 = Lasso(alpha=.001)\n",
    "estimator3 = KNeighborsRegressor()\n",
    "models = [estimator1,estimator2,estimator3]\n",
    "estimator = VotingRegressor(estimators=[('Ridge', estimator1),('Lasso', estimator2),('KNN', estimator3)])"
   ]
  },
  {
   "cell_type": "markdown",
   "id": "07b74ee4-ed8f-4a6c-97a7-08bb9734ba66",
   "metadata": {},
   "source": [
    "#### Define target, cross validation folds, interval, and lookback parameters.\n",
    "* we test the model 5 times (n_splits=5). We also have to add a gap between each split, otherwise there will be some overlap, which could cause the models to peek at data it shouldn't, and artificially inflate its score.\n",
    "* Next we define the steps (or intervals) and lookbacks we want to test our model at, in order to find the ones that it scores the highest on.\n",
    "* we create an object to store the results of our model in."
   ]
  },
  {
   "cell_type": "code",
   "execution_count": 83,
   "id": "1ba06d13-7318-4eaa-8c62-3c0f1124209b",
   "metadata": {},
   "outputs": [],
   "source": [
    "lookforward = 2\n",
    "tscv = TimeSeriesSplit(n_splits=5, gap=lookforward)\n",
    "steps = [1, 2, 3, 4, 5]\n",
    "lookbacks = [1, 2, 3, 4, 5]\n",
    "cv_results = pd.DataFrame(columns=['step', 'lookback', 'score'])"
   ]
  },
  {
   "cell_type": "markdown",
   "id": "c92eccd8-a0b0-40c6-ae95-28b520a47ef0",
   "metadata": {},
   "source": [
    "#### Evaluate and visualize scores of different combinations of parameters"
   ]
  },
  {
   "cell_type": "code",
   "execution_count": 84,
   "id": "15337d77-8f0e-46ba-a95d-707a1b02d22d",
   "metadata": {},
   "outputs": [
    {
     "name": "stderr",
     "output_type": "stream",
     "text": [
      "[*********************100%%**********************]  1 of 1 completed\n",
      "[*********************100%%**********************]  1 of 1 completed\n",
      "C:\\Users\\Vasudharajesh.i\\AppData\\Local\\Temp\\ipykernel_12900\\2117599840.py:29: FutureWarning: DataFrame.fillna with 'method' is deprecated and will raise in a future version. Use obj.ffill() or obj.bfill() instead.\n",
      "  X.fillna(method=\"ffill\", inplace=True)\n",
      "C:\\Users\\Vasudharajesh.i\\AppData\\Local\\anaconda3\\Lib\\site-packages\\sklearn\\ensemble\\_voting.py:597: DataConversionWarning: A column-vector y was passed when a 1d array was expected. Please change the shape of y to (n_samples, ), for example using ravel().\n",
      "  y = column_or_1d(y, warn=True)\n",
      "C:\\Users\\Vasudharajesh.i\\AppData\\Local\\anaconda3\\Lib\\site-packages\\sklearn\\linear_model\\_ridge.py:216: LinAlgWarning: Ill-conditioned matrix (rcond=1.01017e-18): result may not be accurate.\n",
      "  return linalg.solve(A, Xy, assume_a=\"pos\", overwrite_a=True).T\n",
      "C:\\Users\\Vasudharajesh.i\\AppData\\Local\\anaconda3\\Lib\\site-packages\\sklearn\\ensemble\\_voting.py:597: DataConversionWarning: A column-vector y was passed when a 1d array was expected. Please change the shape of y to (n_samples, ), for example using ravel().\n",
      "  y = column_or_1d(y, warn=True)\n",
      "C:\\Users\\Vasudharajesh.i\\AppData\\Local\\anaconda3\\Lib\\site-packages\\sklearn\\linear_model\\_ridge.py:216: LinAlgWarning: Ill-conditioned matrix (rcond=3.04481e-20): result may not be accurate.\n",
      "  return linalg.solve(A, Xy, assume_a=\"pos\", overwrite_a=True).T\n",
      "C:\\Users\\Vasudharajesh.i\\AppData\\Local\\anaconda3\\Lib\\site-packages\\sklearn\\ensemble\\_voting.py:597: DataConversionWarning: A column-vector y was passed when a 1d array was expected. Please change the shape of y to (n_samples, ), for example using ravel().\n",
      "  y = column_or_1d(y, warn=True)\n",
      "C:\\Users\\Vasudharajesh.i\\AppData\\Local\\anaconda3\\Lib\\site-packages\\sklearn\\linear_model\\_ridge.py:216: LinAlgWarning: Ill-conditioned matrix (rcond=2.54566e-20): result may not be accurate.\n",
      "  return linalg.solve(A, Xy, assume_a=\"pos\", overwrite_a=True).T\n",
      "C:\\Users\\Vasudharajesh.i\\AppData\\Local\\anaconda3\\Lib\\site-packages\\sklearn\\ensemble\\_voting.py:597: DataConversionWarning: A column-vector y was passed when a 1d array was expected. Please change the shape of y to (n_samples, ), for example using ravel().\n",
      "  y = column_or_1d(y, warn=True)\n",
      "C:\\Users\\Vasudharajesh.i\\AppData\\Local\\anaconda3\\Lib\\site-packages\\sklearn\\linear_model\\_ridge.py:216: LinAlgWarning: Ill-conditioned matrix (rcond=2.27491e-20): result may not be accurate.\n",
      "  return linalg.solve(A, Xy, assume_a=\"pos\", overwrite_a=True).T\n",
      "C:\\Users\\Vasudharajesh.i\\AppData\\Local\\anaconda3\\Lib\\site-packages\\sklearn\\ensemble\\_voting.py:597: DataConversionWarning: A column-vector y was passed when a 1d array was expected. Please change the shape of y to (n_samples, ), for example using ravel().\n",
      "  y = column_or_1d(y, warn=True)\n",
      "C:\\Users\\Vasudharajesh.i\\AppData\\Local\\anaconda3\\Lib\\site-packages\\sklearn\\linear_model\\_ridge.py:216: LinAlgWarning: Ill-conditioned matrix (rcond=2.0262e-20): result may not be accurate.\n",
      "  return linalg.solve(A, Xy, assume_a=\"pos\", overwrite_a=True).T\n",
      "C:\\Users\\Vasudharajesh.i\\AppData\\Local\\Temp\\ipykernel_12900\\2117599840.py:38: FutureWarning: The behavior of DataFrame concatenation with empty or all-NA entries is deprecated. In a future version, this will no longer exclude empty or all-NA columns when determining the result dtypes. To retain the old behavior, exclude the relevant entries before the concat operation.\n",
      "  cv_results = pd.concat([cv_results, pd.DataFrame([new_row])], ignore_index=True)\n",
      "[*********************100%%**********************]  1 of 1 completed\n",
      "[*********************100%%**********************]  1 of 1 completed\n",
      "C:\\Users\\Vasudharajesh.i\\AppData\\Local\\Temp\\ipykernel_12900\\2117599840.py:29: FutureWarning: DataFrame.fillna with 'method' is deprecated and will raise in a future version. Use obj.ffill() or obj.bfill() instead.\n",
      "  X.fillna(method=\"ffill\", inplace=True)\n",
      "C:\\Users\\Vasudharajesh.i\\AppData\\Local\\anaconda3\\Lib\\site-packages\\sklearn\\ensemble\\_voting.py:597: DataConversionWarning: A column-vector y was passed when a 1d array was expected. Please change the shape of y to (n_samples, ), for example using ravel().\n",
      "  y = column_or_1d(y, warn=True)\n",
      "C:\\Users\\Vasudharajesh.i\\AppData\\Local\\anaconda3\\Lib\\site-packages\\sklearn\\linear_model\\_ridge.py:216: LinAlgWarning: Ill-conditioned matrix (rcond=1.07946e-18): result may not be accurate.\n",
      "  return linalg.solve(A, Xy, assume_a=\"pos\", overwrite_a=True).T\n",
      "C:\\Users\\Vasudharajesh.i\\AppData\\Local\\anaconda3\\Lib\\site-packages\\sklearn\\ensemble\\_voting.py:597: DataConversionWarning: A column-vector y was passed when a 1d array was expected. Please change the shape of y to (n_samples, ), for example using ravel().\n",
      "  y = column_or_1d(y, warn=True)\n",
      "C:\\Users\\Vasudharajesh.i\\AppData\\Local\\anaconda3\\Lib\\site-packages\\sklearn\\linear_model\\_ridge.py:216: LinAlgWarning: Ill-conditioned matrix (rcond=3.03538e-20): result may not be accurate.\n",
      "  return linalg.solve(A, Xy, assume_a=\"pos\", overwrite_a=True).T\n",
      "C:\\Users\\Vasudharajesh.i\\AppData\\Local\\anaconda3\\Lib\\site-packages\\sklearn\\ensemble\\_voting.py:597: DataConversionWarning: A column-vector y was passed when a 1d array was expected. Please change the shape of y to (n_samples, ), for example using ravel().\n",
      "  y = column_or_1d(y, warn=True)\n",
      "C:\\Users\\Vasudharajesh.i\\AppData\\Local\\anaconda3\\Lib\\site-packages\\sklearn\\linear_model\\_ridge.py:216: LinAlgWarning: Ill-conditioned matrix (rcond=2.53222e-20): result may not be accurate.\n",
      "  return linalg.solve(A, Xy, assume_a=\"pos\", overwrite_a=True).T\n",
      "C:\\Users\\Vasudharajesh.i\\AppData\\Local\\anaconda3\\Lib\\site-packages\\sklearn\\ensemble\\_voting.py:597: DataConversionWarning: A column-vector y was passed when a 1d array was expected. Please change the shape of y to (n_samples, ), for example using ravel().\n",
      "  y = column_or_1d(y, warn=True)\n",
      "C:\\Users\\Vasudharajesh.i\\AppData\\Local\\anaconda3\\Lib\\site-packages\\sklearn\\linear_model\\_ridge.py:216: LinAlgWarning: Ill-conditioned matrix (rcond=2.25723e-20): result may not be accurate.\n",
      "  return linalg.solve(A, Xy, assume_a=\"pos\", overwrite_a=True).T\n",
      "C:\\Users\\Vasudharajesh.i\\AppData\\Local\\anaconda3\\Lib\\site-packages\\sklearn\\ensemble\\_voting.py:597: DataConversionWarning: A column-vector y was passed when a 1d array was expected. Please change the shape of y to (n_samples, ), for example using ravel().\n",
      "  y = column_or_1d(y, warn=True)\n",
      "C:\\Users\\Vasudharajesh.i\\AppData\\Local\\anaconda3\\Lib\\site-packages\\sklearn\\linear_model\\_ridge.py:216: LinAlgWarning: Ill-conditioned matrix (rcond=2.02014e-20): result may not be accurate.\n",
      "  return linalg.solve(A, Xy, assume_a=\"pos\", overwrite_a=True).T\n",
      "[*********************100%%**********************]  1 of 1 completed\n",
      "[*********************100%%**********************]  1 of 1 completed\n",
      "C:\\Users\\Vasudharajesh.i\\AppData\\Local\\Temp\\ipykernel_12900\\2117599840.py:29: FutureWarning: DataFrame.fillna with 'method' is deprecated and will raise in a future version. Use obj.ffill() or obj.bfill() instead.\n",
      "  X.fillna(method=\"ffill\", inplace=True)\n",
      "C:\\Users\\Vasudharajesh.i\\AppData\\Local\\anaconda3\\Lib\\site-packages\\sklearn\\ensemble\\_voting.py:597: DataConversionWarning: A column-vector y was passed when a 1d array was expected. Please change the shape of y to (n_samples, ), for example using ravel().\n",
      "  y = column_or_1d(y, warn=True)\n",
      "C:\\Users\\Vasudharajesh.i\\AppData\\Local\\anaconda3\\Lib\\site-packages\\sklearn\\linear_model\\_ridge.py:216: LinAlgWarning: Ill-conditioned matrix (rcond=9.71592e-19): result may not be accurate.\n",
      "  return linalg.solve(A, Xy, assume_a=\"pos\", overwrite_a=True).T\n",
      "C:\\Users\\Vasudharajesh.i\\AppData\\Local\\anaconda3\\Lib\\site-packages\\sklearn\\ensemble\\_voting.py:597: DataConversionWarning: A column-vector y was passed when a 1d array was expected. Please change the shape of y to (n_samples, ), for example using ravel().\n",
      "  y = column_or_1d(y, warn=True)\n",
      "C:\\Users\\Vasudharajesh.i\\AppData\\Local\\anaconda3\\Lib\\site-packages\\sklearn\\linear_model\\_ridge.py:216: LinAlgWarning: Ill-conditioned matrix (rcond=2.95295e-20): result may not be accurate.\n",
      "  return linalg.solve(A, Xy, assume_a=\"pos\", overwrite_a=True).T\n",
      "C:\\Users\\Vasudharajesh.i\\AppData\\Local\\anaconda3\\Lib\\site-packages\\sklearn\\ensemble\\_voting.py:597: DataConversionWarning: A column-vector y was passed when a 1d array was expected. Please change the shape of y to (n_samples, ), for example using ravel().\n",
      "  y = column_or_1d(y, warn=True)\n",
      "C:\\Users\\Vasudharajesh.i\\AppData\\Local\\anaconda3\\Lib\\site-packages\\sklearn\\linear_model\\_ridge.py:216: LinAlgWarning: Ill-conditioned matrix (rcond=2.51212e-20): result may not be accurate.\n",
      "  return linalg.solve(A, Xy, assume_a=\"pos\", overwrite_a=True).T\n",
      "C:\\Users\\Vasudharajesh.i\\AppData\\Local\\anaconda3\\Lib\\site-packages\\sklearn\\ensemble\\_voting.py:597: DataConversionWarning: A column-vector y was passed when a 1d array was expected. Please change the shape of y to (n_samples, ), for example using ravel().\n",
      "  y = column_or_1d(y, warn=True)\n",
      "C:\\Users\\Vasudharajesh.i\\AppData\\Local\\anaconda3\\Lib\\site-packages\\sklearn\\linear_model\\_ridge.py:216: LinAlgWarning: Ill-conditioned matrix (rcond=2.24973e-20): result may not be accurate.\n",
      "  return linalg.solve(A, Xy, assume_a=\"pos\", overwrite_a=True).T\n",
      "C:\\Users\\Vasudharajesh.i\\AppData\\Local\\anaconda3\\Lib\\site-packages\\sklearn\\ensemble\\_voting.py:597: DataConversionWarning: A column-vector y was passed when a 1d array was expected. Please change the shape of y to (n_samples, ), for example using ravel().\n",
      "  y = column_or_1d(y, warn=True)\n",
      "C:\\Users\\Vasudharajesh.i\\AppData\\Local\\anaconda3\\Lib\\site-packages\\sklearn\\linear_model\\_ridge.py:216: LinAlgWarning: Ill-conditioned matrix (rcond=2.01832e-20): result may not be accurate.\n",
      "  return linalg.solve(A, Xy, assume_a=\"pos\", overwrite_a=True).T\n",
      "[*********************100%%**********************]  1 of 1 completed\n",
      "[*********************100%%**********************]  1 of 1 completed\n",
      "C:\\Users\\Vasudharajesh.i\\AppData\\Local\\Temp\\ipykernel_12900\\2117599840.py:29: FutureWarning: DataFrame.fillna with 'method' is deprecated and will raise in a future version. Use obj.ffill() or obj.bfill() instead.\n",
      "  X.fillna(method=\"ffill\", inplace=True)\n",
      "C:\\Users\\Vasudharajesh.i\\AppData\\Local\\anaconda3\\Lib\\site-packages\\sklearn\\ensemble\\_voting.py:597: DataConversionWarning: A column-vector y was passed when a 1d array was expected. Please change the shape of y to (n_samples, ), for example using ravel().\n",
      "  y = column_or_1d(y, warn=True)\n",
      "C:\\Users\\Vasudharajesh.i\\AppData\\Local\\anaconda3\\Lib\\site-packages\\sklearn\\linear_model\\_ridge.py:216: LinAlgWarning: Ill-conditioned matrix (rcond=8.96086e-19): result may not be accurate.\n",
      "  return linalg.solve(A, Xy, assume_a=\"pos\", overwrite_a=True).T\n",
      "C:\\Users\\Vasudharajesh.i\\AppData\\Local\\anaconda3\\Lib\\site-packages\\sklearn\\ensemble\\_voting.py:597: DataConversionWarning: A column-vector y was passed when a 1d array was expected. Please change the shape of y to (n_samples, ), for example using ravel().\n",
      "  y = column_or_1d(y, warn=True)\n",
      "C:\\Users\\Vasudharajesh.i\\AppData\\Local\\anaconda3\\Lib\\site-packages\\sklearn\\linear_model\\_ridge.py:216: LinAlgWarning: Ill-conditioned matrix (rcond=2.94706e-20): result may not be accurate.\n",
      "  return linalg.solve(A, Xy, assume_a=\"pos\", overwrite_a=True).T\n",
      "C:\\Users\\Vasudharajesh.i\\AppData\\Local\\anaconda3\\Lib\\site-packages\\sklearn\\ensemble\\_voting.py:597: DataConversionWarning: A column-vector y was passed when a 1d array was expected. Please change the shape of y to (n_samples, ), for example using ravel().\n",
      "  y = column_or_1d(y, warn=True)\n",
      "C:\\Users\\Vasudharajesh.i\\AppData\\Local\\anaconda3\\Lib\\site-packages\\sklearn\\linear_model\\_ridge.py:216: LinAlgWarning: Ill-conditioned matrix (rcond=2.50896e-20): result may not be accurate.\n",
      "  return linalg.solve(A, Xy, assume_a=\"pos\", overwrite_a=True).T\n",
      "C:\\Users\\Vasudharajesh.i\\AppData\\Local\\anaconda3\\Lib\\site-packages\\sklearn\\ensemble\\_voting.py:597: DataConversionWarning: A column-vector y was passed when a 1d array was expected. Please change the shape of y to (n_samples, ), for example using ravel().\n",
      "  y = column_or_1d(y, warn=True)\n",
      "C:\\Users\\Vasudharajesh.i\\AppData\\Local\\anaconda3\\Lib\\site-packages\\sklearn\\linear_model\\_ridge.py:216: LinAlgWarning: Ill-conditioned matrix (rcond=2.24711e-20): result may not be accurate.\n",
      "  return linalg.solve(A, Xy, assume_a=\"pos\", overwrite_a=True).T\n",
      "C:\\Users\\Vasudharajesh.i\\AppData\\Local\\anaconda3\\Lib\\site-packages\\sklearn\\ensemble\\_voting.py:597: DataConversionWarning: A column-vector y was passed when a 1d array was expected. Please change the shape of y to (n_samples, ), for example using ravel().\n",
      "  y = column_or_1d(y, warn=True)\n",
      "C:\\Users\\Vasudharajesh.i\\AppData\\Local\\anaconda3\\Lib\\site-packages\\sklearn\\linear_model\\_ridge.py:216: LinAlgWarning: Ill-conditioned matrix (rcond=2.00762e-20): result may not be accurate.\n",
      "  return linalg.solve(A, Xy, assume_a=\"pos\", overwrite_a=True).T\n",
      "[*********************100%%**********************]  1 of 1 completed\n",
      "[*********************100%%**********************]  1 of 1 completed\n",
      "C:\\Users\\Vasudharajesh.i\\AppData\\Local\\Temp\\ipykernel_12900\\2117599840.py:29: FutureWarning: DataFrame.fillna with 'method' is deprecated and will raise in a future version. Use obj.ffill() or obj.bfill() instead.\n",
      "  X.fillna(method=\"ffill\", inplace=True)\n",
      "C:\\Users\\Vasudharajesh.i\\AppData\\Local\\anaconda3\\Lib\\site-packages\\sklearn\\ensemble\\_voting.py:597: DataConversionWarning: A column-vector y was passed when a 1d array was expected. Please change the shape of y to (n_samples, ), for example using ravel().\n",
      "  y = column_or_1d(y, warn=True)\n",
      "C:\\Users\\Vasudharajesh.i\\AppData\\Local\\anaconda3\\Lib\\site-packages\\sklearn\\linear_model\\_ridge.py:216: LinAlgWarning: Ill-conditioned matrix (rcond=8.84295e-19): result may not be accurate.\n",
      "  return linalg.solve(A, Xy, assume_a=\"pos\", overwrite_a=True).T\n",
      "C:\\Users\\Vasudharajesh.i\\AppData\\Local\\anaconda3\\Lib\\site-packages\\sklearn\\ensemble\\_voting.py:597: DataConversionWarning: A column-vector y was passed when a 1d array was expected. Please change the shape of y to (n_samples, ), for example using ravel().\n",
      "  y = column_or_1d(y, warn=True)\n",
      "C:\\Users\\Vasudharajesh.i\\AppData\\Local\\anaconda3\\Lib\\site-packages\\sklearn\\linear_model\\_ridge.py:216: LinAlgWarning: Ill-conditioned matrix (rcond=3.02207e-20): result may not be accurate.\n",
      "  return linalg.solve(A, Xy, assume_a=\"pos\", overwrite_a=True).T\n",
      "C:\\Users\\Vasudharajesh.i\\AppData\\Local\\anaconda3\\Lib\\site-packages\\sklearn\\ensemble\\_voting.py:597: DataConversionWarning: A column-vector y was passed when a 1d array was expected. Please change the shape of y to (n_samples, ), for example using ravel().\n",
      "  y = column_or_1d(y, warn=True)\n",
      "C:\\Users\\Vasudharajesh.i\\AppData\\Local\\anaconda3\\Lib\\site-packages\\sklearn\\linear_model\\_ridge.py:216: LinAlgWarning: Ill-conditioned matrix (rcond=2.51181e-20): result may not be accurate.\n",
      "  return linalg.solve(A, Xy, assume_a=\"pos\", overwrite_a=True).T\n",
      "C:\\Users\\Vasudharajesh.i\\AppData\\Local\\anaconda3\\Lib\\site-packages\\sklearn\\ensemble\\_voting.py:597: DataConversionWarning: A column-vector y was passed when a 1d array was expected. Please change the shape of y to (n_samples, ), for example using ravel().\n",
      "  y = column_or_1d(y, warn=True)\n",
      "C:\\Users\\Vasudharajesh.i\\AppData\\Local\\anaconda3\\Lib\\site-packages\\sklearn\\linear_model\\_ridge.py:216: LinAlgWarning: Ill-conditioned matrix (rcond=2.24831e-20): result may not be accurate.\n",
      "  return linalg.solve(A, Xy, assume_a=\"pos\", overwrite_a=True).T\n",
      "C:\\Users\\Vasudharajesh.i\\AppData\\Local\\anaconda3\\Lib\\site-packages\\sklearn\\ensemble\\_voting.py:597: DataConversionWarning: A column-vector y was passed when a 1d array was expected. Please change the shape of y to (n_samples, ), for example using ravel().\n",
      "  y = column_or_1d(y, warn=True)\n",
      "C:\\Users\\Vasudharajesh.i\\AppData\\Local\\anaconda3\\Lib\\site-packages\\sklearn\\linear_model\\_ridge.py:216: LinAlgWarning: Ill-conditioned matrix (rcond=1.99872e-20): result may not be accurate.\n",
      "  return linalg.solve(A, Xy, assume_a=\"pos\", overwrite_a=True).T\n",
      "[*********************100%%**********************]  1 of 1 completed\n",
      "[*********************100%%**********************]  1 of 1 completed\n",
      "C:\\Users\\Vasudharajesh.i\\AppData\\Local\\Temp\\ipykernel_12900\\2117599840.py:29: FutureWarning: DataFrame.fillna with 'method' is deprecated and will raise in a future version. Use obj.ffill() or obj.bfill() instead.\n",
      "  X.fillna(method=\"ffill\", inplace=True)\n",
      "C:\\Users\\Vasudharajesh.i\\AppData\\Local\\anaconda3\\Lib\\site-packages\\sklearn\\ensemble\\_voting.py:597: DataConversionWarning: A column-vector y was passed when a 1d array was expected. Please change the shape of y to (n_samples, ), for example using ravel().\n",
      "  y = column_or_1d(y, warn=True)\n",
      "C:\\Users\\Vasudharajesh.i\\AppData\\Local\\anaconda3\\Lib\\site-packages\\sklearn\\linear_model\\_ridge.py:216: LinAlgWarning: Ill-conditioned matrix (rcond=1.27197e-18): result may not be accurate.\n",
      "  return linalg.solve(A, Xy, assume_a=\"pos\", overwrite_a=True).T\n",
      "C:\\Users\\Vasudharajesh.i\\AppData\\Local\\anaconda3\\Lib\\site-packages\\sklearn\\ensemble\\_voting.py:597: DataConversionWarning: A column-vector y was passed when a 1d array was expected. Please change the shape of y to (n_samples, ), for example using ravel().\n",
      "  y = column_or_1d(y, warn=True)\n",
      "C:\\Users\\Vasudharajesh.i\\AppData\\Local\\anaconda3\\Lib\\site-packages\\sklearn\\linear_model\\_ridge.py:216: LinAlgWarning: Ill-conditioned matrix (rcond=3.52963e-20): result may not be accurate.\n",
      "  return linalg.solve(A, Xy, assume_a=\"pos\", overwrite_a=True).T\n",
      "C:\\Users\\Vasudharajesh.i\\AppData\\Local\\anaconda3\\Lib\\site-packages\\sklearn\\ensemble\\_voting.py:597: DataConversionWarning: A column-vector y was passed when a 1d array was expected. Please change the shape of y to (n_samples, ), for example using ravel().\n",
      "  y = column_or_1d(y, warn=True)\n",
      "C:\\Users\\Vasudharajesh.i\\AppData\\Local\\anaconda3\\Lib\\site-packages\\sklearn\\linear_model\\_ridge.py:216: LinAlgWarning: Ill-conditioned matrix (rcond=3.00068e-20): result may not be accurate.\n",
      "  return linalg.solve(A, Xy, assume_a=\"pos\", overwrite_a=True).T\n",
      "C:\\Users\\Vasudharajesh.i\\AppData\\Local\\anaconda3\\Lib\\site-packages\\sklearn\\ensemble\\_voting.py:597: DataConversionWarning: A column-vector y was passed when a 1d array was expected. Please change the shape of y to (n_samples, ), for example using ravel().\n",
      "  y = column_or_1d(y, warn=True)\n",
      "C:\\Users\\Vasudharajesh.i\\AppData\\Local\\anaconda3\\Lib\\site-packages\\sklearn\\linear_model\\_ridge.py:216: LinAlgWarning: Ill-conditioned matrix (rcond=2.68678e-20): result may not be accurate.\n",
      "  return linalg.solve(A, Xy, assume_a=\"pos\", overwrite_a=True).T\n",
      "C:\\Users\\Vasudharajesh.i\\AppData\\Local\\anaconda3\\Lib\\site-packages\\sklearn\\ensemble\\_voting.py:597: DataConversionWarning: A column-vector y was passed when a 1d array was expected. Please change the shape of y to (n_samples, ), for example using ravel().\n",
      "  y = column_or_1d(y, warn=True)\n",
      "C:\\Users\\Vasudharajesh.i\\AppData\\Local\\anaconda3\\Lib\\site-packages\\sklearn\\linear_model\\_ridge.py:216: LinAlgWarning: Ill-conditioned matrix (rcond=2.40089e-20): result may not be accurate.\n",
      "  return linalg.solve(A, Xy, assume_a=\"pos\", overwrite_a=True).T\n",
      "[*********************100%%**********************]  1 of 1 completed\n",
      "[*********************100%%**********************]  1 of 1 completed\n",
      "C:\\Users\\Vasudharajesh.i\\AppData\\Local\\Temp\\ipykernel_12900\\2117599840.py:29: FutureWarning: DataFrame.fillna with 'method' is deprecated and will raise in a future version. Use obj.ffill() or obj.bfill() instead.\n",
      "  X.fillna(method=\"ffill\", inplace=True)\n",
      "C:\\Users\\Vasudharajesh.i\\AppData\\Local\\anaconda3\\Lib\\site-packages\\sklearn\\ensemble\\_voting.py:597: DataConversionWarning: A column-vector y was passed when a 1d array was expected. Please change the shape of y to (n_samples, ), for example using ravel().\n",
      "  y = column_or_1d(y, warn=True)\n",
      "C:\\Users\\Vasudharajesh.i\\AppData\\Local\\anaconda3\\Lib\\site-packages\\sklearn\\linear_model\\_ridge.py:216: LinAlgWarning: Ill-conditioned matrix (rcond=1.27513e-18): result may not be accurate.\n",
      "  return linalg.solve(A, Xy, assume_a=\"pos\", overwrite_a=True).T\n",
      "C:\\Users\\Vasudharajesh.i\\AppData\\Local\\anaconda3\\Lib\\site-packages\\sklearn\\ensemble\\_voting.py:597: DataConversionWarning: A column-vector y was passed when a 1d array was expected. Please change the shape of y to (n_samples, ), for example using ravel().\n",
      "  y = column_or_1d(y, warn=True)\n",
      "C:\\Users\\Vasudharajesh.i\\AppData\\Local\\anaconda3\\Lib\\site-packages\\sklearn\\linear_model\\_ridge.py:216: LinAlgWarning: Ill-conditioned matrix (rcond=3.53198e-20): result may not be accurate.\n",
      "  return linalg.solve(A, Xy, assume_a=\"pos\", overwrite_a=True).T\n",
      "C:\\Users\\Vasudharajesh.i\\AppData\\Local\\anaconda3\\Lib\\site-packages\\sklearn\\ensemble\\_voting.py:597: DataConversionWarning: A column-vector y was passed when a 1d array was expected. Please change the shape of y to (n_samples, ), for example using ravel().\n",
      "  y = column_or_1d(y, warn=True)\n",
      "C:\\Users\\Vasudharajesh.i\\AppData\\Local\\anaconda3\\Lib\\site-packages\\sklearn\\linear_model\\_ridge.py:216: LinAlgWarning: Ill-conditioned matrix (rcond=3.00239e-20): result may not be accurate.\n",
      "  return linalg.solve(A, Xy, assume_a=\"pos\", overwrite_a=True).T\n",
      "C:\\Users\\Vasudharajesh.i\\AppData\\Local\\anaconda3\\Lib\\site-packages\\sklearn\\ensemble\\_voting.py:597: DataConversionWarning: A column-vector y was passed when a 1d array was expected. Please change the shape of y to (n_samples, ), for example using ravel().\n",
      "  y = column_or_1d(y, warn=True)\n",
      "C:\\Users\\Vasudharajesh.i\\AppData\\Local\\anaconda3\\Lib\\site-packages\\sklearn\\linear_model\\_ridge.py:216: LinAlgWarning: Ill-conditioned matrix (rcond=2.6879e-20): result may not be accurate.\n",
      "  return linalg.solve(A, Xy, assume_a=\"pos\", overwrite_a=True).T\n",
      "C:\\Users\\Vasudharajesh.i\\AppData\\Local\\anaconda3\\Lib\\site-packages\\sklearn\\ensemble\\_voting.py:597: DataConversionWarning: A column-vector y was passed when a 1d array was expected. Please change the shape of y to (n_samples, ), for example using ravel().\n",
      "  y = column_or_1d(y, warn=True)\n",
      "C:\\Users\\Vasudharajesh.i\\AppData\\Local\\anaconda3\\Lib\\site-packages\\sklearn\\linear_model\\_ridge.py:216: LinAlgWarning: Ill-conditioned matrix (rcond=2.40161e-20): result may not be accurate.\n",
      "  return linalg.solve(A, Xy, assume_a=\"pos\", overwrite_a=True).T\n",
      "[*********************100%%**********************]  1 of 1 completed\n",
      "[*********************100%%**********************]  1 of 1 completed\n",
      "C:\\Users\\Vasudharajesh.i\\AppData\\Local\\Temp\\ipykernel_12900\\2117599840.py:29: FutureWarning: DataFrame.fillna with 'method' is deprecated and will raise in a future version. Use obj.ffill() or obj.bfill() instead.\n",
      "  X.fillna(method=\"ffill\", inplace=True)\n",
      "C:\\Users\\Vasudharajesh.i\\AppData\\Local\\anaconda3\\Lib\\site-packages\\sklearn\\ensemble\\_voting.py:597: DataConversionWarning: A column-vector y was passed when a 1d array was expected. Please change the shape of y to (n_samples, ), for example using ravel().\n",
      "  y = column_or_1d(y, warn=True)\n",
      "C:\\Users\\Vasudharajesh.i\\AppData\\Local\\anaconda3\\Lib\\site-packages\\sklearn\\linear_model\\_ridge.py:216: LinAlgWarning: Ill-conditioned matrix (rcond=1.0594e-18): result may not be accurate.\n",
      "  return linalg.solve(A, Xy, assume_a=\"pos\", overwrite_a=True).T\n",
      "C:\\Users\\Vasudharajesh.i\\AppData\\Local\\anaconda3\\Lib\\site-packages\\sklearn\\ensemble\\_voting.py:597: DataConversionWarning: A column-vector y was passed when a 1d array was expected. Please change the shape of y to (n_samples, ), for example using ravel().\n",
      "  y = column_or_1d(y, warn=True)\n",
      "C:\\Users\\Vasudharajesh.i\\AppData\\Local\\anaconda3\\Lib\\site-packages\\sklearn\\linear_model\\_ridge.py:216: LinAlgWarning: Ill-conditioned matrix (rcond=3.49797e-20): result may not be accurate.\n",
      "  return linalg.solve(A, Xy, assume_a=\"pos\", overwrite_a=True).T\n",
      "C:\\Users\\Vasudharajesh.i\\AppData\\Local\\anaconda3\\Lib\\site-packages\\sklearn\\ensemble\\_voting.py:597: DataConversionWarning: A column-vector y was passed when a 1d array was expected. Please change the shape of y to (n_samples, ), for example using ravel().\n",
      "  y = column_or_1d(y, warn=True)\n",
      "C:\\Users\\Vasudharajesh.i\\AppData\\Local\\anaconda3\\Lib\\site-packages\\sklearn\\linear_model\\_ridge.py:216: LinAlgWarning: Ill-conditioned matrix (rcond=2.98032e-20): result may not be accurate.\n",
      "  return linalg.solve(A, Xy, assume_a=\"pos\", overwrite_a=True).T\n",
      "C:\\Users\\Vasudharajesh.i\\AppData\\Local\\anaconda3\\Lib\\site-packages\\sklearn\\ensemble\\_voting.py:597: DataConversionWarning: A column-vector y was passed when a 1d array was expected. Please change the shape of y to (n_samples, ), for example using ravel().\n",
      "  y = column_or_1d(y, warn=True)\n",
      "C:\\Users\\Vasudharajesh.i\\AppData\\Local\\anaconda3\\Lib\\site-packages\\sklearn\\linear_model\\_ridge.py:216: LinAlgWarning: Ill-conditioned matrix (rcond=2.67132e-20): result may not be accurate.\n",
      "  return linalg.solve(A, Xy, assume_a=\"pos\", overwrite_a=True).T\n",
      "C:\\Users\\Vasudharajesh.i\\AppData\\Local\\anaconda3\\Lib\\site-packages\\sklearn\\ensemble\\_voting.py:597: DataConversionWarning: A column-vector y was passed when a 1d array was expected. Please change the shape of y to (n_samples, ), for example using ravel().\n",
      "  y = column_or_1d(y, warn=True)\n",
      "C:\\Users\\Vasudharajesh.i\\AppData\\Local\\anaconda3\\Lib\\site-packages\\sklearn\\linear_model\\_ridge.py:216: LinAlgWarning: Ill-conditioned matrix (rcond=2.39125e-20): result may not be accurate.\n",
      "  return linalg.solve(A, Xy, assume_a=\"pos\", overwrite_a=True).T\n",
      "[*********************100%%**********************]  1 of 1 completed\n",
      "[*********************100%%**********************]  1 of 1 completed\n",
      "C:\\Users\\Vasudharajesh.i\\AppData\\Local\\Temp\\ipykernel_12900\\2117599840.py:29: FutureWarning: DataFrame.fillna with 'method' is deprecated and will raise in a future version. Use obj.ffill() or obj.bfill() instead.\n",
      "  X.fillna(method=\"ffill\", inplace=True)\n",
      "C:\\Users\\Vasudharajesh.i\\AppData\\Local\\anaconda3\\Lib\\site-packages\\sklearn\\ensemble\\_voting.py:597: DataConversionWarning: A column-vector y was passed when a 1d array was expected. Please change the shape of y to (n_samples, ), for example using ravel().\n",
      "  y = column_or_1d(y, warn=True)\n",
      "C:\\Users\\Vasudharajesh.i\\AppData\\Local\\anaconda3\\Lib\\site-packages\\sklearn\\linear_model\\_ridge.py:216: LinAlgWarning: Ill-conditioned matrix (rcond=1.06047e-18): result may not be accurate.\n",
      "  return linalg.solve(A, Xy, assume_a=\"pos\", overwrite_a=True).T\n",
      "C:\\Users\\Vasudharajesh.i\\AppData\\Local\\anaconda3\\Lib\\site-packages\\sklearn\\ensemble\\_voting.py:597: DataConversionWarning: A column-vector y was passed when a 1d array was expected. Please change the shape of y to (n_samples, ), for example using ravel().\n",
      "  y = column_or_1d(y, warn=True)\n",
      "C:\\Users\\Vasudharajesh.i\\AppData\\Local\\anaconda3\\Lib\\site-packages\\sklearn\\linear_model\\_ridge.py:216: LinAlgWarning: Ill-conditioned matrix (rcond=3.49962e-20): result may not be accurate.\n",
      "  return linalg.solve(A, Xy, assume_a=\"pos\", overwrite_a=True).T\n",
      "C:\\Users\\Vasudharajesh.i\\AppData\\Local\\anaconda3\\Lib\\site-packages\\sklearn\\ensemble\\_voting.py:597: DataConversionWarning: A column-vector y was passed when a 1d array was expected. Please change the shape of y to (n_samples, ), for example using ravel().\n",
      "  y = column_or_1d(y, warn=True)\n",
      "C:\\Users\\Vasudharajesh.i\\AppData\\Local\\anaconda3\\Lib\\site-packages\\sklearn\\linear_model\\_ridge.py:216: LinAlgWarning: Ill-conditioned matrix (rcond=2.98155e-20): result may not be accurate.\n",
      "  return linalg.solve(A, Xy, assume_a=\"pos\", overwrite_a=True).T\n",
      "C:\\Users\\Vasudharajesh.i\\AppData\\Local\\anaconda3\\Lib\\site-packages\\sklearn\\ensemble\\_voting.py:597: DataConversionWarning: A column-vector y was passed when a 1d array was expected. Please change the shape of y to (n_samples, ), for example using ravel().\n",
      "  y = column_or_1d(y, warn=True)\n",
      "C:\\Users\\Vasudharajesh.i\\AppData\\Local\\anaconda3\\Lib\\site-packages\\sklearn\\linear_model\\_ridge.py:216: LinAlgWarning: Ill-conditioned matrix (rcond=2.67209e-20): result may not be accurate.\n",
      "  return linalg.solve(A, Xy, assume_a=\"pos\", overwrite_a=True).T\n",
      "C:\\Users\\Vasudharajesh.i\\AppData\\Local\\anaconda3\\Lib\\site-packages\\sklearn\\ensemble\\_voting.py:597: DataConversionWarning: A column-vector y was passed when a 1d array was expected. Please change the shape of y to (n_samples, ), for example using ravel().\n",
      "  y = column_or_1d(y, warn=True)\n",
      "C:\\Users\\Vasudharajesh.i\\AppData\\Local\\anaconda3\\Lib\\site-packages\\sklearn\\linear_model\\_ridge.py:216: LinAlgWarning: Ill-conditioned matrix (rcond=2.39173e-20): result may not be accurate.\n",
      "  return linalg.solve(A, Xy, assume_a=\"pos\", overwrite_a=True).T\n",
      "[*********************100%%**********************]  1 of 1 completed\n",
      "[*********************100%%**********************]  1 of 1 completed\n",
      "C:\\Users\\Vasudharajesh.i\\AppData\\Local\\Temp\\ipykernel_12900\\2117599840.py:29: FutureWarning: DataFrame.fillna with 'method' is deprecated and will raise in a future version. Use obj.ffill() or obj.bfill() instead.\n",
      "  X.fillna(method=\"ffill\", inplace=True)\n",
      "C:\\Users\\Vasudharajesh.i\\AppData\\Local\\anaconda3\\Lib\\site-packages\\sklearn\\ensemble\\_voting.py:597: DataConversionWarning: A column-vector y was passed when a 1d array was expected. Please change the shape of y to (n_samples, ), for example using ravel().\n",
      "  y = column_or_1d(y, warn=True)\n",
      "C:\\Users\\Vasudharajesh.i\\AppData\\Local\\anaconda3\\Lib\\site-packages\\sklearn\\linear_model\\_ridge.py:216: LinAlgWarning: Ill-conditioned matrix (rcond=1.26649e-18): result may not be accurate.\n",
      "  return linalg.solve(A, Xy, assume_a=\"pos\", overwrite_a=True).T\n",
      "C:\\Users\\Vasudharajesh.i\\AppData\\Local\\anaconda3\\Lib\\site-packages\\sklearn\\ensemble\\_voting.py:597: DataConversionWarning: A column-vector y was passed when a 1d array was expected. Please change the shape of y to (n_samples, ), for example using ravel().\n",
      "  y = column_or_1d(y, warn=True)\n",
      "C:\\Users\\Vasudharajesh.i\\AppData\\Local\\anaconda3\\Lib\\site-packages\\sklearn\\linear_model\\_ridge.py:216: LinAlgWarning: Ill-conditioned matrix (rcond=3.52577e-20): result may not be accurate.\n",
      "  return linalg.solve(A, Xy, assume_a=\"pos\", overwrite_a=True).T\n",
      "C:\\Users\\Vasudharajesh.i\\AppData\\Local\\anaconda3\\Lib\\site-packages\\sklearn\\ensemble\\_voting.py:597: DataConversionWarning: A column-vector y was passed when a 1d array was expected. Please change the shape of y to (n_samples, ), for example using ravel().\n",
      "  y = column_or_1d(y, warn=True)\n",
      "C:\\Users\\Vasudharajesh.i\\AppData\\Local\\anaconda3\\Lib\\site-packages\\sklearn\\linear_model\\_ridge.py:216: LinAlgWarning: Ill-conditioned matrix (rcond=2.99763e-20): result may not be accurate.\n",
      "  return linalg.solve(A, Xy, assume_a=\"pos\", overwrite_a=True).T\n",
      "C:\\Users\\Vasudharajesh.i\\AppData\\Local\\anaconda3\\Lib\\site-packages\\sklearn\\ensemble\\_voting.py:597: DataConversionWarning: A column-vector y was passed when a 1d array was expected. Please change the shape of y to (n_samples, ), for example using ravel().\n",
      "  y = column_or_1d(y, warn=True)\n",
      "C:\\Users\\Vasudharajesh.i\\AppData\\Local\\anaconda3\\Lib\\site-packages\\sklearn\\linear_model\\_ridge.py:216: LinAlgWarning: Ill-conditioned matrix (rcond=2.68432e-20): result may not be accurate.\n",
      "  return linalg.solve(A, Xy, assume_a=\"pos\", overwrite_a=True).T\n",
      "C:\\Users\\Vasudharajesh.i\\AppData\\Local\\anaconda3\\Lib\\site-packages\\sklearn\\ensemble\\_voting.py:597: DataConversionWarning: A column-vector y was passed when a 1d array was expected. Please change the shape of y to (n_samples, ), for example using ravel().\n",
      "  y = column_or_1d(y, warn=True)\n",
      "C:\\Users\\Vasudharajesh.i\\AppData\\Local\\anaconda3\\Lib\\site-packages\\sklearn\\linear_model\\_ridge.py:216: LinAlgWarning: Ill-conditioned matrix (rcond=2.40252e-20): result may not be accurate.\n",
      "  return linalg.solve(A, Xy, assume_a=\"pos\", overwrite_a=True).T\n",
      "[*********************100%%**********************]  1 of 1 completed\n",
      "[*********************100%%**********************]  1 of 1 completed\n",
      "C:\\Users\\Vasudharajesh.i\\AppData\\Local\\Temp\\ipykernel_12900\\2117599840.py:29: FutureWarning: DataFrame.fillna with 'method' is deprecated and will raise in a future version. Use obj.ffill() or obj.bfill() instead.\n",
      "  X.fillna(method=\"ffill\", inplace=True)\n",
      "C:\\Users\\Vasudharajesh.i\\AppData\\Local\\anaconda3\\Lib\\site-packages\\sklearn\\ensemble\\_voting.py:597: DataConversionWarning: A column-vector y was passed when a 1d array was expected. Please change the shape of y to (n_samples, ), for example using ravel().\n",
      "  y = column_or_1d(y, warn=True)\n",
      "C:\\Users\\Vasudharajesh.i\\AppData\\Local\\anaconda3\\Lib\\site-packages\\sklearn\\linear_model\\_ridge.py:216: LinAlgWarning: Ill-conditioned matrix (rcond=1.19346e-18): result may not be accurate.\n",
      "  return linalg.solve(A, Xy, assume_a=\"pos\", overwrite_a=True).T\n",
      "C:\\Users\\Vasudharajesh.i\\AppData\\Local\\anaconda3\\Lib\\site-packages\\sklearn\\ensemble\\_voting.py:597: DataConversionWarning: A column-vector y was passed when a 1d array was expected. Please change the shape of y to (n_samples, ), for example using ravel().\n",
      "  y = column_or_1d(y, warn=True)\n",
      "C:\\Users\\Vasudharajesh.i\\AppData\\Local\\anaconda3\\Lib\\site-packages\\sklearn\\linear_model\\_ridge.py:216: LinAlgWarning: Ill-conditioned matrix (rcond=3.52756e-20): result may not be accurate.\n",
      "  return linalg.solve(A, Xy, assume_a=\"pos\", overwrite_a=True).T\n",
      "C:\\Users\\Vasudharajesh.i\\AppData\\Local\\anaconda3\\Lib\\site-packages\\sklearn\\ensemble\\_voting.py:597: DataConversionWarning: A column-vector y was passed when a 1d array was expected. Please change the shape of y to (n_samples, ), for example using ravel().\n",
      "  y = column_or_1d(y, warn=True)\n",
      "C:\\Users\\Vasudharajesh.i\\AppData\\Local\\anaconda3\\Lib\\site-packages\\sklearn\\linear_model\\_ridge.py:216: LinAlgWarning: Ill-conditioned matrix (rcond=2.99859e-20): result may not be accurate.\n",
      "  return linalg.solve(A, Xy, assume_a=\"pos\", overwrite_a=True).T\n",
      "C:\\Users\\Vasudharajesh.i\\AppData\\Local\\anaconda3\\Lib\\site-packages\\sklearn\\ensemble\\_voting.py:597: DataConversionWarning: A column-vector y was passed when a 1d array was expected. Please change the shape of y to (n_samples, ), for example using ravel().\n",
      "  y = column_or_1d(y, warn=True)\n",
      "C:\\Users\\Vasudharajesh.i\\AppData\\Local\\anaconda3\\Lib\\site-packages\\sklearn\\linear_model\\_ridge.py:216: LinAlgWarning: Ill-conditioned matrix (rcond=2.68472e-20): result may not be accurate.\n",
      "  return linalg.solve(A, Xy, assume_a=\"pos\", overwrite_a=True).T\n",
      "C:\\Users\\Vasudharajesh.i\\AppData\\Local\\anaconda3\\Lib\\site-packages\\sklearn\\ensemble\\_voting.py:597: DataConversionWarning: A column-vector y was passed when a 1d array was expected. Please change the shape of y to (n_samples, ), for example using ravel().\n",
      "  y = column_or_1d(y, warn=True)\n",
      "C:\\Users\\Vasudharajesh.i\\AppData\\Local\\anaconda3\\Lib\\site-packages\\sklearn\\linear_model\\_ridge.py:216: LinAlgWarning: Ill-conditioned matrix (rcond=2.40274e-20): result may not be accurate.\n",
      "  return linalg.solve(A, Xy, assume_a=\"pos\", overwrite_a=True).T\n",
      "[*********************100%%**********************]  1 of 1 completed\n",
      "[*********************100%%**********************]  1 of 1 completed\n",
      "C:\\Users\\Vasudharajesh.i\\AppData\\Local\\Temp\\ipykernel_12900\\2117599840.py:29: FutureWarning: DataFrame.fillna with 'method' is deprecated and will raise in a future version. Use obj.ffill() or obj.bfill() instead.\n",
      "  X.fillna(method=\"ffill\", inplace=True)\n",
      "C:\\Users\\Vasudharajesh.i\\AppData\\Local\\anaconda3\\Lib\\site-packages\\sklearn\\ensemble\\_voting.py:597: DataConversionWarning: A column-vector y was passed when a 1d array was expected. Please change the shape of y to (n_samples, ), for example using ravel().\n",
      "  y = column_or_1d(y, warn=True)\n",
      "C:\\Users\\Vasudharajesh.i\\AppData\\Local\\anaconda3\\Lib\\site-packages\\sklearn\\linear_model\\_ridge.py:216: LinAlgWarning: Ill-conditioned matrix (rcond=1.19466e-18): result may not be accurate.\n",
      "  return linalg.solve(A, Xy, assume_a=\"pos\", overwrite_a=True).T\n",
      "C:\\Users\\Vasudharajesh.i\\AppData\\Local\\anaconda3\\Lib\\site-packages\\sklearn\\ensemble\\_voting.py:597: DataConversionWarning: A column-vector y was passed when a 1d array was expected. Please change the shape of y to (n_samples, ), for example using ravel().\n",
      "  y = column_or_1d(y, warn=True)\n",
      "C:\\Users\\Vasudharajesh.i\\AppData\\Local\\anaconda3\\Lib\\site-packages\\sklearn\\linear_model\\_ridge.py:216: LinAlgWarning: Ill-conditioned matrix (rcond=3.52932e-20): result may not be accurate.\n",
      "  return linalg.solve(A, Xy, assume_a=\"pos\", overwrite_a=True).T\n",
      "C:\\Users\\Vasudharajesh.i\\AppData\\Local\\anaconda3\\Lib\\site-packages\\sklearn\\ensemble\\_voting.py:597: DataConversionWarning: A column-vector y was passed when a 1d array was expected. Please change the shape of y to (n_samples, ), for example using ravel().\n",
      "  y = column_or_1d(y, warn=True)\n",
      "C:\\Users\\Vasudharajesh.i\\AppData\\Local\\anaconda3\\Lib\\site-packages\\sklearn\\linear_model\\_ridge.py:216: LinAlgWarning: Ill-conditioned matrix (rcond=2.9999e-20): result may not be accurate.\n",
      "  return linalg.solve(A, Xy, assume_a=\"pos\", overwrite_a=True).T\n",
      "C:\\Users\\Vasudharajesh.i\\AppData\\Local\\anaconda3\\Lib\\site-packages\\sklearn\\ensemble\\_voting.py:597: DataConversionWarning: A column-vector y was passed when a 1d array was expected. Please change the shape of y to (n_samples, ), for example using ravel().\n",
      "  y = column_or_1d(y, warn=True)\n",
      "C:\\Users\\Vasudharajesh.i\\AppData\\Local\\anaconda3\\Lib\\site-packages\\sklearn\\linear_model\\_ridge.py:216: LinAlgWarning: Ill-conditioned matrix (rcond=2.68556e-20): result may not be accurate.\n",
      "  return linalg.solve(A, Xy, assume_a=\"pos\", overwrite_a=True).T\n",
      "C:\\Users\\Vasudharajesh.i\\AppData\\Local\\anaconda3\\Lib\\site-packages\\sklearn\\ensemble\\_voting.py:597: DataConversionWarning: A column-vector y was passed when a 1d array was expected. Please change the shape of y to (n_samples, ), for example using ravel().\n",
      "  y = column_or_1d(y, warn=True)\n",
      "C:\\Users\\Vasudharajesh.i\\AppData\\Local\\anaconda3\\Lib\\site-packages\\sklearn\\linear_model\\_ridge.py:216: LinAlgWarning: Ill-conditioned matrix (rcond=2.40326e-20): result may not be accurate.\n",
      "  return linalg.solve(A, Xy, assume_a=\"pos\", overwrite_a=True).T\n",
      "[*********************100%%**********************]  1 of 1 completed\n",
      "[*********************100%%**********************]  1 of 1 completed\n",
      "C:\\Users\\Vasudharajesh.i\\AppData\\Local\\Temp\\ipykernel_12900\\2117599840.py:29: FutureWarning: DataFrame.fillna with 'method' is deprecated and will raise in a future version. Use obj.ffill() or obj.bfill() instead.\n",
      "  X.fillna(method=\"ffill\", inplace=True)\n",
      "C:\\Users\\Vasudharajesh.i\\AppData\\Local\\anaconda3\\Lib\\site-packages\\sklearn\\ensemble\\_voting.py:597: DataConversionWarning: A column-vector y was passed when a 1d array was expected. Please change the shape of y to (n_samples, ), for example using ravel().\n",
      "  y = column_or_1d(y, warn=True)\n",
      "C:\\Users\\Vasudharajesh.i\\AppData\\Local\\anaconda3\\Lib\\site-packages\\sklearn\\linear_model\\_ridge.py:216: LinAlgWarning: Ill-conditioned matrix (rcond=1.19171e-18): result may not be accurate.\n",
      "  return linalg.solve(A, Xy, assume_a=\"pos\", overwrite_a=True).T\n",
      "C:\\Users\\Vasudharajesh.i\\AppData\\Local\\anaconda3\\Lib\\site-packages\\sklearn\\ensemble\\_voting.py:597: DataConversionWarning: A column-vector y was passed when a 1d array was expected. Please change the shape of y to (n_samples, ), for example using ravel().\n",
      "  y = column_or_1d(y, warn=True)\n",
      "C:\\Users\\Vasudharajesh.i\\AppData\\Local\\anaconda3\\Lib\\site-packages\\sklearn\\linear_model\\_ridge.py:216: LinAlgWarning: Ill-conditioned matrix (rcond=3.63286e-20): result may not be accurate.\n",
      "  return linalg.solve(A, Xy, assume_a=\"pos\", overwrite_a=True).T\n",
      "C:\\Users\\Vasudharajesh.i\\AppData\\Local\\anaconda3\\Lib\\site-packages\\sklearn\\ensemble\\_voting.py:597: DataConversionWarning: A column-vector y was passed when a 1d array was expected. Please change the shape of y to (n_samples, ), for example using ravel().\n",
      "  y = column_or_1d(y, warn=True)\n",
      "C:\\Users\\Vasudharajesh.i\\AppData\\Local\\anaconda3\\Lib\\site-packages\\sklearn\\linear_model\\_ridge.py:216: LinAlgWarning: Ill-conditioned matrix (rcond=3.00454e-20): result may not be accurate.\n",
      "  return linalg.solve(A, Xy, assume_a=\"pos\", overwrite_a=True).T\n",
      "C:\\Users\\Vasudharajesh.i\\AppData\\Local\\anaconda3\\Lib\\site-packages\\sklearn\\ensemble\\_voting.py:597: DataConversionWarning: A column-vector y was passed when a 1d array was expected. Please change the shape of y to (n_samples, ), for example using ravel().\n",
      "  y = column_or_1d(y, warn=True)\n",
      "C:\\Users\\Vasudharajesh.i\\AppData\\Local\\anaconda3\\Lib\\site-packages\\sklearn\\linear_model\\_ridge.py:216: LinAlgWarning: Ill-conditioned matrix (rcond=2.69039e-20): result may not be accurate.\n",
      "  return linalg.solve(A, Xy, assume_a=\"pos\", overwrite_a=True).T\n",
      "C:\\Users\\Vasudharajesh.i\\AppData\\Local\\anaconda3\\Lib\\site-packages\\sklearn\\ensemble\\_voting.py:597: DataConversionWarning: A column-vector y was passed when a 1d array was expected. Please change the shape of y to (n_samples, ), for example using ravel().\n",
      "  y = column_or_1d(y, warn=True)\n",
      "C:\\Users\\Vasudharajesh.i\\AppData\\Local\\anaconda3\\Lib\\site-packages\\sklearn\\linear_model\\_ridge.py:216: LinAlgWarning: Ill-conditioned matrix (rcond=2.40339e-20): result may not be accurate.\n",
      "  return linalg.solve(A, Xy, assume_a=\"pos\", overwrite_a=True).T\n",
      "[*********************100%%**********************]  1 of 1 completed\n",
      "[*********************100%%**********************]  1 of 1 completed\n",
      "C:\\Users\\Vasudharajesh.i\\AppData\\Local\\Temp\\ipykernel_12900\\2117599840.py:29: FutureWarning: DataFrame.fillna with 'method' is deprecated and will raise in a future version. Use obj.ffill() or obj.bfill() instead.\n",
      "  X.fillna(method=\"ffill\", inplace=True)\n",
      "C:\\Users\\Vasudharajesh.i\\AppData\\Local\\anaconda3\\Lib\\site-packages\\sklearn\\ensemble\\_voting.py:597: DataConversionWarning: A column-vector y was passed when a 1d array was expected. Please change the shape of y to (n_samples, ), for example using ravel().\n",
      "  y = column_or_1d(y, warn=True)\n",
      "C:\\Users\\Vasudharajesh.i\\AppData\\Local\\anaconda3\\Lib\\site-packages\\sklearn\\linear_model\\_ridge.py:216: LinAlgWarning: Ill-conditioned matrix (rcond=1.19292e-18): result may not be accurate.\n",
      "  return linalg.solve(A, Xy, assume_a=\"pos\", overwrite_a=True).T\n",
      "C:\\Users\\Vasudharajesh.i\\AppData\\Local\\anaconda3\\Lib\\site-packages\\sklearn\\ensemble\\_voting.py:597: DataConversionWarning: A column-vector y was passed when a 1d array was expected. Please change the shape of y to (n_samples, ), for example using ravel().\n",
      "  y = column_or_1d(y, warn=True)\n",
      "C:\\Users\\Vasudharajesh.i\\AppData\\Local\\anaconda3\\Lib\\site-packages\\sklearn\\linear_model\\_ridge.py:216: LinAlgWarning: Ill-conditioned matrix (rcond=3.63478e-20): result may not be accurate.\n",
      "  return linalg.solve(A, Xy, assume_a=\"pos\", overwrite_a=True).T\n",
      "C:\\Users\\Vasudharajesh.i\\AppData\\Local\\anaconda3\\Lib\\site-packages\\sklearn\\ensemble\\_voting.py:597: DataConversionWarning: A column-vector y was passed when a 1d array was expected. Please change the shape of y to (n_samples, ), for example using ravel().\n",
      "  y = column_or_1d(y, warn=True)\n",
      "C:\\Users\\Vasudharajesh.i\\AppData\\Local\\anaconda3\\Lib\\site-packages\\sklearn\\linear_model\\_ridge.py:216: LinAlgWarning: Ill-conditioned matrix (rcond=3.00577e-20): result may not be accurate.\n",
      "  return linalg.solve(A, Xy, assume_a=\"pos\", overwrite_a=True).T\n",
      "C:\\Users\\Vasudharajesh.i\\AppData\\Local\\anaconda3\\Lib\\site-packages\\sklearn\\ensemble\\_voting.py:597: DataConversionWarning: A column-vector y was passed when a 1d array was expected. Please change the shape of y to (n_samples, ), for example using ravel().\n",
      "  y = column_or_1d(y, warn=True)\n",
      "C:\\Users\\Vasudharajesh.i\\AppData\\Local\\anaconda3\\Lib\\site-packages\\sklearn\\linear_model\\_ridge.py:216: LinAlgWarning: Ill-conditioned matrix (rcond=2.69119e-20): result may not be accurate.\n",
      "  return linalg.solve(A, Xy, assume_a=\"pos\", overwrite_a=True).T\n",
      "C:\\Users\\Vasudharajesh.i\\AppData\\Local\\anaconda3\\Lib\\site-packages\\sklearn\\ensemble\\_voting.py:597: DataConversionWarning: A column-vector y was passed when a 1d array was expected. Please change the shape of y to (n_samples, ), for example using ravel().\n",
      "  y = column_or_1d(y, warn=True)\n",
      "C:\\Users\\Vasudharajesh.i\\AppData\\Local\\anaconda3\\Lib\\site-packages\\sklearn\\linear_model\\_ridge.py:216: LinAlgWarning: Ill-conditioned matrix (rcond=2.40389e-20): result may not be accurate.\n",
      "  return linalg.solve(A, Xy, assume_a=\"pos\", overwrite_a=True).T\n",
      "[*********************100%%**********************]  1 of 1 completed\n",
      "[*********************100%%**********************]  1 of 1 completed\n",
      "C:\\Users\\Vasudharajesh.i\\AppData\\Local\\Temp\\ipykernel_12900\\2117599840.py:29: FutureWarning: DataFrame.fillna with 'method' is deprecated and will raise in a future version. Use obj.ffill() or obj.bfill() instead.\n",
      "  X.fillna(method=\"ffill\", inplace=True)\n",
      "C:\\Users\\Vasudharajesh.i\\AppData\\Local\\anaconda3\\Lib\\site-packages\\sklearn\\ensemble\\_voting.py:597: DataConversionWarning: A column-vector y was passed when a 1d array was expected. Please change the shape of y to (n_samples, ), for example using ravel().\n",
      "  y = column_or_1d(y, warn=True)\n",
      "C:\\Users\\Vasudharajesh.i\\AppData\\Local\\anaconda3\\Lib\\site-packages\\sklearn\\linear_model\\_ridge.py:216: LinAlgWarning: Ill-conditioned matrix (rcond=1.18901e-18): result may not be accurate.\n",
      "  return linalg.solve(A, Xy, assume_a=\"pos\", overwrite_a=True).T\n",
      "C:\\Users\\Vasudharajesh.i\\AppData\\Local\\anaconda3\\Lib\\site-packages\\sklearn\\ensemble\\_voting.py:597: DataConversionWarning: A column-vector y was passed when a 1d array was expected. Please change the shape of y to (n_samples, ), for example using ravel().\n",
      "  y = column_or_1d(y, warn=True)\n",
      "C:\\Users\\Vasudharajesh.i\\AppData\\Local\\anaconda3\\Lib\\site-packages\\sklearn\\linear_model\\_ridge.py:216: LinAlgWarning: Ill-conditioned matrix (rcond=3.63027e-20): result may not be accurate.\n",
      "  return linalg.solve(A, Xy, assume_a=\"pos\", overwrite_a=True).T\n",
      "C:\\Users\\Vasudharajesh.i\\AppData\\Local\\anaconda3\\Lib\\site-packages\\sklearn\\ensemble\\_voting.py:597: DataConversionWarning: A column-vector y was passed when a 1d array was expected. Please change the shape of y to (n_samples, ), for example using ravel().\n",
      "  y = column_or_1d(y, warn=True)\n",
      "C:\\Users\\Vasudharajesh.i\\AppData\\Local\\anaconda3\\Lib\\site-packages\\sklearn\\linear_model\\_ridge.py:216: LinAlgWarning: Ill-conditioned matrix (rcond=3.00823e-20): result may not be accurate.\n",
      "  return linalg.solve(A, Xy, assume_a=\"pos\", overwrite_a=True).T\n",
      "C:\\Users\\Vasudharajesh.i\\AppData\\Local\\anaconda3\\Lib\\site-packages\\sklearn\\ensemble\\_voting.py:597: DataConversionWarning: A column-vector y was passed when a 1d array was expected. Please change the shape of y to (n_samples, ), for example using ravel().\n",
      "  y = column_or_1d(y, warn=True)\n",
      "C:\\Users\\Vasudharajesh.i\\AppData\\Local\\anaconda3\\Lib\\site-packages\\sklearn\\linear_model\\_ridge.py:216: LinAlgWarning: Ill-conditioned matrix (rcond=2.69185e-20): result may not be accurate.\n",
      "  return linalg.solve(A, Xy, assume_a=\"pos\", overwrite_a=True).T\n",
      "C:\\Users\\Vasudharajesh.i\\AppData\\Local\\anaconda3\\Lib\\site-packages\\sklearn\\ensemble\\_voting.py:597: DataConversionWarning: A column-vector y was passed when a 1d array was expected. Please change the shape of y to (n_samples, ), for example using ravel().\n",
      "  y = column_or_1d(y, warn=True)\n",
      "C:\\Users\\Vasudharajesh.i\\AppData\\Local\\anaconda3\\Lib\\site-packages\\sklearn\\linear_model\\_ridge.py:216: LinAlgWarning: Ill-conditioned matrix (rcond=2.40221e-20): result may not be accurate.\n",
      "  return linalg.solve(A, Xy, assume_a=\"pos\", overwrite_a=True).T\n"
     ]
    }
   ],
   "source": [
    "for step in steps:\n",
    "    for lookback in lookbacks:\n",
    "        if lookback >= step:\n",
    "            # importing data\n",
    "            spy = yf.download('SPY', start='2004-01-01')\n",
    "            agg = yf.download('AGG', start='2004-01-01')\n",
    "\n",
    "            # creating target\n",
    "            spy = create_target(spy, lookforward, target='Open')\n",
    "\n",
    "            # adding features\n",
    "            spy = create_features(spy)\n",
    "            spy = process_features(spy, lookback, step)\n",
    "            spy = spy.add_suffix(' SPY')\n",
    "\n",
    "            agg = create_features(agg)\n",
    "            agg = process_features(agg, lookback, step)\n",
    "            agg = agg.add_suffix(' AGG')\n",
    "            cv = pd.merge(spy, agg, how='inner', on='Date')\n",
    "\n",
    "            # remove rows from end and begining to enusre enough data for lookback and forward \n",
    "            cv.drop(cv.tail(lookforward).index, inplace=True)\n",
    "            cv.drop(cv.head(lookback).index, inplace=True)\n",
    "\n",
    "            # filling null values\n",
    "            X = cv\n",
    "            y = X[['Target SPY']]\n",
    "            X = X.drop(columns=['Target SPY'])\n",
    "            X.fillna(method=\"ffill\", inplace=True)\n",
    "            X.replace([np.inf, -np.inf], 0, inplace=True)\n",
    "            X.fillna(0, inplace=True)\n",
    "\n",
    "            cv_score = cross_val_score(estimator=estimator, X=X, y=y,\n",
    "                                       scoring=custom_scorer,\n",
    "                                       cv=tscv, verbose=0)\n",
    "            \n",
    "            new_row = {'step': step, 'lookback': lookback, 'score': cv_score.mean()}\n",
    "            cv_results = pd.concat([cv_results, pd.DataFrame([new_row])], ignore_index=True)\n",
    "\n",
    "            "
   ]
  },
  {
   "cell_type": "markdown",
   "id": "27ac4f49-3d54-42da-b645-a01d1af9cfd0",
   "metadata": {},
   "source": [
    "#### visulaise heatmap"
   ]
  },
  {
   "cell_type": "code",
   "execution_count": 85,
   "id": "43dd39bf-6934-440c-87c5-98ace4660b87",
   "metadata": {},
   "outputs": [
    {
     "data": {
      "image/png": "[encoded data removed]",
      "text/plain": [
       "<Figure size 640x480 with 2 Axes>"
      ]
     },
     "metadata": {},
     "output_type": "display_data"
    }
   ],
   "source": [
    "cv_results = cv_results.pivot(index='step', columns='lookback', values='score')\n",
    "sns.heatmap(cv_results, annot=True, fmt='.6f', linewidths=.25, cmap='Blues')\n",
    "plt.title('Net Average Return')\n",
    "plt.show()"
   ]
  },
  {
   "cell_type": "markdown",
   "id": "5aa282d2-ce11-4aa3-b2f6-cdaa70b1fab5",
   "metadata": {},
   "source": [
    "Here we can see a 1 period step interval with a maximum look back of 2 periods performs the best. In the next notebook, we will adjust the parameters of the models"
   ]
  },
  {
   "cell_type": "code",
   "execution_count": null,
   "id": "a693228f-cada-4fe1-93fb-c2811342de52",
   "metadata": {},
   "outputs": [],
   "source": []
  },
  {
   "cell_type": "code",
   "execution_count": null,
   "id": "010edb61-2493-4c2e-a492-e35c0fd409af",
   "metadata": {},
   "outputs": [],
   "source": []
  },
  {
   "cell_type": "code",
   "execution_count": 86,
   "id": "7c7b42c6-2fb3-4d67-b164-e7aa0e780ee6",
   "metadata": {},
   "outputs": [],
   "source": [
    "!pip install backtesting -q\n",
    "from backtesting import Strategy, Backtest"
   ]
  },
  {
   "cell_type": "code",
   "execution_count": 91,
   "id": "b470e575-9789-46f3-8dbb-fd08963578dd",
   "metadata": {},
   "outputs": [
    {
     "name": "stderr",
     "output_type": "stream",
     "text": [
      "C:\\Users\\Vasudharajesh.i\\AppData\\Local\\anaconda3\\Lib\\site-packages\\sklearn\\ensemble\\_voting.py:597: DataConversionWarning: A column-vector y was passed when a 1d array was expected. Please change the shape of y to (n_samples, ), for example using ravel().\n",
      "  y = column_or_1d(y, warn=True)\n",
      "C:\\Users\\Vasudharajesh.i\\AppData\\Local\\anaconda3\\Lib\\site-packages\\sklearn\\linear_model\\_ridge.py:216: LinAlgWarning: Ill-conditioned matrix (rcond=1.31851e-22): result may not be accurate.\n",
      "  return linalg.solve(A, Xy, assume_a=\"pos\", overwrite_a=True).T\n",
      "[*********************100%%**********************]  1 of 1 completed\n",
      "C:\\Users\\Vasudharajesh.i\\AppData\\Local\\Temp\\ipykernel_12900\\1794395914.py:24: SettingWithCopyWarning: \n",
      "A value is trying to be set on a copy of a slice from a DataFrame.\n",
      "Try using .loc[row_indexer,col_indexer] = value instead\n",
      "\n",
      "See the caveats in the documentation: https://pandas.pydata.org/pandas-docs/stable/user_guide/indexing.html#returning-a-view-versus-a-copy\n",
      "  data['forecastedValue'] = forecasted\n"
     ]
    }
   ],
   "source": [
    "step = 1\n",
    "lookback = 2\n",
    "\n",
    "estimator1 = Ridge(alpha=0.002840026017965097)\n",
    "estimator2 = Lasso(alpha=0.002999525583333498)\n",
    "estimator3 = KNeighborsRegressor(n_neighbors=8)\n",
    "models = [estimator1,\n",
    "          estimator2,\n",
    "          estimator3,]\n",
    "estimator = VotingRegressor(estimators=[('Ridge', estimator1),\n",
    "                                        ('Lasso', estimator2),\n",
    "                                        ('KNN', estimator3)],)\n",
    "\n",
    "X_test = X_test.iloc[(abs(lookforward)):]\n",
    "y_test = y_test.iloc[(abs(lookforward)):]\n",
    "\n",
    "estimator.fit(X_train, y_train)\n",
    "forecasted = estimator.predict(X_test)\n",
    "\n",
    "data = yf.download('SPY', start='2004-01-01')\n",
    "data.drop(data.tail(lookforward).index,inplace=True)\n",
    "data.drop(data.head(lookback).index,inplace=True)\n",
    "data = data.iloc[(-X_test.shape[0]):]\n",
    "data['forecastedValue'] = forecasted\n",
    "prediction = data"
   ]
  },
  {
   "cell_type": "code",
   "execution_count": 92,
   "id": "5ec547ee-2df9-4c43-aa67-3ef988014935",
   "metadata": {},
   "outputs": [
    {
     "name": "stdout",
     "output_type": "stream",
     "text": [
      "Start                     2009-03-16 00:00:00\n",
      "End                       2024-06-11 00:00:00\n",
      "Duration                   5566 days 00:00:00\n",
      "Exposure Time [%]                   76.101121\n",
      "Equity Final [$]                   340.110344\n",
      "Equity Peak [$]                    1020.65023\n",
      "Return [%]                         -65.988966\n",
      "Buy & Hold Return [%]              607.817042\n",
      "Return (Ann.) [%]                   -6.838061\n",
      "Volatility (Ann.) [%]               11.638111\n",
      "Sharpe Ratio                              0.0\n",
      "Sortino Ratio                             0.0\n",
      "Calmar Ratio                              0.0\n",
      "Max. Drawdown [%]                  -66.677091\n",
      "Avg. Drawdown [%]                  -28.772887\n",
      "Max. Drawdown Duration     4635 days 00:00:00\n",
      "Avg. Drawdown Duration     1391 days 00:00:00\n",
      "# Trades                                 2916\n",
      "Win Rate [%]                         43.82716\n",
      "Best Trade [%]                       8.799434\n",
      "Worst Trade [%]                     -6.348897\n",
      "Avg. Trade [%]                      -0.046038\n",
      "Max. Trade Duration           5 days 00:00:00\n",
      "Avg. Trade Duration           2 days 00:00:00\n",
      "Profit Factor                        0.892955\n",
      "Expectancy [%]                      -0.040545\n",
      "SQN                                 -1.917291\n",
      "_strategy                          MyStrategy\n",
      "_equity_curve                             ...\n",
      "_trades                         Size  Entr...\n",
      "dtype: object\n"
     ]
    }
   ],
   "source": [
    "class MyStrategy(Strategy):\n",
    "    Data = prediction\n",
    "\n",
    "    def init(self):\n",
    "        super().init()\n",
    "\n",
    "    def next(self):\n",
    "        if self.data.forecastedValue < 0:\n",
    "            self.sell()\n",
    "        elif self.data.forecastedValue > 0:\n",
    "            self.buy()\n",
    "\n",
    "\n",
    "bt = Backtest(prediction, MyStrategy,\n",
    "              cash=1000,\n",
    "              trade_on_close=False,\n",
    "              exclusive_orders=True\n",
    "              )\n",
    "print(bt.run())"
   ]
  },
  {
   "cell_type": "code",
   "execution_count": null,
   "id": "850e6426-1ba3-42ff-9271-b20455a2c664",
   "metadata": {},
   "outputs": [],
   "source": []
  }
 ],
 "metadata": {
  "kernelspec": {
   "display_name": "Python 3 (ipykernel)",
   "language": "python",
   "name": "python3"
  },
  "language_info": {
   "codemirror_mode": {
    "name": "ipython",
    "version": 3
   },
   "file_extension": ".py",
   "mimetype": "text/x-python",
   "name": "python",
   "nbconvert_exporter": "python",
   "pygments_lexer": "ipython3",
   "version": "3.11.7"
  }
 },
 "nbformat": 4,
 "nbformat_minor": 5
}
