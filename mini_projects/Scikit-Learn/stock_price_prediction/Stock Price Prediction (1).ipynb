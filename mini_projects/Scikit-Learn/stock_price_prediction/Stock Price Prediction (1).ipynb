{
 "cells": [
  {
   "cell_type": "markdown",
   "id": "58df383e-8d54-4c22-82f7-5fbceb4f3870",
   "metadata": {},
   "source": [
    "## stock price prediction"
   ]
  },
  {
   "cell_type": "markdown",
   "id": "b753f2f6-e625-4651-b4a2-b0b23d17e340",
   "metadata": {},
   "source": [
    "#### evaluating diffrent models"
   ]
  },
  {
   "cell_type": "markdown",
   "id": "8840b2d1-5f6b-4c04-b03c-5e2d5cceeb72",
   "metadata": {},
   "source": [
    "we evaluate and visualize different models to determine the correlation (aka similarity) between their outputs, in order to create diverse strategies that will perform well when combined into one model."
   ]
  },
  {
   "cell_type": "code",
   "execution_count": 1,
   "id": "496e6c90-ea7a-4a1c-bb64-de0d8fa6fdef",
   "metadata": {},
   "outputs": [],
   "source": [
    "import numpy as np\n",
    "import pandas as pd\n",
    "import matplotlib.pyplot as plt\n",
    "import seaborn as sns\n",
    "import yfinance as yf\n",
    "from sklearn.linear_model import Ridge, Lasso\n",
    "from sklearn.neighbors import KNeighborsRegressor\n",
    "from sklearn.model_selection import train_test_split\n",
    "from sklearn.model_selection import TimeSeriesSplit, cross_val_score\n",
    "from sklearn.ensemble import VotingRegressor\n",
    "from sklearn.metrics import make_scorer"
   ]
  },
  {
   "cell_type": "code",
   "execution_count": 2,
   "id": "fe5ccf9d-c0a9-4bbd-a28d-12e960f8c0e7",
   "metadata": {},
   "outputs": [],
   "source": [
    "import warnings\n",
    "warnings.filterwarnings(\"ignore\")"
   ]
  },
  {
   "cell_type": "markdown",
   "id": "ec55896c-c12c-4fb6-bdc5-e685f7cb60a0",
   "metadata": {},
   "source": [
    "#### creating features\n",
    "* The spread feature measures volatility. \n",
    "* The gap feature measures the price movement after hours\n",
    "* The intraday feature measures the price movement from the open to close."
   ]
  },
  {
   "cell_type": "code",
   "execution_count": 3,
   "id": "82b1c0cf-bc4d-46ae-b0ab-f9e4fbcff9b9",
   "metadata": {},
   "outputs": [],
   "source": [
    "def create_features(df):\n",
    "    df['Spread'] = df['High'] - df['Low']\n",
    "    df['Gap'] = df['Open'] - df['Close'].shift(1)\n",
    "    df['Intraday'] = df['Open'] - df['Close']\n",
    "    return df"
   ]
  },
  {
   "cell_type": "markdown",
   "id": "f5db5b1b-f410-496d-a221-a9bfacfe26c3",
   "metadata": {},
   "source": [
    "#### calculating features\n",
    "* to measure the percentage change and rolling average for Spread, Gap, and Intraday over the last n periods.\n",
    "* lookback:maximum period over which we want to look back.\n",
    "  step: interval at which we calculate the new features.\n"
   ]
  },
  {
   "cell_type": "code",
   "execution_count": 4,
   "id": "c05e05c0-028c-48b0-b971-61a191a1ef3c",
   "metadata": {},
   "outputs": [],
   "source": [
    "def process_features(df, lookback, step):\n",
    "    for i in range(step, lookback+1, step):\n",
    "        df['%d Spread' % (i)] = df['Spread'].pct_change(periods=i, fill_method=None)\n",
    "        df['%d Rolling Avg Spread' % (i)] = df['Spread'].rolling(window=i).mean()\n",
    "\n",
    "        df['%d Gap' % (i)] = df['Gap'].pct_change(periods=i, fill_method=None)\n",
    "        df['%d Rolling Avg Gap' % (i)] = df['Gap'].rolling(window=i).mean()\n",
    "\n",
    "        df['%d Intraday' % (i)] = df['Intraday'].pct_change(periods=i, fill_method=None)\n",
    "        df['%d Rolling Avg Intraday' % (i)] = df['Intraday'].rolling(window=i).mean()\n",
    "    return df"
   ]
  },
  {
   "cell_type": "markdown",
   "id": "d39f412a-8a66-4790-bd69-091776a50742",
   "metadata": {},
   "source": [
    "### dropping extra columns"
   ]
  },
  {
   "cell_type": "code",
   "execution_count": 5,
   "id": "78e2171f-f4cf-45a3-91a3-0cb54ef6ad05",
   "metadata": {},
   "outputs": [],
   "source": [
    "def drop_features(df):\n",
    "    df.drop(columns=['Spread','Gap','Intraday'],inplace=True)\n",
    "    df.drop(columns=['Open','High','Low','Close','Volume','Adj Close'], inplace=True)\n",
    "    return df"
   ]
  },
  {
   "cell_type": "markdown",
   "id": "c3e3ff32-aaed-4eac-8808-e489a7b97ada",
   "metadata": {},
   "source": [
    "#### creating a target"
   ]
  },
  {
   "cell_type": "markdown",
   "id": "7761c3ec-ed86-4697-80ab-974da8d2652c",
   "metadata": {},
   "source": [
    "* calculates the percentage change in price over these days and then takes the natural logarithm of that change.\n",
    "* This can help predict future price movements based on past data."
   ]
  },
  {
   "cell_type": "code",
   "execution_count": 6,
   "id": "95c171e7-d71d-425d-b803-f11a88b92e46",
   "metadata": {},
   "outputs": [],
   "source": [
    "def create_target(df, lookforward=2, target='Open'):\n",
    "    df['Target'] = np.log(df[target].shift(periods=-lookforward)/df[target].shift(periods=-1))\n",
    "    return df"
   ]
  },
  {
   "cell_type": "markdown",
   "id": "5853eecd-78e2-4eb2-ac8c-bb479405f461",
   "metadata": {},
   "source": [
    "#### developing models"
   ]
  },
  {
   "cell_type": "markdown",
   "id": "bcf4f9e1-8682-454d-a971-67f1ba72efa2",
   "metadata": {},
   "source": [
    "* Ridge Regression: It smooths out our predictions by putting a limit on how much the factors can influence the outcome.\r",
    "* \n",
    "Lasso Regression: It helps us pick out the most important factors for prediction and ignores the less important ones\n",
    "* KNeighborsRegressor:  A non-linear regression model that makes predictions based on the closest data points."
   ]
  },
  {
   "cell_type": "code",
   "execution_count": 7,
   "id": "bbbe8982-62b4-474f-89e0-32fa8582101f",
   "metadata": {},
   "outputs": [],
   "source": [
    "estimator1 = Ridge()\n",
    "estimator2 = Lasso(alpha=.001)\n",
    "estimator3 = KNeighborsRegressor()\n",
    "models = [estimator1,estimator2,estimator3]"
   ]
  },
  {
   "cell_type": "code",
   "execution_count": 8,
   "id": "99d95494-4a1d-469f-ab88-cd9b01c7f4d1",
   "metadata": {},
   "outputs": [],
   "source": [
    "lookforward = 2\n",
    "step = 21\n",
    "lookback = 21\n",
    "results = pd.DataFrame()"
   ]
  },
  {
   "cell_type": "markdown",
   "id": "4a35b7c5-4bfc-4cfe-90e2-6689c577b2a4",
   "metadata": {},
   "source": [
    "#### defining the models\n",
    "* SPY (representing the S&P 500) reflects the stock market, while AGG (a bond market index) reflects the bond market. \n",
    "* Combining them provides insights from both markets, which can enhance the predictive power of the model."
   ]
  },
  {
   "cell_type": "code",
   "execution_count": 9,
   "id": "ed867201-847d-407a-bf00-20b8cc5d5faf",
   "metadata": {},
   "outputs": [
    {
     "name": "stderr",
     "output_type": "stream",
     "text": [
      "[*********************100%%**********************]  1 of 1 completed\n",
      "[*********************100%%**********************]  1 of 1 completed\n",
      "[*********************100%%**********************]  1 of 1 completed\n",
      "[*********************100%%**********************]  1 of 1 completed\n",
      "[*********************100%%**********************]  1 of 1 completed\n",
      "[*********************100%%**********************]  1 of 1 completed\n"
     ]
    }
   ],
   "source": [
    "for model in models:\n",
    "    if lookback >= step:\n",
    "        # importing data\n",
    "        spy = yf.download('SPY', start='2004-01-01')\n",
    "        agg = yf.download('AGG', start='2004-01-01')\n",
    "\n",
    "        # creating target\n",
    "        spy = create_target(spy, lookforward, target='Open')\n",
    "\n",
    "        # adding features\n",
    "        spy = create_features(spy)\n",
    "        spy = process_features(spy, lookback, step)\n",
    "        spy = spy.add_suffix(' SPY')\n",
    "\n",
    "        agg = create_features(agg)\n",
    "        agg = process_features(agg, lookback, step)\n",
    "        agg = agg.add_suffix(' AGG')\n",
    "        cv = pd.merge(spy, agg, how='inner', on='Date')\n",
    "\n",
    "        # remove rows from end and begining to enusre enough data for lookback and forward \n",
    "        cv.drop(cv.tail(lookforward).index, inplace=True)\n",
    "        cv.drop(cv.head(lookback).index, inplace=True)\n",
    "\n",
    "        # filling null values\n",
    "        X = cv\n",
    "        y = X[['Target SPY']]\n",
    "        X = X.drop(columns=['Target SPY'])\n",
    "        X.fillna(method=\"ffill\", inplace=True)\n",
    "        X.replace([np.inf, -np.inf], 0, inplace=True)\n",
    "        X.fillna(0, inplace=True)\n",
    "\n",
    "        #training the model\n",
    "        X_train, X_test, y_train, y_test = train_test_split(X, y, test_size=0.75, shuffle=False)\n",
    "\n",
    "        model.fit(X_train, y_train)\n",
    "        y_pred = model.predict(X_test)\n",
    "        results[model] = y_pred.flatten()\n",
    "\n",
    "    else:\n",
    "        print('Lookback must be greater than or equal to step')\n",
    "        break"
   ]
  },
  {
   "cell_type": "markdown",
   "id": "1952b07e-9683-405b-8a8c-ada6919c4f9d",
   "metadata": {},
   "source": [
    "#### visulaise correltation of models "
   ]
  },
  {
   "cell_type": "code",
   "execution_count": 10,
   "id": "be353d26-28d9-48e0-9957-074d4c13cb7e",
   "metadata": {},
   "outputs": [],
   "source": [
    "!pip install seaborn --upgrade -q"
   ]
  },
  {
   "cell_type": "code",
   "execution_count": 11,
   "id": "a71c3767-8f42-421e-b9c6-0072e2986715",
   "metadata": {},
   "outputs": [
    {
     "data": {
      "image/png": "[encoded data removed]",
      "text/plain": [
       "<Figure size 640x480 with 2 Axes>"
      ]
     },
     "metadata": {},
     "output_type": "display_data"
    }
   ],
   "source": [
    "correlation = results.corr()\n",
    "sns.heatmap(correlation, annot=True, fmt='.2f',cmap='coolwarm', center=0)\n",
    "plt.tight_layout()\n",
    "plt.show()"
   ]
  },
  {
   "cell_type": "markdown",
   "id": "28d9c828-7e0d-42b2-932e-a60220e10d17",
   "metadata": {},
   "source": [
    "* Here we see the models are mostly uncorrelated, which is good.\n",
    "* when we have uncorrelated models, each model has its own strategy to maximize the scoring function, and when we combine all these uncorrelated strategies, we get a meta-model which has a robust strategy."
   ]
  },
  {
   "cell_type": "markdown",
   "id": "5e01f338-e3e3-4fb2-945c-f8e0d03b135d",
   "metadata": {},
   "source": [
    "### Finding optimal interval and lookback"
   ]
  },
  {
   "cell_type": "markdown",
   "id": "3f63eddd-1a07-4309-bbbb-bca3c18f39f2",
   "metadata": {},
   "source": [
    "#### create a scoring function"
   ]
  },
  {
   "cell_type": "markdown",
   "id": "b689721a-639f-42d9-85a9-d6faff4ceb33",
   "metadata": {},
   "source": [
    " we are scoring different models on their average returns,"
   ]
  },
  {
   "cell_type": "code",
   "execution_count": 12,
   "id": "5896c891-23b5-4000-bff1-413db02ad2b2",
   "metadata": {},
   "outputs": [],
   "source": [
    "def custom_score(y_true, y_pred):\n",
    "  pred_sign = np.sign(y_pred)\n",
    "  y_true = np.squeeze(y_true)\n",
    "  returns = np.where((pred_sign == 1), y_true, 0)\n",
    "  return returns.mean()\n",
    "\n",
    "custom_scorer = make_scorer(custom_score, greater_is_better=True)"
   ]
  },
  {
   "cell_type": "markdown",
   "id": "45e107e6-55b7-43b6-8fa8-1942da889bce",
   "metadata": {},
   "source": [
    "#### combining 3 models into 1 "
   ]
  },
  {
   "cell_type": "markdown",
   "id": "e2402deb-559d-4d54-908f-40970b63be2d",
   "metadata": {},
   "source": [
    "We combine the 3 models into 1 using the VotingRegressor. The VotingRegressor works by averaging the output of the models that its composed of into a single output."
   ]
  },
  {
   "cell_type": "code",
   "execution_count": 13,
   "id": "5bbb029f-d427-430b-987a-135f5208c31c",
   "metadata": {},
   "outputs": [],
   "source": [
    "estimator1 = Ridge()\n",
    "estimator2 = Lasso(alpha=.001)\n",
    "estimator3 = KNeighborsRegressor()\n",
    "models = [estimator1,estimator2,estimator3]\n",
    "estimator = VotingRegressor(estimators=[('Ridge', estimator1),('Lasso', estimator2),('KNN', estimator3)])"
   ]
  },
  {
   "cell_type": "markdown",
   "id": "07b74ee4-ed8f-4a6c-97a7-08bb9734ba66",
   "metadata": {},
   "source": [
    "#### Define target, cross validation folds, interval, and lookback parameters.\n",
    "* we test the model 5 times (n_splits=5). We also have to add a gap between each split, otherwise there will be some overlap, which could cause the models to peek at data it shouldn't, and artificially inflate its score.\n",
    "* Next we define the steps (or intervals) and lookbacks we want to test our model at, in order to find the ones that it scores the highest on.\n",
    "* we create an object to store the results of our model in."
   ]
  },
  {
   "cell_type": "code",
   "execution_count": 14,
   "id": "1ba06d13-7318-4eaa-8c62-3c0f1124209b",
   "metadata": {},
   "outputs": [],
   "source": [
    "lookforward = 2\n",
    "tscv = TimeSeriesSplit(n_splits=5, gap=lookforward)\n",
    "steps = [1, 2, 3, 4, 5]\n",
    "lookbacks = [1, 2, 3, 4, 5]\n",
    "cv_results = pd.DataFrame(columns=['step', 'lookback', 'score'])"
   ]
  },
  {
   "cell_type": "markdown",
   "id": "c92eccd8-a0b0-40c6-ae95-28b520a47ef0",
   "metadata": {},
   "source": [
    "#### Evaluate and visualize scores of different combinations of parameters"
   ]
  },
  {
   "cell_type": "code",
   "execution_count": 15,
   "id": "15337d77-8f0e-46ba-a95d-707a1b02d22d",
   "metadata": {},
   "outputs": [
    {
     "name": "stderr",
     "output_type": "stream",
     "text": [
      "[*********************100%%**********************]  1 of 1 completed\n",
      "[*********************100%%**********************]  1 of 1 completed\n",
      "[*********************100%%**********************]  1 of 1 completed\n",
      "[*********************100%%**********************]  1 of 1 completed\n",
      "[*********************100%%**********************]  1 of 1 completed\n",
      "[*********************100%%**********************]  1 of 1 completed\n",
      "[*********************100%%**********************]  1 of 1 completed\n",
      "[*********************100%%**********************]  1 of 1 completed\n",
      "[*********************100%%**********************]  1 of 1 completed\n",
      "[*********************100%%**********************]  1 of 1 completed\n",
      "[*********************100%%**********************]  1 of 1 completed\n",
      "[*********************100%%**********************]  1 of 1 completed\n",
      "[*********************100%%**********************]  1 of 1 completed\n",
      "[*********************100%%**********************]  1 of 1 completed\n",
      "[*********************100%%**********************]  1 of 1 completed\n",
      "[*********************100%%**********************]  1 of 1 completed\n",
      "[*********************100%%**********************]  1 of 1 completed\n",
      "[*********************100%%**********************]  1 of 1 completed\n",
      "[*********************100%%**********************]  1 of 1 completed\n",
      "[*********************100%%**********************]  1 of 1 completed\n",
      "[*********************100%%**********************]  1 of 1 completed\n",
      "[*********************100%%**********************]  1 of 1 completed\n",
      "[*********************100%%**********************]  1 of 1 completed\n",
      "[*********************100%%**********************]  1 of 1 completed\n",
      "[*********************100%%**********************]  1 of 1 completed\n",
      "[*********************100%%**********************]  1 of 1 completed\n",
      "[*********************100%%**********************]  1 of 1 completed\n",
      "[*********************100%%**********************]  1 of 1 completed\n",
      "[*********************100%%**********************]  1 of 1 completed\n",
      "[*********************100%%**********************]  1 of 1 completed\n"
     ]
    }
   ],
   "source": [
    "for step in steps:\n",
    "    for lookback in lookbacks:\n",
    "        if lookback >= step:\n",
    "            # importing data\n",
    "            spy = yf.download('SPY', start='2004-01-01')\n",
    "            agg = yf.download('AGG', start='2004-01-01')\n",
    "\n",
    "            # creating target\n",
    "            spy = create_target(spy, lookforward, target='Open')\n",
    "\n",
    "            # adding features\n",
    "            spy = create_features(spy)\n",
    "            spy = process_features(spy, lookback, step)\n",
    "            spy = spy.add_suffix(' SPY')\n",
    "\n",
    "            agg = create_features(agg)\n",
    "            agg = process_features(agg, lookback, step)\n",
    "            agg = agg.add_suffix(' AGG')\n",
    "            cv = pd.merge(spy, agg, how='inner', on='Date')\n",
    "\n",
    "            # remove rows from end and begining to enusre enough data for lookback and forward \n",
    "            cv.drop(cv.tail(lookforward).index, inplace=True)\n",
    "            cv.drop(cv.head(lookback).index, inplace=True)\n",
    "\n",
    "            # filling null values\n",
    "            X = cv\n",
    "            y = X[['Target SPY']]\n",
    "            X = X.drop(columns=['Target SPY'])\n",
    "            X.fillna(method=\"ffill\", inplace=True)\n",
    "            X.replace([np.inf, -np.inf], 0, inplace=True)\n",
    "            X.fillna(0, inplace=True)\n",
    "\n",
    "            cv_score = cross_val_score(estimator=estimator, X=X, y=y,\n",
    "                                       scoring=custom_scorer,\n",
    "                                       cv=tscv, verbose=0)\n",
    "            \n",
    "            new_row = {'step': step, 'lookback': lookback, 'score': cv_score.mean()}\n",
    "            cv_results = pd.concat([cv_results, pd.DataFrame([new_row])], ignore_index=True)\n",
    "\n",
    "            "
   ]
  },
  {
   "cell_type": "markdown",
   "id": "27ac4f49-3d54-42da-b645-a01d1af9cfd0",
   "metadata": {},
   "source": [
    "#### visulaise heatmap"
   ]
  },
  {
   "cell_type": "code",
   "execution_count": 16,
   "id": "43dd39bf-6934-440c-87c5-98ace4660b87",
   "metadata": {},
   "outputs": [
    {
     "data": {
      "image/png": "[encoded data removed]",
      "text/plain": [
       "<Figure size 640x480 with 2 Axes>"
      ]
     },
     "metadata": {},
     "output_type": "display_data"
    }
   ],
   "source": [
    "cv_results = cv_results.pivot(index='step', columns='lookback', values='score')\n",
    "sns.heatmap(cv_results, annot=True, fmt='.6f', linewidths=.25, cmap='Blues')\n",
    "plt.title('Net Average Return')\n",
    "plt.show()"
   ]
  },
  {
   "cell_type": "markdown",
   "id": "5aa282d2-ce11-4aa3-b2f6-cdaa70b1fab5",
   "metadata": {},
   "source": [
    "Here we can see a 1 period step interval with a maximum look back of 2 periods performs the best. In the next notebook, we will adjust the parameters of the models"
   ]
  },
  {
   "cell_type": "code",
   "execution_count": null,
   "id": "a693228f-cada-4fe1-93fb-c2811342de52",
   "metadata": {},
   "outputs": [],
   "source": []
  },
  {
   "cell_type": "code",
   "execution_count": null,
   "id": "010edb61-2493-4c2e-a492-e35c0fd409af",
   "metadata": {},
   "outputs": [],
   "source": []
  },
  {
   "cell_type": "code",
   "execution_count": 17,
   "id": "7c7b42c6-2fb3-4d67-b164-e7aa0e780ee6",
   "metadata": {},
   "outputs": [
    {
     "data": {
      "text/html": [
       "    <style>\n",
       "        .bk-notebook-logo {\n",
       "            display: block;\n",
       "            width: 20px;\n",
       "            height: 20px;\n",
       "            background-image: url(data:image/png;base64,iVBORw0KGgoAAAANSUhEUgAAABQAAAAUCAYAAACNiR0NAAAABHNCSVQICAgIfAhkiAAAAAlwSFlzAAALEgAACxIB0t1+/AAAABx0RVh0U29mdHdhcmUAQWRvYmUgRmlyZXdvcmtzIENTNui8sowAAAOkSURBVDiNjZRtaJVlGMd/1/08zzln5zjP1LWcU9N0NkN8m2CYjpgQYQXqSs0I84OLIC0hkEKoPtiH3gmKoiJDU7QpLgoLjLIQCpEsNJ1vqUOdO7ppbuec5+V+rj4ctwzd8IIbbi6u+8f1539dt3A78eXC7QizUF7gyV1fD1Yqg4JWz84yffhm0qkFqBogB9rM8tZdtwVsPUhWhGcFJngGeWrPzHm5oaMmkfEg1usvLFyc8jLRqDOMru7AyC8saQr7GG7f5fvDeH7Ej8CM66nIF+8yngt6HWaKh7k49Soy9nXurCi1o3qUbS3zWfrYeQDTB/Qj6kX6Ybhw4B+bOYoLKCC9H3Nu/leUTZ1JdRWkkn2ldcCamzrcf47KKXdAJllSlxAOkRgyHsGC/zRday5Qld9DyoM4/q/rUoy/CXh3jzOu3bHUVZeU+DEn8FInkPBFlu3+nW3Nw0mk6vCDiWg8CeJaxEwuHS3+z5RgY+YBR6V1Z1nxSOfoaPa4LASWxxdNp+VWTk7+4vzaou8v8PN+xo+KY2xsw6une2frhw05CTYOmQvsEhjhWjn0bmXPjpE1+kplmmkP3suftwTubK9Vq22qKmrBhpY4jvd5afdRA3wGjFAgcnTK2s4hY0/GPNIb0nErGMCRxWOOX64Z8RAC4oCXdklmEvcL8o0BfkNK4lUg9HTl+oPlQxdNo3Mg4Nv175e/1LDGzZen30MEjRUtmXSfiTVu1kK8W4txyV6BMKlbgk3lMwYCiusNy9fVfvvwMxv8Ynl6vxoByANLTWplvuj/nF9m2+PDtt1eiHPBr1oIfhCChQMBw6Aw0UulqTKZdfVvfG7VcfIqLG9bcldL/+pdWTLxLUy8Qq38heUIjh4XlzZxzQm19lLFlr8vdQ97rjZVOLf8nclzckbcD4wxXMidpX30sFd37Fv/GtwwhzhxGVAprjbg0gCAEeIgwCZyTV2Z1REEW8O4py0wsjeloKoMr6iCY6dP92H6Vw/oTyICIthibxjm/DfN9lVz8IqtqKYLUXfoKVMVQVVJOElGjrnnUt9T9wbgp8AyYKaGlqingHZU/uG2NTZSVqwHQTWkx9hxjkpWDaCg6Ckj5qebgBVbT3V3NNXMSiWSDdGV3hrtzla7J+duwPOToIg42ChPQOQjspnSlp1V+Gjdged7+8UN5CRAV7a5EdFNwCjEaBR27b3W890TE7g24NAP/mMDXRWrGoFPQI9ls/MWO2dWFAar/xcOIImbbpA3zgAAAABJRU5ErkJggg==);\n",
       "        }\n",
       "    </style>\n",
       "    <div>\n",
       "        <a href=\"https://bokeh.org\" target=\"_blank\" class=\"bk-notebook-logo\"></a>\n",
       "        <span id=\"fbb655ca-7ae9-4043-b131-3dfeb48503fc\">Loading BokehJS ...</span>\n",
       "    </div>\n"
      ]
     },
     "metadata": {},
     "output_type": "display_data"
    },
    {
     "data": {
      "application/javascript": [
       "(function(root) {\n",
       "  function now() {\n",
       "    return new Date();\n",
       "  }\n",
       "\n",
       "  const force = true;\n",
       "\n",
       "  if (typeof root._bokeh_onload_callbacks === \"undefined\" || force === true) {\n",
       "    root._bokeh_onload_callbacks = [];\n",
       "    root._bokeh_is_loading = undefined;\n",
       "  }\n",
       "\n",
       "const JS_MIME_TYPE = 'application/javascript';\n",
       "  const HTML_MIME_TYPE = 'text/html';\n",
       "  const EXEC_MIME_TYPE = 'application/vnd.bokehjs_exec.v0+json';\n",
       "  const CLASS_NAME = 'output_bokeh rendered_html';\n",
       "\n",
       "  /**\n",
       "   * Render data to the DOM node\n",
       "   */\n",
       "  function render(props, node) {\n",
       "    const script = document.createElement(\"script\");\n",
       "    node.appendChild(script);\n",
       "  }\n",
       "\n",
       "  /**\n",
       "   * Handle when an output is cleared or removed\n",
       "   */\n",
       "  function handleClearOutput(event, handle) {\n",
       "    function drop(id) {\n",
       "      const view = Bokeh.index.get_by_id(id)\n",
       "      if (view != null) {\n",
       "        view.model.document.clear()\n",
       "        Bokeh.index.delete(view)\n",
       "      }\n",
       "    }\n",
       "\n",
       "    const cell = handle.cell;\n",
       "\n",
       "    const id = cell.output_area._bokeh_element_id;\n",
       "    const server_id = cell.output_area._bokeh_server_id;\n",
       "\n",
       "    // Clean up Bokeh references\n",
       "    if (id != null) {\n",
       "      drop(id)\n",
       "    }\n",
       "\n",
       "    if (server_id !== undefined) {\n",
       "      // Clean up Bokeh references\n",
       "      const cmd_clean = \"from bokeh.io.state import curstate; print(curstate().uuid_to_server['\" + server_id + \"'].get_sessions()[0].document.roots[0]._id)\";\n",
       "      cell.notebook.kernel.execute(cmd_clean, {\n",
       "        iopub: {\n",
       "          output: function(msg) {\n",
       "            const id = msg.content.text.trim()\n",
       "            drop(id)\n",
       "          }\n",
       "        }\n",
       "      });\n",
       "      // Destroy server and session\n",
       "      const cmd_destroy = \"import bokeh.io.notebook as ion; ion.destroy_server('\" + server_id + \"')\";\n",
       "      cell.notebook.kernel.execute(cmd_destroy);\n",
       "    }\n",
       "  }\n",
       "\n",
       "  /**\n",
       "   * Handle when a new output is added\n",
       "   */\n",
       "  function handleAddOutput(event, handle) {\n",
       "    const output_area = handle.output_area;\n",
       "    const output = handle.output;\n",
       "\n",
       "    // limit handleAddOutput to display_data with EXEC_MIME_TYPE content only\n",
       "    if ((output.output_type != \"display_data\") || (!Object.prototype.hasOwnProperty.call(output.data, EXEC_MIME_TYPE))) {\n",
       "      return\n",
       "    }\n",
       "\n",
       "    const toinsert = output_area.element.find(\".\" + CLASS_NAME.split(' ')[0]);\n",
       "\n",
       "    if (output.metadata[EXEC_MIME_TYPE][\"id\"] !== undefined) {\n",
       "      toinsert[toinsert.length - 1].firstChild.textContent = output.data[JS_MIME_TYPE];\n",
       "      // store reference to embed id on output_area\n",
       "      output_area._bokeh_element_id = output.metadata[EXEC_MIME_TYPE][\"id\"];\n",
       "    }\n",
       "    if (output.metadata[EXEC_MIME_TYPE][\"server_id\"] !== undefined) {\n",
       "      const bk_div = document.createElement(\"div\");\n",
       "      bk_div.innerHTML = output.data[HTML_MIME_TYPE];\n",
       "      const script_attrs = bk_div.children[0].attributes;\n",
       "      for (let i = 0; i < script_attrs.length; i++) {\n",
       "        toinsert[toinsert.length - 1].firstChild.setAttribute(script_attrs[i].name, script_attrs[i].value);\n",
       "        toinsert[toinsert.length - 1].firstChild.textContent = bk_div.children[0].textContent\n",
       "      }\n",
       "      // store reference to server id on output_area\n",
       "      output_area._bokeh_server_id = output.metadata[EXEC_MIME_TYPE][\"server_id\"];\n",
       "    }\n",
       "  }\n",
       "\n",
       "  function register_renderer(events, OutputArea) {\n",
       "\n",
       "    function append_mime(data, metadata, element) {\n",
       "      // create a DOM node to render to\n",
       "      const toinsert = this.create_output_subarea(\n",
       "        metadata,\n",
       "        CLASS_NAME,\n",
       "        EXEC_MIME_TYPE\n",
       "      );\n",
       "      this.keyboard_manager.register_events(toinsert);\n",
       "      // Render to node\n",
       "      const props = {data: data, metadata: metadata[EXEC_MIME_TYPE]};\n",
       "      render(props, toinsert[toinsert.length - 1]);\n",
       "      element.append(toinsert);\n",
       "      return toinsert\n",
       "    }\n",
       "\n",
       "    /* Handle when an output is cleared or removed */\n",
       "    events.on('clear_output.CodeCell', handleClearOutput);\n",
       "    events.on('delete.Cell', handleClearOutput);\n",
       "\n",
       "    /* Handle when a new output is added */\n",
       "    events.on('output_added.OutputArea', handleAddOutput);\n",
       "\n",
       "    /**\n",
       "     * Register the mime type and append_mime function with output_area\n",
       "     */\n",
       "    OutputArea.prototype.register_mime_type(EXEC_MIME_TYPE, append_mime, {\n",
       "      /* Is output safe? */\n",
       "      safe: true,\n",
       "      /* Index of renderer in `output_area.display_order` */\n",
       "      index: 0\n",
       "    });\n",
       "  }\n",
       "\n",
       "  // register the mime type if in Jupyter Notebook environment and previously unregistered\n",
       "  if (root.Jupyter !== undefined) {\n",
       "    const events = require('base/js/events');\n",
       "    const OutputArea = require('notebook/js/outputarea').OutputArea;\n",
       "\n",
       "    if (OutputArea.prototype.mime_types().indexOf(EXEC_MIME_TYPE) == -1) {\n",
       "      register_renderer(events, OutputArea);\n",
       "    }\n",
       "  }\n",
       "  if (typeof (root._bokeh_timeout) === \"undefined\" || force === true) {\n",
       "    root._bokeh_timeout = Date.now() + 5000;\n",
       "    root._bokeh_failed_load = false;\n",
       "  }\n",
       "\n",
       "  const NB_LOAD_WARNING = {'data': {'text/html':\n",
       "     \"<div style='background-color: #fdd'>\\n\"+\n",
       "     \"<p>\\n\"+\n",
       "     \"BokehJS does not appear to have successfully loaded. If loading BokehJS from CDN, this \\n\"+\n",
       "     \"may be due to a slow or bad network connection. Possible fixes:\\n\"+\n",
       "     \"</p>\\n\"+\n",
       "     \"<ul>\\n\"+\n",
       "     \"<li>re-rerun `output_notebook()` to attempt to load from CDN again, or</li>\\n\"+\n",
       "     \"<li>use INLINE resources instead, as so:</li>\\n\"+\n",
       "     \"</ul>\\n\"+\n",
       "     \"<code>\\n\"+\n",
       "     \"from bokeh.resources import INLINE\\n\"+\n",
       "     \"output_notebook(resources=INLINE)\\n\"+\n",
       "     \"</code>\\n\"+\n",
       "     \"</div>\"}};\n",
       "\n",
       "  function display_loaded() {\n",
       "    const el = document.getElementById(\"fbb655ca-7ae9-4043-b131-3dfeb48503fc\");\n",
       "    if (el != null) {\n",
       "      el.textContent = \"BokehJS is loading...\";\n",
       "    }\n",
       "    if (root.Bokeh !== undefined) {\n",
       "      if (el != null) {\n",
       "        el.textContent = \"BokehJS \" + root.Bokeh.version + \" successfully loaded.\";\n",
       "      }\n",
       "    } else if (Date.now() < root._bokeh_timeout) {\n",
       "      setTimeout(display_loaded, 100)\n",
       "    }\n",
       "  }\n",
       "\n",
       "  function run_callbacks() {\n",
       "    try {\n",
       "      root._bokeh_onload_callbacks.forEach(function(callback) {\n",
       "        if (callback != null)\n",
       "          callback();\n",
       "      });\n",
       "    } finally {\n",
       "      delete root._bokeh_onload_callbacks\n",
       "    }\n",
       "    console.debug(\"Bokeh: all callbacks have finished\");\n",
       "  }\n",
       "\n",
       "  function load_libs(css_urls, js_urls, callback) {\n",
       "    if (css_urls == null) css_urls = [];\n",
       "    if (js_urls == null) js_urls = [];\n",
       "\n",
       "    root._bokeh_onload_callbacks.push(callback);\n",
       "    if (root._bokeh_is_loading > 0) {\n",
       "      console.debug(\"Bokeh: BokehJS is being loaded, scheduling callback at\", now());\n",
       "      return null;\n",
       "    }\n",
       "    if (js_urls == null || js_urls.length === 0) {\n",
       "      run_callbacks();\n",
       "      return null;\n",
       "    }\n",
       "    console.debug(\"Bokeh: BokehJS not loaded, scheduling load and callback at\", now());\n",
       "    root._bokeh_is_loading = css_urls.length + js_urls.length;\n",
       "\n",
       "    function on_load() {\n",
       "      root._bokeh_is_loading--;\n",
       "      if (root._bokeh_is_loading === 0) {\n",
       "        console.debug(\"Bokeh: all BokehJS libraries/stylesheets loaded\");\n",
       "        run_callbacks()\n",
       "      }\n",
       "    }\n",
       "\n",
       "    function on_error(url) {\n",
       "      console.error(\"failed to load \" + url);\n",
       "    }\n",
       "\n",
       "    for (let i = 0; i < css_urls.length; i++) {\n",
       "      const url = css_urls[i];\n",
       "      const element = document.createElement(\"link\");\n",
       "      element.onload = on_load;\n",
       "      element.onerror = on_error.bind(null, url);\n",
       "      element.rel = \"stylesheet\";\n",
       "      element.type = \"text/css\";\n",
       "      element.href = url;\n",
       "      console.debug(\"Bokeh: injecting link tag for BokehJS stylesheet: \", url);\n",
       "      document.body.appendChild(element);\n",
       "    }\n",
       "\n",
       "    for (let i = 0; i < js_urls.length; i++) {\n",
       "      const url = js_urls[i];\n",
       "      const element = document.createElement('script');\n",
       "      element.onload = on_load;\n",
       "      element.onerror = on_error.bind(null, url);\n",
       "      element.async = false;\n",
       "      element.src = url;\n",
       "      console.debug(\"Bokeh: injecting script tag for BokehJS library: \", url);\n",
       "      document.head.appendChild(element);\n",
       "    }\n",
       "  };\n",
       "\n",
       "  function inject_raw_css(css) {\n",
       "    const element = document.createElement(\"style\");\n",
       "    element.appendChild(document.createTextNode(css));\n",
       "    document.body.appendChild(element);\n",
       "  }\n",
       "\n",
       "  const js_urls = [\"https://cdn.bokeh.org/bokeh/release/bokeh-3.3.4.min.js\", \"https://cdn.bokeh.org/bokeh/release/bokeh-gl-3.3.4.min.js\", \"https://cdn.bokeh.org/bokeh/release/bokeh-widgets-3.3.4.min.js\", \"https://cdn.bokeh.org/bokeh/release/bokeh-tables-3.3.4.min.js\", \"https://cdn.bokeh.org/bokeh/release/bokeh-mathjax-3.3.4.min.js\"];\n",
       "  const css_urls = [];\n",
       "\n",
       "  const inline_js = [    function(Bokeh) {\n",
       "      Bokeh.set_log_level(\"info\");\n",
       "    },\n",
       "function(Bokeh) {\n",
       "    }\n",
       "  ];\n",
       "\n",
       "  function run_inline_js() {\n",
       "    if (root.Bokeh !== undefined || force === true) {\n",
       "          for (let i = 0; i < inline_js.length; i++) {\n",
       "      inline_js[i].call(root, root.Bokeh);\n",
       "    }\n",
       "if (force === true) {\n",
       "        display_loaded();\n",
       "      }} else if (Date.now() < root._bokeh_timeout) {\n",
       "      setTimeout(run_inline_js, 100);\n",
       "    } else if (!root._bokeh_failed_load) {\n",
       "      console.log(\"Bokeh: BokehJS failed to load within specified timeout.\");\n",
       "      root._bokeh_failed_load = true;\n",
       "    } else if (force !== true) {\n",
       "      const cell = $(document.getElementById(\"fbb655ca-7ae9-4043-b131-3dfeb48503fc\")).parents('.cell').data().cell;\n",
       "      cell.output_area.append_execute_result(NB_LOAD_WARNING)\n",
       "    }\n",
       "  }\n",
       "\n",
       "  if (root._bokeh_is_loading === 0) {\n",
       "    console.debug(\"Bokeh: BokehJS loaded, going straight to plotting\");\n",
       "    run_inline_js();\n",
       "  } else {\n",
       "    load_libs(css_urls, js_urls, function() {\n",
       "      console.debug(\"Bokeh: BokehJS plotting callback run at\", now());\n",
       "      run_inline_js();\n",
       "    });\n",
       "  }\n",
       "}(window));"
      ],
      "application/vnd.bokehjs_load.v0+json": "(function(root) {\n  function now() {\n    return new Date();\n  }\n\n  const force = true;\n\n  if (typeof root._bokeh_onload_callbacks === \"undefined\" || force === true) {\n    root._bokeh_onload_callbacks = [];\n    root._bokeh_is_loading = undefined;\n  }\n\n\n  if (typeof (root._bokeh_timeout) === \"undefined\" || force === true) {\n    root._bokeh_timeout = Date.now() + 5000;\n    root._bokeh_failed_load = false;\n  }\n\n  const NB_LOAD_WARNING = {'data': {'text/html':\n     \"<div style='background-color: #fdd'>\\n\"+\n     \"<p>\\n\"+\n     \"BokehJS does not appear to have successfully loaded. If loading BokehJS from CDN, this \\n\"+\n     \"may be due to a slow or bad network connection. Possible fixes:\\n\"+\n     \"</p>\\n\"+\n     \"<ul>\\n\"+\n     \"<li>re-rerun `output_notebook()` to attempt to load from CDN again, or</li>\\n\"+\n     \"<li>use INLINE resources instead, as so:</li>\\n\"+\n     \"</ul>\\n\"+\n     \"<code>\\n\"+\n     \"from bokeh.resources import INLINE\\n\"+\n     \"output_notebook(resources=INLINE)\\n\"+\n     \"</code>\\n\"+\n     \"</div>\"}};\n\n  function display_loaded() {\n    const el = document.getElementById(\"fbb655ca-7ae9-4043-b131-3dfeb48503fc\");\n    if (el != null) {\n      el.textContent = \"BokehJS is loading...\";\n    }\n    if (root.Bokeh !== undefined) {\n      if (el != null) {\n        el.textContent = \"BokehJS \" + root.Bokeh.version + \" successfully loaded.\";\n      }\n    } else if (Date.now() < root._bokeh_timeout) {\n      setTimeout(display_loaded, 100)\n    }\n  }\n\n  function run_callbacks() {\n    try {\n      root._bokeh_onload_callbacks.forEach(function(callback) {\n        if (callback != null)\n          callback();\n      });\n    } finally {\n      delete root._bokeh_onload_callbacks\n    }\n    console.debug(\"Bokeh: all callbacks have finished\");\n  }\n\n  function load_libs(css_urls, js_urls, callback) {\n    if (css_urls == null) css_urls = [];\n    if (js_urls == null) js_urls = [];\n\n    root._bokeh_onload_callbacks.push(callback);\n    if (root._bokeh_is_loading > 0) {\n      console.debug(\"Bokeh: BokehJS is being loaded, scheduling callback at\", now());\n      return null;\n    }\n    if (js_urls == null || js_urls.length === 0) {\n      run_callbacks();\n      return null;\n    }\n    console.debug(\"Bokeh: BokehJS not loaded, scheduling load and callback at\", now());\n    root._bokeh_is_loading = css_urls.length + js_urls.length;\n\n    function on_load() {\n      root._bokeh_is_loading--;\n      if (root._bokeh_is_loading === 0) {\n        console.debug(\"Bokeh: all BokehJS libraries/stylesheets loaded\");\n        run_callbacks()\n      }\n    }\n\n    function on_error(url) {\n      console.error(\"failed to load \" + url);\n    }\n\n    for (let i = 0; i < css_urls.length; i++) {\n      const url = css_urls[i];\n      const element = document.createElement(\"link\");\n      element.onload = on_load;\n      element.onerror = on_error.bind(null, url);\n      element.rel = \"stylesheet\";\n      element.type = \"text/css\";\n      element.href = url;\n      console.debug(\"Bokeh: injecting link tag for BokehJS stylesheet: \", url);\n      document.body.appendChild(element);\n    }\n\n    for (let i = 0; i < js_urls.length; i++) {\n      const url = js_urls[i];\n      const element = document.createElement('script');\n      element.onload = on_load;\n      element.onerror = on_error.bind(null, url);\n      element.async = false;\n      element.src = url;\n      console.debug(\"Bokeh: injecting script tag for BokehJS library: \", url);\n      document.head.appendChild(element);\n    }\n  };\n\n  function inject_raw_css(css) {\n    const element = document.createElement(\"style\");\n    element.appendChild(document.createTextNode(css));\n    document.body.appendChild(element);\n  }\n\n  const js_urls = [\"https://cdn.bokeh.org/bokeh/release/bokeh-3.3.4.min.js\", \"https://cdn.bokeh.org/bokeh/release/bokeh-gl-3.3.4.min.js\", \"https://cdn.bokeh.org/bokeh/release/bokeh-widgets-3.3.4.min.js\", \"https://cdn.bokeh.org/bokeh/release/bokeh-tables-3.3.4.min.js\", \"https://cdn.bokeh.org/bokeh/release/bokeh-mathjax-3.3.4.min.js\"];\n  const css_urls = [];\n\n  const inline_js = [    function(Bokeh) {\n      Bokeh.set_log_level(\"info\");\n    },\nfunction(Bokeh) {\n    }\n  ];\n\n  function run_inline_js() {\n    if (root.Bokeh !== undefined || force === true) {\n          for (let i = 0; i < inline_js.length; i++) {\n      inline_js[i].call(root, root.Bokeh);\n    }\nif (force === true) {\n        display_loaded();\n      }} else if (Date.now() < root._bokeh_timeout) {\n      setTimeout(run_inline_js, 100);\n    } else if (!root._bokeh_failed_load) {\n      console.log(\"Bokeh: BokehJS failed to load within specified timeout.\");\n      root._bokeh_failed_load = true;\n    } else if (force !== true) {\n      const cell = $(document.getElementById(\"fbb655ca-7ae9-4043-b131-3dfeb48503fc\")).parents('.cell').data().cell;\n      cell.output_area.append_execute_result(NB_LOAD_WARNING)\n    }\n  }\n\n  if (root._bokeh_is_loading === 0) {\n    console.debug(\"Bokeh: BokehJS loaded, going straight to plotting\");\n    run_inline_js();\n  } else {\n    load_libs(css_urls, js_urls, function() {\n      console.debug(\"Bokeh: BokehJS plotting callback run at\", now());\n      run_inline_js();\n    });\n  }\n}(window));"
     },
     "metadata": {},
     "output_type": "display_data"
    }
   ],
   "source": [
    "!pip install backtesting -q\n",
    "from backtesting import Strategy, Backtest"
   ]
  },
  {
   "cell_type": "code",
   "execution_count": 18,
   "id": "b470e575-9789-46f3-8dbb-fd08963578dd",
   "metadata": {},
   "outputs": [
    {
     "name": "stderr",
     "output_type": "stream",
     "text": [
      "[*********************100%%**********************]  1 of 1 completed\n"
     ]
    }
   ],
   "source": [
    "step = 1\n",
    "lookback = 2\n",
    "\n",
    "estimator1 = Ridge(alpha=0.002840026017965097)\n",
    "estimator2 = Lasso(alpha=0.002999525583333498)\n",
    "estimator3 = KNeighborsRegressor(n_neighbors=8)\n",
    "models = [estimator1,\n",
    "          estimator2,\n",
    "          estimator3,]\n",
    "estimator = VotingRegressor(estimators=[('Ridge', estimator1),\n",
    "                                        ('Lasso', estimator2),\n",
    "                                        ('KNN', estimator3)],)\n",
    "\n",
    "X_test = X_test.iloc[(abs(lookforward)):]\n",
    "y_test = y_test.iloc[(abs(lookforward)):]\n",
    "\n",
    "estimator.fit(X_train, y_train)\n",
    "forecasted = estimator.predict(X_test)\n",
    "\n",
    "data = yf.download('SPY', start='2004-01-01')\n",
    "data.drop(data.tail(lookforward).index,inplace=True)\n",
    "data.drop(data.head(lookback).index,inplace=True)\n",
    "data = data.iloc[(-X_test.shape[0]):]\n",
    "data['forecastedValue'] = forecasted\n",
    "prediction = data"
   ]
  },
  {
   "cell_type": "code",
   "execution_count": 19,
   "id": "5ec547ee-2df9-4c43-aa67-3ef988014935",
   "metadata": {},
   "outputs": [
    {
     "name": "stdout",
     "output_type": "stream",
     "text": [
      "Start                     2009-03-10 00:00:00\n",
      "End                       2024-06-12 00:00:00\n",
      "Duration                   5573 days 00:00:00\n",
      "Exposure Time [%]                    75.48152\n",
      "Equity Final [$]                   317.840347\n",
      "Equity Peak [$]                        1000.0\n",
      "Return [%]                         -68.215965\n",
      "Buy & Hold Return [%]              650.117776\n",
      "Return (Ann.) [%]                   -7.242406\n",
      "Volatility (Ann.) [%]               11.372978\n",
      "Sharpe Ratio                              0.0\n",
      "Sortino Ratio                             0.0\n",
      "Calmar Ratio                              0.0\n",
      "Max. Drawdown [%]                  -68.215965\n",
      "Avg. Drawdown [%]                  -68.215965\n",
      "Max. Drawdown Duration     5572 days 00:00:00\n",
      "Avg. Drawdown Duration     5572 days 00:00:00\n",
      "# Trades                                 2894\n",
      "Win Rate [%]                        43.883898\n",
      "Best Trade [%]                       8.799434\n",
      "Worst Trade [%]                     -6.348897\n",
      "Avg. Trade [%]                      -0.049327\n",
      "Max. Trade Duration           5 days 00:00:00\n",
      "Avg. Trade Duration           2 days 00:00:00\n",
      "Profit Factor                        0.884277\n",
      "Expectancy [%]                      -0.043848\n",
      "SQN                                 -2.124807\n",
      "_strategy                          MyStrategy\n",
      "_equity_curve                             ...\n",
      "_trades                         Size  Entr...\n",
      "dtype: object\n"
     ]
    }
   ],
   "source": [
    "class MyStrategy(Strategy):\n",
    "    Data = prediction\n",
    "\n",
    "    def init(self):\n",
    "        super().init()\n",
    "\n",
    "    def next(self):\n",
    "        if self.data.forecastedValue < 0:\n",
    "            self.sell()\n",
    "        elif self.data.forecastedValue > 0:\n",
    "            self.buy()\n",
    "\n",
    "\n",
    "bt = Backtest(prediction, MyStrategy,\n",
    "              cash=1000,\n",
    "              trade_on_close=False,\n",
    "              exclusive_orders=True\n",
    "              )\n",
    "print(bt.run())"
   ]
  },
  {
   "cell_type": "code",
   "execution_count": null,
   "id": "850e6426-1ba3-42ff-9271-b20455a2c664",
   "metadata": {},
   "outputs": [],
   "source": []
  }
 ],
 "metadata": {
  "kernelspec": {
   "display_name": "Python 3 (ipykernel)",
   "language": "python",
   "name": "python3"
  },
  "language_info": {
   "codemirror_mode": {
    "name": "ipython",
    "version": 3
   },
   "file_extension": ".py",
   "mimetype": "text/x-python",
   "name": "python",
   "nbconvert_exporter": "python",
   "pygments_lexer": "ipython3",
   "version": "3.11.7"
  }
 },
 "nbformat": 4,
 "nbformat_minor": 5
}
