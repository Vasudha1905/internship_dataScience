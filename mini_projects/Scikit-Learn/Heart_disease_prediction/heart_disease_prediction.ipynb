{
 "cells": [
  {
   "cell_type": "markdown",
   "id": "79e612d3-a407-44c6-9fe4-f91fdbc9a2a8",
   "metadata": {},
   "source": [
    "## Heart Disease Prediction\n",
    "* The problem is : based on the given information about each individual we have to calculate that whether that individual will suffer from heart disease.\n",
    "* We can train our prediction model by analyzing existing data because we already know whether each patient has heart disease. This process is also known as supervision and learning. The trained model is then used to predict if users suffer from heart disease. "
   ]
  },
  {
   "cell_type": "code",
   "execution_count": 1,
   "id": "241efb51-be1d-42a7-9732-a911b648e08b",
   "metadata": {},
   "outputs": [],
   "source": [
    "import pandas as pd\n",
    "import matplotlib.pyplot as plt\n",
    "import seaborn as sns"
   ]
  },
  {
   "cell_type": "code",
   "execution_count": 2,
   "id": "e9d9eb97-d584-4178-b37c-2c0d5986baed",
   "metadata": {},
   "outputs": [],
   "source": [
    "data=pd.read_csv('datasets/cleveland.csv')"
   ]
  },
  {
   "cell_type": "code",
   "execution_count": 3,
   "id": "6a3a6f04-e4af-46fb-a752-034608902669",
   "metadata": {},
   "outputs": [
    {
     "data": {
      "text/html": [
       "<div>\n",
       "<style scoped>\n",
       "    .dataframe tbody tr th:only-of-type {\n",
       "        vertical-align: middle;\n",
       "    }\n",
       "\n",
       "    .dataframe tbody tr th {\n",
       "        vertical-align: top;\n",
       "    }\n",
       "\n",
       "    .dataframe thead th {\n",
       "        text-align: right;\n",
       "    }\n",
       "</style>\n",
       "<table border=\"1\" class=\"dataframe\">\n",
       "  <thead>\n",
       "    <tr style=\"text-align: right;\">\n",
       "      <th></th>\n",
       "      <th>63</th>\n",
       "      <th>1</th>\n",
       "      <th>1.1</th>\n",
       "      <th>145</th>\n",
       "      <th>233</th>\n",
       "      <th>1.2</th>\n",
       "      <th>2</th>\n",
       "      <th>150</th>\n",
       "      <th>0</th>\n",
       "      <th>2.3</th>\n",
       "      <th>3</th>\n",
       "      <th>0.1</th>\n",
       "      <th>6</th>\n",
       "      <th>0.2</th>\n",
       "    </tr>\n",
       "  </thead>\n",
       "  <tbody>\n",
       "    <tr>\n",
       "      <th>0</th>\n",
       "      <td>67</td>\n",
       "      <td>1</td>\n",
       "      <td>4</td>\n",
       "      <td>160</td>\n",
       "      <td>286</td>\n",
       "      <td>0</td>\n",
       "      <td>2</td>\n",
       "      <td>108</td>\n",
       "      <td>1</td>\n",
       "      <td>1.5</td>\n",
       "      <td>2</td>\n",
       "      <td>3.0</td>\n",
       "      <td>3.0</td>\n",
       "      <td>2</td>\n",
       "    </tr>\n",
       "    <tr>\n",
       "      <th>1</th>\n",
       "      <td>67</td>\n",
       "      <td>1</td>\n",
       "      <td>4</td>\n",
       "      <td>120</td>\n",
       "      <td>229</td>\n",
       "      <td>0</td>\n",
       "      <td>2</td>\n",
       "      <td>129</td>\n",
       "      <td>1</td>\n",
       "      <td>2.6</td>\n",
       "      <td>2</td>\n",
       "      <td>2.0</td>\n",
       "      <td>7.0</td>\n",
       "      <td>1</td>\n",
       "    </tr>\n",
       "    <tr>\n",
       "      <th>2</th>\n",
       "      <td>37</td>\n",
       "      <td>1</td>\n",
       "      <td>3</td>\n",
       "      <td>130</td>\n",
       "      <td>250</td>\n",
       "      <td>0</td>\n",
       "      <td>0</td>\n",
       "      <td>187</td>\n",
       "      <td>0</td>\n",
       "      <td>3.5</td>\n",
       "      <td>3</td>\n",
       "      <td>0.0</td>\n",
       "      <td>3.0</td>\n",
       "      <td>0</td>\n",
       "    </tr>\n",
       "    <tr>\n",
       "      <th>3</th>\n",
       "      <td>41</td>\n",
       "      <td>0</td>\n",
       "      <td>2</td>\n",
       "      <td>130</td>\n",
       "      <td>204</td>\n",
       "      <td>0</td>\n",
       "      <td>2</td>\n",
       "      <td>172</td>\n",
       "      <td>0</td>\n",
       "      <td>1.4</td>\n",
       "      <td>1</td>\n",
       "      <td>0.0</td>\n",
       "      <td>3.0</td>\n",
       "      <td>0</td>\n",
       "    </tr>\n",
       "    <tr>\n",
       "      <th>4</th>\n",
       "      <td>56</td>\n",
       "      <td>1</td>\n",
       "      <td>2</td>\n",
       "      <td>120</td>\n",
       "      <td>236</td>\n",
       "      <td>0</td>\n",
       "      <td>0</td>\n",
       "      <td>178</td>\n",
       "      <td>0</td>\n",
       "      <td>0.8</td>\n",
       "      <td>1</td>\n",
       "      <td>0.0</td>\n",
       "      <td>3.0</td>\n",
       "      <td>0</td>\n",
       "    </tr>\n",
       "  </tbody>\n",
       "</table>\n",
       "</div>"
      ],
      "text/plain": [
       "   63  1  1.1  145  233  1.2  2  150  0  2.3  3  0.1    6  0.2\n",
       "0  67  1    4  160  286    0  2  108  1  1.5  2  3.0  3.0    2\n",
       "1  67  1    4  120  229    0  2  129  1  2.6  2  2.0  7.0    1\n",
       "2  37  1    3  130  250    0  0  187  0  3.5  3  0.0  3.0    0\n",
       "3  41  0    2  130  204    0  2  172  0  1.4  1  0.0  3.0    0\n",
       "4  56  1    2  120  236    0  0  178  0  0.8  1  0.0  3.0    0"
      ]
     },
     "execution_count": 3,
     "metadata": {},
     "output_type": "execute_result"
    }
   ],
   "source": [
    "data.head()"
   ]
  },
  {
   "cell_type": "markdown",
   "id": "cc0dfc85-3aba-4df4-829b-2e6318103ad2",
   "metadata": {},
   "source": [
    "#### renaming columns"
   ]
  },
  {
   "cell_type": "code",
   "execution_count": 4,
   "id": "100d2c67-d6e4-44a3-b5cd-3a662391c7c6",
   "metadata": {},
   "outputs": [],
   "source": [
    "data.columns = ['age', 'sex', 'cp', 'trestbps', 'chol',\n",
    "              'fbs', 'restecg', 'thalach', 'exang', \n",
    "              'oldpeak', 'slope', 'ca', 'thal', 'target']\n",
    "\n",
    "### 1 = male, 0 = female\n"
   ]
  },
  {
   "cell_type": "markdown",
   "id": "05cf3f08-d4ee-4f78-a800-ef9cafc71867",
   "metadata": {},
   "source": [
    "#### null values"
   ]
  },
  {
   "cell_type": "code",
   "execution_count": 5,
   "id": "fb3270ea-8550-4acb-8035-548ee162239b",
   "metadata": {},
   "outputs": [
    {
     "data": {
      "text/plain": [
       "age         0\n",
       "sex         0\n",
       "cp          0\n",
       "trestbps    0\n",
       "chol        0\n",
       "fbs         0\n",
       "restecg     0\n",
       "thalach     0\n",
       "exang       0\n",
       "oldpeak     0\n",
       "slope       0\n",
       "ca          4\n",
       "thal        2\n",
       "target      0\n",
       "dtype: int64"
      ]
     },
     "execution_count": 5,
     "metadata": {},
     "output_type": "execute_result"
    }
   ],
   "source": [
    "data.isnull().sum()\n"
   ]
  },
  {
   "cell_type": "code",
   "execution_count": 6,
   "id": "36084bf9-da37-4e08-985c-ae094b2baf87",
   "metadata": {},
   "outputs": [],
   "source": [
    "data['target'] = data.target.map({0: 0, 1: 1, 2: 1, 3: 1, 4: 1})\n",
    "data['sex'] = data.sex.map({0: 'female', 1: 'male'})\n",
    "data['thal'] = data.thal.fillna(data.thal.mean())\n",
    "data['ca'] = data.ca.fillna(data.ca.mean())"
   ]
  },
  {
   "cell_type": "markdown",
   "id": "195ad869-4394-4792-8c9e-f943f2caded3",
   "metadata": {},
   "source": [
    "#### distribution of target vs age "
   ]
  },
  {
   "cell_type": "code",
   "execution_count": 7,
   "id": "44f69955-fb9a-450e-96af-d1edffb8ddbd",
   "metadata": {},
   "outputs": [
    {
     "data": {
      "image/png": "[encoded data removed]",
      "text/plain": [
       "<Figure size 563.5x500 with 1 Axes>"
      ]
     },
     "metadata": {},
     "output_type": "display_data"
    },
    {
     "data": {
      "text/plain": [
       "<Figure size 1500x500 with 0 Axes>"
      ]
     },
     "metadata": {},
     "output_type": "display_data"
    }
   ],
   "source": [
    "sns.set()\n",
    "sns.catplot(kind = 'count', data = data, x = 'age', hue = 'target', order = data['age'].sort_values().unique())\n",
    "plt.title('Variation of Age for each target class')\n",
    "plt.figure(figsize=(15,5))\n",
    "plt.show()\n"
   ]
  },
  {
   "cell_type": "markdown",
   "id": "1e94b458-3d27-4a89-b6d2-1702cd0b88d7",
   "metadata": {},
   "source": [
    "#### barplot of age vs sex with hue = target"
   ]
  },
  {
   "cell_type": "code",
   "execution_count": 8,
   "id": "6837f3c7-97a1-4c6a-a32d-03f79da7da95",
   "metadata": {},
   "outputs": [
    {
     "data": {
      "image/png": "[encoded data removed]",
      "text/plain": [
       "<Figure size 563.5x500 with 1 Axes>"
      ]
     },
     "metadata": {},
     "output_type": "display_data"
    }
   ],
   "source": [
    "sns.catplot(kind = 'bar', data = data, y = 'age', x = 'sex', hue = 'target')\n",
    "plt.title('Distribution of age vs sex with the target class')\n",
    "plt.show()\n",
    "\n",
    "data['sex'] = data.sex.map({'female': 0, 'male': 1})"
   ]
  },
  {
   "cell_type": "markdown",
   "id": "e96466ea-beec-4db5-8d36-9f817a28cbf4",
   "metadata": {},
   "source": [
    "#### data preprocessing"
   ]
  },
  {
   "cell_type": "code",
   "execution_count": 9,
   "id": "178499d9-eefe-40b6-a21a-8177cf5a4f20",
   "metadata": {},
   "outputs": [],
   "source": [
    "X = data.iloc[:, :-1].values\n",
    "y = data.iloc[:, -1].values"
   ]
  },
  {
   "cell_type": "markdown",
   "id": "9b80645e-4af7-4550-a176-0bc9d317cc2d",
   "metadata": {},
   "source": [
    "### Different Models"
   ]
  },
  {
   "cell_type": "markdown",
   "id": "6093363a-04f3-4ed0-8646-83cf5d7155cf",
   "metadata": {},
   "source": [
    "* Standardisation- normalize the range of independent variables or features of data. The objective is to standardize the features of the dataset so that they have a mean of 0 and a standard deviation of 1\n",
    "* splitting of data"
   ]
  },
  {
   "cell_type": "code",
   "execution_count": 10,
   "id": "59d02595-9206-4342-b803-4307972a7b83",
   "metadata": {},
   "outputs": [],
   "source": [
    "from sklearn.model_selection import train_test_split\n",
    "X_train, X_test, y_train, y_test = train_test_split(X, y, test_size = 0.2, random_state = 0)\n",
    "\n",
    "from sklearn.preprocessing import StandardScaler as ss\n",
    "sc = ss()\n",
    "X_train = sc.fit_transform(X_train)\n",
    "X_test = sc.transform(X_test)"
   ]
  },
  {
   "cell_type": "markdown",
   "id": "184812d2-f3db-4a5d-abda-964d9a0138f8",
   "metadata": {},
   "source": [
    "#### Support Vector Classifier (SVC) \n",
    "The Support Vector Classifier (SVC) from sklearn.svm is a supervised machine learning tool that classifies data into categories by finding the best boundary (or \"line\") that separates different classes."
   ]
  },
  {
   "cell_type": "code",
   "execution_count": 11,
   "id": "fe6ed9da-103c-49e1-83e3-f9f0171fd313",
   "metadata": {},
   "outputs": [
    {
     "name": "stdout",
     "output_type": "stream",
     "text": [
      "\n",
      "Accuracy for test set for svm = 0.8360655737704918\n"
     ]
    }
   ],
   "source": [
    "from sklearn.svm import SVC\n",
    "classifier = SVC(kernel = 'rbf')\n",
    "classifier.fit(X_train, y_train)\n",
    "\n",
    "# Predicting the Test set results\n",
    "y_pred = classifier.predict(X_test)\n",
    "\n",
    "from sklearn.metrics import confusion_matrix\n",
    "cm_test = confusion_matrix(y_pred, y_test)\n",
    "\n",
    "y_pred_train = classifier.predict(X_train)\n",
    "cm_train = confusion_matrix(y_pred_train, y_train)\n",
    "\n",
    "print()\n",
    "print('Accuracy for test set for svm = {}'.format((cm_test[0][0] + cm_test[1][1])/len(y_test)))\n"
   ]
  },
  {
   "cell_type": "markdown",
   "id": "f4ab1bb2-9085-47aa-8691-332c890f5edc",
   "metadata": {},
   "source": [
    "#### GaussianNB\n",
    "a supervised learning algorithm in scikit-learn that uses the Gaussian (normal) distribution assumption to classify data points, making it effective for tasks where features are normally distributed."
   ]
  },
  {
   "cell_type": "code",
   "execution_count": 12,
   "id": "2aaf89df-1812-4480-9567-70ed666398c4",
   "metadata": {},
   "outputs": [
    {
     "name": "stdout",
     "output_type": "stream",
     "text": [
      "Accuracy for test set for Naive Bayes = 0.8524590163934426\n"
     ]
    }
   ],
   "source": [
    "from sklearn.naive_bayes import GaussianNB\n",
    "classifier = GaussianNB()\n",
    "classifier.fit(X_train, y_train)\n",
    "\n",
    "\n",
    "# Predicting the Test set results\n",
    "y_pred = classifier.predict(X_test)\n",
    "\n",
    "from sklearn.metrics import confusion_matrix\n",
    "cm_test = confusion_matrix(y_pred, y_test)\n",
    "\n",
    "y_pred_train = classifier.predict(X_train)\n",
    "cm_train = confusion_matrix(y_pred_train, y_train)\n",
    "print('Accuracy for test set for Naive Bayes = {}'.format((cm_test[0][0] + cm_test[1][1])/len(y_test)))\n",
    "\n"
   ]
  },
  {
   "cell_type": "markdown",
   "id": "15bd9281-f579-4a4d-9141-9416e8455272",
   "metadata": {},
   "source": [
    "#### LogisticRegression\n",
    "LogisticRegression in scikit-learn is a machine learning algorithm used for classification tasks where the goal is to predict categorical outcomes (e.g., yes/no, spam/not spam) based on input features by fitting a logistic curve to the data."
   ]
  },
  {
   "cell_type": "code",
   "execution_count": 13,
   "id": "84e094e8-dea6-441d-9ff3-5d1de0fb7b84",
   "metadata": {},
   "outputs": [
    {
     "name": "stdout",
     "output_type": "stream",
     "text": [
      "Accuracy for test set for Logistic Regression = 0.8852459016393442\n"
     ]
    }
   ],
   "source": [
    "from sklearn.linear_model import LogisticRegression\n",
    "classifier = LogisticRegression()\n",
    "classifier.fit(X_train, y_train)\n",
    "\n",
    "# Predicting the Test set results\n",
    "y_pred = classifier.predict(X_test)\n",
    "\n",
    "from sklearn.metrics import confusion_matrix\n",
    "cm_test = confusion_matrix(y_pred, y_test)\n",
    "\n",
    "y_pred_train = classifier.predict(X_train)\n",
    "cm_train = confusion_matrix(y_pred_train, y_train)\n",
    "print('Accuracy for test set for Logistic Regression = {}'.format((cm_test[0][0] + cm_test[1][1])/len(y_test)))\n"
   ]
  },
  {
   "cell_type": "markdown",
   "id": "3183e7e9-dc4f-4ab8-b89e-d43bce7de471",
   "metadata": {},
   "source": [
    "#### DecisionTreeClassifier \n",
    "a machine learning algorithm used for classification tasks. It builds a decision tree model that predicts the value of a target variable by learning simple decision rules inferred from the data features."
   ]
  },
  {
   "cell_type": "code",
   "execution_count": 14,
   "id": "110a1fc0-d0b8-43c8-8e86-c7370010bf2b",
   "metadata": {},
   "outputs": [
    {
     "name": "stdout",
     "output_type": "stream",
     "text": [
      "Accuracy for test set for Decision Tree = 0.7540983606557377\n"
     ]
    }
   ],
   "source": [
    "from sklearn.tree import DecisionTreeClassifier\n",
    "classifier = DecisionTreeClassifier()\n",
    "classifier.fit(X_train, y_train)\n",
    "\n",
    "# Predicting the Test set results\n",
    "y_pred = classifier.predict(X_test)\n",
    "\n",
    "from sklearn.metrics import confusion_matrix\n",
    "cm_test = confusion_matrix(y_pred, y_test)\n",
    "\n",
    "y_pred_train = classifier.predict(X_train)\n",
    "cm_train = confusion_matrix(y_pred_train, y_train)\n",
    "print('Accuracy for test set for Decision Tree = {}'.format((cm_test[0][0] + cm_test[1][1])/len(y_test)))\n",
    "\n"
   ]
  },
  {
   "cell_type": "markdown",
   "id": "c8378916-cee7-459b-85df-99ef67feb96e",
   "metadata": {},
   "source": [
    "#### RandomForestClassifier \n",
    "a machine learning algorithm used for classification tasks. It builds multiple decision trees and combines their results to improve the accuracy and robustness of the model."
   ]
  },
  {
   "cell_type": "code",
   "execution_count": 15,
   "id": "d517afb9-c4f4-4eba-aebc-0cc05435dc27",
   "metadata": {},
   "outputs": [
    {
     "name": "stdout",
     "output_type": "stream",
     "text": [
      "Accuracy for test set for Random Forest = 0.819672131147541\n"
     ]
    }
   ],
   "source": [
    "from sklearn.ensemble import RandomForestClassifier\n",
    "classifier = RandomForestClassifier(n_estimators = 10)\n",
    "classifier.fit(X_train, y_train)\n",
    "\n",
    "# Predicting the Test set results\n",
    "y_pred = classifier.predict(X_test)\n",
    "\n",
    "from sklearn.metrics import confusion_matrix\n",
    "cm_test = confusion_matrix(y_pred, y_test)\n",
    "\n",
    "y_pred_train = classifier.predict(X_train)\n",
    "cm_train = confusion_matrix(y_pred_train, y_train)\n",
    "print('Accuracy for test set for Random Forest = {}'.format((cm_test[0][0] + cm_test[1][1])/len(y_test)))\n"
   ]
  },
  {
   "cell_type": "code",
   "execution_count": null,
   "id": "18e42de6-b1b5-4f24-a3dd-c24bb06d14c1",
   "metadata": {},
   "outputs": [],
   "source": []
  }
 ],
 "metadata": {
  "kernelspec": {
   "display_name": "Python 3 (ipykernel)",
   "language": "python",
   "name": "python3"
  },
  "language_info": {
   "codemirror_mode": {
    "name": "ipython",
    "version": 3
   },
   "file_extension": ".py",
   "mimetype": "text/x-python",
   "name": "python",
   "nbconvert_exporter": "python",
   "pygments_lexer": "ipython3",
   "version": "3.11.7"
  }
 },
 "nbformat": 4,
 "nbformat_minor": 5
}
