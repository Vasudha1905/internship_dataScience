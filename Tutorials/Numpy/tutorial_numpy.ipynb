{
 "cells": [
  {
   "cell_type": "code",
   "execution_count": 7,
   "id": "b04ae48e-7d25-4c2f-b63b-1c9f90fdc63d",
   "metadata": {},
   "outputs": [],
   "source": [
    "import numpy as np"
   ]
  },
  {
   "cell_type": "code",
   "execution_count": 12,
   "id": "67d77a12-774b-428b-9857-b8d6f8473d10",
   "metadata": {},
   "outputs": [
    {
     "name": "stdout",
     "output_type": "stream",
     "text": [
      "[1 2 3 4]\n"
     ]
    }
   ],
   "source": [
    "# numpy array\n",
    "arr=np.array([1,2,3,4])\n",
    "print(arr)"
   ]
  },
  {
   "cell_type": "code",
   "execution_count": 14,
   "id": "ad05c6c4-8e80-4b38-919a-7080d39911c8",
   "metadata": {},
   "outputs": [
    {
     "name": "stdout",
     "output_type": "stream",
     "text": [
      "[[0. 0. 0. 0.]\n",
      " [0. 0. 0. 0.]]\n"
     ]
    }
   ],
   "source": [
    "#array with only zeroes\n",
    "arr_z=np.zeros((2,4))\n",
    "print(arr_z)"
   ]
  },
  {
   "cell_type": "code",
   "execution_count": 13,
   "id": "2f0fa983-aa91-444e-894a-27e721182408",
   "metadata": {},
   "outputs": [
    {
     "name": "stdout",
     "output_type": "stream",
     "text": [
      "[[1. 1. 1.]\n",
      " [1. 1. 1.]\n",
      " [1. 1. 1.]]\n"
     ]
    }
   ],
   "source": [
    "#array with 1\n",
    "arr_1=np.ones((3,3))\n",
    "print(arr_1)"
   ]
  },
  {
   "cell_type": "code",
   "execution_count": 15,
   "id": "19392ac2-a3c5-452a-9ea0-93bf20a2a562",
   "metadata": {},
   "outputs": [
    {
     "name": "stdout",
     "output_type": "stream",
     "text": [
      "[[0. 0. 0. 0.]\n",
      " [0. 0. 0. 0.]]\n"
     ]
    }
   ],
   "source": [
    "#empty array\n",
    "arr_empty=np.empty((2,4))\n",
    "print(arr_empty)"
   ]
  },
  {
   "cell_type": "code",
   "execution_count": 19,
   "id": "d0c8be32-9858-4466-93b4-ad8146e8d69a",
   "metadata": {},
   "outputs": [
    {
     "name": "stdout",
     "output_type": "stream",
     "text": [
      "[]\n",
      "[0 1 2 3 4 5 6 7 8 9]\n"
     ]
    }
   ],
   "source": [
    "# arrange method\n",
    "arr_arange=np.arange(-10)\n",
    "print(arr_arange)\n",
    "\n",
    "arr_arange1=np.arange(10)\n",
    "print(arr_arange1)"
   ]
  },
  {
   "cell_type": "code",
   "execution_count": 21,
   "id": "a1472457-1bc5-49d2-8ed0-ed01af8361cf",
   "metadata": {},
   "outputs": [
    {
     "data": {
      "text/plain": [
       "array([[1, 2],\n",
       "       [3, 4]])"
      ]
     },
     "execution_count": 21,
     "metadata": {},
     "output_type": "execute_result"
    }
   ],
   "source": [
    "# changing the shape\n",
    "arr=np.array([1,2,3,4])\n",
    "arr.reshape(2,2)"
   ]
  },
  {
   "cell_type": "code",
   "execution_count": 24,
   "id": "9cb48a02-4418-463b-ab8c-2648dd4cc16e",
   "metadata": {},
   "outputs": [
    {
     "name": "stdout",
     "output_type": "stream",
     "text": [
      "[ 10.  20.  30.  40.  50.  60.  70.  80.  90. 100.]\n"
     ]
    }
   ],
   "source": [
    "# linspace\n",
    "lin_space=np.linspace(10,100,10)\n",
    "print(lin_space)"
   ]
  },
  {
   "cell_type": "code",
   "execution_count": 31,
   "id": "34c3087d-5cde-444a-9e41-387093a02255",
   "metadata": {},
   "outputs": [
    {
     "name": "stdout",
     "output_type": "stream",
     "text": [
      "[[1 2]\n",
      " [3 4]]\n"
     ]
    }
   ],
   "source": [
    "# two-dimensional array\n",
    "twoD_array = arr.reshape(2, 2)\n",
    "print(twoD_array)"
   ]
  },
  {
   "cell_type": "code",
   "execution_count": 37,
   "id": "13b5ba37-f856-495f-a224-9793036256b6",
   "metadata": {},
   "outputs": [
    {
     "name": "stdout",
     "output_type": "stream",
     "text": [
      "[[[ 0  1  2]\n",
      "  [ 3  4  5]\n",
      "  [ 6  7  8]]\n",
      "\n",
      " [[ 9 10 11]\n",
      "  [12 13 14]\n",
      "  [15 16 17]]\n",
      "\n",
      " [[18 19 20]\n",
      "  [21 22 23]\n",
      "  [24 25 26]]]\n"
     ]
    }
   ],
   "source": [
    "# three-dimensional array\n",
    "threeD_array = np.arange(27).reshape(3,3,3)\n",
    "print(threeD_array)"
   ]
  },
  {
   "cell_type": "code",
   "execution_count": 38,
   "id": "7ee08d85-a762-41b9-a259-91942dfdf296",
   "metadata": {},
   "outputs": [
    {
     "name": "stdout",
     "output_type": "stream",
     "text": [
      "1\n",
      "3\n",
      "2\n"
     ]
    }
   ],
   "source": [
    "# displaying the no. of dimensions\n",
    "print(arr.ndim)\n",
    "print(threeD_array.ndim)\n",
    "print(twoD_array.ndim)"
   ]
  },
  {
   "cell_type": "code",
   "execution_count": 39,
   "id": "8ed070de-1ff0-42e0-8c12-d4767e9a4986",
   "metadata": {},
   "outputs": [
    {
     "name": "stdout",
     "output_type": "stream",
     "text": [
      "(3, 3, 3)\n",
      "(2, 2)\n",
      "(4,)\n"
     ]
    }
   ],
   "source": [
    "# shape of array\n",
    "print(threeD_array.shape)\n",
    "print(twoD_array.shape)\n",
    "print(arr.shape)"
   ]
  },
  {
   "cell_type": "code",
   "execution_count": 40,
   "id": "63886cbf-7558-49f9-9604-82b971965442",
   "metadata": {},
   "outputs": [
    {
     "name": "stdout",
     "output_type": "stream",
     "text": [
      "4\n",
      "4\n",
      "27\n"
     ]
    }
   ],
   "source": [
    "# size of array\n",
    "print(twoD_array.size)\n",
    "print(arr.size)\n",
    "print(threeD_array.size)"
   ]
  },
  {
   "cell_type": "markdown",
   "id": "9b877bda-5d00-4a35-b330-6939e7ee224d",
   "metadata": {},
   "source": [
    "### operations "
   ]
  },
  {
   "cell_type": "code",
   "execution_count": 42,
   "id": "0a370937-e065-4853-b462-5cd23c3cab94",
   "metadata": {},
   "outputs": [],
   "source": [
    "a=[1,2,3,4,5]\n",
    "b=[6,7,8,9,10]"
   ]
  },
  {
   "cell_type": "code",
   "execution_count": 43,
   "id": "cd063143-ef83-4497-81b7-b6ca24680171",
   "metadata": {},
   "outputs": [
    {
     "name": "stdout",
     "output_type": "stream",
     "text": [
      "[1, 2, 3, 4, 5, 6, 7, 8, 9, 10]\n"
     ]
    }
   ],
   "source": [
    "print(a+b)"
   ]
  },
  {
   "cell_type": "code",
   "execution_count": 44,
   "id": "9b01bf93-5d1d-47c7-b42c-f33a3650c065",
   "metadata": {},
   "outputs": [
    {
     "name": "stdout",
     "output_type": "stream",
     "text": [
      "[ 7  9 11 13 15]\n"
     ]
    }
   ],
   "source": [
    "# converting to array and then adding \n",
    "an=np.array(a)\n",
    "bn=np.array(b)\n",
    "print(an+bn)"
   ]
  },
  {
   "cell_type": "code",
   "execution_count": 51,
   "id": "8325f090-5809-4945-9a0e-e94077b1d769",
   "metadata": {},
   "outputs": [
    {
     "name": "stdout",
     "output_type": "stream",
     "text": [
      "9\n",
      "[ 6  7  8  9 10]\n"
     ]
    }
   ],
   "source": [
    "print(np.add(4,5))\n",
    "print(np.add(a,5))"
   ]
  },
  {
   "cell_type": "code",
   "execution_count": 53,
   "id": "6a18973e-612f-4ee3-93cb-2e3aab59c430",
   "metadata": {},
   "outputs": [
    {
     "name": "stdout",
     "output_type": "stream",
     "text": [
      "[34 65 43 21 12 32 13]\n"
     ]
    }
   ],
   "source": [
    "# comparision operator\n",
    "c=np.array([34,65,43,21,12,32,13])\n",
    "print(c[c>4])"
   ]
  },
  {
   "cell_type": "code",
   "execution_count": 56,
   "id": "13ead73a-3171-4e21-9b0d-f1ec172e5a6f",
   "metadata": {},
   "outputs": [
    {
     "data": {
      "text/plain": [
       "array([[[False, False, False],\n",
       "        [False, False, False],\n",
       "        [False, False, False]],\n",
       "\n",
       "       [[False, False,  True],\n",
       "        [ True,  True,  True],\n",
       "        [ True,  True,  True]],\n",
       "\n",
       "       [[ True,  True, False],\n",
       "        [False, False, False],\n",
       "        [False, False, False]]])"
      ]
     },
     "execution_count": 56,
     "metadata": {},
     "output_type": "execute_result"
    }
   ],
   "source": [
    "# logical operator \n",
    "np.logical_and(threeD_array>10,threeD_array<20)"
   ]
  },
  {
   "cell_type": "code",
   "execution_count": 58,
   "id": "801d50ad-f5e7-445b-9574-10edbc32507f",
   "metadata": {},
   "outputs": [
    {
     "name": "stdout",
     "output_type": "stream",
     "text": [
      "[[0. 0. 0.]\n",
      " [0. 0. 0.]\n",
      " [0. 0. 0.]]\n",
      "\n",
      "\n",
      "[[0. 0.]\n",
      " [0. 0.]\n",
      " [0. 0.]]\n"
     ]
    }
   ],
   "source": [
    "np_trial_data = np.zeros((3, 3))\n",
    "print(np_trial_data)\n",
    "print(\"\\n\")\n",
    "trial_data = np_trial_data[:,1:3]\n",
    "print(trial_data)\n"
   ]
  },
  {
   "cell_type": "code",
   "execution_count": 69,
   "id": "c7251d18-9967-4912-94d5-d90d16592133",
   "metadata": {},
   "outputs": [
    {
     "name": "stdout",
     "output_type": "stream",
     "text": [
      "[[[ 0  1  2]\n",
      "  [ 3  4  5]\n",
      "  [ 6  7  8]]\n",
      "\n",
      " [[ 9 10 11]\n",
      "  [12 13 14]\n",
      "  [15 16 17]]\n",
      "\n",
      " [[18 19 20]\n",
      "  [21 22 23]\n",
      "  [24 25 26]]]\n",
      "\n",
      "\n",
      "[20 23 26]\n"
     ]
    }
   ],
   "source": [
    "# printig specifc values\n",
    "print(threeD_array)\n",
    "print(\"\\n\")\n",
    "print(threeD_array[2,:,2]) #matrix 2, all rows , 2nd column"
   ]
  },
  {
   "cell_type": "code",
   "execution_count": 73,
   "id": "496e13fa-18dd-4b8f-b2b2-83ae706299dc",
   "metadata": {},
   "outputs": [
    {
     "data": {
      "text/plain": [
       "array([ 54,  67,  43,  21,  21, 356,  35,  87, 654,  33,  67,  88])"
      ]
     },
     "execution_count": 73,
     "metadata": {},
     "output_type": "execute_result"
    }
   ],
   "source": [
    "# ravel - single line\n",
    "arr2=np.array([[54,67,43,21,21,356],[35,87,654,33,67,88]])\n",
    "arr2.ravel()\n"
   ]
  },
  {
   "cell_type": "code",
   "execution_count": 75,
   "id": "79352021-adf1-4447-9a98-cc010524561f",
   "metadata": {},
   "outputs": [
    {
     "data": {
      "text/plain": [
       "array([[ 54,  67,  43,  21],\n",
       "       [ 21, 356,  35,  87],\n",
       "       [654,  33,  67,  88]])"
      ]
     },
     "execution_count": 75,
     "metadata": {},
     "output_type": "execute_result"
    }
   ],
   "source": [
    "# reshape - does not change original array\n",
    "arr2.reshape((3,4))"
   ]
  },
  {
   "cell_type": "code",
   "execution_count": 83,
   "id": "0ed275bf-fe1a-415a-922a-ce226c79ae4d",
   "metadata": {},
   "outputs": [
    {
     "name": "stdout",
     "output_type": "stream",
     "text": [
      "[[ 54  67  43  21]\n",
      " [ 21 356  35  87]\n",
      " [654  33  67  88]]\n"
     ]
    }
   ],
   "source": [
    "# resize - changes original array\n",
    "arr2.resize(3,4)\n",
    "print(arr2)\n"
   ]
  },
  {
   "cell_type": "code",
   "execution_count": 87,
   "id": "c2fac775-3fef-4850-9164-514528d037e5",
   "metadata": {},
   "outputs": [
    {
     "data": {
      "text/plain": [
       "[array([[ 54],\n",
       "        [ 21],\n",
       "        [654]]),\n",
       " array([[ 67],\n",
       "        [356],\n",
       "        [ 33]]),\n",
       " array([[43],\n",
       "        [35],\n",
       "        [67]]),\n",
       " array([[21],\n",
       "        [87],\n",
       "        [88]])]"
      ]
     },
     "execution_count": 87,
     "metadata": {},
     "output_type": "execute_result"
    }
   ],
   "source": [
    "# hsplit - splits array\n",
    "np.hsplit(arr2,4)"
   ]
  },
  {
   "cell_type": "code",
   "execution_count": 92,
   "id": "29673c85-7cd4-4b3e-bdfc-d9d1d3ae2f17",
   "metadata": {},
   "outputs": [
    {
     "name": "stdout",
     "output_type": "stream",
     "text": [
      "[1 2 3 4]\n",
      "[[ 54  67  43  21]\n",
      " [ 21 356  35  87]\n",
      " [654  33  67  88]]\n"
     ]
    },
    {
     "data": {
      "text/plain": [
       "array([1, 2, 3, 4, 1, 2, 3, 4])"
      ]
     },
     "execution_count": 92,
     "metadata": {},
     "output_type": "execute_result"
    }
   ],
   "source": [
    "#hstack - combines array\n",
    "print(arr)\n",
    "print(arr2)\n",
    "np.hstack((arr,arr))"
   ]
  },
  {
   "cell_type": "code",
   "execution_count": 2,
   "id": "2b73d483-d4c7-43b4-8465-f49bdd0a7dcd",
   "metadata": {},
   "outputs": [
    {
     "name": "stdout",
     "output_type": "stream",
     "text": [
      "[[1 2 3]\n",
      " [4 5 6]\n",
      " [7 8 9]]\n"
     ]
    }
   ],
   "source": [
    "import numpy as np\n",
    "np_trial_data_1 = np.array([[1,2,3],[4,5,6], [7,8,9]])\n",
    "print(np_trial_data_1)"
   ]
  },
  {
   "cell_type": "code",
   "execution_count": 94,
   "id": "bd77b45b-a94e-43f0-98d1-57b49bc067e0",
   "metadata": {},
   "outputs": [
    {
     "data": {
      "text/plain": [
       "array([ 2,  6, 12, 20])"
      ]
     },
     "execution_count": 94,
     "metadata": {},
     "output_type": "execute_result"
    }
   ],
   "source": [
    "a=np.array([1,2,3,4])\n",
    "b=np.array([2,3,4,5])\n",
    "a*b  # should be same length"
   ]
  },
  {
   "cell_type": "code",
   "execution_count": 110,
   "id": "c99b81a2-b3cd-4a44-b769-8875e63acf43",
   "metadata": {},
   "outputs": [
    {
     "data": {
      "text/plain": [
       "array([ 24, 135,  32])"
      ]
     },
     "execution_count": 110,
     "metadata": {},
     "output_type": "execute_result"
    }
   ],
   "source": [
    "np_arr_1 = np.array([12,45,8])\n",
    "var = [2,3,4]  # same length or 1 number\n",
    "np_arr_1 * var\n"
   ]
  },
  {
   "cell_type": "code",
   "execution_count": 111,
   "id": "ef3e216c-81f7-4b91-967b-ecc48c566def",
   "metadata": {},
   "outputs": [
    {
     "data": {
      "text/plain": [
       "array([ 60, 225,  40])"
      ]
     },
     "execution_count": 111,
     "metadata": {},
     "output_type": "execute_result"
    }
   ],
   "source": [
    "np_arr_1*5"
   ]
  },
  {
   "cell_type": "code",
   "execution_count": 97,
   "id": "0481ddc1-2cb1-446f-970f-86a3b1ac7041",
   "metadata": {},
   "outputs": [
    {
     "name": "stdout",
     "output_type": "stream",
     "text": [
      "[[[ 1  2  3]\n",
      "  [ 4  5  6]]\n",
      "\n",
      " [[ 7  8  9]\n",
      "  [10 11 12]]]\n"
     ]
    }
   ],
   "source": [
    "a = np.array([[[1, 2, 3], [4, 5, 6]], [[7, 8, 9], [10, 11, 12]]])\n",
    "print(a)"
   ]
  },
  {
   "cell_type": "code",
   "execution_count": 106,
   "id": "62975529-db12-47d4-b091-c48501d4ffef",
   "metadata": {},
   "outputs": [
    {
     "data": {
      "text/plain": [
       "array([[ 3.15251974e+15, -6.30503948e+15,  3.15251974e+15],\n",
       "       [-6.30503948e+15,  1.26100790e+16, -6.30503948e+15],\n",
       "       [ 3.15251974e+15, -6.30503948e+15,  3.15251974e+15]])"
      ]
     },
     "execution_count": 106,
     "metadata": {},
     "output_type": "execute_result"
    }
   ],
   "source": [
    "x=np.array([[1,2,3], [4,5,6], [7,8,9]])\n",
    "np.linalg.inv(x)"
   ]
  },
  {
   "cell_type": "code",
   "execution_count": 112,
   "id": "cabc6759-b44c-476e-a945-063bfb0583ae",
   "metadata": {},
   "outputs": [
    {
     "data": {
      "text/plain": [
       "15"
      ]
     },
     "execution_count": 112,
     "metadata": {},
     "output_type": "execute_result"
    }
   ],
   "source": [
    "# sum of diagonal \n",
    "np.trace(x) "
   ]
  },
  {
   "cell_type": "code",
   "execution_count": null,
   "id": "94a8beaa-dd71-4ca1-8c16-96530b257a85",
   "metadata": {},
   "outputs": [],
   "source": []
  }
 ],
 "metadata": {
  "kernelspec": {
   "display_name": "Python 3 (ipykernel)",
   "language": "python",
   "name": "python3"
  },
  "language_info": {
   "codemirror_mode": {
    "name": "ipython",
    "version": 3
   },
   "file_extension": ".py",
   "mimetype": "text/x-python",
   "name": "python",
   "nbconvert_exporter": "python",
   "pygments_lexer": "ipython3",
   "version": "3.11.7"
  }
 },
 "nbformat": 4,
 "nbformat_minor": 5
}
