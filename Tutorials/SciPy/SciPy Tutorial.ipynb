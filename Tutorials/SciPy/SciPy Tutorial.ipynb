{
 "cells": [
  {
   "cell_type": "markdown",
   "id": "f47d8e56-b1c2-43b0-b0a5-59225cd4f0f9",
   "metadata": {},
   "source": [
    "## SciPy Tutorial"
   ]
  },
  {
   "cell_type": "markdown",
   "id": "55c05abd-6e6f-476a-832c-865be7f143aa",
   "metadata": {},
   "source": [
    "SciPy is a Python library which is used to solve scientific and mathematical problems"
   ]
  },
  {
   "cell_type": "markdown",
   "id": "df38b573-1559-4dd3-ac3f-c67f5dd43bed",
   "metadata": {},
   "source": [
    "### single intergration"
   ]
  },
  {
   "cell_type": "code",
   "execution_count": 1,
   "id": "7cfea795-9f0c-4c22-b766-9f6537aa90e8",
   "metadata": {},
   "outputs": [],
   "source": [
    "from scipy.integrate import quad  # allows us to integrate from limit a to b"
   ]
  },
  {
   "cell_type": "code",
   "execution_count": 2,
   "id": "eda99f0f-ca6e-4fd1-801e-6dcbc908952d",
   "metadata": {},
   "outputs": [],
   "source": [
    "# defining function for integration\n",
    "def integratefunc(x):\n",
    "    return x"
   ]
  },
  {
   "cell_type": "code",
   "execution_count": 3,
   "id": "f7cd870b-128c-46bc-8fbf-6e17286f9acf",
   "metadata": {},
   "outputs": [
    {
     "data": {
      "text/plain": [
       "(0.5, 5.551115123125783e-15)"
      ]
     },
     "execution_count": 3,
     "metadata": {},
     "output_type": "execute_result"
    }
   ],
   "source": [
    "quad(integratefunc,0,1)"
   ]
  },
  {
   "cell_type": "markdown",
   "id": "9513bcd7-8e08-4dbb-938d-e487b64d775d",
   "metadata": {},
   "source": [
    "here 5.55.. is the numerical error in computation"
   ]
  },
  {
   "cell_type": "markdown",
   "id": "0e22a6fb-b74f-4adc-8d22-2752dc6f9486",
   "metadata": {},
   "source": [
    "##### example 2"
   ]
  },
  {
   "cell_type": "code",
   "execution_count": 4,
   "id": "0ae53a8e-56b6-43a4-a4df-3b2ae58c16e9",
   "metadata": {},
   "outputs": [],
   "source": [
    "def integratefunc2(x,a,b):\n",
    "    return x*a+b\n",
    "\n",
    "a=3\n",
    "b=2"
   ]
  },
  {
   "cell_type": "code",
   "execution_count": 5,
   "id": "239e7bad-61dd-43ac-94e8-01b963cafbef",
   "metadata": {},
   "outputs": [
    {
     "data": {
      "text/plain": [
       "(3.5, 3.885780586188048e-14)"
      ]
     },
     "execution_count": 5,
     "metadata": {},
     "output_type": "execute_result"
    }
   ],
   "source": [
    "quad(integratefunc2,0,1,args=(a,b))"
   ]
  },
  {
   "cell_type": "markdown",
   "id": "cd4a5247-354c-4b74-a80d-92a8a0e76a49",
   "metadata": {},
   "source": [
    "##### example 3"
   ]
  },
  {
   "cell_type": "code",
   "execution_count": 6,
   "id": "2ad6b239-cb01-411e-8297-c5bc621edf90",
   "metadata": {},
   "outputs": [
    {
     "name": "stdout",
     "output_type": "stream",
     "text": [
      "(31.5, 3.497202527569243e-13)\n",
      "31.5\n"
     ]
    }
   ],
   "source": [
    "from scipy import integrate \n",
    "func = lambda x: x**2 + x + 1\n",
    "ans = integrate.quad(func, 1, 4) \n",
    "print(ans)\n",
    "print(ans[0]) "
   ]
  },
  {
   "cell_type": "markdown",
   "id": "d164c1ef-1bb7-46b9-8ae4-17fe7ca7e66c",
   "metadata": {},
   "source": [
    "### double integration"
   ]
  },
  {
   "cell_type": "code",
   "execution_count": 7,
   "id": "f046d8c4-8626-4296-839f-2e9a6f0a0c21",
   "metadata": {},
   "outputs": [],
   "source": [
    "import scipy.integrate as integrate"
   ]
  },
  {
   "cell_type": "code",
   "execution_count": 8,
   "id": "250ce276-22d4-4d92-bd3c-cdc3590498a0",
   "metadata": {},
   "outputs": [
    {
     "data": {
      "text/plain": [
       "(3.0, 4.436070580899685e-14)"
      ]
     },
     "execution_count": 8,
     "metadata": {},
     "output_type": "execute_result"
    }
   ],
   "source": [
    "def f(x,y):\n",
    "    return x+y\n",
    "integrate.dblquad(f,0,1,lambda x:0, lambda x:2)\n",
    "# range of x is 0,1 and y is 0,2"
   ]
  },
  {
   "cell_type": "markdown",
   "id": "47fb82df-cd2d-45b5-928f-e4e03ad313bb",
   "metadata": {},
   "source": [
    "### optimization\n",
    "* Optimization is a mathematical procedure to select the best decision variables from a set of alternatives to get the optimum objective value.\n",
    "* used to improve performance of system mathematically by fine tuning process paameters"
   ]
  },
  {
   "cell_type": "code",
   "execution_count": 9,
   "id": "58d58f17-edc3-4cef-9af2-3c69e689febf",
   "metadata": {},
   "outputs": [],
   "source": [
    "import numpy as np\n",
    "from scipy import optimize"
   ]
  },
  {
   "cell_type": "markdown",
   "id": "e42fcbd9-5ddb-4731-9b85-6dd69a8cae48",
   "metadata": {},
   "source": [
    "#### finding minimum value"
   ]
  },
  {
   "cell_type": "code",
   "execution_count": 10,
   "id": "aedf7bcf-9010-49b6-ac80-8ddcf4b5532f",
   "metadata": {},
   "outputs": [],
   "source": [
    "def f(x):\n",
    "    return x**2+5*np.sin(x)"
   ]
  },
  {
   "cell_type": "code",
   "execution_count": 11,
   "id": "bfcc8695-d069-498e-8914-b63da8be4084",
   "metadata": {},
   "outputs": [
    {
     "name": "stdout",
     "output_type": "stream",
     "text": [
      "Optimization terminated successfully.\n",
      "         Current function value: -3.246394\n",
      "         Iterations: 5\n",
      "         Function evaluations: 12\n",
      "         Gradient evaluations: 6\n"
     ]
    }
   ],
   "source": [
    "minimal_value = optimize.minimize(f,x0=0,method='bfgs',options={'disp':True})  "
   ]
  },
  {
   "cell_type": "code",
   "execution_count": 12,
   "id": "38b6829a-12e9-45b8-89a5-23ea5e450dd3",
   "metadata": {},
   "outputs": [
    {
     "data": {
      "text/plain": [
       "  message: Optimization terminated successfully.\n",
       "  success: True\n",
       "   status: 0\n",
       "      fun: -3.2463942726915387\n",
       "        x: [-1.111e+00]\n",
       "      nit: 5\n",
       "      jac: [-2.980e-08]\n",
       " hess_inv: [[ 1.544e-01]]\n",
       "     nfev: 12\n",
       "     njev: 6"
      ]
     },
     "execution_count": 12,
     "metadata": {},
     "output_type": "execute_result"
    }
   ],
   "source": [
    "minimalValue=optimize.minimize(f,x0=0,method='bfgs') \n",
    "minimalValue"
   ]
  },
  {
   "cell_type": "markdown",
   "id": "439e7638-bd54-46e1-9944-6565fbede68c",
   "metadata": {},
   "source": [
    "#### finding roots"
   ]
  },
  {
   "cell_type": "code",
   "execution_count": 13,
   "id": "7f504076-5348-4267-a760-12c1748ef36c",
   "metadata": {},
   "outputs": [],
   "source": [
    "from scipy.optimize import root"
   ]
  },
  {
   "cell_type": "code",
   "execution_count": 14,
   "id": "2e619270-d731-48c4-a8bc-e0e0682ac719",
   "metadata": {},
   "outputs": [],
   "source": [
    "def rootfunc(x):\n",
    "    return x + 3.5 * np.cos(x)"
   ]
  },
  {
   "cell_type": "code",
   "execution_count": 15,
   "id": "b0107734-94ed-426b-b7c2-ff5a32cfbbd6",
   "metadata": {},
   "outputs": [
    {
     "data": {
      "text/plain": [
       " message: The solution converged.\n",
       " success: True\n",
       "  status: 1\n",
       "     fun: [ 0.000e+00]\n",
       "       x: [-1.216e+00]\n",
       "  method: hybr\n",
       "    nfev: 14\n",
       "    fjac: [[-1.000e+00]]\n",
       "       r: [-4.282e+00]\n",
       "     qtf: [-8.329e-13]"
      ]
     },
     "execution_count": 15,
     "metadata": {},
     "output_type": "execute_result"
    }
   ],
   "source": [
    "root=root(rootfunc,0.3)  #0.3 is intial guess for root\n",
    "root"
   ]
  },
  {
   "cell_type": "markdown",
   "id": "9828c74b-7312-4358-8f6b-3dc716f894ee",
   "metadata": {},
   "source": [
    "here x:[-1.21..] is the root"
   ]
  },
  {
   "cell_type": "markdown",
   "id": "5de0352f-b9f5-47bf-8031-903dbb1823c5",
   "metadata": {},
   "source": [
    "### matrix"
   ]
  },
  {
   "cell_type": "code",
   "execution_count": 16,
   "id": "a1dba99d-0538-49f1-99ec-d51a56f19321",
   "metadata": {},
   "outputs": [],
   "source": [
    "from scipy import linalg"
   ]
  },
  {
   "cell_type": "code",
   "execution_count": 17,
   "id": "ad6b49aa-231b-4747-be56-e4125ef46459",
   "metadata": {},
   "outputs": [
    {
     "data": {
      "text/plain": [
       "array([[1, 2],\n",
       "       [3, 8]])"
      ]
     },
     "execution_count": 17,
     "metadata": {},
     "output_type": "execute_result"
    }
   ],
   "source": [
    "matrix=np.array([[1,2],[3,8]])\n",
    "matrix"
   ]
  },
  {
   "cell_type": "markdown",
   "id": "de64da78-ed6f-471b-8bdb-5c0fcbd78997",
   "metadata": {},
   "source": [
    "inversing matrix"
   ]
  },
  {
   "cell_type": "code",
   "execution_count": 18,
   "id": "174f5673-a49c-41ce-b314-0502c2fab2b3",
   "metadata": {},
   "outputs": [
    {
     "data": {
      "text/plain": [
       "array([[ 4. , -1. ],\n",
       "       [-1.5,  0.5]])"
      ]
     },
     "execution_count": 18,
     "metadata": {},
     "output_type": "execute_result"
    }
   ],
   "source": [
    "linalg.inv(matrix)"
   ]
  },
  {
   "cell_type": "markdown",
   "id": "9518b2dc-1a94-4ec4-b4a5-c70e08619b6c",
   "metadata": {},
   "source": [
    "determinant of matrix"
   ]
  },
  {
   "cell_type": "code",
   "execution_count": 19,
   "id": "64459a91-b64f-4de3-abec-f20913c8af75",
   "metadata": {},
   "outputs": [
    {
     "data": {
      "text/plain": [
       "2.0"
      ]
     },
     "execution_count": 19,
     "metadata": {},
     "output_type": "execute_result"
    }
   ],
   "source": [
    "linalg.det(matrix)"
   ]
  },
  {
   "cell_type": "markdown",
   "id": "eef179b2-9c2d-46da-b7a8-4d232b3ac9dc",
   "metadata": {},
   "source": [
    "### solving linear functions"
   ]
  },
  {
   "cell_type": "markdown",
   "id": "40367516-512c-4624-a17a-8eac1024b34f",
   "metadata": {},
   "source": [
    "linear equations\n",
    "* $ 2x+3y+z=21 $\n",
    "* $-x + 5y +4z=9$\n",
    "* $3x+2y+9z=6$"
   ]
  },
  {
   "cell_type": "code",
   "execution_count": 20,
   "id": "8fea298d-54fe-4652-ac91-8661a603abca",
   "metadata": {},
   "outputs": [],
   "source": [
    "numarr=np.array([[2,3,1],[-1,5,4],[3,2,9]])\n",
    "num_val=np.array([21,9,6])"
   ]
  },
  {
   "cell_type": "code",
   "execution_count": 21,
   "id": "16688972-320c-475e-883c-aa3a4ef5ad4f",
   "metadata": {},
   "outputs": [
    {
     "data": {
      "text/plain": [
       "array([ 4.95,  4.35, -1.95])"
      ]
     },
     "execution_count": 21,
     "metadata": {},
     "output_type": "execute_result"
    }
   ],
   "source": [
    "linalg.solve(numarr,num_val)"
   ]
  },
  {
   "cell_type": "markdown",
   "id": "0d9d371d-cf99-4d44-92c9-02ad0101723a",
   "metadata": {},
   "source": [
    "another method"
   ]
  },
  {
   "cell_type": "code",
   "execution_count": 25,
   "id": "4fadf2cf-04ad-4b73-a68a-587470c6d0ef",
   "metadata": {},
   "outputs": [
    {
     "data": {
      "text/plain": [
       "{x: 99/20, y: 87/20, z: -39/20}"
      ]
     },
     "execution_count": 25,
     "metadata": {},
     "output_type": "execute_result"
    }
   ],
   "source": [
    "from sympy import symbols, Eq, solve \n",
    "x,y,z=symbols('x,y,z')\n",
    "eq1=Eq((2*x+3*y+z),21)\n",
    "eq2=Eq((-1*x+5*y+4*z),9)\n",
    "eq3=Eq((3*x+2*y+9*z),6)\n",
    "solve((eq1,eq2,eq3),(x,y,z))"
   ]
  },
  {
   "cell_type": "markdown",
   "id": "7724ef66-c7e2-45b0-b49d-9b51fd400413",
   "metadata": {},
   "source": [
    "### single value decomposition\n",
    "* Singular Value Decomposition is a factorization of a matrix into three matrices"
   ]
  },
  {
   "cell_type": "code",
   "execution_count": 26,
   "id": "6fc9b8b1-c080-4865-b062-b2ad7c9901b9",
   "metadata": {},
   "outputs": [
    {
     "data": {
      "text/plain": [
       "(2, 2)"
      ]
     },
     "execution_count": 26,
     "metadata": {},
     "output_type": "execute_result"
    }
   ],
   "source": [
    "matrix=np.array([[1,2],[3,8]])\n",
    "matrix.shape"
   ]
  },
  {
   "cell_type": "code",
   "execution_count": 27,
   "id": "94431184-d6b9-45cb-9ec4-d68b69a327f4",
   "metadata": {},
   "outputs": [
    {
     "data": {
      "text/plain": [
       "(array([[-0.25204813, -0.9677147 ],\n",
       "        [-0.9677147 ,  0.25204813]]),\n",
       " array([8.8288552 , 0.22652994]),\n",
       " array([[-0.35737275, -0.93396184],\n",
       "        [-0.93396184,  0.35737275]]))"
      ]
     },
     "execution_count": 27,
     "metadata": {},
     "output_type": "execute_result"
    }
   ],
   "source": [
    "linalg.svd(matrix)"
   ]
  },
  {
   "cell_type": "markdown",
   "id": "41ad3f50-5b1b-4586-a315-acb1d3fd9c02",
   "metadata": {},
   "source": [
    "U: Contains the left singular vectors\n",
    "\n",
    "\n",
    "Σ: Diagonal matrix with singular values \n",
    "\n",
    "VH: Contains the right singular vectors"
   ]
  },
  {
   "cell_type": "markdown",
   "id": "c1d76cbf-eab0-4a6c-a78e-106db316a085",
   "metadata": {},
   "source": [
    "### Eigenvalues and Eigenvectors"
   ]
  },
  {
   "cell_type": "code",
   "execution_count": 30,
   "id": "8ccd79a3-1294-44e7-a5c8-84b14955aeb9",
   "metadata": {},
   "outputs": [],
   "source": [
    "# test_data matrix\n",
    "test_data = np.array([[5,8],[7,9]])\n",
    "eigenValues, eigenVector = linalg.eig(test_data)"
   ]
  },
  {
   "cell_type": "code",
   "execution_count": 31,
   "id": "18cb8fb3-b8c5-401e-92b5-063c3ede41bf",
   "metadata": {},
   "outputs": [
    {
     "data": {
      "text/plain": [
       "array([-0.74596669+0.j, 14.74596669+0.j])"
      ]
     },
     "execution_count": 31,
     "metadata": {},
     "output_type": "execute_result"
    }
   ],
   "source": [
    "# eignen values\n",
    "eigenValues"
   ]
  },
  {
   "cell_type": "code",
   "execution_count": 32,
   "id": "a900f850-2bca-4b2f-ae27-eba8796996d8",
   "metadata": {},
   "outputs": [
    {
     "data": {
      "text/plain": [
       "array([[-0.81220939, -0.63447346],\n",
       "       [ 0.58336601, -0.77294465]])"
      ]
     },
     "execution_count": 32,
     "metadata": {},
     "output_type": "execute_result"
    }
   ],
   "source": [
    "#eigenvectors\n",
    "eigenVector"
   ]
  },
  {
   "cell_type": "markdown",
   "id": "8ea7eb68-6c29-4419-a9f6-9727092f7fba",
   "metadata": {},
   "source": [
    "### statistics"
   ]
  },
  {
   "cell_type": "code",
   "execution_count": 34,
   "id": "19184ab6-3070-4e6c-ab5b-663a9563189b",
   "metadata": {},
   "outputs": [],
   "source": [
    "from scipy.stats import norm #normal distribution"
   ]
  },
  {
   "cell_type": "markdown",
   "id": "60bcdf20-2a93-4fe5-94ac-c0d5735c4acd",
   "metadata": {},
   "source": [
    "##### generating 10 random numbers sampled from a normal distribution with mean 0 and standard deviation 1"
   ]
  },
  {
   "cell_type": "code",
   "execution_count": 35,
   "id": "30a03d05-3761-4709-b4cc-96b0fb14f6c6",
   "metadata": {},
   "outputs": [
    {
     "data": {
      "text/plain": [
       "array([-1.08747222, -0.28168722, -1.20237703, -0.21091911,  2.79678708,\n",
       "       -0.02121145,  0.03691377, -0.14314732, -0.04800627, -1.74142768])"
      ]
     },
     "execution_count": 35,
     "metadata": {},
     "output_type": "execute_result"
    }
   ],
   "source": [
    "norm.rvs(loc=0,scale=1,size=10)  #loc - mean, scale- standard deviation"
   ]
  },
  {
   "cell_type": "markdown",
   "id": "b4ac15b7-65b6-40ca-a753-6db24b5e0dcf",
   "metadata": {},
   "source": [
    "##### cumulative distribution function\n",
    "probability that a random variable from this normal distribution is less than or equal to 5"
   ]
  },
  {
   "cell_type": "code",
   "execution_count": 36,
   "id": "8c1de98b-dc68-41eb-b0c1-0690a7690fef",
   "metadata": {},
   "outputs": [
    {
     "data": {
      "text/plain": [
       "0.9772498680518208"
      ]
     },
     "execution_count": 36,
     "metadata": {},
     "output_type": "execute_result"
    }
   ],
   "source": [
    "norm.cdf(5,loc=1,scale=2) "
   ]
  },
  {
   "cell_type": "markdown",
   "id": "7f9e0ea7-530d-4c2b-ac1a-1137a4a54b25",
   "metadata": {},
   "source": [
    "##### probability density function\n",
    "value of the probability density function of the normal distribution at point 9."
   ]
  },
  {
   "cell_type": "code",
   "execution_count": 37,
   "id": "486e8a4d-b04b-4321-8bc3-b4e046cf3e29",
   "metadata": {},
   "outputs": [
    {
     "data": {
      "text/plain": [
       "1.0279773571668917e-18"
      ]
     },
     "execution_count": 37,
     "metadata": {},
     "output_type": "execute_result"
    }
   ],
   "source": [
    "norm.pdf(9,loc=0,scale=1)"
   ]
  },
  {
   "cell_type": "markdown",
   "id": "006bdd9f-39e7-473f-bd29-b40c1cef35ed",
   "metadata": {},
   "source": [
    "##### skewness and kurtosis \n",
    "* skewness- measure of symetry\n",
    "* kurtosis- A measure of whether the data is heavy or lightly tailed"
   ]
  },
  {
   "cell_type": "code",
   "execution_count": 38,
   "id": "4fa555e3-8976-4028-8d57-24ab02907380",
   "metadata": {},
   "outputs": [
    {
     "name": "stdout",
     "output_type": "stream",
     "text": [
      "-0.22783577411826295\n",
      "0.014464412953754557\n"
     ]
    }
   ],
   "source": [
    "from scipy.stats import skew, kurtosis\n",
    "v = np.random.normal(size=100)\n",
    "print(skew(v))\n",
    "print(kurtosis(v))"
   ]
  },
  {
   "cell_type": "markdown",
   "id": "0291817c-f182-41b5-90c0-986c6d29e607",
   "metadata": {},
   "source": [
    "##### statistical description"
   ]
  },
  {
   "cell_type": "code",
   "execution_count": 39,
   "id": "f8a7b134-db77-4a3b-a988-8665de2bdd29",
   "metadata": {},
   "outputs": [
    {
     "name": "stdout",
     "output_type": "stream",
     "text": [
      "DescribeResult(nobs=100, minmax=(-2.283443073637383, 2.4127592112524026), mean=0.06157167999360245, variance=1.001462835666611, skewness=-0.20303844840985388, kurtosis=-0.3807299345159221)\n"
     ]
    }
   ],
   "source": [
    "from scipy.stats import describe\n",
    "v2 = np.random.normal(size=100)\n",
    "res = describe(v2)\n",
    "print(res)"
   ]
  },
  {
   "cell_type": "markdown",
   "id": "aa7026d6-677d-452b-b50d-b575645fec7f",
   "metadata": {},
   "source": [
    "#### examples"
   ]
  },
  {
   "cell_type": "markdown",
   "id": "c0351ac4-2b91-4e97-9548-4fe2cde229d1",
   "metadata": {},
   "source": [
    "Test has 30 questions worth 150 marks\n",
    "\n",
    "Two types of questions will be there:\n",
    "* True,False worth 4 marks each\n",
    "* Multiple choice worth 9 points each\n",
    "\n",
    "Let x be the no of true/false questions\n",
    "\n",
    "Let y be the MCQ questions \n",
    "\n",
    "x + y = 30\n",
    "\n",
    "4x + 9y = 150"
   ]
  },
  {
   "cell_type": "code",
   "execution_count": 42,
   "id": "f87474b0-7fd6-4596-a17d-cb307e3ee211",
   "metadata": {},
   "outputs": [
    {
     "data": {
      "text/plain": [
       "array([24.,  6.])"
      ]
     },
     "execution_count": 42,
     "metadata": {},
     "output_type": "execute_result"
    }
   ],
   "source": [
    "num=np.array([[1,1],[4,9]])\n",
    "sol=np.array([30,150])\n",
    "linalg.solve(num,sol)"
   ]
  },
  {
   "cell_type": "markdown",
   "id": "d3c50941-1b08-49d2-8050-5473b1c0e494",
   "metadata": {},
   "source": [
    "Value of x = 24, Value of y = 6\n",
    "\n",
    "Means, True/False questions will be 24 & MCQ questions will be 6 in number"
   ]
  },
  {
   "cell_type": "code",
   "execution_count": null,
   "id": "931cd1c8-65b2-4577-b30a-58df5071243c",
   "metadata": {},
   "outputs": [],
   "source": []
  }
 ],
 "metadata": {
  "kernelspec": {
   "display_name": "Python 3 (ipykernel)",
   "language": "python",
   "name": "python3"
  },
  "language_info": {
   "codemirror_mode": {
    "name": "ipython",
    "version": 3
   },
   "file_extension": ".py",
   "mimetype": "text/x-python",
   "name": "python",
   "nbconvert_exporter": "python",
   "pygments_lexer": "ipython3",
   "version": "3.11.7"
  }
 },
 "nbformat": 4,
 "nbformat_minor": 5
}
