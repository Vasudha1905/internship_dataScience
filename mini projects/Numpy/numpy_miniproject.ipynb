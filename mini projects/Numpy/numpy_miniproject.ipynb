{
 "cells": [
  {
   "cell_type": "markdown",
   "id": "256f6be2-41b2-453f-8f54-e9fc24a46b48",
   "metadata": {},
   "source": [
    "### Income tax calculator: Create one income tax calculator using current tax slab and rates. As, income tax slabs now depends upon age gaps too, take age and CTC as input and output should be total income tax to be paid. "
   ]
  },
  {
   "cell_type": "code",
   "execution_count": 26,
   "id": "0ca89399-d00e-4231-8456-1a5649605f22",
   "metadata": {},
   "outputs": [
    {
     "name": "stdin",
     "output_type": "stream",
     "text": [
      "enter your salary 345000\n",
      "enter your age 85\n"
     ]
    },
    {
     "name": "stdout",
     "output_type": "stream",
     "text": [
      "your payable income tax under new regime is 17250.0\n",
      "your payable income tax under old regime is 0\n",
      "the diffrence between tax under old and new regime is 17250.0\n"
     ]
    }
   ],
   "source": [
    "# individuals up to 60 years of age, senior citizens above 60 years to 80 years of age, and super senior citizens above 80 years.\n",
    "def income_tax_calculator():\n",
    "    ctc=int(input(\"enter your salary\"))\n",
    "    age=int(input(\"enter your age\"))\n",
    "    if ctc < 250001:\n",
    "        inc_tax_old=inc_tax_new=0\n",
    "    elif ctc < 300001:\n",
    "        inc_tax_new=0\n",
    "        if age<60:\n",
    "            inc_tax_old=ctc*0.05\n",
    "        else:\n",
    "            inc_tax_old=0\n",
    "    elif ctc< 500001:\n",
    "        inc_tax_new=0.05*ctc\n",
    "        if age >=80:\n",
    "            inc_tax_old=0\n",
    "        else:\n",
    "            inc_tax_old=0.05*ctc\n",
    "    elif ctc < 600001:\n",
    "        inc_tax_new= 0.05*ctc\n",
    "        inc_tax_old= 0.2*ctc\n",
    "    elif ctc<900001:\n",
    "        inc_tax_new=0.1*ctc\n",
    "        inc_tax_old=0.2*ctc\n",
    "    elif ctc <1200001:\n",
    "        inc_tax_new=0.15*ctc\n",
    "        inc_tax_old=0.3*ctc\n",
    "    elif ctc< 1500001:\n",
    "        inc_tax_new=0.2*ctc\n",
    "        inc_tax_old=0.3*ctc\n",
    "    elif ctc >1500000:\n",
    "        inc_tax_new=inc_tax_old=0.3*ctc\n",
    "    else:\n",
    "        print('wrong input')\n",
    "    print('your payable income tax under new regime is',inc_tax_new)\n",
    "    print('your payable income tax under old regime is',inc_tax_old)\n",
    "    print(\"the diffrence between tax under old and new regime is\",inc_tax_new-inc_tax_old)\n",
    "\n",
    "income_tax_calculator()\n",
    "        \n",
    "        \n",
    "        \n",
    "\n",
    "            "
   ]
  },
  {
   "cell_type": "markdown",
   "id": "630e5f0c-cb9b-4603-a336-15b24803a83a",
   "metadata": {},
   "source": [
    "### Typing Master: A simple typing master (you can use tkinter for GUI) where user should type as much as he can till a minute and based on error he made, time and texts entered, result should be printed in WPM (words per minute). User should not be able to copy paste the text and user should be free to quit in between. "
   ]
  },
  {
   "cell_type": "code",
   "execution_count": 27,
   "id": "90397d3e-5feb-4c65-a7d3-f88263d302ef",
   "metadata": {},
   "outputs": [
    {
     "data": {
      "text/plain": [
       "''"
      ]
     },
     "execution_count": 27,
     "metadata": {},
     "output_type": "execute_result"
    }
   ],
   "source": [
    "from tkinter import *\n",
    "from timeit import default_timer as timer\n",
    "# creating window using gui\n",
    "window = Tk()\n",
    " \n",
    "# the size of the window is defined\n",
    "window.geometry(\"450x200\")"
   ]
  },
  {
   "cell_type": "code",
   "execution_count": 8,
   "id": "9ef0c4c9-9ebb-488a-a72c-7b7853eec49f",
   "metadata": {},
   "outputs": [],
   "source": [
    "import tkinter\n",
    "import time\n",
    "# Create the main window\n",
    "window = tkinter.Tk()\n",
    "# Set the window title\n",
    "window.title(\" Typing master \")\n",
    "window.geometry(\"450x200\")\n",
    "# Create a label widget\n",
    "label = tkinter.Label(window, text=\"Write the text below\")\n",
    "label.pack()\n",
    "\n",
    "\n",
    "# Start the mainloop\n",
    "window.mainloop()"
   ]
  },
  {
   "cell_type": "code",
   "execution_count": null,
   "id": "29f71f4c-9410-45e4-a3e8-385e82e1abc9",
   "metadata": {},
   "outputs": [],
   "source": [
    "# Import Module\n",
    "from tkinter import *\n",
    "\n",
    "# create root window\n",
    "root = Tk()\n",
    "\n",
    "# root window title and dimension\n",
    "root.title(\"Welcome to GeekForGeeks\")\n",
    "# Set geometry(widthxheight)\n",
    "root.geometry('350x200')\n",
    "\n",
    "# adding a label to the root window\n",
    "lbl = Label(root, text = \"Are you a Geek?\")\n",
    "lbl.grid()\n",
    "\n",
    "# function to display text when\n",
    "# button is clicked\n",
    "def clicked():\n",
    "\tlbl.configure(text = \"I just got clicked\")\n",
    "\n",
    "# button widget with red color text\n",
    "# inside\n",
    "btn = Button(root, text = \"Click me\" ,\n",
    "\t\t\tfg = \"red\", command=clicked)\n",
    "# set Button grid\n",
    "btn.grid(column=1, row=0)\n",
    "\n",
    "# Execute Tkinter\n",
    "root.mainloop()\n"
   ]
  }
 ],
 "metadata": {
  "kernelspec": {
   "display_name": "Python 3 (ipykernel)",
   "language": "python",
   "name": "python3"
  },
  "language_info": {
   "codemirror_mode": {
    "name": "ipython",
    "version": 3
   },
   "file_extension": ".py",
   "mimetype": "text/x-python",
   "name": "python",
   "nbconvert_exporter": "python",
   "pygments_lexer": "ipython3",
   "version": "3.11.7"
  }
 },
 "nbformat": 4,
 "nbformat_minor": 5
}
