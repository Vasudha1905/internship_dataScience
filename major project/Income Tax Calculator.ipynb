{
 "cells": [
  {
   "cell_type": "markdown",
   "id": "857bc6c9",
   "metadata": {},
   "source": [
    "### Income tax calculator: Create one income tax calculator using current tax slab and rates. As, income tax slabs now depends upon age gaps too, take age and CTC as input and output should be total income tax to be paid."
   ]
  },
  {
   "cell_type": "code",
   "execution_count": 1,
   "id": "326841ed",
   "metadata": {},
   "outputs": [
    {
     "name": "stdout",
     "output_type": "stream",
     "text": [
      "enter your salary556000\n",
      "enter your age45\n",
      "your payable income tax under new regime is 27800.0\n",
      "your payable income tax under old regime is 111200.0\n",
      "the diffrence between tax under old and new regime is -83400.0\n"
     ]
    }
   ],
   "source": [
    "# individuals up to 60 years of age, senior citizens above 60 years to 80 years of age, and super senior citizens above 80 years.\n",
    "def income_tax_calculator():\n",
    "    ctc=int(input(\"enter your salary\"))\n",
    "    age=int(input(\"enter your age\"))\n",
    "    if ctc < 250001:\n",
    "        inc_tax_old=inc_tax_new=0\n",
    "    elif ctc < 300001:\n",
    "        inc_tax_new=0\n",
    "        if age<60:\n",
    "            inc_tax_old=ctc*0.05\n",
    "        else:\n",
    "            inc_tax_old=0\n",
    "    elif ctc< 500001:\n",
    "        inc_tax_new=0.05*ctc\n",
    "        if age >=80:\n",
    "            inc_tax_old=0\n",
    "        else:\n",
    "            inc_tax_old=0.05*ctc\n",
    "    elif ctc < 600001:\n",
    "        inc_tax_new= 0.05*ctc\n",
    "        inc_tax_old= 0.2*ctc\n",
    "    elif ctc<900001:\n",
    "        inc_tax_new=0.1*ctc\n",
    "        inc_tax_old=0.2*ctc\n",
    "    elif ctc <1200001:\n",
    "        inc_tax_new=0.15*ctc\n",
    "        inc_tax_old=0.3*ctc\n",
    "    elif ctc< 1500001:\n",
    "        inc_tax_new=0.2*ctc\n",
    "        inc_tax_old=0.3*ctc\n",
    "    elif ctc >1500000:\n",
    "        inc_tax_new=inc_tax_old=0.3*ctc\n",
    "    else:\n",
    "        print('wrong input')\n",
    "    print('your payable income tax under new regime is',inc_tax_new)\n",
    "    print('your payable income tax under old regime is',inc_tax_old)\n",
    "    print(\"the diffrence between tax under old and new regime is\",inc_tax_new-inc_tax_old)\n",
    "\n",
    "income_tax_calculator()\n",
    "        \n",
    "        \n",
    "        \n",
    "\n",
    "            "
   ]
  },
  {
   "cell_type": "code",
   "execution_count": null,
   "id": "8c65d804",
   "metadata": {},
   "outputs": [],
   "source": []
  }
 ],
 "metadata": {
  "kernelspec": {
   "display_name": "Python 3 (ipykernel)",
   "language": "python",
   "name": "python3"
  },
  "language_info": {
   "codemirror_mode": {
    "name": "ipython",
    "version": 3
   },
   "file_extension": ".py",
   "mimetype": "text/x-python",
   "name": "python",
   "nbconvert_exporter": "python",
   "pygments_lexer": "ipython3",
   "version": "3.9.12"
  }
 },
 "nbformat": 4,
 "nbformat_minor": 5
}
