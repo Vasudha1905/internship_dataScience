{
 "cells": [
  {
   "cell_type": "markdown",
   "id": "cd3fef60-3bf7-41a1-bcf2-d16898384d2e",
   "metadata": {},
   "source": [
    "## Questions related to numpy and pandas"
   ]
  },
  {
   "cell_type": "markdown",
   "id": "a873ae1d-3079-4558-a50d-0b4dcdc1e4ee",
   "metadata": {},
   "source": [
    "### Q1)What is the key difference between NumPy arrays and Pandas Series?\n",
    "* numpy arrays can have multiple dimensions whereas Pandas series has only one dimension"
   ]
  },
  {
   "cell_type": "code",
   "execution_count": 2,
   "id": "a086a8e2-7e6b-4791-9dca-6880e70faa09",
   "metadata": {},
   "outputs": [],
   "source": [
    "import numpy as np\n",
    "import pandas as pd"
   ]
  },
  {
   "cell_type": "code",
   "execution_count": 77,
   "id": "f0c9c0a3-b370-424a-b2f9-12c46e2bd885",
   "metadata": {},
   "outputs": [
    {
     "name": "stdout",
     "output_type": "stream",
     "text": [
      "0    1\n",
      "1    2\n",
      "2    3\n",
      "3    4\n",
      "dtype: int64\n"
     ]
    },
    {
     "data": {
      "text/plain": [
       "1"
      ]
     },
     "execution_count": 77,
     "metadata": {},
     "output_type": "execute_result"
    }
   ],
   "source": [
    "x=pd.Series([1,2,3,4])\n",
    "print(x)\n",
    "x.ndim"
   ]
  },
  {
   "cell_type": "code",
   "execution_count": 13,
   "id": "779b558d-c1b7-4e6a-ba78-65818ece5be1",
   "metadata": {},
   "outputs": [
    {
     "name": "stdout",
     "output_type": "stream",
     "text": [
      "[[1 2 3 4]\n",
      " [5 6 7 8]]\n"
     ]
    },
    {
     "data": {
      "text/plain": [
       "2"
      ]
     },
     "execution_count": 13,
     "metadata": {},
     "output_type": "execute_result"
    }
   ],
   "source": [
    "y=np.array([[1,2,3,4],[5,6,7,8]])\n",
    "print(y)\n",
    "y.ndim"
   ]
  },
  {
   "cell_type": "markdown",
   "id": "1ab094a5-fa41-4f53-b723-cc164fec4970",
   "metadata": {},
   "source": [
    "### Q2) How would you select the last three elements of a NumPy array?"
   ]
  },
  {
   "cell_type": "code",
   "execution_count": 25,
   "id": "1b955a0b-4a19-4cc7-82d3-7e253f2109d6",
   "metadata": {},
   "outputs": [
    {
     "data": {
      "text/plain": [
       "array([2, 3, 4])"
      ]
     },
     "execution_count": 25,
     "metadata": {},
     "output_type": "execute_result"
    }
   ],
   "source": [
    "x=np.array([1,2,3,4])\n",
    "x[-3:]"
   ]
  },
  {
   "cell_type": "code",
   "execution_count": 30,
   "id": "5d715657-5fc2-468a-b114-419382ed6421",
   "metadata": {},
   "outputs": [
    {
     "data": {
      "text/plain": [
       "array([6, 7, 8])"
      ]
     },
     "execution_count": 30,
     "metadata": {},
     "output_type": "execute_result"
    }
   ],
   "source": [
    "y=np.array([[1,2,3,4],[5,6,7,8]])\n",
    "y[1,-3:]"
   ]
  },
  {
   "cell_type": "markdown",
   "id": "9388f226-27f7-4f43-b5fd-83ac852d8311",
   "metadata": {},
   "source": [
    "### Q3) Explain the purpose of the `DataFrame.groupby()` function in pandas.\n",
    "* The dataframe groupby function allows us to group the rows togehter on the basis of similar values in a column\n"
   ]
  },
  {
   "cell_type": "code",
   "execution_count": 32,
   "id": "23972e34-8521-491e-a779-80fd8a12da66",
   "metadata": {},
   "outputs": [
    {
     "data": {
      "text/html": [
       "<div>\n",
       "<style scoped>\n",
       "    .dataframe tbody tr th:only-of-type {\n",
       "        vertical-align: middle;\n",
       "    }\n",
       "\n",
       "    .dataframe tbody tr th {\n",
       "        vertical-align: top;\n",
       "    }\n",
       "\n",
       "    .dataframe thead th {\n",
       "        text-align: right;\n",
       "    }\n",
       "</style>\n",
       "<table border=\"1\" class=\"dataframe\">\n",
       "  <thead>\n",
       "    <tr style=\"text-align: right;\">\n",
       "      <th></th>\n",
       "      <th>student</th>\n",
       "      <th>class</th>\n",
       "    </tr>\n",
       "  </thead>\n",
       "  <tbody>\n",
       "    <tr>\n",
       "      <th>0</th>\n",
       "      <td>A</td>\n",
       "      <td>10</td>\n",
       "    </tr>\n",
       "    <tr>\n",
       "      <th>1</th>\n",
       "      <td>B</td>\n",
       "      <td>12</td>\n",
       "    </tr>\n",
       "    <tr>\n",
       "      <th>2</th>\n",
       "      <td>C</td>\n",
       "      <td>10</td>\n",
       "    </tr>\n",
       "  </tbody>\n",
       "</table>\n",
       "</div>"
      ],
      "text/plain": [
       "  student  class\n",
       "0       A     10\n",
       "1       B     12\n",
       "2       C     10"
      ]
     },
     "execution_count": 32,
     "metadata": {},
     "output_type": "execute_result"
    }
   ],
   "source": [
    "df=pd.DataFrame({'student':['A','B','C'],'class':[10,12,10]})\n",
    "df"
   ]
  },
  {
   "cell_type": "code",
   "execution_count": 37,
   "id": "8c5bb37e-f07c-4323-9955-1e916ab6b74b",
   "metadata": {},
   "outputs": [
    {
     "data": {
      "text/html": [
       "<div>\n",
       "<style scoped>\n",
       "    .dataframe tbody tr th:only-of-type {\n",
       "        vertical-align: middle;\n",
       "    }\n",
       "\n",
       "    .dataframe tbody tr th {\n",
       "        vertical-align: top;\n",
       "    }\n",
       "\n",
       "    .dataframe thead th {\n",
       "        text-align: right;\n",
       "    }\n",
       "</style>\n",
       "<table border=\"1\" class=\"dataframe\">\n",
       "  <thead>\n",
       "    <tr style=\"text-align: right;\">\n",
       "      <th></th>\n",
       "      <th>student</th>\n",
       "      <th>class</th>\n",
       "    </tr>\n",
       "  </thead>\n",
       "  <tbody>\n",
       "    <tr>\n",
       "      <th>0</th>\n",
       "      <td>A</td>\n",
       "      <td>10</td>\n",
       "    </tr>\n",
       "    <tr>\n",
       "      <th>2</th>\n",
       "      <td>C</td>\n",
       "      <td>10</td>\n",
       "    </tr>\n",
       "  </tbody>\n",
       "</table>\n",
       "</div>"
      ],
      "text/plain": [
       "  student  class\n",
       "0       A     10\n",
       "2       C     10"
      ]
     },
     "execution_count": 37,
     "metadata": {},
     "output_type": "execute_result"
    }
   ],
   "source": [
    "# group the students on the basis of class.\n",
    "x=df.groupby('class')\n",
    "# getting list of students in class 10\n",
    "x.get_group(10)"
   ]
  },
  {
   "cell_type": "markdown",
   "id": "92a64d7d-311c-4f94-8c4c-87cbd244ff4e",
   "metadata": {},
   "source": [
    "### Q4) What is broadcasting in NumPy? Provide an example.\n",
    "* perfroming arithmetic operations of arrays of diffrent size and dimensions is broadcasting"
   ]
  },
  {
   "cell_type": "code",
   "execution_count": 91,
   "id": "d6b0ad6c-e61d-4dea-8063-5b07bb255364",
   "metadata": {},
   "outputs": [
    {
     "data": {
      "text/plain": [
       "2"
      ]
     },
     "execution_count": 91,
     "metadata": {},
     "output_type": "execute_result"
    }
   ],
   "source": [
    "a= np.array([[1,2,3],[4,5,6]])\n",
    "a"
   ]
  },
  {
   "cell_type": "code",
   "execution_count": 93,
   "id": "370f4160-7ccb-46d5-9874-f4ce68152176",
   "metadata": {},
   "outputs": [
    {
     "data": {
      "text/plain": [
       "array([10, 20, 30])"
      ]
     },
     "execution_count": 93,
     "metadata": {},
     "output_type": "execute_result"
    }
   ],
   "source": [
    "b=np.array([10,20,30])\n",
    "b"
   ]
  },
  {
   "cell_type": "code",
   "execution_count": 90,
   "id": "348926eb-b87b-4727-8f20-3a857d9b3947",
   "metadata": {},
   "outputs": [
    {
     "data": {
      "text/plain": [
       "array([[11, 22, 33],\n",
       "       [14, 25, 36]])"
      ]
     },
     "execution_count": 90,
     "metadata": {},
     "output_type": "execute_result"
    }
   ],
   "source": [
    "# a is 2 dimensional and b is 1 dimensional. broadcasting allows us to add\n",
    "a+b"
   ]
  },
  {
   "cell_type": "markdown",
   "id": "70da9915-62e9-4e43-87a9-9c4a64bd7d18",
   "metadata": {},
   "source": [
    "### Q5) How can you handle missing or null values in a pandas DataFrame?\n",
    "* we can handle missing or null values by\n",
    "    * replacing them with some other value or 0\n",
    "    * removing them"
   ]
  },
  {
   "cell_type": "code",
   "execution_count": 49,
   "id": "dbbb2272-c995-481b-a1bd-700cc77ebbe8",
   "metadata": {},
   "outputs": [
    {
     "data": {
      "text/html": [
       "<div>\n",
       "<style scoped>\n",
       "    .dataframe tbody tr th:only-of-type {\n",
       "        vertical-align: middle;\n",
       "    }\n",
       "\n",
       "    .dataframe tbody tr th {\n",
       "        vertical-align: top;\n",
       "    }\n",
       "\n",
       "    .dataframe thead th {\n",
       "        text-align: right;\n",
       "    }\n",
       "</style>\n",
       "<table border=\"1\" class=\"dataframe\">\n",
       "  <thead>\n",
       "    <tr style=\"text-align: right;\">\n",
       "      <th></th>\n",
       "      <th>0</th>\n",
       "    </tr>\n",
       "  </thead>\n",
       "  <tbody>\n",
       "    <tr>\n",
       "      <th>a</th>\n",
       "      <td>NaN</td>\n",
       "    </tr>\n",
       "    <tr>\n",
       "      <th>b</th>\n",
       "      <td>NaN</td>\n",
       "    </tr>\n",
       "    <tr>\n",
       "      <th>c</th>\n",
       "      <td>13.0</td>\n",
       "    </tr>\n",
       "    <tr>\n",
       "      <th>d</th>\n",
       "      <td>NaN</td>\n",
       "    </tr>\n",
       "    <tr>\n",
       "      <th>e</th>\n",
       "      <td>25.0</td>\n",
       "    </tr>\n",
       "    <tr>\n",
       "      <th>f</th>\n",
       "      <td>NaN</td>\n",
       "    </tr>\n",
       "    <tr>\n",
       "      <th>g</th>\n",
       "      <td>NaN</td>\n",
       "    </tr>\n",
       "    <tr>\n",
       "      <th>h</th>\n",
       "      <td>NaN</td>\n",
       "    </tr>\n",
       "  </tbody>\n",
       "</table>\n",
       "</div>"
      ],
      "text/plain": [
       "      0\n",
       "a   NaN\n",
       "b   NaN\n",
       "c  13.0\n",
       "d   NaN\n",
       "e  25.0\n",
       "f   NaN\n",
       "g   NaN\n",
       "h   NaN"
      ]
     },
     "execution_count": 49,
     "metadata": {},
     "output_type": "execute_result"
    }
   ],
   "source": [
    "df1 = pd.DataFrame([1,2,3,4,5],index=['a','b','c','d','e'])\n",
    "df2 = pd.DataFrame([10,20,30,40,50],index=['c','e','f','g','h'])\n",
    "df3=df1+df2\n",
    "df3"
   ]
  },
  {
   "cell_type": "code",
   "execution_count": 45,
   "id": "0e52e2c2-66cf-4188-aedf-e25e8c210f6f",
   "metadata": {},
   "outputs": [
    {
     "data": {
      "text/html": [
       "<div>\n",
       "<style scoped>\n",
       "    .dataframe tbody tr th:only-of-type {\n",
       "        vertical-align: middle;\n",
       "    }\n",
       "\n",
       "    .dataframe tbody tr th {\n",
       "        vertical-align: top;\n",
       "    }\n",
       "\n",
       "    .dataframe thead th {\n",
       "        text-align: right;\n",
       "    }\n",
       "</style>\n",
       "<table border=\"1\" class=\"dataframe\">\n",
       "  <thead>\n",
       "    <tr style=\"text-align: right;\">\n",
       "      <th></th>\n",
       "      <th>0</th>\n",
       "    </tr>\n",
       "  </thead>\n",
       "  <tbody>\n",
       "    <tr>\n",
       "      <th>c</th>\n",
       "      <td>13.0</td>\n",
       "    </tr>\n",
       "    <tr>\n",
       "      <th>e</th>\n",
       "      <td>25.0</td>\n",
       "    </tr>\n",
       "  </tbody>\n",
       "</table>\n",
       "</div>"
      ],
      "text/plain": [
       "      0\n",
       "c  13.0\n",
       "e  25.0"
      ]
     },
     "execution_count": 45,
     "metadata": {},
     "output_type": "execute_result"
    }
   ],
   "source": [
    "# removing rows with na\n",
    "df3.dropna()"
   ]
  },
  {
   "cell_type": "code",
   "execution_count": 48,
   "id": "75355a0a-27c9-495f-a1c8-94daf324507b",
   "metadata": {},
   "outputs": [
    {
     "data": {
      "text/html": [
       "<div>\n",
       "<style scoped>\n",
       "    .dataframe tbody tr th:only-of-type {\n",
       "        vertical-align: middle;\n",
       "    }\n",
       "\n",
       "    .dataframe tbody tr th {\n",
       "        vertical-align: top;\n",
       "    }\n",
       "\n",
       "    .dataframe thead th {\n",
       "        text-align: right;\n",
       "    }\n",
       "</style>\n",
       "<table border=\"1\" class=\"dataframe\">\n",
       "  <thead>\n",
       "    <tr style=\"text-align: right;\">\n",
       "      <th></th>\n",
       "      <th>0</th>\n",
       "    </tr>\n",
       "  </thead>\n",
       "  <tbody>\n",
       "    <tr>\n",
       "      <th>a</th>\n",
       "      <td>0.0</td>\n",
       "    </tr>\n",
       "    <tr>\n",
       "      <th>b</th>\n",
       "      <td>0.0</td>\n",
       "    </tr>\n",
       "    <tr>\n",
       "      <th>c</th>\n",
       "      <td>13.0</td>\n",
       "    </tr>\n",
       "    <tr>\n",
       "      <th>d</th>\n",
       "      <td>0.0</td>\n",
       "    </tr>\n",
       "    <tr>\n",
       "      <th>e</th>\n",
       "      <td>25.0</td>\n",
       "    </tr>\n",
       "    <tr>\n",
       "      <th>f</th>\n",
       "      <td>0.0</td>\n",
       "    </tr>\n",
       "    <tr>\n",
       "      <th>g</th>\n",
       "      <td>0.0</td>\n",
       "    </tr>\n",
       "    <tr>\n",
       "      <th>h</th>\n",
       "      <td>0.0</td>\n",
       "    </tr>\n",
       "  </tbody>\n",
       "</table>\n",
       "</div>"
      ],
      "text/plain": [
       "      0\n",
       "a   0.0\n",
       "b   0.0\n",
       "c  13.0\n",
       "d   0.0\n",
       "e  25.0\n",
       "f   0.0\n",
       "g   0.0\n",
       "h   0.0"
      ]
     },
     "execution_count": 48,
     "metadata": {},
     "output_type": "execute_result"
    }
   ],
   "source": [
    "# replacing na with 0\n",
    "df3.fillna(0)"
   ]
  },
  {
   "cell_type": "markdown",
   "id": "0b1866fc-72c8-4f0b-a6c5-e185b26f9251",
   "metadata": {},
   "source": [
    "### Q6) What is the purpose of the `np.random.seed()` function in NumPy?\n",
    "* it used to generate the same set of random numbers everytime the code runs"
   ]
  },
  {
   "cell_type": "code",
   "execution_count": 104,
   "id": "83d3ff62-795c-4440-93f3-7f0623c30836",
   "metadata": {},
   "outputs": [
    {
     "data": {
      "text/plain": [
       "array([42, 17, 74, 24, 45])"
      ]
     },
     "execution_count": 104,
     "metadata": {},
     "output_type": "execute_result"
    }
   ],
   "source": [
    "np.random.seed(2)\n",
    "np.random.randint(2,100,5)"
   ]
  },
  {
   "cell_type": "code",
   "execution_count": 105,
   "id": "3a7b3039-880f-4719-b27f-3e898cb5e065",
   "metadata": {},
   "outputs": [
    {
     "data": {
      "text/plain": [
       "array([42, 17, 74, 24, 45])"
      ]
     },
     "execution_count": 105,
     "metadata": {},
     "output_type": "execute_result"
    }
   ],
   "source": [
    "np.random.seed(2)\n",
    "np.random.randint(2,100,5)"
   ]
  },
  {
   "cell_type": "markdown",
   "id": "7e6090fd-9d06-4639-ba8e-676ff9a9b083",
   "metadata": {},
   "source": [
    "### Q7) Explain the difference between `iloc[]` and `loc[]` in pandas.\n",
    "* iloc[] uses only index for locating and loc[] uses the label "
   ]
  },
  {
   "cell_type": "code",
   "execution_count": 53,
   "id": "0bc34dae-1b0b-4fc7-885c-023c6eb95b7d",
   "metadata": {},
   "outputs": [
    {
     "data": {
      "text/html": [
       "<div>\n",
       "<style scoped>\n",
       "    .dataframe tbody tr th:only-of-type {\n",
       "        vertical-align: middle;\n",
       "    }\n",
       "\n",
       "    .dataframe tbody tr th {\n",
       "        vertical-align: top;\n",
       "    }\n",
       "\n",
       "    .dataframe thead th {\n",
       "        text-align: right;\n",
       "    }\n",
       "</style>\n",
       "<table border=\"1\" class=\"dataframe\">\n",
       "  <thead>\n",
       "    <tr style=\"text-align: right;\">\n",
       "      <th></th>\n",
       "      <th>student</th>\n",
       "      <th>class</th>\n",
       "    </tr>\n",
       "  </thead>\n",
       "  <tbody>\n",
       "    <tr>\n",
       "      <th>a</th>\n",
       "      <td>A</td>\n",
       "      <td>10</td>\n",
       "    </tr>\n",
       "    <tr>\n",
       "      <th>b</th>\n",
       "      <td>B</td>\n",
       "      <td>12</td>\n",
       "    </tr>\n",
       "    <tr>\n",
       "      <th>c</th>\n",
       "      <td>C</td>\n",
       "      <td>10</td>\n",
       "    </tr>\n",
       "  </tbody>\n",
       "</table>\n",
       "</div>"
      ],
      "text/plain": [
       "  student  class\n",
       "a       A     10\n",
       "b       B     12\n",
       "c       C     10"
      ]
     },
     "execution_count": 53,
     "metadata": {},
     "output_type": "execute_result"
    }
   ],
   "source": [
    "df=pd.DataFrame({'student':['A','B','C'],'class':[10,12,10]},index=['a','b','c'])\n",
    "df"
   ]
  },
  {
   "cell_type": "code",
   "execution_count": 57,
   "id": "0a7929fc-572b-4652-849d-8a04cf67b893",
   "metadata": {},
   "outputs": [
    {
     "data": {
      "text/plain": [
       "student     A\n",
       "class      10\n",
       "Name: a, dtype: object"
      ]
     },
     "execution_count": 57,
     "metadata": {},
     "output_type": "execute_result"
    }
   ],
   "source": [
    "df.loc['a']"
   ]
  },
  {
   "cell_type": "code",
   "execution_count": 55,
   "id": "9ce1293d-8503-47a0-84d4-739c2fb04f72",
   "metadata": {},
   "outputs": [
    {
     "data": {
      "text/plain": [
       "student     A\n",
       "class      10\n",
       "Name: a, dtype: object"
      ]
     },
     "execution_count": 55,
     "metadata": {},
     "output_type": "execute_result"
    }
   ],
   "source": [
    "df.iloc[0]"
   ]
  },
  {
   "cell_type": "markdown",
   "id": "810e8f8d-59a0-4758-80a4-913fccea228c",
   "metadata": {},
   "source": [
    "### Q8) How would you concatenate two pandas DataFrames vertically?\n",
    "* we use the concat() function"
   ]
  },
  {
   "cell_type": "code",
   "execution_count": 65,
   "id": "b1be8a2b-dd4c-480c-b366-fb36a5d0f233",
   "metadata": {},
   "outputs": [
    {
     "data": {
      "text/html": [
       "<div>\n",
       "<style scoped>\n",
       "    .dataframe tbody tr th:only-of-type {\n",
       "        vertical-align: middle;\n",
       "    }\n",
       "\n",
       "    .dataframe tbody tr th {\n",
       "        vertical-align: top;\n",
       "    }\n",
       "\n",
       "    .dataframe thead th {\n",
       "        text-align: right;\n",
       "    }\n",
       "</style>\n",
       "<table border=\"1\" class=\"dataframe\">\n",
       "  <thead>\n",
       "    <tr style=\"text-align: right;\">\n",
       "      <th></th>\n",
       "      <th>0</th>\n",
       "    </tr>\n",
       "  </thead>\n",
       "  <tbody>\n",
       "    <tr>\n",
       "      <th>0</th>\n",
       "      <td>1</td>\n",
       "    </tr>\n",
       "    <tr>\n",
       "      <th>1</th>\n",
       "      <td>2</td>\n",
       "    </tr>\n",
       "    <tr>\n",
       "      <th>2</th>\n",
       "      <td>10</td>\n",
       "    </tr>\n",
       "    <tr>\n",
       "      <th>3</th>\n",
       "      <td>20</td>\n",
       "    </tr>\n",
       "    <tr>\n",
       "      <th>4</th>\n",
       "      <td>30</td>\n",
       "    </tr>\n",
       "  </tbody>\n",
       "</table>\n",
       "</div>"
      ],
      "text/plain": [
       "    0\n",
       "0   1\n",
       "1   2\n",
       "2  10\n",
       "3  20\n",
       "4  30"
      ]
     },
     "execution_count": 65,
     "metadata": {},
     "output_type": "execute_result"
    }
   ],
   "source": [
    "df1 = pd.DataFrame([1,2])\n",
    "df2 = pd.DataFrame([10,20,30])\n",
    "pd.concat([df1,df2], ignore_index=True)"
   ]
  },
  {
   "cell_type": "markdown",
   "id": "ea9b100d-0ab4-4342-b3e6-48b58fda1596",
   "metadata": {},
   "source": [
    "### Q9) What are the advantages of using pandas over traditional Python data structures like lists and dictionaries?\n",
    "* pandas allows us to structure our data into tables using dataframes\n",
    "* dataframes have an index whereas dictionary does not\n",
    "* lists are one dimentional whereas dataframes are 2 dimensional\n",
    "* It is easier to alter data in pandas\n",
    "* we can provide column and row labels using pandas"
   ]
  },
  {
   "cell_type": "markdown",
   "id": "d859726c-ae12-4081-a7ac-429278fc8461",
   "metadata": {},
   "source": [
    "### Q10) How can you rename a specific column in a pandas DataFrame?\n",
    "* we can use the rename() function"
   ]
  },
  {
   "cell_type": "code",
   "execution_count": 73,
   "id": "52258e2a-e63d-49b8-8753-60f6b0331458",
   "metadata": {},
   "outputs": [
    {
     "data": {
      "text/html": [
       "<div>\n",
       "<style scoped>\n",
       "    .dataframe tbody tr th:only-of-type {\n",
       "        vertical-align: middle;\n",
       "    }\n",
       "\n",
       "    .dataframe tbody tr th {\n",
       "        vertical-align: top;\n",
       "    }\n",
       "\n",
       "    .dataframe thead th {\n",
       "        text-align: right;\n",
       "    }\n",
       "</style>\n",
       "<table border=\"1\" class=\"dataframe\">\n",
       "  <thead>\n",
       "    <tr style=\"text-align: right;\">\n",
       "      <th></th>\n",
       "      <th>student name</th>\n",
       "      <th>class</th>\n",
       "    </tr>\n",
       "  </thead>\n",
       "  <tbody>\n",
       "    <tr>\n",
       "      <th>a</th>\n",
       "      <td>A</td>\n",
       "      <td>10</td>\n",
       "    </tr>\n",
       "    <tr>\n",
       "      <th>b</th>\n",
       "      <td>B</td>\n",
       "      <td>12</td>\n",
       "    </tr>\n",
       "    <tr>\n",
       "      <th>c</th>\n",
       "      <td>C</td>\n",
       "      <td>10</td>\n",
       "    </tr>\n",
       "  </tbody>\n",
       "</table>\n",
       "</div>"
      ],
      "text/plain": [
       "  student name  class\n",
       "a            A     10\n",
       "b            B     12\n",
       "c            C     10"
      ]
     },
     "execution_count": 73,
     "metadata": {},
     "output_type": "execute_result"
    }
   ],
   "source": [
    "df=pd.DataFrame({'student':['A','B','C'],'class':[10,12,10]},index=['a','b','c'])\n",
    "df.rename(columns={'student':'student name'})"
   ]
  },
  {
   "cell_type": "code",
   "execution_count": null,
   "id": "6965edda-9bef-4494-bded-1a60c5334588",
   "metadata": {},
   "outputs": [],
   "source": []
  },
  {
   "cell_type": "code",
   "execution_count": null,
   "id": "0896e92a-7f58-4721-963f-73b95f9d087c",
   "metadata": {},
   "outputs": [],
   "source": []
  }
 ],
 "metadata": {
  "kernelspec": {
   "display_name": "Python 3 (ipykernel)",
   "language": "python",
   "name": "python3"
  },
  "language_info": {
   "codemirror_mode": {
    "name": "ipython",
    "version": 3
   },
   "file_extension": ".py",
   "mimetype": "text/x-python",
   "name": "python",
   "nbconvert_exporter": "python",
   "pygments_lexer": "ipython3",
   "version": "3.11.7"
  }
 },
 "nbformat": 4,
 "nbformat_minor": 5
}
