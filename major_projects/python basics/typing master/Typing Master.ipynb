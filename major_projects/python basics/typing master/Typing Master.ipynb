{
 "cells": [
  {
   "cell_type": "markdown",
   "id": "630e5f0c-cb9b-4603-a336-15b24803a83a",
   "metadata": {},
   "source": [
    "### Typing Master: A simple typing master (you can use tkinter for GUI) where user should type as much as he can till a minute and based on error he made, time and texts entered, result should be printed in WPM (words per minute). User should not be able to copy paste the text and user should be free to quit in between. "
   ]
  },
  {
   "cell_type": "code",
   "execution_count": null,
   "id": "90397d3e-5feb-4c65-a7d3-f88263d302ef",
   "metadata": {},
   "outputs": [],
   "source": [
    "from tkinter import *\n",
    "from timeit import default_timer as timer\n",
    "# creating window using gui\n",
    "window = Tk()\n",
    " \n",
    "# the size of the window is defined\n",
    "window.geometry(\"450x200\")"
   ]
  },
  {
   "cell_type": "code",
   "execution_count": null,
   "id": "9ef0c4c9-9ebb-488a-a72c-7b7853eec49f",
   "metadata": {},
   "outputs": [],
   "source": [
    "import tkinter\n",
    "import time\n",
    "# Create the main window\n",
    "window = tkinter.Tk()\n",
    "# Set the window title\n",
    "window.title(\" Typing master \")\n",
    "window.geometry(\"450x200\")\n",
    "# Create a label widget\n",
    "label = tkinter.Label(window, text=\"Write the text below\")\n",
    "label.pack()\n",
    "\n",
    "\n",
    "# Start the mainloop\n",
    "window.mainloop()"
   ]
  },
  {
   "cell_type": "code",
   "execution_count": null,
   "id": "29f71f4c-9410-45e4-a3e8-385e82e1abc9",
   "metadata": {},
   "outputs": [],
   "source": [
    "# Import Module\n",
    "from tkinter import *\n",
    "\n",
    "# create root window\n",
    "root = Tk()\n",
    "\n",
    "# root window title and dimension\n",
    "root.title(\"Welcome to GeekForGeeks\")\n",
    "# Set geometry(widthxheight)\n",
    "root.geometry('350x200')\n",
    "\n",
    "# adding a label to the root window\n",
    "lbl = Label(root, text = \"Are you a Geek?\")\n",
    "lbl.grid()\n",
    "\n",
    "# function to display text when\n",
    "# button is clicked\n",
    "def clicked():\n",
    "\tlbl.configure(text = \"I just got clicked\")\n",
    "\n",
    "# button widget with red color text\n",
    "# inside\n",
    "btn = Button(root, text = \"Click me\" ,\n",
    "\t\t\tfg = \"red\", command=clicked)\n",
    "# set Button grid\n",
    "btn.grid(column=1, row=0)\n",
    "\n",
    "# Execute Tkinter\n",
    "root.mainloop()\n"
   ]
  }
 ],
 "metadata": {
  "kernelspec": {
   "display_name": "Python 3 (ipykernel)",
   "language": "python",
   "name": "python3"
  },
  "language_info": {
   "codemirror_mode": {
    "name": "ipython",
    "version": 3
   },
   "file_extension": ".py",
   "mimetype": "text/x-python",
   "name": "python",
   "nbconvert_exporter": "python",
   "pygments_lexer": "ipython3",
   "version": "3.9.12"
  }
 },
 "nbformat": 4,
 "nbformat_minor": 5
}
